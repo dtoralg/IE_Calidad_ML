{
  "cells": [
    {
      "cell_type": "markdown",
      "metadata": {
        "id": "view-in-github",
        "colab_type": "text"
      },
      "source": [
        "<a href=\"https://colab.research.google.com/github/dtoralg/IE_Calidad_ML/blob/main/Ejercicios/Errores_Frecuentes_Programacion_ML.ipynb\" target=\"_parent\"><img src=\"https://colab.research.google.com/assets/colab-badge.svg\" alt=\"Open In Colab\"/></a>"
      ]
    },
    {
      "cell_type": "markdown",
      "id": "c28f051f",
      "metadata": {
        "id": "c28f051f"
      },
      "source": [
        "# Errores frecuentes en Machine Learning con Python"
      ]
    },
    {
      "cell_type": "markdown",
      "id": "462bd0eb",
      "metadata": {
        "id": "462bd0eb"
      },
      "source": [
        "\n",
        "En cuaderno resumo los errores más comunes que me he encontrado al programar en Python para proyectos de Machine Learning.\n",
        "\n",
        "Esta lista no es extensiva, existen muchos otros errores que pueden surgir durante la programación de aprendizaje automático. Si encuentras algún error no contenido aquí, te recomiendo que:\n",
        "\n",
        "*   Revises documentación de las funciones, puede que encuentres las razones del fallo, aunque este proceso puede ser largo y muy técnico.\n",
        "*   Busques el código de error en Google. Casi con total seguridad exista algún post en StackOverflow en el que ya han resuelto esa duda.\n",
        "*   ChatGPT (también Claude, Gemini, etc) son buenas opciones para entender mejor las razones de fallo al programar. Puedes usar un prompt como el siguiente:\n",
        "\n",
        "> Estoy recibiendo este error: `error tomado del output`\n",
        ">\n",
        "> Mi código: `copia la celda completa que ha dado el error`\n",
        "\n",
        "Por ejemplo:\n",
        "\n",
        "> Estoy recibiendo este error:\n",
        "> \"ValueError: Expected 2D array, got 1D array instead\"\n",
        ">\n",
        "> Mi código:\n",
        "> model.fit(df[\"Temperatura\"], y)\n"
      ]
    },
    {
      "cell_type": "markdown",
      "id": "ec84a9a9",
      "metadata": {
        "id": "ec84a9a9"
      },
      "source": [
        "## Error 1: Expected 2D array, got 1D array instead"
      ]
    },
    {
      "cell_type": "markdown",
      "id": "06dff8e7",
      "metadata": {
        "id": "06dff8e7"
      },
      "source": [
        "\n",
        "### Descripción:\n",
        "Esto sucede cuando se intenta entrenar un modelo con un array 1D (por ejemplo, una Series de Pandas) en lugar de una matriz 2D.\n",
        "\n",
        "### Solución:\n",
        "Usar doble corchete `[[ ]]` para asegurarse de que `X` sea una matriz 2D, incluso si solo tiene una columna.\n"
      ]
    },
    {
      "cell_type": "code",
      "execution_count": null,
      "id": "3c21400f",
      "metadata": {
        "id": "3c21400f"
      },
      "outputs": [],
      "source": [
        "# Incorrecto:\n",
        "X = df[\"Temperatura\"]  # Esto es una Serie (1D)\n",
        "model.fit(X, y)        # ValueError\n",
        "\n",
        "# Correcto:\n",
        "X = df[[\"Temperatura\"]]  # Esto es un DataFrame (2D)\n",
        "model.fit(X, y)"
      ]
    },
    {
      "cell_type": "markdown",
      "id": "9de60370",
      "metadata": {
        "id": "9de60370"
      },
      "source": [
        "## Error 2: Unknown label type: 'continuous'"
      ]
    },
    {
      "cell_type": "markdown",
      "id": "3858b520",
      "metadata": {
        "id": "3858b520"
      },
      "source": [
        "\n",
        "### Descripción:\n",
        "Intentar aplicar un modelo de clasificación sobre una variable objetivo continua.\n",
        "\n",
        "### Solución:\n",
        "Convertir la variable `y` a una clase discreta (por ejemplo, usando 0 y 1) o usar un modelo de regresión en su lugar.\n"
      ]
    },
    {
      "cell_type": "code",
      "execution_count": null,
      "id": "ef3ac55a",
      "metadata": {
        "id": "ef3ac55a"
      },
      "outputs": [],
      "source": [
        "# Incorrecto: usar clasificación con un objetivo continuo\n",
        "from sklearn.linear_model import LogisticRegression\n",
        "model = LogisticRegression()\n",
        "y = df[\"Precio\"]  # Valor continuo\n",
        "model.fit(X, y)  # Error\n",
        "\n",
        "# Correcto: convertir a clasificación binaria si tiene sentido\n",
        "y = (df[\"Precio\"] > 1000).astype(int)  # Ahora es 0 o 1\n",
        "model.fit(X, y)"
      ]
    },
    {
      "cell_type": "markdown",
      "id": "b91923a3",
      "metadata": {
        "id": "b91923a3"
      },
      "source": [
        "## Error 3: Input contains NaN, infinity or a value too large"
      ]
    },
    {
      "cell_type": "markdown",
      "id": "afdc9b3d",
      "metadata": {
        "id": "afdc9b3d"
      },
      "source": [
        "\n",
        "### Descripción:\n",
        "Ocurre cuando los datos contienen valores nulos (NaN), infinitos o números extremos.\n",
        "\n",
        "### Solución:\n",
        "Revisar y limpiar los datos antes de entrenar.\n"
      ]
    },
    {
      "cell_type": "code",
      "execution_count": null,
      "id": "2d91576c",
      "metadata": {
        "id": "2d91576c"
      },
      "outputs": [],
      "source": [
        "# Comprobar si hay valores nulos\n",
        "df.isnull().sum()\n",
        "\n",
        "# Solución: eliminar o imputar\n",
        "df = df.dropna()  # Eliminar filas con NaN\n",
        "# o\n",
        "df = df.fillna(0)  # Imputar con cero (según el contexto)"
      ]
    },
    {
      "cell_type": "markdown",
      "id": "9e8c5be1",
      "metadata": {
        "id": "9e8c5be1"
      },
      "source": [
        "## Error 4: y_true and y_pred have different number of samples"
      ]
    },
    {
      "cell_type": "markdown",
      "id": "9b485c62",
      "metadata": {
        "id": "9b485c62"
      },
      "source": [
        "\n",
        "### Descripción:\n",
        "Esto ocurre al evaluar un modelo con `y_test` e `y_pred` de longitudes diferentes.\n",
        "\n",
        "### Solución:\n",
        "Verificar que las predicciones se hayan realizado exactamente sobre `X_test`.\n"
      ]
    },
    {
      "cell_type": "code",
      "execution_count": null,
      "id": "1c31c314",
      "metadata": {
        "id": "1c31c314"
      },
      "outputs": [],
      "source": [
        "# Verificar las longitudes\n",
        "print(len(y_test), len(y_pred))\n",
        "\n",
        "# Asegurarse de predecir sobre X_test, no sobre X_train\n",
        "y_pred = model.predict(X_test)"
      ]
    },
    {
      "cell_type": "markdown",
      "id": "ba332efd",
      "metadata": {
        "id": "ba332efd"
      },
      "source": [
        "## Error 5: Found input variables with inconsistent numbers of samples"
      ]
    },
    {
      "cell_type": "markdown",
      "id": "a600bfcf",
      "metadata": {
        "id": "a600bfcf"
      },
      "source": [
        "\n",
        "### Descripción:\n",
        "Ocurre cuando `X` e `y` no tienen el mismo número de filas.\n",
        "\n",
        "### Solución:\n",
        "Comprobar las formas (`.shape`) antes de dividir o entrenar.\n"
      ]
    },
    {
      "cell_type": "code",
      "execution_count": null,
      "id": "1e67a3a0",
      "metadata": {
        "id": "1e67a3a0"
      },
      "outputs": [],
      "source": [
        "print(X.shape)\n",
        "print(y.shape)\n",
        "\n",
        "# Si son diferentes, revisar qué ocurrió antes (por ejemplo, un filtro aplicado solo a X o y)"
      ]
    },
    {
      "cell_type": "markdown",
      "id": "759a89e3",
      "metadata": {
        "id": "759a89e3"
      },
      "source": [
        "## Error 6: NotFittedError - Este modelo aún no ha sido entrenado"
      ]
    },
    {
      "cell_type": "markdown",
      "id": "cad7af43",
      "metadata": {
        "id": "cad7af43"
      },
      "source": [
        "\n",
        "### Descripción:\n",
        "Este error aparece al intentar predecir o transformar datos con un modelo que aún no ha sido entrenado con `.fit()`.\n",
        "\n",
        "### Solución:\n",
        "Asegúrate de entrenar el modelo antes de usar `.predict()` o `.transform()`.\n"
      ]
    },
    {
      "cell_type": "code",
      "execution_count": null,
      "id": "8627d773",
      "metadata": {
        "id": "8627d773"
      },
      "outputs": [],
      "source": [
        "from sklearn.linear_model import LogisticRegression\n",
        "model = LogisticRegression()\n",
        "# y_pred = model.predict(X)  # Error: el modelo aún no ha sido entrenado\n",
        "model.fit(X_train, y_train)\n",
        "y_pred = model.predict(X_test)"
      ]
    },
    {
      "cell_type": "markdown",
      "id": "34898715",
      "metadata": {
        "id": "34898715"
      },
      "source": [
        "## Error 7: AttributeError: 'numpy.ndarray' object has no attribute 'values'"
      ]
    },
    {
      "cell_type": "markdown",
      "id": "f953f641",
      "metadata": {
        "id": "f953f641"
      },
      "source": [
        "\n",
        "### Descripción:\n",
        "Intentar usar `.values` en un objeto que ya es un array de NumPy.\n",
        "\n",
        "### Solución:\n",
        "No uses `.values` si ya estás trabajando con arrays.\n"
      ]
    },
    {
      "cell_type": "code",
      "execution_count": null,
      "id": "939e8c52",
      "metadata": {
        "id": "939e8c52"
      },
      "outputs": [],
      "source": [
        "import numpy as np\n",
        "arr = np.array([1, 2, 3])\n",
        "# arr.values  # Error\n",
        "print(arr)  # Correcto"
      ]
    },
    {
      "cell_type": "markdown",
      "id": "4ad0b968",
      "metadata": {
        "id": "4ad0b968"
      },
      "source": [
        "## Error 8: KeyError - Columna no encontrada"
      ]
    },
    {
      "cell_type": "markdown",
      "id": "81e77613",
      "metadata": {
        "id": "81e77613"
      },
      "source": [
        "\n",
        "### Descripción:\n",
        "Ocurre cuando se intenta acceder a una columna que no existe en el DataFrame.\n",
        "\n",
        "### Solución:\n",
        "Verificar el nombre exacto con `df.columns`.\n"
      ]
    },
    {
      "cell_type": "code",
      "execution_count": null,
      "id": "e67c439b",
      "metadata": {
        "id": "e67c439b"
      },
      "outputs": [],
      "source": [
        "print(df.columns)  # Revisa qué columnas hay\n",
        "# df[\"Estadoo\"]  # Error: columna mal escrita\n",
        "df[\"Estado\"]  # Correcto"
      ]
    },
    {
      "cell_type": "markdown",
      "id": "9534a218",
      "metadata": {
        "id": "9534a218"
      },
      "source": [
        "## Error 9: ValueError: operands could not be broadcast together"
      ]
    },
    {
      "cell_type": "markdown",
      "id": "9eb4b9c6",
      "metadata": {
        "id": "9eb4b9c6"
      },
      "source": [
        "\n",
        "### Descripción:\n",
        "Ocurre cuando intentas operar entre arrays de diferente forma (`shape`).\n",
        "\n",
        "### Solución:\n",
        "Asegúrate de que los arrays tengan la misma dimensión o sean compatibles para operaciones.\n"
      ]
    },
    {
      "cell_type": "code",
      "execution_count": null,
      "id": "5bd710e8",
      "metadata": {
        "id": "5bd710e8"
      },
      "outputs": [],
      "source": [
        "import numpy as np\n",
        "a = np.array([1, 2, 3])\n",
        "b = np.array([[1], [2], [3]])\n",
        "# a + b  # Error\n",
        "a.reshape(-1, 1) + b  # Correcto"
      ]
    },
    {
      "cell_type": "markdown",
      "id": "22705cb2",
      "metadata": {
        "id": "22705cb2"
      },
      "source": [
        "## Error 10: Confusión entre clasificación binaria y multiclase"
      ]
    },
    {
      "cell_type": "markdown",
      "id": "3cc45fe8",
      "metadata": {
        "id": "3cc45fe8"
      },
      "source": [
        "\n",
        "### Descripción:\n",
        "Usar `softmax` y `categorical_crossentropy` cuando solo hay 2 clases, o usar `sigmoid` con `categorical_crossentropy`.\n",
        "\n",
        "### Solución:\n",
        "- Para clasificación binaria: 1 neurona + `sigmoid` + `binary_crossentropy`\n",
        "- Para multiclase: n neuronas + `softmax` + `categorical_crossentropy`\n"
      ]
    },
    {
      "cell_type": "code",
      "execution_count": null,
      "id": "00644bfa",
      "metadata": {
        "id": "00644bfa"
      },
      "outputs": [],
      "source": [
        "# Clasificación binaria\n",
        "model.add(Dense(1, activation='sigmoid'))\n",
        "model.compile(loss='binary_crossentropy', optimizer='adam')\n",
        "\n",
        "# Clasificación multiclase\n",
        "model.add(Dense(3, activation='softmax'))\n",
        "model.compile(loss='categorical_crossentropy', optimizer='adam')"
      ]
    },
    {
      "cell_type": "markdown",
      "id": "d3e15fed",
      "metadata": {
        "id": "d3e15fed"
      },
      "source": [
        "## Error 11: Tipos incompatibles en operaciones con Pandas"
      ]
    },
    {
      "cell_type": "markdown",
      "id": "069baf3f",
      "metadata": {
        "id": "069baf3f"
      },
      "source": [
        "\n",
        "### Descripción:\n",
        "Al realizar operaciones con columnas categóricas no convertidas a numéricas.\n",
        "\n",
        "### Solución:\n",
        "Usar `LabelEncoder` o `get_dummies()` antes de aplicar operaciones o modelos.\n"
      ]
    },
    {
      "cell_type": "code",
      "execution_count": null,
      "id": "741fb6c0",
      "metadata": {
        "id": "741fb6c0"
      },
      "outputs": [],
      "source": [
        "# Error al operar con columnas tipo objeto\n",
        "# df[\"Categoria\"] * 2  # Error si es texto\n",
        "\n",
        "# Solución\n",
        "df[\"Categoria_cod\"] = LabelEncoder().fit_transform(df[\"Categoria\"])\n",
        "df[\"Categoria_cod\"] * 2"
      ]
    },
    {
      "cell_type": "markdown",
      "id": "dfcc68ed",
      "metadata": {
        "id": "dfcc68ed"
      },
      "source": [
        "## Error 12: Entrenamiento con clases muy desbalanceadas"
      ]
    },
    {
      "cell_type": "markdown",
      "id": "ad5e3d08",
      "metadata": {
        "id": "ad5e3d08"
      },
      "source": [
        "\n",
        "### Descripción:\n",
        "Si una clase aparece mucho más que la otra, el modelo puede aprender a ignorar la clase minoritaria.\n",
        "\n",
        "### Solución:\n",
        "Usar técnicas de rebalanceo como `class_weight='balanced'` o `SMOTE`.\n"
      ]
    },
    {
      "cell_type": "code",
      "execution_count": null,
      "id": "ab1dce24",
      "metadata": {
        "id": "ab1dce24"
      },
      "outputs": [],
      "source": [
        "from sklearn.linear_model import LogisticRegression\n",
        "model = LogisticRegression(class_weight='balanced')"
      ]
    },
    {
      "cell_type": "markdown",
      "id": "ae882f16",
      "metadata": {
        "id": "ae882f16"
      },
      "source": [
        "## Error 13: Usar métricas binarias en clasificación multiclase"
      ]
    },
    {
      "cell_type": "markdown",
      "id": "05d1afbd",
      "metadata": {
        "id": "05d1afbd"
      },
      "source": [
        "\n",
        "### Descripción:\n",
        "Usar `precision_score`, `recall_score`, etc. sin especificar `average='macro'` o `average='weighted'` en clasificación multiclase.\n",
        "\n",
        "### Solución:\n",
        "Indicar el tipo de promedio al evaluar modelos multiclase.\n"
      ]
    },
    {
      "cell_type": "code",
      "execution_count": null,
      "id": "0f0e35b0",
      "metadata": {
        "id": "0f0e35b0"
      },
      "outputs": [],
      "source": [
        "from sklearn.metrics import precision_score\n",
        "# precision_score(y_test, y_pred)  # Error en multiclase\n",
        "\n",
        "precision_score(y_test, y_pred, average='macro')  # Correcto"
      ]
    },
    {
      "cell_type": "markdown",
      "id": "df96ece4",
      "metadata": {
        "id": "df96ece4"
      },
      "source": [
        "## Error 14: Formato incorrecto de entrada en redes neuronales"
      ]
    },
    {
      "cell_type": "markdown",
      "id": "3269f430",
      "metadata": {
        "id": "3269f430"
      },
      "source": [
        "\n",
        "### Descripción:\n",
        "Error al alimentar datos con forma incorrecta en `Keras`. Las redes esperan una matriz 2D (`(n_muestras, n_features)`).\n",
        "\n",
        "### Solución:\n",
        "Verifica la forma de `X` con `.shape` antes de pasarlo al modelo.\n"
      ]
    },
    {
      "cell_type": "code",
      "execution_count": null,
      "id": "7af5203d",
      "metadata": {
        "id": "7af5203d"
      },
      "outputs": [],
      "source": [
        "print(X_train.shape)  # (n_muestras, n_features)\n",
        "model.fit(X_train, y_train)"
      ]
    },
    {
      "cell_type": "markdown",
      "id": "b6b4e999",
      "metadata": {
        "id": "b6b4e999"
      },
      "source": [
        "## Error 15: Resultados diferentes cada vez que entrenas"
      ]
    },
    {
      "cell_type": "markdown",
      "id": "ea91c995",
      "metadata": {
        "id": "ea91c995"
      },
      "source": [
        "\n",
        "### Descripción:\n",
        "Los modelos de ML pueden tener aleatoriedad si no fijas la semilla (`random_state`).\n",
        "\n",
        "### Solución:\n",
        "Usa `random_state` en todos los métodos que lo permitan.\n"
      ]
    },
    {
      "cell_type": "code",
      "execution_count": null,
      "id": "f5a25681",
      "metadata": {
        "id": "f5a25681"
      },
      "outputs": [],
      "source": [
        "from sklearn.model_selection import train_test_split\n",
        "X_train, X_test, y_train, y_test = train_test_split(X, y, random_state=42)\n",
        "\n",
        "model = RandomForestClassifier(random_state=42)"
      ]
    }
  ],
  "metadata": {
    "colab": {
      "provenance": [],
      "include_colab_link": true
    }
  },
  "nbformat": 4,
  "nbformat_minor": 5
}