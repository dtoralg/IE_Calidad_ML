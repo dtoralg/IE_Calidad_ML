{
  "cells": [
    {
      "cell_type": "markdown",
      "metadata": {
        "id": "view-in-github",
        "colab_type": "text"
      },
      "source": [
        "<a href=\"https://colab.research.google.com/github/dtoralg/IE_Calidad_ML/blob/main/Ejercicios/Modulo%204/Modulo_4_Ejercicio_1_Matriz_Confusion_Resuelto.ipynb\" target=\"_parent\"><img src=\"https://colab.research.google.com/assets/colab-badge.svg\" alt=\"Open In Colab\"/></a>"
      ]
    },
    {
      "cell_type": "markdown",
      "id": "6a295874",
      "metadata": {
        "id": "6a295874"
      },
      "source": [
        "### **Ejercicio 1: Análisis de Matriz de Confusión en Clasificación Binaria (Nivel: Básico)**\n",
        "#### Evaluación del rendimiento de un modelo de clasificación en la detección de defectos en piezas metálicas"
      ]
    },
    {
      "cell_type": "markdown",
      "id": "d7ff3cbb",
      "metadata": {
        "id": "d7ff3cbb"
      },
      "source": [
        "### **Introducción**\n",
        "En este ejercicio, construiremos y analizaremos una **Matriz de Confusión** para evaluar el rendimiento de un modelo de clasificación binaria en la detección de defectos en piezas metálicas. Este análisis es crucial para interpretar la efectividad del modelo y comprender las métricas derivadas como Precisión, Recall, Exactitud y F1 Score.\n",
        "\n",
        "La Matriz de Confusión es una herramienta fundamental para la evaluación de modelos de clasificación, ya que nos permite visualizar cómo se distribuyen las predicciones del modelo en función de las clases reales."
      ]
    },
    {
      "cell_type": "code",
      "execution_count": 1,
      "id": "7e0e3229",
      "metadata": {
        "id": "7e0e3229"
      },
      "outputs": [],
      "source": [
        "# Celda 1: Carga de librerías y configuración del entorno\n",
        "import pandas as pd\n",
        "import numpy as np\n",
        "import matplotlib.pyplot as plt\n",
        "import seaborn as sns\n",
        "from sklearn.model_selection import train_test_split\n",
        "from sklearn.preprocessing import StandardScaler\n",
        "from sklearn.linear_model import LogisticRegression\n",
        "from sklearn.metrics import confusion_matrix, classification_report, accuracy_score, precision_score, recall_score, f1_score\n",
        "\n",
        "# Configuración de gráficos\n",
        "sns.set(style='whitegrid')"
      ]
    },
    {
      "cell_type": "markdown",
      "id": "504360fd",
      "metadata": {
        "id": "504360fd"
      },
      "source": [
        "### **Descripción del dataset**\n",
        "Se utilizará el dataset `control_calidad_piezas_metalicas.csv`, que contiene información sobre piezas metálicas y su estado de calidad. El objetivo es clasificar las piezas como **'OK'** (sin defecto) o **'KO'** (defectuosas)."
      ]
    },
    {
      "cell_type": "code",
      "execution_count": 2,
      "id": "b464947e",
      "metadata": {
        "colab": {
          "base_uri": "https://localhost:8080/",
          "height": 226
        },
        "id": "b464947e",
        "outputId": "24a4a8d2-1e60-4f38-a68a-7126448a4f73"
      },
      "outputs": [
        {
          "output_type": "execute_result",
          "data": {
            "text/plain": [
              "   ID_pieza  Temperatura  Presión_molde  Tiempo_inyección  \\\n",
              "0         1   209.934283    1529.461844          6.030595   \n",
              "1         2   197.234714    1480.767531          3.844645   \n",
              "2         3   212.953771    1785.537227          5.575437   \n",
              "3         4   230.460597    1959.849342          4.380762   \n",
              "4         5   195.316933    1706.054083          4.672597   \n",
              "\n",
              "   Viscosidad_material  Humedad_ambiente  Energía_consumida Operario_turno  \\\n",
              "0             2.450860         39.217029           5.779265     Operario_3   \n",
              "1             3.121770         43.969118           9.031166     Operario_5   \n",
              "2             2.862635         43.672496           6.462271     Operario_4   \n",
              "3             2.217833         33.957695          12.616841     Operario_5   \n",
              "4             1.591750         72.752929          10.004330     Operario_5   \n",
              "\n",
              "  Día_semana Lote_producción  Desgaste_molde  Tiempo_desmoldeo  Ancho_pieza  \\\n",
              "0      Lunes         Lote_13        0.458149          3.688541    50.157288   \n",
              "1    Viernes          Lote_6        0.505443          3.834900    59.949957   \n",
              "2  Miércoles         Lote_14        0.597260          3.286921    43.763784   \n",
              "3    Domingo         Lote_13        0.332967          3.305580    52.769876   \n",
              "4      Lunes         Lote_17        0.565406          2.961457    46.792873   \n",
              "\n",
              "   Altura_pieza Defecto  \n",
              "0    101.279351      OK  \n",
              "1     96.724974      KO  \n",
              "2    118.998853      KO  \n",
              "3    115.421844      KO  \n",
              "4     97.644322      OK  "
            ],
            "text/html": [
              "\n",
              "  <div id=\"df-a4eda6e9-7b81-4a8e-a4a3-10c295b139bc\" class=\"colab-df-container\">\n",
              "    <div>\n",
              "<style scoped>\n",
              "    .dataframe tbody tr th:only-of-type {\n",
              "        vertical-align: middle;\n",
              "    }\n",
              "\n",
              "    .dataframe tbody tr th {\n",
              "        vertical-align: top;\n",
              "    }\n",
              "\n",
              "    .dataframe thead th {\n",
              "        text-align: right;\n",
              "    }\n",
              "</style>\n",
              "<table border=\"1\" class=\"dataframe\">\n",
              "  <thead>\n",
              "    <tr style=\"text-align: right;\">\n",
              "      <th></th>\n",
              "      <th>ID_pieza</th>\n",
              "      <th>Temperatura</th>\n",
              "      <th>Presión_molde</th>\n",
              "      <th>Tiempo_inyección</th>\n",
              "      <th>Viscosidad_material</th>\n",
              "      <th>Humedad_ambiente</th>\n",
              "      <th>Energía_consumida</th>\n",
              "      <th>Operario_turno</th>\n",
              "      <th>Día_semana</th>\n",
              "      <th>Lote_producción</th>\n",
              "      <th>Desgaste_molde</th>\n",
              "      <th>Tiempo_desmoldeo</th>\n",
              "      <th>Ancho_pieza</th>\n",
              "      <th>Altura_pieza</th>\n",
              "      <th>Defecto</th>\n",
              "    </tr>\n",
              "  </thead>\n",
              "  <tbody>\n",
              "    <tr>\n",
              "      <th>0</th>\n",
              "      <td>1</td>\n",
              "      <td>209.934283</td>\n",
              "      <td>1529.461844</td>\n",
              "      <td>6.030595</td>\n",
              "      <td>2.450860</td>\n",
              "      <td>39.217029</td>\n",
              "      <td>5.779265</td>\n",
              "      <td>Operario_3</td>\n",
              "      <td>Lunes</td>\n",
              "      <td>Lote_13</td>\n",
              "      <td>0.458149</td>\n",
              "      <td>3.688541</td>\n",
              "      <td>50.157288</td>\n",
              "      <td>101.279351</td>\n",
              "      <td>OK</td>\n",
              "    </tr>\n",
              "    <tr>\n",
              "      <th>1</th>\n",
              "      <td>2</td>\n",
              "      <td>197.234714</td>\n",
              "      <td>1480.767531</td>\n",
              "      <td>3.844645</td>\n",
              "      <td>3.121770</td>\n",
              "      <td>43.969118</td>\n",
              "      <td>9.031166</td>\n",
              "      <td>Operario_5</td>\n",
              "      <td>Viernes</td>\n",
              "      <td>Lote_6</td>\n",
              "      <td>0.505443</td>\n",
              "      <td>3.834900</td>\n",
              "      <td>59.949957</td>\n",
              "      <td>96.724974</td>\n",
              "      <td>KO</td>\n",
              "    </tr>\n",
              "    <tr>\n",
              "      <th>2</th>\n",
              "      <td>3</td>\n",
              "      <td>212.953771</td>\n",
              "      <td>1785.537227</td>\n",
              "      <td>5.575437</td>\n",
              "      <td>2.862635</td>\n",
              "      <td>43.672496</td>\n",
              "      <td>6.462271</td>\n",
              "      <td>Operario_4</td>\n",
              "      <td>Miércoles</td>\n",
              "      <td>Lote_14</td>\n",
              "      <td>0.597260</td>\n",
              "      <td>3.286921</td>\n",
              "      <td>43.763784</td>\n",
              "      <td>118.998853</td>\n",
              "      <td>KO</td>\n",
              "    </tr>\n",
              "    <tr>\n",
              "      <th>3</th>\n",
              "      <td>4</td>\n",
              "      <td>230.460597</td>\n",
              "      <td>1959.849342</td>\n",
              "      <td>4.380762</td>\n",
              "      <td>2.217833</td>\n",
              "      <td>33.957695</td>\n",
              "      <td>12.616841</td>\n",
              "      <td>Operario_5</td>\n",
              "      <td>Domingo</td>\n",
              "      <td>Lote_13</td>\n",
              "      <td>0.332967</td>\n",
              "      <td>3.305580</td>\n",
              "      <td>52.769876</td>\n",
              "      <td>115.421844</td>\n",
              "      <td>KO</td>\n",
              "    </tr>\n",
              "    <tr>\n",
              "      <th>4</th>\n",
              "      <td>5</td>\n",
              "      <td>195.316933</td>\n",
              "      <td>1706.054083</td>\n",
              "      <td>4.672597</td>\n",
              "      <td>1.591750</td>\n",
              "      <td>72.752929</td>\n",
              "      <td>10.004330</td>\n",
              "      <td>Operario_5</td>\n",
              "      <td>Lunes</td>\n",
              "      <td>Lote_17</td>\n",
              "      <td>0.565406</td>\n",
              "      <td>2.961457</td>\n",
              "      <td>46.792873</td>\n",
              "      <td>97.644322</td>\n",
              "      <td>OK</td>\n",
              "    </tr>\n",
              "  </tbody>\n",
              "</table>\n",
              "</div>\n",
              "    <div class=\"colab-df-buttons\">\n",
              "\n",
              "  <div class=\"colab-df-container\">\n",
              "    <button class=\"colab-df-convert\" onclick=\"convertToInteractive('df-a4eda6e9-7b81-4a8e-a4a3-10c295b139bc')\"\n",
              "            title=\"Convert this dataframe to an interactive table.\"\n",
              "            style=\"display:none;\">\n",
              "\n",
              "  <svg xmlns=\"http://www.w3.org/2000/svg\" height=\"24px\" viewBox=\"0 -960 960 960\">\n",
              "    <path d=\"M120-120v-720h720v720H120Zm60-500h600v-160H180v160Zm220 220h160v-160H400v160Zm0 220h160v-160H400v160ZM180-400h160v-160H180v160Zm440 0h160v-160H620v160ZM180-180h160v-160H180v160Zm440 0h160v-160H620v160Z\"/>\n",
              "  </svg>\n",
              "    </button>\n",
              "\n",
              "  <style>\n",
              "    .colab-df-container {\n",
              "      display:flex;\n",
              "      gap: 12px;\n",
              "    }\n",
              "\n",
              "    .colab-df-convert {\n",
              "      background-color: #E8F0FE;\n",
              "      border: none;\n",
              "      border-radius: 50%;\n",
              "      cursor: pointer;\n",
              "      display: none;\n",
              "      fill: #1967D2;\n",
              "      height: 32px;\n",
              "      padding: 0 0 0 0;\n",
              "      width: 32px;\n",
              "    }\n",
              "\n",
              "    .colab-df-convert:hover {\n",
              "      background-color: #E2EBFA;\n",
              "      box-shadow: 0px 1px 2px rgba(60, 64, 67, 0.3), 0px 1px 3px 1px rgba(60, 64, 67, 0.15);\n",
              "      fill: #174EA6;\n",
              "    }\n",
              "\n",
              "    .colab-df-buttons div {\n",
              "      margin-bottom: 4px;\n",
              "    }\n",
              "\n",
              "    [theme=dark] .colab-df-convert {\n",
              "      background-color: #3B4455;\n",
              "      fill: #D2E3FC;\n",
              "    }\n",
              "\n",
              "    [theme=dark] .colab-df-convert:hover {\n",
              "      background-color: #434B5C;\n",
              "      box-shadow: 0px 1px 3px 1px rgba(0, 0, 0, 0.15);\n",
              "      filter: drop-shadow(0px 1px 2px rgba(0, 0, 0, 0.3));\n",
              "      fill: #FFFFFF;\n",
              "    }\n",
              "  </style>\n",
              "\n",
              "    <script>\n",
              "      const buttonEl =\n",
              "        document.querySelector('#df-a4eda6e9-7b81-4a8e-a4a3-10c295b139bc button.colab-df-convert');\n",
              "      buttonEl.style.display =\n",
              "        google.colab.kernel.accessAllowed ? 'block' : 'none';\n",
              "\n",
              "      async function convertToInteractive(key) {\n",
              "        const element = document.querySelector('#df-a4eda6e9-7b81-4a8e-a4a3-10c295b139bc');\n",
              "        const dataTable =\n",
              "          await google.colab.kernel.invokeFunction('convertToInteractive',\n",
              "                                                    [key], {});\n",
              "        if (!dataTable) return;\n",
              "\n",
              "        const docLinkHtml = 'Like what you see? Visit the ' +\n",
              "          '<a target=\"_blank\" href=https://colab.research.google.com/notebooks/data_table.ipynb>data table notebook</a>'\n",
              "          + ' to learn more about interactive tables.';\n",
              "        element.innerHTML = '';\n",
              "        dataTable['output_type'] = 'display_data';\n",
              "        await google.colab.output.renderOutput(dataTable, element);\n",
              "        const docLink = document.createElement('div');\n",
              "        docLink.innerHTML = docLinkHtml;\n",
              "        element.appendChild(docLink);\n",
              "      }\n",
              "    </script>\n",
              "  </div>\n",
              "\n",
              "\n",
              "<div id=\"df-a6294e95-d91e-4078-9e43-84be0c3615b2\">\n",
              "  <button class=\"colab-df-quickchart\" onclick=\"quickchart('df-a6294e95-d91e-4078-9e43-84be0c3615b2')\"\n",
              "            title=\"Suggest charts\"\n",
              "            style=\"display:none;\">\n",
              "\n",
              "<svg xmlns=\"http://www.w3.org/2000/svg\" height=\"24px\"viewBox=\"0 0 24 24\"\n",
              "     width=\"24px\">\n",
              "    <g>\n",
              "        <path d=\"M19 3H5c-1.1 0-2 .9-2 2v14c0 1.1.9 2 2 2h14c1.1 0 2-.9 2-2V5c0-1.1-.9-2-2-2zM9 17H7v-7h2v7zm4 0h-2V7h2v10zm4 0h-2v-4h2v4z\"/>\n",
              "    </g>\n",
              "</svg>\n",
              "  </button>\n",
              "\n",
              "<style>\n",
              "  .colab-df-quickchart {\n",
              "      --bg-color: #E8F0FE;\n",
              "      --fill-color: #1967D2;\n",
              "      --hover-bg-color: #E2EBFA;\n",
              "      --hover-fill-color: #174EA6;\n",
              "      --disabled-fill-color: #AAA;\n",
              "      --disabled-bg-color: #DDD;\n",
              "  }\n",
              "\n",
              "  [theme=dark] .colab-df-quickchart {\n",
              "      --bg-color: #3B4455;\n",
              "      --fill-color: #D2E3FC;\n",
              "      --hover-bg-color: #434B5C;\n",
              "      --hover-fill-color: #FFFFFF;\n",
              "      --disabled-bg-color: #3B4455;\n",
              "      --disabled-fill-color: #666;\n",
              "  }\n",
              "\n",
              "  .colab-df-quickchart {\n",
              "    background-color: var(--bg-color);\n",
              "    border: none;\n",
              "    border-radius: 50%;\n",
              "    cursor: pointer;\n",
              "    display: none;\n",
              "    fill: var(--fill-color);\n",
              "    height: 32px;\n",
              "    padding: 0;\n",
              "    width: 32px;\n",
              "  }\n",
              "\n",
              "  .colab-df-quickchart:hover {\n",
              "    background-color: var(--hover-bg-color);\n",
              "    box-shadow: 0 1px 2px rgba(60, 64, 67, 0.3), 0 1px 3px 1px rgba(60, 64, 67, 0.15);\n",
              "    fill: var(--button-hover-fill-color);\n",
              "  }\n",
              "\n",
              "  .colab-df-quickchart-complete:disabled,\n",
              "  .colab-df-quickchart-complete:disabled:hover {\n",
              "    background-color: var(--disabled-bg-color);\n",
              "    fill: var(--disabled-fill-color);\n",
              "    box-shadow: none;\n",
              "  }\n",
              "\n",
              "  .colab-df-spinner {\n",
              "    border: 2px solid var(--fill-color);\n",
              "    border-color: transparent;\n",
              "    border-bottom-color: var(--fill-color);\n",
              "    animation:\n",
              "      spin 1s steps(1) infinite;\n",
              "  }\n",
              "\n",
              "  @keyframes spin {\n",
              "    0% {\n",
              "      border-color: transparent;\n",
              "      border-bottom-color: var(--fill-color);\n",
              "      border-left-color: var(--fill-color);\n",
              "    }\n",
              "    20% {\n",
              "      border-color: transparent;\n",
              "      border-left-color: var(--fill-color);\n",
              "      border-top-color: var(--fill-color);\n",
              "    }\n",
              "    30% {\n",
              "      border-color: transparent;\n",
              "      border-left-color: var(--fill-color);\n",
              "      border-top-color: var(--fill-color);\n",
              "      border-right-color: var(--fill-color);\n",
              "    }\n",
              "    40% {\n",
              "      border-color: transparent;\n",
              "      border-right-color: var(--fill-color);\n",
              "      border-top-color: var(--fill-color);\n",
              "    }\n",
              "    60% {\n",
              "      border-color: transparent;\n",
              "      border-right-color: var(--fill-color);\n",
              "    }\n",
              "    80% {\n",
              "      border-color: transparent;\n",
              "      border-right-color: var(--fill-color);\n",
              "      border-bottom-color: var(--fill-color);\n",
              "    }\n",
              "    90% {\n",
              "      border-color: transparent;\n",
              "      border-bottom-color: var(--fill-color);\n",
              "    }\n",
              "  }\n",
              "</style>\n",
              "\n",
              "  <script>\n",
              "    async function quickchart(key) {\n",
              "      const quickchartButtonEl =\n",
              "        document.querySelector('#' + key + ' button');\n",
              "      quickchartButtonEl.disabled = true;  // To prevent multiple clicks.\n",
              "      quickchartButtonEl.classList.add('colab-df-spinner');\n",
              "      try {\n",
              "        const charts = await google.colab.kernel.invokeFunction(\n",
              "            'suggestCharts', [key], {});\n",
              "      } catch (error) {\n",
              "        console.error('Error during call to suggestCharts:', error);\n",
              "      }\n",
              "      quickchartButtonEl.classList.remove('colab-df-spinner');\n",
              "      quickchartButtonEl.classList.add('colab-df-quickchart-complete');\n",
              "    }\n",
              "    (() => {\n",
              "      let quickchartButtonEl =\n",
              "        document.querySelector('#df-a6294e95-d91e-4078-9e43-84be0c3615b2 button');\n",
              "      quickchartButtonEl.style.display =\n",
              "        google.colab.kernel.accessAllowed ? 'block' : 'none';\n",
              "    })();\n",
              "  </script>\n",
              "</div>\n",
              "\n",
              "    </div>\n",
              "  </div>\n"
            ],
            "application/vnd.google.colaboratory.intrinsic+json": {
              "type": "dataframe",
              "variable_name": "data",
              "summary": "{\n  \"name\": \"data\",\n  \"rows\": 50000,\n  \"fields\": [\n    {\n      \"column\": \"ID_pieza\",\n      \"properties\": {\n        \"dtype\": \"number\",\n        \"std\": 14433,\n        \"min\": 1,\n        \"max\": 50000,\n        \"num_unique_values\": 50000,\n        \"samples\": [\n          33554,\n          9428,\n          200\n        ],\n        \"semantic_type\": \"\",\n        \"description\": \"\"\n      }\n    },\n    {\n      \"column\": \"Temperatura\",\n      \"properties\": {\n        \"dtype\": \"number\",\n        \"std\": 20.003397363027094,\n        \"min\": 110.68792272942244,\n        \"max\": 289.5816850205151,\n        \"num_unique_values\": 50000,\n        \"samples\": [\n          192.016702579704,\n          187.75154218198264,\n          177.14059404338752\n        ],\n        \"semantic_type\": \"\",\n        \"description\": \"\"\n      }\n    },\n    {\n      \"column\": \"Presi\\u00f3n_molde\",\n      \"properties\": {\n        \"dtype\": \"number\",\n        \"std\": 300.4948763039599,\n        \"min\": 161.10944187596897,\n        \"max\": 2648.9346514022573,\n        \"num_unique_values\": 50000,\n        \"samples\": [\n          1566.8320970110542,\n          1007.0334250387008,\n          1746.3658005047523\n        ],\n        \"semantic_type\": \"\",\n        \"description\": \"\"\n      }\n    },\n    {\n      \"column\": \"Tiempo_inyecci\\u00f3n\",\n      \"properties\": {\n        \"dtype\": \"number\",\n        \"std\": 0.9995761229361281,\n        \"min\": 1.0006677509719486,\n        \"max\": 9.56211472361489,\n        \"num_unique_values\": 50000,\n        \"samples\": [\n          5.439824345238773,\n          5.065962732871667,\n          5.819913658114847\n        ],\n        \"semantic_type\": \"\",\n        \"description\": \"\"\n      }\n    },\n    {\n      \"column\": \"Viscosidad_material\",\n      \"properties\": {\n        \"dtype\": \"number\",\n        \"std\": 0.5790307243290214,\n        \"min\": 1.5000045963652362,\n        \"max\": 3.499958522837285,\n        \"num_unique_values\": 50000,\n        \"samples\": [\n          2.3708732483311703,\n          2.245172795184566,\n          2.370414749020248\n        ],\n        \"semantic_type\": \"\",\n        \"description\": \"\"\n      }\n    },\n    {\n      \"column\": \"Humedad_ambiente\",\n      \"properties\": {\n        \"dtype\": \"number\",\n        \"std\": 17.31498187231609,\n        \"min\": 20.000876397357427,\n        \"max\": 79.9946484103833,\n        \"num_unique_values\": 50000,\n        \"samples\": [\n          42.655807273777526,\n          69.62266022864563,\n          69.7023335235763\n        ],\n        \"semantic_type\": \"\",\n        \"description\": \"\"\n      }\n    },\n    {\n      \"column\": \"Energ\\u00eda_consumida\",\n      \"properties\": {\n        \"dtype\": \"number\",\n        \"std\": 2.0005576080519782,\n        \"min\": 1.1915720782456931,\n        \"max\": 18.43873268755829,\n        \"num_unique_values\": 50000,\n        \"samples\": [\n          11.26382253859119,\n          9.327340672234428,\n          12.40980842478665\n        ],\n        \"semantic_type\": \"\",\n        \"description\": \"\"\n      }\n    },\n    {\n      \"column\": \"Operario_turno\",\n      \"properties\": {\n        \"dtype\": \"category\",\n        \"num_unique_values\": 10,\n        \"samples\": [\n          \"Operario_1\",\n          \"Operario_5\",\n          \"Operario_2\"\n        ],\n        \"semantic_type\": \"\",\n        \"description\": \"\"\n      }\n    },\n    {\n      \"column\": \"D\\u00eda_semana\",\n      \"properties\": {\n        \"dtype\": \"category\",\n        \"num_unique_values\": 7,\n        \"samples\": [\n          \"Lunes\",\n          \"Viernes\",\n          \"Martes\"\n        ],\n        \"semantic_type\": \"\",\n        \"description\": \"\"\n      }\n    },\n    {\n      \"column\": \"Lote_producci\\u00f3n\",\n      \"properties\": {\n        \"dtype\": \"category\",\n        \"num_unique_values\": 20,\n        \"samples\": [\n          \"Lote_13\",\n          \"Lote_19\",\n          \"Lote_2\"\n        ],\n        \"semantic_type\": \"\",\n        \"description\": \"\"\n      }\n    },\n    {\n      \"column\": \"Desgaste_molde\",\n      \"properties\": {\n        \"dtype\": \"number\",\n        \"std\": 0.10024053239920507,\n        \"min\": 0.0687027081250838,\n        \"max\": 0.9301847742725398,\n        \"num_unique_values\": 50000,\n        \"samples\": [\n          0.3747227587527659,\n          0.6132769469016627,\n          0.5109967302528046\n        ],\n        \"semantic_type\": \"\",\n        \"description\": \"\"\n      }\n    },\n    {\n      \"column\": \"Tiempo_desmoldeo\",\n      \"properties\": {\n        \"dtype\": \"number\",\n        \"std\": 0.4998808307285902,\n        \"min\": 0.5852819957444213,\n        \"max\": 5.002942395056178,\n        \"num_unique_values\": 50000,\n        \"samples\": [\n          2.397642695089509,\n          2.65535248808057,\n          2.778405296084669\n        ],\n        \"semantic_type\": \"\",\n        \"description\": \"\"\n      }\n    },\n    {\n      \"column\": \"Ancho_pieza\",\n      \"properties\": {\n        \"dtype\": \"number\",\n        \"std\": 5.016990457115248,\n        \"min\": 30.981786501495726,\n        \"max\": 70.50510203223055,\n        \"num_unique_values\": 50000,\n        \"samples\": [\n          48.90376257922735,\n          44.365018655676295,\n          52.76977924168784\n        ],\n        \"semantic_type\": \"\",\n        \"description\": \"\"\n      }\n    },\n    {\n      \"column\": \"Altura_pieza\",\n      \"properties\": {\n        \"dtype\": \"number\",\n        \"std\": 10.016849237299523,\n        \"min\": 57.72768220424223,\n        \"max\": 141.53257428430192,\n        \"num_unique_values\": 50000,\n        \"samples\": [\n          92.98186557348028,\n          100.34245347453512,\n          98.92827210143255\n        ],\n        \"semantic_type\": \"\",\n        \"description\": \"\"\n      }\n    },\n    {\n      \"column\": \"Defecto\",\n      \"properties\": {\n        \"dtype\": \"category\",\n        \"num_unique_values\": 2,\n        \"samples\": [\n          \"KO\",\n          \"OK\"\n        ],\n        \"semantic_type\": \"\",\n        \"description\": \"\"\n      }\n    }\n  ]\n}"
            }
          },
          "metadata": {},
          "execution_count": 2
        }
      ],
      "source": [
        "# Celda 2: Carga del dataset\n",
        "dataset_path = 'https://github.com/dtoralg/IE_Calidad_ML/raw/main/Data/control_calidad_piezas_metalicas.csv'\n",
        "data = pd.read_csv(dataset_path)\n",
        "\n",
        "# Mostrar las primeras filas del dataset\n",
        "data.head()"
      ]
    },
    {
      "cell_type": "code",
      "execution_count": 3,
      "id": "48da8fee",
      "metadata": {
        "colab": {
          "base_uri": "https://localhost:8080/"
        },
        "id": "48da8fee",
        "outputId": "bf50c342-0c57-41b1-a224-538c057f4a5a"
      },
      "outputs": [
        {
          "output_type": "stream",
          "name": "stdout",
          "text": [
            "<class 'pandas.core.frame.DataFrame'>\n",
            "RangeIndex: 50000 entries, 0 to 49999\n",
            "Data columns (total 15 columns):\n",
            " #   Column               Non-Null Count  Dtype  \n",
            "---  ------               --------------  -----  \n",
            " 0   ID_pieza             50000 non-null  int64  \n",
            " 1   Temperatura          50000 non-null  float64\n",
            " 2   Presión_molde        50000 non-null  float64\n",
            " 3   Tiempo_inyección     50000 non-null  float64\n",
            " 4   Viscosidad_material  50000 non-null  float64\n",
            " 5   Humedad_ambiente     50000 non-null  float64\n",
            " 6   Energía_consumida    50000 non-null  float64\n",
            " 7   Operario_turno       50000 non-null  object \n",
            " 8   Día_semana           50000 non-null  object \n",
            " 9   Lote_producción      50000 non-null  object \n",
            " 10  Desgaste_molde       50000 non-null  float64\n",
            " 11  Tiempo_desmoldeo     50000 non-null  float64\n",
            " 12  Ancho_pieza          50000 non-null  float64\n",
            " 13  Altura_pieza         50000 non-null  float64\n",
            " 14  Defecto              50000 non-null  object \n",
            "dtypes: float64(10), int64(1), object(4)\n",
            "memory usage: 5.7+ MB\n"
          ]
        }
      ],
      "source": [
        "# Celda 3: Información general del dataset\n",
        "data.info()"
      ]
    },
    {
      "cell_type": "code",
      "execution_count": 4,
      "id": "b697b287",
      "metadata": {
        "colab": {
          "base_uri": "https://localhost:8080/",
          "height": 481
        },
        "id": "b697b287",
        "outputId": "7ebad24a-50bd-4e0f-e1e5-a66be40edac6"
      },
      "outputs": [
        {
          "output_type": "display_data",
          "data": {
            "text/plain": [
              "<Figure size 640x480 with 1 Axes>"
            ],
            "image/png": "[encoded data removed]"
          },
          "metadata": {}
        }
      ],
      "source": [
        "# Celda 4: Distribución de la variable objetivo\n",
        "sns.countplot(x='Defecto', data=data)\n",
        "plt.title('Distribución de piezas defectuosas y no defectuosas')\n",
        "plt.xlabel('Estado de la pieza')\n",
        "plt.ylabel('Cantidad')\n",
        "plt.show()"
      ]
    },
    {
      "cell_type": "markdown",
      "id": "eef2aeeb",
      "metadata": {
        "id": "eef2aeeb"
      },
      "source": [
        "### **Preprocesamiento de los datos**\n",
        "Se seleccionan las variables numéricas y se normalizan antes de entrenar el modelo. Además, convertimos la variable objetivo en valores numéricos para su uso en modelos de machine learning."
      ]
    },
    {
      "cell_type": "code",
      "execution_count": 5,
      "id": "1a8a3bb5",
      "metadata": {
        "id": "1a8a3bb5"
      },
      "outputs": [],
      "source": [
        "# Celda 5: Normalización de los datos\n",
        "from sklearn.preprocessing import StandardScaler\n",
        "\n",
        "# Seleccionar solo las variables numéricas\n",
        "numeric_features = ['Temperatura', 'Presión_molde', 'Tiempo_inyección', 'Viscosidad_material', 'Humedad_ambiente', 'Energía_consumida', 'Desgaste_molde', 'Tiempo_desmoldeo', 'Ancho_pieza', 'Altura_pieza']\n",
        "\n",
        "X = data[numeric_features]\n",
        "y = data['Defecto'].map({'OK': 0, 'KO': 1})  # Convertir etiquetas a valores numéricos\n",
        "\n",
        "# Normalización\n",
        "scaler = StandardScaler()\n",
        "X_scaled = scaler.fit_transform(X)\n",
        "\n",
        "# División de datos en entrenamiento y prueba\n",
        "X_train, X_test, y_train, y_test = train_test_split(X_scaled, y, test_size=0.2, random_state=42, stratify=y)"
      ]
    },
    {
      "cell_type": "markdown",
      "id": "2025b689",
      "metadata": {
        "id": "2025b689"
      },
      "source": [
        "### **Entrenamiento del modelo**\n",
        "Se entrenará un modelo de **Regresión Logística** para la clasificación de piezas defectuosas."
      ]
    },
    {
      "cell_type": "code",
      "execution_count": 6,
      "id": "e59be1cb",
      "metadata": {
        "id": "e59be1cb"
      },
      "outputs": [],
      "source": [
        "# Celda 6: Entrenamiento del modelo de Regresión Logística\n",
        "modelo = LogisticRegression()\n",
        "modelo.fit(X_train, y_train)\n",
        "\n",
        "# Hacer predicciones\n",
        "y_pred = modelo.predict(X_test)"
      ]
    },
    {
      "cell_type": "markdown",
      "id": "1b5d5c43",
      "metadata": {
        "id": "1b5d5c43"
      },
      "source": [
        "### **Evaluación del modelo**\n",
        "Se calculará la **Matriz de Confusión** y las métricas derivadas (Precisión, Recall, F1 Score, Exactitud).\n",
        "\n",
        "**Interpretación de métricas:**\n",
        "- **Precisión (Precision)**: Proporción de predicciones positivas que fueron correctas.\n",
        "- **Recall (Sensibilidad)**: Proporción de defectos reales detectados correctamente.\n",
        "- **Exactitud (Accuracy)**: Proporción total de predicciones correctas.\n",
        "- **F1 Score**: Promedio armónico entre Precisión y Recall, útil cuando las clases están desbalanceadas."
      ]
    },
    {
      "cell_type": "code",
      "execution_count": 7,
      "id": "272cccc5",
      "metadata": {
        "colab": {
          "base_uri": "https://localhost:8080/",
          "height": 488
        },
        "id": "272cccc5",
        "outputId": "898b7ba1-5937-4bfc-ca40-17cae884a1b8"
      },
      "outputs": [
        {
          "output_type": "display_data",
          "data": {
            "text/plain": [
              "<Figure size 500x400 with 2 Axes>"
            ],
            "image/png": "[encoded data removed]"
          },
          "metadata": {}
        },
        {
          "output_type": "stream",
          "name": "stdout",
          "text": [
            "Exactitud (Accuracy): 0.50\n",
            "Precisión (Precision): 0.50\n",
            "Recall (Sensibilidad): 0.43\n",
            "F1 Score: 0.46\n"
          ]
        }
      ],
      "source": [
        "# Celda 7: Matriz de Confusión y Métricas\n",
        "matriz_confusion = confusion_matrix(y_test, y_pred)\n",
        "\n",
        "plt.figure(figsize=(5,4))\n",
        "sns.heatmap(matriz_confusion, annot=True, fmt='d', cmap='Blues', xticklabels=['OK', 'KO'], yticklabels=['OK', 'KO'])\n",
        "plt.xlabel('Predicción')\n",
        "plt.ylabel('Real')\n",
        "plt.title('Matriz de Confusión')\n",
        "plt.show()\n",
        "\n",
        "# Cálculo de métricas adicionales\n",
        "accuracy = accuracy_score(y_test, y_pred)\n",
        "precision = precision_score(y_test, y_pred)\n",
        "recall = recall_score(y_test, y_pred)\n",
        "f1 = f1_score(y_test, y_pred)\n",
        "\n",
        "print(f'Exactitud (Accuracy): {accuracy:.2f}')\n",
        "print(f'Precisión (Precision): {precision:.2f}')\n",
        "print(f'Recall (Sensibilidad): {recall:.2f}')\n",
        "print(f'F1 Score: {f1:.2f}')"
      ]
    },
    {
      "cell_type": "markdown",
      "id": "7afd5863",
      "metadata": {
        "id": "7afd5863"
      },
      "source": [
        "### **Conclusiones**\n",
        "En este ejercicio, construimos y analizamos una **Matriz de Confusión** para evaluar el rendimiento de un modelo de clasificación binaria en la detección de defectos en piezas metálicas.\n",
        "\n",
        "**Hallazgos clave:**\n",
        "- La **Precisión** nos indica qué proporción de las predicciones de defectos fue correcta.\n",
        "- El **Recall** nos muestra cuántos de los defectos reales fueron detectados.\n",
        "- El **F1 Score** balancea Precisión y Recall, siendo útil en problemas donde ambas métricas son importantes.\n"
      ]
    }
  ],
  "metadata": {
    "colab": {
      "provenance": [],
      "include_colab_link": true
    },
    "language_info": {
      "name": "python"
    },
    "kernelspec": {
      "name": "python3",
      "display_name": "Python 3"
    }
  },
  "nbformat": 4,
  "nbformat_minor": 5
}