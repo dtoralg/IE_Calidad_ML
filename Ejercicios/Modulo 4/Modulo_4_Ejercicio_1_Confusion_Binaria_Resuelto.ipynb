{
  "cells": [
    {
      "cell_type": "markdown",
      "metadata": {
        "id": "view-in-github",
        "colab_type": "text"
      },
      "source": [
        "<a href=\"https://colab.research.google.com/github/dtoralg/IE_Calidad_ML/blob/main/Ejercicios/Modulo%204/Modulo_4_Ejercicio_1_Confusion_Binaria_Resuelto.ipynb\" target=\"_parent\"><img src=\"https://colab.research.google.com/assets/colab-badge.svg\" alt=\"Open In Colab\"/></a>"
      ]
    },
    {
      "cell_type": "markdown",
      "id": "acfdf746",
      "metadata": {
        "id": "acfdf746"
      },
      "source": [
        "### **Ejercicio 1: Análisis de Matriz de Confusión en Clasificación Binaria**\n",
        "#### Evaluación del rendimiento de un modelo de clasificación en la predicción de fallas en sensores industriales"
      ]
    },
    {
      "cell_type": "markdown",
      "id": "4c3e11c5",
      "metadata": {
        "id": "4c3e11c5"
      },
      "source": [
        "### **Introducción**\n",
        "En este ejercicio, construiremos y analizaremos una **Matriz de Confusión** para evaluar el rendimiento de un modelo de clasificación binaria en la detección de fallas en sensores industriales.\n",
        "\n",
        "El dataset utilizado contiene información sobre sensores en una línea de producción, y el objetivo es clasificar si un sensor fallará o no. Se analizarán métricas clave como **Precisión, Recall, F1 Score y Exactitud** para comprender cómo se comporta el modelo."
      ]
    },
    {
      "cell_type": "code",
      "execution_count": 1,
      "id": "fcfab47c",
      "metadata": {
        "id": "fcfab47c"
      },
      "outputs": [],
      "source": [
        "# Celda 1: Carga de librerías y configuración del entorno\n",
        "import pandas as pd\n",
        "import numpy as np\n",
        "import matplotlib.pyplot as plt\n",
        "import seaborn as sns\n",
        "from sklearn.model_selection import train_test_split\n",
        "from sklearn.preprocessing import StandardScaler, OneHotEncoder\n",
        "from sklearn.impute import SimpleImputer\n",
        "from imblearn.over_sampling import SMOTE\n",
        "from sklearn.ensemble import RandomForestClassifier\n",
        "from sklearn.metrics import classification_report, confusion_matrix\n",
        "\n",
        "# Configuración de gráficos\n",
        "sns.set(style='whitegrid')"
      ]
    },
    {
      "cell_type": "code",
      "execution_count": 2,
      "id": "f12ef831",
      "metadata": {
        "colab": {
          "base_uri": "https://localhost:8080/",
          "height": 206
        },
        "id": "f12ef831",
        "outputId": "e111aef3-23d6-4a52-86b5-521afd8ef94c"
      },
      "outputs": [
        {
          "output_type": "execute_result",
          "data": {
            "text/plain": [
              "   ID_sensor  Temperatura_operacion  Vibracion    Humedad   Presion  \\\n",
              "0          1              82.450712   4.545892  49.020365  2.304435   \n",
              "1          2              72.926035   1.266968  66.237516  3.477414   \n",
              "2          3              84.715328   3.863156  79.323942  4.445244   \n",
              "3          4              97.845448   2.071142  76.814784  2.182518   \n",
              "4          5              71.487699   2.508896  41.398791  1.409142   \n",
              "\n",
              "   Corriente_electrica  Frecuencia_medicion  Tiempo_operacion Tipo_sensor  \\\n",
              "0            12.147258                   23              1186   Inductivo   \n",
              "1             9.729300                   34               739  Capacitivo   \n",
              "2            10.133768                    5               523   Inductivo   \n",
              "3             8.097643                   59              1541   Inductivo   \n",
              "4            10.310082                   12              1371  Capacitivo   \n",
              "\n",
              "  Falla  \n",
              "0    No  \n",
              "1    No  \n",
              "2    No  \n",
              "3    No  \n",
              "4    No  "
            ],
            "text/html": [
              "\n",
              "  <div id=\"df-bb69f515-5a36-47b0-87f9-0b975a1559a3\" class=\"colab-df-container\">\n",
              "    <div>\n",
              "<style scoped>\n",
              "    .dataframe tbody tr th:only-of-type {\n",
              "        vertical-align: middle;\n",
              "    }\n",
              "\n",
              "    .dataframe tbody tr th {\n",
              "        vertical-align: top;\n",
              "    }\n",
              "\n",
              "    .dataframe thead th {\n",
              "        text-align: right;\n",
              "    }\n",
              "</style>\n",
              "<table border=\"1\" class=\"dataframe\">\n",
              "  <thead>\n",
              "    <tr style=\"text-align: right;\">\n",
              "      <th></th>\n",
              "      <th>ID_sensor</th>\n",
              "      <th>Temperatura_operacion</th>\n",
              "      <th>Vibracion</th>\n",
              "      <th>Humedad</th>\n",
              "      <th>Presion</th>\n",
              "      <th>Corriente_electrica</th>\n",
              "      <th>Frecuencia_medicion</th>\n",
              "      <th>Tiempo_operacion</th>\n",
              "      <th>Tipo_sensor</th>\n",
              "      <th>Falla</th>\n",
              "    </tr>\n",
              "  </thead>\n",
              "  <tbody>\n",
              "    <tr>\n",
              "      <th>0</th>\n",
              "      <td>1</td>\n",
              "      <td>82.450712</td>\n",
              "      <td>4.545892</td>\n",
              "      <td>49.020365</td>\n",
              "      <td>2.304435</td>\n",
              "      <td>12.147258</td>\n",
              "      <td>23</td>\n",
              "      <td>1186</td>\n",
              "      <td>Inductivo</td>\n",
              "      <td>No</td>\n",
              "    </tr>\n",
              "    <tr>\n",
              "      <th>1</th>\n",
              "      <td>2</td>\n",
              "      <td>72.926035</td>\n",
              "      <td>1.266968</td>\n",
              "      <td>66.237516</td>\n",
              "      <td>3.477414</td>\n",
              "      <td>9.729300</td>\n",
              "      <td>34</td>\n",
              "      <td>739</td>\n",
              "      <td>Capacitivo</td>\n",
              "      <td>No</td>\n",
              "    </tr>\n",
              "    <tr>\n",
              "      <th>2</th>\n",
              "      <td>3</td>\n",
              "      <td>84.715328</td>\n",
              "      <td>3.863156</td>\n",
              "      <td>79.323942</td>\n",
              "      <td>4.445244</td>\n",
              "      <td>10.133768</td>\n",
              "      <td>5</td>\n",
              "      <td>523</td>\n",
              "      <td>Inductivo</td>\n",
              "      <td>No</td>\n",
              "    </tr>\n",
              "    <tr>\n",
              "      <th>3</th>\n",
              "      <td>4</td>\n",
              "      <td>97.845448</td>\n",
              "      <td>2.071142</td>\n",
              "      <td>76.814784</td>\n",
              "      <td>2.182518</td>\n",
              "      <td>8.097643</td>\n",
              "      <td>59</td>\n",
              "      <td>1541</td>\n",
              "      <td>Inductivo</td>\n",
              "      <td>No</td>\n",
              "    </tr>\n",
              "    <tr>\n",
              "      <th>4</th>\n",
              "      <td>5</td>\n",
              "      <td>71.487699</td>\n",
              "      <td>2.508896</td>\n",
              "      <td>41.398791</td>\n",
              "      <td>1.409142</td>\n",
              "      <td>10.310082</td>\n",
              "      <td>12</td>\n",
              "      <td>1371</td>\n",
              "      <td>Capacitivo</td>\n",
              "      <td>No</td>\n",
              "    </tr>\n",
              "  </tbody>\n",
              "</table>\n",
              "</div>\n",
              "    <div class=\"colab-df-buttons\">\n",
              "\n",
              "  <div class=\"colab-df-container\">\n",
              "    <button class=\"colab-df-convert\" onclick=\"convertToInteractive('df-bb69f515-5a36-47b0-87f9-0b975a1559a3')\"\n",
              "            title=\"Convert this dataframe to an interactive table.\"\n",
              "            style=\"display:none;\">\n",
              "\n",
              "  <svg xmlns=\"http://www.w3.org/2000/svg\" height=\"24px\" viewBox=\"0 -960 960 960\">\n",
              "    <path d=\"M120-120v-720h720v720H120Zm60-500h600v-160H180v160Zm220 220h160v-160H400v160Zm0 220h160v-160H400v160ZM180-400h160v-160H180v160Zm440 0h160v-160H620v160ZM180-180h160v-160H180v160Zm440 0h160v-160H620v160Z\"/>\n",
              "  </svg>\n",
              "    </button>\n",
              "\n",
              "  <style>\n",
              "    .colab-df-container {\n",
              "      display:flex;\n",
              "      gap: 12px;\n",
              "    }\n",
              "\n",
              "    .colab-df-convert {\n",
              "      background-color: #E8F0FE;\n",
              "      border: none;\n",
              "      border-radius: 50%;\n",
              "      cursor: pointer;\n",
              "      display: none;\n",
              "      fill: #1967D2;\n",
              "      height: 32px;\n",
              "      padding: 0 0 0 0;\n",
              "      width: 32px;\n",
              "    }\n",
              "\n",
              "    .colab-df-convert:hover {\n",
              "      background-color: #E2EBFA;\n",
              "      box-shadow: 0px 1px 2px rgba(60, 64, 67, 0.3), 0px 1px 3px 1px rgba(60, 64, 67, 0.15);\n",
              "      fill: #174EA6;\n",
              "    }\n",
              "\n",
              "    .colab-df-buttons div {\n",
              "      margin-bottom: 4px;\n",
              "    }\n",
              "\n",
              "    [theme=dark] .colab-df-convert {\n",
              "      background-color: #3B4455;\n",
              "      fill: #D2E3FC;\n",
              "    }\n",
              "\n",
              "    [theme=dark] .colab-df-convert:hover {\n",
              "      background-color: #434B5C;\n",
              "      box-shadow: 0px 1px 3px 1px rgba(0, 0, 0, 0.15);\n",
              "      filter: drop-shadow(0px 1px 2px rgba(0, 0, 0, 0.3));\n",
              "      fill: #FFFFFF;\n",
              "    }\n",
              "  </style>\n",
              "\n",
              "    <script>\n",
              "      const buttonEl =\n",
              "        document.querySelector('#df-bb69f515-5a36-47b0-87f9-0b975a1559a3 button.colab-df-convert');\n",
              "      buttonEl.style.display =\n",
              "        google.colab.kernel.accessAllowed ? 'block' : 'none';\n",
              "\n",
              "      async function convertToInteractive(key) {\n",
              "        const element = document.querySelector('#df-bb69f515-5a36-47b0-87f9-0b975a1559a3');\n",
              "        const dataTable =\n",
              "          await google.colab.kernel.invokeFunction('convertToInteractive',\n",
              "                                                    [key], {});\n",
              "        if (!dataTable) return;\n",
              "\n",
              "        const docLinkHtml = 'Like what you see? Visit the ' +\n",
              "          '<a target=\"_blank\" href=https://colab.research.google.com/notebooks/data_table.ipynb>data table notebook</a>'\n",
              "          + ' to learn more about interactive tables.';\n",
              "        element.innerHTML = '';\n",
              "        dataTable['output_type'] = 'display_data';\n",
              "        await google.colab.output.renderOutput(dataTable, element);\n",
              "        const docLink = document.createElement('div');\n",
              "        docLink.innerHTML = docLinkHtml;\n",
              "        element.appendChild(docLink);\n",
              "      }\n",
              "    </script>\n",
              "  </div>\n",
              "\n",
              "\n",
              "    <div id=\"df-0e1c7b40-ae81-4a4d-a3ad-ede5a902979c\">\n",
              "      <button class=\"colab-df-quickchart\" onclick=\"quickchart('df-0e1c7b40-ae81-4a4d-a3ad-ede5a902979c')\"\n",
              "                title=\"Suggest charts\"\n",
              "                style=\"display:none;\">\n",
              "\n",
              "<svg xmlns=\"http://www.w3.org/2000/svg\" height=\"24px\"viewBox=\"0 0 24 24\"\n",
              "     width=\"24px\">\n",
              "    <g>\n",
              "        <path d=\"M19 3H5c-1.1 0-2 .9-2 2v14c0 1.1.9 2 2 2h14c1.1 0 2-.9 2-2V5c0-1.1-.9-2-2-2zM9 17H7v-7h2v7zm4 0h-2V7h2v10zm4 0h-2v-4h2v4z\"/>\n",
              "    </g>\n",
              "</svg>\n",
              "      </button>\n",
              "\n",
              "<style>\n",
              "  .colab-df-quickchart {\n",
              "      --bg-color: #E8F0FE;\n",
              "      --fill-color: #1967D2;\n",
              "      --hover-bg-color: #E2EBFA;\n",
              "      --hover-fill-color: #174EA6;\n",
              "      --disabled-fill-color: #AAA;\n",
              "      --disabled-bg-color: #DDD;\n",
              "  }\n",
              "\n",
              "  [theme=dark] .colab-df-quickchart {\n",
              "      --bg-color: #3B4455;\n",
              "      --fill-color: #D2E3FC;\n",
              "      --hover-bg-color: #434B5C;\n",
              "      --hover-fill-color: #FFFFFF;\n",
              "      --disabled-bg-color: #3B4455;\n",
              "      --disabled-fill-color: #666;\n",
              "  }\n",
              "\n",
              "  .colab-df-quickchart {\n",
              "    background-color: var(--bg-color);\n",
              "    border: none;\n",
              "    border-radius: 50%;\n",
              "    cursor: pointer;\n",
              "    display: none;\n",
              "    fill: var(--fill-color);\n",
              "    height: 32px;\n",
              "    padding: 0;\n",
              "    width: 32px;\n",
              "  }\n",
              "\n",
              "  .colab-df-quickchart:hover {\n",
              "    background-color: var(--hover-bg-color);\n",
              "    box-shadow: 0 1px 2px rgba(60, 64, 67, 0.3), 0 1px 3px 1px rgba(60, 64, 67, 0.15);\n",
              "    fill: var(--button-hover-fill-color);\n",
              "  }\n",
              "\n",
              "  .colab-df-quickchart-complete:disabled,\n",
              "  .colab-df-quickchart-complete:disabled:hover {\n",
              "    background-color: var(--disabled-bg-color);\n",
              "    fill: var(--disabled-fill-color);\n",
              "    box-shadow: none;\n",
              "  }\n",
              "\n",
              "  .colab-df-spinner {\n",
              "    border: 2px solid var(--fill-color);\n",
              "    border-color: transparent;\n",
              "    border-bottom-color: var(--fill-color);\n",
              "    animation:\n",
              "      spin 1s steps(1) infinite;\n",
              "  }\n",
              "\n",
              "  @keyframes spin {\n",
              "    0% {\n",
              "      border-color: transparent;\n",
              "      border-bottom-color: var(--fill-color);\n",
              "      border-left-color: var(--fill-color);\n",
              "    }\n",
              "    20% {\n",
              "      border-color: transparent;\n",
              "      border-left-color: var(--fill-color);\n",
              "      border-top-color: var(--fill-color);\n",
              "    }\n",
              "    30% {\n",
              "      border-color: transparent;\n",
              "      border-left-color: var(--fill-color);\n",
              "      border-top-color: var(--fill-color);\n",
              "      border-right-color: var(--fill-color);\n",
              "    }\n",
              "    40% {\n",
              "      border-color: transparent;\n",
              "      border-right-color: var(--fill-color);\n",
              "      border-top-color: var(--fill-color);\n",
              "    }\n",
              "    60% {\n",
              "      border-color: transparent;\n",
              "      border-right-color: var(--fill-color);\n",
              "    }\n",
              "    80% {\n",
              "      border-color: transparent;\n",
              "      border-right-color: var(--fill-color);\n",
              "      border-bottom-color: var(--fill-color);\n",
              "    }\n",
              "    90% {\n",
              "      border-color: transparent;\n",
              "      border-bottom-color: var(--fill-color);\n",
              "    }\n",
              "  }\n",
              "</style>\n",
              "\n",
              "      <script>\n",
              "        async function quickchart(key) {\n",
              "          const quickchartButtonEl =\n",
              "            document.querySelector('#' + key + ' button');\n",
              "          quickchartButtonEl.disabled = true;  // To prevent multiple clicks.\n",
              "          quickchartButtonEl.classList.add('colab-df-spinner');\n",
              "          try {\n",
              "            const charts = await google.colab.kernel.invokeFunction(\n",
              "                'suggestCharts', [key], {});\n",
              "          } catch (error) {\n",
              "            console.error('Error during call to suggestCharts:', error);\n",
              "          }\n",
              "          quickchartButtonEl.classList.remove('colab-df-spinner');\n",
              "          quickchartButtonEl.classList.add('colab-df-quickchart-complete');\n",
              "        }\n",
              "        (() => {\n",
              "          let quickchartButtonEl =\n",
              "            document.querySelector('#df-0e1c7b40-ae81-4a4d-a3ad-ede5a902979c button');\n",
              "          quickchartButtonEl.style.display =\n",
              "            google.colab.kernel.accessAllowed ? 'block' : 'none';\n",
              "        })();\n",
              "      </script>\n",
              "    </div>\n",
              "\n",
              "    </div>\n",
              "  </div>\n"
            ],
            "application/vnd.google.colaboratory.intrinsic+json": {
              "type": "dataframe",
              "variable_name": "data",
              "summary": "{\n  \"name\": \"data\",\n  \"rows\": 100000,\n  \"fields\": [\n    {\n      \"column\": \"ID_sensor\",\n      \"properties\": {\n        \"dtype\": \"number\",\n        \"std\": 28867,\n        \"min\": 1,\n        \"max\": 100000,\n        \"num_unique_values\": 100000,\n        \"samples\": [\n          75722,\n          80185,\n          19865\n        ],\n        \"semantic_type\": \"\",\n        \"description\": \"\"\n      }\n    },\n    {\n      \"column\": \"Temperatura_operacion\",\n      \"properties\": {\n        \"dtype\": \"number\",\n        \"std\": 15.013589382557932,\n        \"min\": 8.015942047066844,\n        \"max\": 142.18626376538634,\n        \"num_unique_values\": 100000,\n        \"samples\": [\n          79.65481117361747,\n          104.86515088267365,\n          93.89102704488184\n        ],\n        \"semantic_type\": \"\",\n        \"description\": \"\"\n      }\n    },\n    {\n      \"column\": \"Vibracion\",\n      \"properties\": {\n        \"dtype\": \"number\",\n        \"std\": 1.498408983192385,\n        \"min\": -3.561064198228249,\n        \"max\": 9.843172085422337,\n        \"num_unique_values\": 100000,\n        \"samples\": [\n          3.133507964520559,\n          5.824353323672538,\n          4.083388006732417\n        ],\n        \"semantic_type\": \"\",\n        \"description\": \"\"\n      }\n    },\n    {\n      \"column\": \"Humedad\",\n      \"properties\": {\n        \"dtype\": \"number\",\n        \"std\": 17.29531442085282,\n        \"min\": 20.000133637742437,\n        \"max\": 79.99967655537023,\n        \"num_unique_values\": 100000,\n        \"samples\": [\n          54.99070627732354,\n          40.88297815475856,\n          30.468858530368603\n        ],\n        \"semantic_type\": \"\",\n        \"description\": \"\"\n      }\n    },\n    {\n      \"column\": \"Presion\",\n      \"properties\": {\n        \"dtype\": \"number\",\n        \"std\": 1.1543362155642363,\n        \"min\": 1.0001245881209295,\n        \"max\": 4.999947758323355,\n        \"num_unique_values\": 100000,\n        \"samples\": [\n          1.204868295478735,\n          3.284526578562504,\n          1.931783770176953\n        ],\n        \"semantic_type\": \"\",\n        \"description\": \"\"\n      }\n    },\n    {\n      \"column\": \"Corriente_electrica\",\n      \"properties\": {\n        \"dtype\": \"number\",\n        \"std\": 3.0032145135852066,\n        \"min\": -4.488308025533472,\n        \"max\": 22.905543228176192,\n        \"num_unique_values\": 100000,\n        \"samples\": [\n          11.202599908795914,\n          7.965808102520956,\n          13.216602967588734\n        ],\n        \"semantic_type\": \"\",\n        \"description\": \"\"\n      }\n    },\n    {\n      \"column\": \"Frecuencia_medicion\",\n      \"properties\": {\n        \"dtype\": \"number\",\n        \"std\": 17,\n        \"min\": 1,\n        \"max\": 59,\n        \"num_unique_values\": 59,\n        \"samples\": [\n          23,\n          14,\n          48\n        ],\n        \"semantic_type\": \"\",\n        \"description\": \"\"\n      }\n    },\n    {\n      \"column\": \"Tiempo_operacion\",\n      \"properties\": {\n        \"dtype\": \"number\",\n        \"std\": 575,\n        \"min\": 10,\n        \"max\": 1999,\n        \"num_unique_values\": 1990,\n        \"samples\": [\n          1051,\n          1598,\n          749\n        ],\n        \"semantic_type\": \"\",\n        \"description\": \"\"\n      }\n    },\n    {\n      \"column\": \"Tipo_sensor\",\n      \"properties\": {\n        \"dtype\": \"category\",\n        \"num_unique_values\": 4,\n        \"samples\": [\n          \"Capacitivo\",\n          \"Ultrasonido\",\n          \"Inductivo\"\n        ],\n        \"semantic_type\": \"\",\n        \"description\": \"\"\n      }\n    },\n    {\n      \"column\": \"Falla\",\n      \"properties\": {\n        \"dtype\": \"category\",\n        \"num_unique_values\": 2,\n        \"samples\": [\n          \"S\\u00ed\",\n          \"No\"\n        ],\n        \"semantic_type\": \"\",\n        \"description\": \"\"\n      }\n    }\n  ]\n}"
            }
          },
          "metadata": {},
          "execution_count": 2
        }
      ],
      "source": [
        "# Celda 2: Carga del dataset\n",
        "dataset_path = 'https://github.com/dtoralg/IE_Calidad_ML/raw/main/Data/fallas_sensores.csv'\n",
        "data = pd.read_csv(dataset_path)\n",
        "\n",
        "# Mostrar las primeras filas del dataset\n",
        "data.head()"
      ]
    },
    {
      "cell_type": "code",
      "execution_count": 3,
      "id": "6f2d1406",
      "metadata": {
        "colab": {
          "base_uri": "https://localhost:8080/"
        },
        "id": "6f2d1406",
        "outputId": "5e55fa9c-9ee8-4144-ceea-3bca57e314b5"
      },
      "outputs": [
        {
          "output_type": "stream",
          "name": "stdout",
          "text": [
            "<class 'pandas.core.frame.DataFrame'>\n",
            "RangeIndex: 100000 entries, 0 to 99999\n",
            "Data columns (total 10 columns):\n",
            " #   Column                 Non-Null Count   Dtype  \n",
            "---  ------                 --------------   -----  \n",
            " 0   ID_sensor              100000 non-null  int64  \n",
            " 1   Temperatura_operacion  100000 non-null  float64\n",
            " 2   Vibracion              100000 non-null  float64\n",
            " 3   Humedad                100000 non-null  float64\n",
            " 4   Presion                100000 non-null  float64\n",
            " 5   Corriente_electrica    100000 non-null  float64\n",
            " 6   Frecuencia_medicion    100000 non-null  int64  \n",
            " 7   Tiempo_operacion       100000 non-null  int64  \n",
            " 8   Tipo_sensor            100000 non-null  object \n",
            " 9   Falla                  100000 non-null  object \n",
            "dtypes: float64(5), int64(3), object(2)\n",
            "memory usage: 7.6+ MB\n"
          ]
        }
      ],
      "source": [
        "# Celda 3: Información general del dataset\n",
        "data.info()"
      ]
    },
    {
      "cell_type": "code",
      "execution_count": 4,
      "id": "750ce421",
      "metadata": {
        "colab": {
          "base_uri": "https://localhost:8080/",
          "height": 481
        },
        "id": "750ce421",
        "outputId": "34b56ace-dd3a-4b62-90ad-94a96f5f85e7"
      },
      "outputs": [
        {
          "output_type": "display_data",
          "data": {
            "text/plain": [
              "<Figure size 640x480 with 1 Axes>"
            ],
            "image/png": "[encoded data removed]"
          },
          "metadata": {}
        }
      ],
      "source": [
        "# Celda 4: Distribución de la variable objetivo\n",
        "sns.countplot(x='Falla', data=data)\n",
        "plt.title('Distribución de sensores fallidos y no fallidos')\n",
        "plt.xlabel('Estado del sensor')\n",
        "plt.ylabel('Cantidad')\n",
        "plt.show()"
      ]
    },
    {
      "cell_type": "markdown",
      "id": "38888011",
      "metadata": {
        "id": "38888011"
      },
      "source": [
        "### **Preprocesamiento de los datos**\n",
        "Se realizará un proceso estándar de preparación de datos que incluye:\n",
        "- Eliminación de duplicados.\n",
        "- Imputación de valores faltantes.\n",
        "- Codificación de variables categóricas.\n",
        "- Normalización de variables numéricas.\n",
        "- Aplicación de SMOTE para balancear las clases."
      ]
    },
    {
      "cell_type": "code",
      "execution_count": 5,
      "id": "260efa76",
      "metadata": {
        "id": "260efa76"
      },
      "outputs": [],
      "source": [
        "# Celda 5: Procesamiento de datos\n",
        "# Eliminar duplicados\n",
        "data = data.drop_duplicates()\n",
        "\n",
        "# Imputar valores faltantes con la mediana para variables numéricas\n",
        "numeric_features = ['Temperatura_operacion', 'Vibracion', 'Humedad', 'Presion', 'Corriente_electrica', 'Frecuencia_medicion', 'Tiempo_operacion']\n",
        "imputer = SimpleImputer(strategy='median')\n",
        "data[numeric_features] = imputer.fit_transform(data[numeric_features])\n",
        "\n",
        "# Codificar variables categóricas con OneHotEncoder\n",
        "categorical_features = ['Tipo_sensor']\n",
        "data = pd.get_dummies(data, columns=categorical_features, drop_first=True)\n",
        "\n",
        "# Codificar la variable objetivo (No=0, Sí=1)\n",
        "data['Falla'] = data['Falla'].map({'No': 0, 'Sí': 1})\n",
        "\n",
        "# División en variables predictoras y objetivo\n",
        "X = data.drop(columns=['Falla'])\n",
        "y = data['Falla']\n",
        "\n",
        "# División en entrenamiento y prueba\n",
        "X_train, X_test, y_train, y_test = train_test_split(X, y, test_size=0.2, random_state=42, stratify=y)\n",
        "\n",
        "# Aplicación de SMOTE para balancear clases\n",
        "smote = SMOTE(random_state=42)\n",
        "X_train, y_train = smote.fit_resample(X_train, y_train)\n",
        "\n",
        "# Normalización de los datos\n",
        "scaler = StandardScaler()\n",
        "X_train = scaler.fit_transform(X_train)\n",
        "X_test = scaler.transform(X_test)"
      ]
    },
    {
      "cell_type": "code",
      "execution_count": 6,
      "id": "e46016d9",
      "metadata": {
        "id": "e46016d9"
      },
      "outputs": [],
      "source": [
        "# Celda 6: Entrenamiento del modelo\n",
        "modelo = RandomForestClassifier(n_estimators=100, random_state=42)\n",
        "modelo.fit(X_train, y_train)\n",
        "y_pred = modelo.predict(X_test)"
      ]
    },
    {
      "cell_type": "code",
      "execution_count": 7,
      "id": "8321e274",
      "metadata": {
        "colab": {
          "base_uri": "https://localhost:8080/"
        },
        "id": "8321e274",
        "outputId": "7b85fc25-e3ca-4ba5-e450-5ea585193311"
      },
      "outputs": [
        {
          "output_type": "stream",
          "name": "stdout",
          "text": [
            "              precision    recall  f1-score   support\n",
            "\n",
            "           0       0.94      0.92      0.93     18898\n",
            "           1       0.06      0.08      0.07      1102\n",
            "\n",
            "    accuracy                           0.87     20000\n",
            "   macro avg       0.50      0.50      0.50     20000\n",
            "weighted avg       0.90      0.87      0.88     20000\n",
            "\n"
          ]
        }
      ],
      "source": [
        "# Celda 7: Evaluación del modelo\n",
        "print(classification_report(y_test, y_pred))"
      ]
    },
    {
      "cell_type": "code",
      "execution_count": 8,
      "id": "8ece9c94",
      "metadata": {
        "colab": {
          "base_uri": "https://localhost:8080/",
          "height": 496
        },
        "id": "8ece9c94",
        "outputId": "59d0d6a7-33f3-4298-d55f-be310d9822eb"
      },
      "outputs": [
        {
          "output_type": "display_data",
          "data": {
            "text/plain": [
              "<Figure size 600x500 with 2 Axes>"
            ],
            "image/png": "[encoded data removed]"
          },
          "metadata": {}
        }
      ],
      "source": [
        "# Celda 8: Matriz de Confusión\n",
        "matriz_confusion = confusion_matrix(y_test, y_pred)\n",
        "\n",
        "plt.figure(figsize=(6,5))\n",
        "sns.heatmap(matriz_confusion, annot=True, fmt='d', cmap='Blues', xticklabels=['No Falla', 'Falla'], yticklabels=['No Falla', 'Falla'])\n",
        "plt.xlabel('Predicción')\n",
        "plt.ylabel('Real')\n",
        "plt.title('Matriz de Confusión')\n",
        "plt.show()"
      ]
    },
    {
      "cell_type": "markdown",
      "id": "1315cfbb",
      "metadata": {
        "id": "1315cfbb"
      },
      "source": [
        "### **Conclusiones**\n",
        "- Se aplicó un proceso estándar de preprocesamiento de datos, incluyendo imputación, codificación y balanceo con SMOTE.\n",
        "- **La Matriz de Confusión** muestra la cantidad de predicciones correctas e incorrectas en cada clase.\n",
        "- **Precisión, Recall y F1 Score** permiten evaluar el desempeño del modelo en la clasificación de fallas en sensores.\n",
        "- **Posibles mejoras:** Ajuste de hiperparámetros, prueba con modelos más avanzados como **XGBoost o Redes Neuronales**."
      ]
    }
  ],
  "metadata": {
    "colab": {
      "provenance": [],
      "include_colab_link": true
    },
    "language_info": {
      "name": "python"
    },
    "kernelspec": {
      "name": "python3",
      "display_name": "Python 3"
    }
  },
  "nbformat": 4,
  "nbformat_minor": 5
}