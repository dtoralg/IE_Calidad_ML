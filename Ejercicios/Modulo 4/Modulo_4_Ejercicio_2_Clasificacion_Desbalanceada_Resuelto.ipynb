{
  "cells": [
    {
      "cell_type": "markdown",
      "metadata": {
        "id": "view-in-github",
        "colab_type": "text"
      },
      "source": [
        "<a href=\"https://colab.research.google.com/github/dtoralg/IE_Calidad_ML/blob/main/Ejercicios/Modulo%204/Modulo_4_Ejercicio_2_Clasificacion_Desbalanceada_Resuelto.ipynb\" target=\"_parent\"><img src=\"https://colab.research.google.com/assets/colab-badge.svg\" alt=\"Open In Colab\"/></a>"
      ]
    },
    {
      "cell_type": "markdown",
      "id": "05bf5084",
      "metadata": {
        "id": "05bf5084"
      },
      "source": [
        "### **Ejercicio 2: Evaluación de Métricas en un Problema de Clasificación Desbalanceado**\n",
        "#### Análisis del impacto del desbalance de clases en la evaluación de modelos de clasificación"
      ]
    },
    {
      "cell_type": "markdown",
      "id": "dd7afe05",
      "metadata": {
        "id": "dd7afe05"
      },
      "source": [
        "### **Introducción**\n",
        "En este ejercicio, exploraremos cómo las métricas de evaluación cambian en un problema de **clasificación desbalanceado**, y aplicaremos técnicas para mejorar el rendimiento del modelo en este escenario.\n",
        "\n",
        "El dataset que utilizaremos presenta una distribución de clases donde **95% de los registros son de la clase 'OK' y solo 5% de la clase 'KO'**, lo que puede generar problemas en la evaluación de modelos si solo se observa la exactitud (accuracy).\n",
        "\n",
        "Para abordar este problema, entrenaremos un modelo de **Random Forest**, analizaremos métricas como **Precisión, Recall, F1 Score y Curva ROC-AUC**, y aplicaremos **SMOTE** para balancear el dataset."
      ]
    },
    {
      "cell_type": "code",
      "execution_count": 18,
      "id": "75ca1f61",
      "metadata": {
        "id": "75ca1f61"
      },
      "outputs": [],
      "source": [
        "# Celda 1: Carga de librerías y configuración del entorno\n",
        "import pandas as pd\n",
        "import numpy as np\n",
        "import matplotlib.pyplot as plt\n",
        "import seaborn as sns\n",
        "from sklearn.model_selection import train_test_split\n",
        "from sklearn.ensemble import RandomForestClassifier\n",
        "from sklearn.metrics import confusion_matrix, classification_report, roc_curve, auc\n",
        "from imblearn.over_sampling import SMOTE\n",
        "\n",
        "# Configuración de gráficos\n",
        "sns.set(style='whitegrid')"
      ]
    },
    {
      "cell_type": "markdown",
      "id": "3d64667b",
      "metadata": {
        "id": "3d64667b"
      },
      "source": [
        "### **Descripción del dataset**\n",
        "Se utilizará el dataset `control_calidad_circuitos_electronicos.csv`, que contiene información sobre circuitos electrónicos y su estado de calidad. El objetivo es clasificar si un circuito fallará (**KO**) o funcionará correctamente (**OK**)."
      ]
    },
    {
      "cell_type": "code",
      "execution_count": 19,
      "id": "21c1e6b5",
      "metadata": {
        "colab": {
          "base_uri": "https://localhost:8080/",
          "height": 206
        },
        "id": "21c1e6b5",
        "outputId": "4da2f630-8700-4d8f-ea5d-e23350c55406"
      },
      "outputs": [
        {
          "output_type": "execute_result",
          "data": {
            "text/plain": [
              "   ID_componente  Voltaje_operación  Corriente_fuga  Resistencia_circuito  \\\n",
              "0              1           5.248357        1.934405           1055.302146   \n",
              "1              2           4.930868        2.114882           1208.739222   \n",
              "2              3           5.323844        2.220543           1000.776616   \n",
              "3              4           5.761515        1.644991            792.359071   \n",
              "4              5           4.882923        2.030222           1235.237438   \n",
              "\n",
              "   Frecuencia_operación  Temperatura_prueba  Horas_operación  \\\n",
              "0              2.415568           71.648138      6826.235678   \n",
              "1              2.379194           74.617461      4889.806377   \n",
              "2              2.362610           83.187345      4272.656141   \n",
              "3              2.120637           71.668613      4639.328169   \n",
              "4              2.320803           77.624833      6439.710569   \n",
              "\n",
              "  Proveedor_material Modelo_chip Método_prueba Fallo_circuito  \n",
              "0        Proveedor_2    Modelo_8      Método_C             OK  \n",
              "1        Proveedor_5    Modelo_8      Método_C             OK  \n",
              "2        Proveedor_4   Modelo_10      Método_B             KO  \n",
              "3        Proveedor_4    Modelo_2      Método_C             OK  \n",
              "4        Proveedor_3   Modelo_14      Método_C             OK  "
            ],
            "text/html": [
              "\n",
              "  <div id=\"df-081a460f-db32-482a-980b-62866a51b0dd\" class=\"colab-df-container\">\n",
              "    <div>\n",
              "<style scoped>\n",
              "    .dataframe tbody tr th:only-of-type {\n",
              "        vertical-align: middle;\n",
              "    }\n",
              "\n",
              "    .dataframe tbody tr th {\n",
              "        vertical-align: top;\n",
              "    }\n",
              "\n",
              "    .dataframe thead th {\n",
              "        text-align: right;\n",
              "    }\n",
              "</style>\n",
              "<table border=\"1\" class=\"dataframe\">\n",
              "  <thead>\n",
              "    <tr style=\"text-align: right;\">\n",
              "      <th></th>\n",
              "      <th>ID_componente</th>\n",
              "      <th>Voltaje_operación</th>\n",
              "      <th>Corriente_fuga</th>\n",
              "      <th>Resistencia_circuito</th>\n",
              "      <th>Frecuencia_operación</th>\n",
              "      <th>Temperatura_prueba</th>\n",
              "      <th>Horas_operación</th>\n",
              "      <th>Proveedor_material</th>\n",
              "      <th>Modelo_chip</th>\n",
              "      <th>Método_prueba</th>\n",
              "      <th>Fallo_circuito</th>\n",
              "    </tr>\n",
              "  </thead>\n",
              "  <tbody>\n",
              "    <tr>\n",
              "      <th>0</th>\n",
              "      <td>1</td>\n",
              "      <td>5.248357</td>\n",
              "      <td>1.934405</td>\n",
              "      <td>1055.302146</td>\n",
              "      <td>2.415568</td>\n",
              "      <td>71.648138</td>\n",
              "      <td>6826.235678</td>\n",
              "      <td>Proveedor_2</td>\n",
              "      <td>Modelo_8</td>\n",
              "      <td>Método_C</td>\n",
              "      <td>OK</td>\n",
              "    </tr>\n",
              "    <tr>\n",
              "      <th>1</th>\n",
              "      <td>2</td>\n",
              "      <td>4.930868</td>\n",
              "      <td>2.114882</td>\n",
              "      <td>1208.739222</td>\n",
              "      <td>2.379194</td>\n",
              "      <td>74.617461</td>\n",
              "      <td>4889.806377</td>\n",
              "      <td>Proveedor_5</td>\n",
              "      <td>Modelo_8</td>\n",
              "      <td>Método_C</td>\n",
              "      <td>OK</td>\n",
              "    </tr>\n",
              "    <tr>\n",
              "      <th>2</th>\n",
              "      <td>3</td>\n",
              "      <td>5.323844</td>\n",
              "      <td>2.220543</td>\n",
              "      <td>1000.776616</td>\n",
              "      <td>2.362610</td>\n",
              "      <td>83.187345</td>\n",
              "      <td>4272.656141</td>\n",
              "      <td>Proveedor_4</td>\n",
              "      <td>Modelo_10</td>\n",
              "      <td>Método_B</td>\n",
              "      <td>KO</td>\n",
              "    </tr>\n",
              "    <tr>\n",
              "      <th>3</th>\n",
              "      <td>4</td>\n",
              "      <td>5.761515</td>\n",
              "      <td>1.644991</td>\n",
              "      <td>792.359071</td>\n",
              "      <td>2.120637</td>\n",
              "      <td>71.668613</td>\n",
              "      <td>4639.328169</td>\n",
              "      <td>Proveedor_4</td>\n",
              "      <td>Modelo_2</td>\n",
              "      <td>Método_C</td>\n",
              "      <td>OK</td>\n",
              "    </tr>\n",
              "    <tr>\n",
              "      <th>4</th>\n",
              "      <td>5</td>\n",
              "      <td>4.882923</td>\n",
              "      <td>2.030222</td>\n",
              "      <td>1235.237438</td>\n",
              "      <td>2.320803</td>\n",
              "      <td>77.624833</td>\n",
              "      <td>6439.710569</td>\n",
              "      <td>Proveedor_3</td>\n",
              "      <td>Modelo_14</td>\n",
              "      <td>Método_C</td>\n",
              "      <td>OK</td>\n",
              "    </tr>\n",
              "  </tbody>\n",
              "</table>\n",
              "</div>\n",
              "    <div class=\"colab-df-buttons\">\n",
              "\n",
              "  <div class=\"colab-df-container\">\n",
              "    <button class=\"colab-df-convert\" onclick=\"convertToInteractive('df-081a460f-db32-482a-980b-62866a51b0dd')\"\n",
              "            title=\"Convert this dataframe to an interactive table.\"\n",
              "            style=\"display:none;\">\n",
              "\n",
              "  <svg xmlns=\"http://www.w3.org/2000/svg\" height=\"24px\" viewBox=\"0 -960 960 960\">\n",
              "    <path d=\"M120-120v-720h720v720H120Zm60-500h600v-160H180v160Zm220 220h160v-160H400v160Zm0 220h160v-160H400v160ZM180-400h160v-160H180v160Zm440 0h160v-160H620v160ZM180-180h160v-160H180v160Zm440 0h160v-160H620v160Z\"/>\n",
              "  </svg>\n",
              "    </button>\n",
              "\n",
              "  <style>\n",
              "    .colab-df-container {\n",
              "      display:flex;\n",
              "      gap: 12px;\n",
              "    }\n",
              "\n",
              "    .colab-df-convert {\n",
              "      background-color: #E8F0FE;\n",
              "      border: none;\n",
              "      border-radius: 50%;\n",
              "      cursor: pointer;\n",
              "      display: none;\n",
              "      fill: #1967D2;\n",
              "      height: 32px;\n",
              "      padding: 0 0 0 0;\n",
              "      width: 32px;\n",
              "    }\n",
              "\n",
              "    .colab-df-convert:hover {\n",
              "      background-color: #E2EBFA;\n",
              "      box-shadow: 0px 1px 2px rgba(60, 64, 67, 0.3), 0px 1px 3px 1px rgba(60, 64, 67, 0.15);\n",
              "      fill: #174EA6;\n",
              "    }\n",
              "\n",
              "    .colab-df-buttons div {\n",
              "      margin-bottom: 4px;\n",
              "    }\n",
              "\n",
              "    [theme=dark] .colab-df-convert {\n",
              "      background-color: #3B4455;\n",
              "      fill: #D2E3FC;\n",
              "    }\n",
              "\n",
              "    [theme=dark] .colab-df-convert:hover {\n",
              "      background-color: #434B5C;\n",
              "      box-shadow: 0px 1px 3px 1px rgba(0, 0, 0, 0.15);\n",
              "      filter: drop-shadow(0px 1px 2px rgba(0, 0, 0, 0.3));\n",
              "      fill: #FFFFFF;\n",
              "    }\n",
              "  </style>\n",
              "\n",
              "    <script>\n",
              "      const buttonEl =\n",
              "        document.querySelector('#df-081a460f-db32-482a-980b-62866a51b0dd button.colab-df-convert');\n",
              "      buttonEl.style.display =\n",
              "        google.colab.kernel.accessAllowed ? 'block' : 'none';\n",
              "\n",
              "      async function convertToInteractive(key) {\n",
              "        const element = document.querySelector('#df-081a460f-db32-482a-980b-62866a51b0dd');\n",
              "        const dataTable =\n",
              "          await google.colab.kernel.invokeFunction('convertToInteractive',\n",
              "                                                    [key], {});\n",
              "        if (!dataTable) return;\n",
              "\n",
              "        const docLinkHtml = 'Like what you see? Visit the ' +\n",
              "          '<a target=\"_blank\" href=https://colab.research.google.com/notebooks/data_table.ipynb>data table notebook</a>'\n",
              "          + ' to learn more about interactive tables.';\n",
              "        element.innerHTML = '';\n",
              "        dataTable['output_type'] = 'display_data';\n",
              "        await google.colab.output.renderOutput(dataTable, element);\n",
              "        const docLink = document.createElement('div');\n",
              "        docLink.innerHTML = docLinkHtml;\n",
              "        element.appendChild(docLink);\n",
              "      }\n",
              "    </script>\n",
              "  </div>\n",
              "\n",
              "\n",
              "<div id=\"df-d485051f-6e77-4dc7-85ec-768af8eaa911\">\n",
              "  <button class=\"colab-df-quickchart\" onclick=\"quickchart('df-d485051f-6e77-4dc7-85ec-768af8eaa911')\"\n",
              "            title=\"Suggest charts\"\n",
              "            style=\"display:none;\">\n",
              "\n",
              "<svg xmlns=\"http://www.w3.org/2000/svg\" height=\"24px\"viewBox=\"0 0 24 24\"\n",
              "     width=\"24px\">\n",
              "    <g>\n",
              "        <path d=\"M19 3H5c-1.1 0-2 .9-2 2v14c0 1.1.9 2 2 2h14c1.1 0 2-.9 2-2V5c0-1.1-.9-2-2-2zM9 17H7v-7h2v7zm4 0h-2V7h2v10zm4 0h-2v-4h2v4z\"/>\n",
              "    </g>\n",
              "</svg>\n",
              "  </button>\n",
              "\n",
              "<style>\n",
              "  .colab-df-quickchart {\n",
              "      --bg-color: #E8F0FE;\n",
              "      --fill-color: #1967D2;\n",
              "      --hover-bg-color: #E2EBFA;\n",
              "      --hover-fill-color: #174EA6;\n",
              "      --disabled-fill-color: #AAA;\n",
              "      --disabled-bg-color: #DDD;\n",
              "  }\n",
              "\n",
              "  [theme=dark] .colab-df-quickchart {\n",
              "      --bg-color: #3B4455;\n",
              "      --fill-color: #D2E3FC;\n",
              "      --hover-bg-color: #434B5C;\n",
              "      --hover-fill-color: #FFFFFF;\n",
              "      --disabled-bg-color: #3B4455;\n",
              "      --disabled-fill-color: #666;\n",
              "  }\n",
              "\n",
              "  .colab-df-quickchart {\n",
              "    background-color: var(--bg-color);\n",
              "    border: none;\n",
              "    border-radius: 50%;\n",
              "    cursor: pointer;\n",
              "    display: none;\n",
              "    fill: var(--fill-color);\n",
              "    height: 32px;\n",
              "    padding: 0;\n",
              "    width: 32px;\n",
              "  }\n",
              "\n",
              "  .colab-df-quickchart:hover {\n",
              "    background-color: var(--hover-bg-color);\n",
              "    box-shadow: 0 1px 2px rgba(60, 64, 67, 0.3), 0 1px 3px 1px rgba(60, 64, 67, 0.15);\n",
              "    fill: var(--button-hover-fill-color);\n",
              "  }\n",
              "\n",
              "  .colab-df-quickchart-complete:disabled,\n",
              "  .colab-df-quickchart-complete:disabled:hover {\n",
              "    background-color: var(--disabled-bg-color);\n",
              "    fill: var(--disabled-fill-color);\n",
              "    box-shadow: none;\n",
              "  }\n",
              "\n",
              "  .colab-df-spinner {\n",
              "    border: 2px solid var(--fill-color);\n",
              "    border-color: transparent;\n",
              "    border-bottom-color: var(--fill-color);\n",
              "    animation:\n",
              "      spin 1s steps(1) infinite;\n",
              "  }\n",
              "\n",
              "  @keyframes spin {\n",
              "    0% {\n",
              "      border-color: transparent;\n",
              "      border-bottom-color: var(--fill-color);\n",
              "      border-left-color: var(--fill-color);\n",
              "    }\n",
              "    20% {\n",
              "      border-color: transparent;\n",
              "      border-left-color: var(--fill-color);\n",
              "      border-top-color: var(--fill-color);\n",
              "    }\n",
              "    30% {\n",
              "      border-color: transparent;\n",
              "      border-left-color: var(--fill-color);\n",
              "      border-top-color: var(--fill-color);\n",
              "      border-right-color: var(--fill-color);\n",
              "    }\n",
              "    40% {\n",
              "      border-color: transparent;\n",
              "      border-right-color: var(--fill-color);\n",
              "      border-top-color: var(--fill-color);\n",
              "    }\n",
              "    60% {\n",
              "      border-color: transparent;\n",
              "      border-right-color: var(--fill-color);\n",
              "    }\n",
              "    80% {\n",
              "      border-color: transparent;\n",
              "      border-right-color: var(--fill-color);\n",
              "      border-bottom-color: var(--fill-color);\n",
              "    }\n",
              "    90% {\n",
              "      border-color: transparent;\n",
              "      border-bottom-color: var(--fill-color);\n",
              "    }\n",
              "  }\n",
              "</style>\n",
              "\n",
              "  <script>\n",
              "    async function quickchart(key) {\n",
              "      const quickchartButtonEl =\n",
              "        document.querySelector('#' + key + ' button');\n",
              "      quickchartButtonEl.disabled = true;  // To prevent multiple clicks.\n",
              "      quickchartButtonEl.classList.add('colab-df-spinner');\n",
              "      try {\n",
              "        const charts = await google.colab.kernel.invokeFunction(\n",
              "            'suggestCharts', [key], {});\n",
              "      } catch (error) {\n",
              "        console.error('Error during call to suggestCharts:', error);\n",
              "      }\n",
              "      quickchartButtonEl.classList.remove('colab-df-spinner');\n",
              "      quickchartButtonEl.classList.add('colab-df-quickchart-complete');\n",
              "    }\n",
              "    (() => {\n",
              "      let quickchartButtonEl =\n",
              "        document.querySelector('#df-d485051f-6e77-4dc7-85ec-768af8eaa911 button');\n",
              "      quickchartButtonEl.style.display =\n",
              "        google.colab.kernel.accessAllowed ? 'block' : 'none';\n",
              "    })();\n",
              "  </script>\n",
              "</div>\n",
              "\n",
              "    </div>\n",
              "  </div>\n"
            ],
            "application/vnd.google.colaboratory.intrinsic+json": {
              "type": "dataframe",
              "variable_name": "data"
            }
          },
          "metadata": {},
          "execution_count": 19
        }
      ],
      "source": [
        "# Celda 2: Carga del dataset\n",
        "dataset_path = 'https://github.com/dtoralg/IE_Calidad_ML/raw/main/Data/control_calidad_circuitos_electronicos.csv'\n",
        "data = pd.read_csv(dataset_path)\n",
        "\n",
        "# Mostrar las primeras filas del dataset\n",
        "data.head()"
      ]
    },
    {
      "cell_type": "code",
      "execution_count": 20,
      "id": "379cb709",
      "metadata": {
        "colab": {
          "base_uri": "https://localhost:8080/"
        },
        "id": "379cb709",
        "outputId": "c6438638-aa4b-445d-ef8b-458f561d194e"
      },
      "outputs": [
        {
          "output_type": "stream",
          "name": "stdout",
          "text": [
            "<class 'pandas.core.frame.DataFrame'>\n",
            "RangeIndex: 126000 entries, 0 to 125999\n",
            "Data columns (total 11 columns):\n",
            " #   Column                Non-Null Count   Dtype  \n",
            "---  ------                --------------   -----  \n",
            " 0   ID_componente         126000 non-null  int64  \n",
            " 1   Voltaje_operación     126000 non-null  float64\n",
            " 2   Corriente_fuga        126000 non-null  float64\n",
            " 3   Resistencia_circuito  126000 non-null  float64\n",
            " 4   Frecuencia_operación  126000 non-null  float64\n",
            " 5   Temperatura_prueba    126000 non-null  float64\n",
            " 6   Horas_operación       113412 non-null  float64\n",
            " 7   Proveedor_material    126000 non-null  object \n",
            " 8   Modelo_chip           126000 non-null  object \n",
            " 9   Método_prueba         126000 non-null  object \n",
            " 10  Fallo_circuito        126000 non-null  object \n",
            "dtypes: float64(6), int64(1), object(4)\n",
            "memory usage: 10.6+ MB\n"
          ]
        }
      ],
      "source": [
        "# Celda 3: Información general del dataset\n",
        "data.info()"
      ]
    },
    {
      "cell_type": "code",
      "execution_count": 21,
      "id": "ebcfc061",
      "metadata": {
        "colab": {
          "base_uri": "https://localhost:8080/",
          "height": 481
        },
        "id": "ebcfc061",
        "outputId": "5c426048-58c5-473e-e88c-8cf3282180aa"
      },
      "outputs": [
        {
          "output_type": "display_data",
          "data": {
            "text/plain": [
              "<Figure size 640x480 with 1 Axes>"
            ],
            "image/png": "[encoded data removed]"
          },
          "metadata": {}
        }
      ],
      "source": [
        "# Celda 4: Distribución de la variable objetivo\n",
        "sns.countplot(x='Fallo_circuito', data=data)\n",
        "plt.title('Distribución de circuitos defectuosos y no defectuosos')\n",
        "plt.xlabel('Estado del circuito')\n",
        "plt.ylabel('Cantidad')\n",
        "plt.show()"
      ]
    },
    {
      "cell_type": "markdown",
      "id": "5fa985c8",
      "metadata": {
        "id": "5fa985c8"
      },
      "source": [
        "### **Preprocesamiento de los datos**\n",
        "Se seleccionan las variables numéricas y se normalizan antes de entrenar el modelo. Además, convertimos la variable objetivo en valores numéricos para su uso en modelos de machine learning."
      ]
    },
    {
      "cell_type": "code",
      "execution_count": 22,
      "id": "86d388da",
      "metadata": {
        "id": "86d388da"
      },
      "outputs": [],
      "source": [
        "# Celda 5: Normalización de los datos\n",
        "from sklearn.preprocessing import StandardScaler\n",
        "\n",
        "# Seleccionar solo las variables numéricas\n",
        "numeric_features = ['Voltaje_operación', 'Corriente_fuga', 'Resistencia_circuito', 'Frecuencia_operación', 'Temperatura_prueba', 'Horas_operación']\n",
        "\n",
        "X = data[numeric_features]\n",
        "y = data['Fallo_circuito'].map({'OK': 0, 'KO': 1})  # Convertir etiquetas a valores numéricos\n",
        "\n",
        "# Normalización\n",
        "scaler = StandardScaler()\n",
        "X_scaled = scaler.fit_transform(X)\n",
        "\n",
        "# División de datos en entrenamiento y prueba\n",
        "X_train, X_test, y_train, y_test = train_test_split(X_scaled, y, test_size=0.2, random_state=42, stratify=y)"
      ]
    },
    {
      "cell_type": "markdown",
      "id": "0ad107df",
      "metadata": {
        "id": "0ad107df"
      },
      "source": [
        "### **Entrenamiento del modelo sin balanceo**\n",
        "Se entrenará un modelo de **Random Forest** en el dataset original para analizar el impacto del desbalance de clases."
      ]
    },
    {
      "cell_type": "code",
      "execution_count": 23,
      "id": "e178330b",
      "metadata": {
        "id": "e178330b"
      },
      "outputs": [],
      "source": [
        "# Celda 6: Entrenamiento del modelo de Random Forest\n",
        "modelo = RandomForestClassifier(n_estimators=100, random_state=42)\n",
        "modelo.fit(X_train, y_train)\n",
        "\n",
        "# Hacer predicciones\n",
        "y_pred = modelo.predict(X_test)"
      ]
    },
    {
      "cell_type": "markdown",
      "id": "d5d5f658",
      "metadata": {
        "id": "d5d5f658"
      },
      "source": [
        "### **Evaluación del modelo sin balanceo**\n",
        "Se calculará la **Matriz de Confusión**, Precisión, Recall, F1 Score y la Curva ROC-AUC."
      ]
    },
    {
      "cell_type": "code",
      "execution_count": 24,
      "id": "7126590e",
      "metadata": {
        "colab": {
          "base_uri": "https://localhost:8080/",
          "height": 575
        },
        "id": "7126590e",
        "outputId": "0d9031b8-e9bd-4c35-ab95-8a1c3c363640"
      },
      "outputs": [
        {
          "output_type": "display_data",
          "data": {
            "text/plain": [
              "<Figure size 500x400 with 2 Axes>"
            ],
            "image/png": "[encoded data removed]"
          },
          "metadata": {}
        },
        {
          "output_type": "stream",
          "name": "stdout",
          "text": [
            "              precision    recall  f1-score   support\n",
            "\n",
            "           0       0.95      1.00      0.98     23913\n",
            "           1       1.00      0.08      0.15      1287\n",
            "\n",
            "    accuracy                           0.95     25200\n",
            "   macro avg       0.98      0.54      0.56     25200\n",
            "weighted avg       0.96      0.95      0.93     25200\n",
            "\n"
          ]
        }
      ],
      "source": [
        "# Celda 7: Matriz de Confusión y Métricas\n",
        "matriz_confusion = confusion_matrix(y_test, y_pred)\n",
        "\n",
        "plt.figure(figsize=(5,4))\n",
        "sns.heatmap(matriz_confusion, annot=True, fmt='d', cmap='Blues', xticklabels=['OK', 'KO'], yticklabels=['OK', 'KO'])\n",
        "plt.xlabel('Predicción')\n",
        "plt.ylabel('Real')\n",
        "plt.title('Matriz de Confusión (Sin Balanceo)')\n",
        "plt.show()\n",
        "\n",
        "print(classification_report(y_test, y_pred))"
      ]
    },
    {
      "cell_type": "markdown",
      "id": "01bcb4bf",
      "metadata": {
        "id": "01bcb4bf"
      },
      "source": [
        "### **Aplicación de SMOTE para balancear las clases**\n",
        "El dataset original está desbalanceado, por lo que aplicaremos **SMOTE** para generar nuevas muestras sintéticas de la clase minoritaria y entrenaremos el modelo nuevamente."
      ]
    },
    {
      "cell_type": "code",
      "source": [
        "# Manejo de valores faltantes antes de aplicar SMOTE\n",
        "from sklearn.impute import SimpleImputer\n",
        "\n",
        "# Crear un imputador que rellene los NaN con la mediana de cada columna\n",
        "imputer = SimpleImputer(strategy=\"mean\")\n",
        "\n",
        "# Aplicar la imputación a los datos de entrenamiento\n",
        "X_train_imputed = imputer.fit_transform(X_train)\n",
        "X_test_imputed = imputer.transform(X_test)\n",
        "\n",
        "# Verificar que ya no haya valores NaN\n",
        "print(f\"Valores NaN después de la imputación en X_train: {np.isnan(X_train_imputed).sum()}\")\n",
        "print(f\"Valores NaN después de la imputación en X_test: {np.isnan(X_test_imputed).sum()}\")\n"
      ],
      "metadata": {
        "id": "YjwLwRfeBFe4",
        "outputId": "76b9221c-1737-4540-be0f-6326853c888a",
        "colab": {
          "base_uri": "https://localhost:8080/"
        }
      },
      "id": "YjwLwRfeBFe4",
      "execution_count": 25,
      "outputs": [
        {
          "output_type": "stream",
          "name": "stdout",
          "text": [
            "Valores NaN después de la imputación en X_train: 0\n",
            "Valores NaN después de la imputación en X_test: 0\n"
          ]
        }
      ]
    },
    {
      "cell_type": "code",
      "execution_count": 26,
      "id": "23a735dc",
      "metadata": {
        "colab": {
          "base_uri": "https://localhost:8080/",
          "height": 481
        },
        "id": "23a735dc",
        "outputId": "46f2b2c3-ae96-48c7-df1a-2a6f53f60fca"
      },
      "outputs": [
        {
          "output_type": "display_data",
          "data": {
            "text/plain": [
              "<Figure size 640x480 with 1 Axes>"
            ],
            "image/png": "[encoded data removed]"
          },
          "metadata": {}
        }
      ],
      "source": [
        "# Celda 8: Aplicar SMOTE\n",
        "smote = SMOTE(sampling_strategy='auto', random_state=42)\n",
        "X_train_resampled, y_train_resampled = smote.fit_resample(X_train_imputed, y_train)\n",
        "\n",
        "# Verificar la nueva distribución de clases\n",
        "sns.countplot(x=y_train_resampled)\n",
        "plt.title('Distribución después de aplicar SMOTE')\n",
        "plt.xlabel('Clase')\n",
        "plt.ylabel('Cantidad')\n",
        "plt.show()"
      ]
    },
    {
      "cell_type": "code",
      "execution_count": 27,
      "id": "ca328912",
      "metadata": {
        "id": "ca328912"
      },
      "outputs": [],
      "source": [
        "# Celda 9: Entrenar modelo con datos balanceados\n",
        "modelo_smote = RandomForestClassifier(n_estimators=100, random_state=42)\n",
        "modelo_smote.fit(X_train_resampled, y_train_resampled)\n",
        "\n",
        "# Hacer predicciones\n",
        "y_pred_smote = modelo_smote.predict(X_test_imputed)"
      ]
    },
    {
      "cell_type": "code",
      "source": [
        "# Celda 10: Matriz de Confusión y Métricas\n",
        "matriz_confusion = confusion_matrix(y_test, y_pred_smote)\n",
        "\n",
        "plt.figure(figsize=(5,4))\n",
        "sns.heatmap(matriz_confusion, annot=True, fmt='d', cmap='Blues', xticklabels=['OK', 'KO'], yticklabels=['OK', 'KO'])\n",
        "plt.xlabel('Predicción')\n",
        "plt.ylabel('Real')\n",
        "plt.title('Matriz de Confusión (Con Balanceo)')\n",
        "plt.show()\n",
        "\n",
        "print(classification_report(y_test, y_pred_smote))"
      ],
      "metadata": {
        "id": "7mnkCm5vDFeu",
        "outputId": "4f483c10-61a7-44e7-b4bd-6befa782c072",
        "colab": {
          "base_uri": "https://localhost:8080/",
          "height": 575
        }
      },
      "id": "7mnkCm5vDFeu",
      "execution_count": 28,
      "outputs": [
        {
          "output_type": "display_data",
          "data": {
            "text/plain": [
              "<Figure size 500x400 with 2 Axes>"
            ],
            "image/png": "[encoded data removed]"
          },
          "metadata": {}
        },
        {
          "output_type": "stream",
          "name": "stdout",
          "text": [
            "              precision    recall  f1-score   support\n",
            "\n",
            "           0       0.95      0.94      0.95     23913\n",
            "           1       0.12      0.14      0.13      1287\n",
            "\n",
            "    accuracy                           0.90     25200\n",
            "   macro avg       0.54      0.54      0.54     25200\n",
            "weighted avg       0.91      0.90      0.91     25200\n",
            "\n"
          ]
        }
      ]
    },
    {
      "cell_type": "markdown",
      "id": "2dcb5f84",
      "metadata": {
        "id": "2dcb5f84"
      },
      "source": [
        "### **Conclusiones**\n",
        "Se compararon dos modelos: uno con datos desbalanceados y otro con **SMOTE**. El modelo balanceado mostró mejoras en **Recall y F1 Score**, indicando una mejor detección de fallos reales."
      ]
    }
  ],
  "metadata": {
    "colab": {
      "provenance": [],
      "include_colab_link": true
    },
    "language_info": {
      "name": "python"
    },
    "kernelspec": {
      "name": "python3",
      "display_name": "Python 3"
    }
  },
  "nbformat": 4,
  "nbformat_minor": 5
}