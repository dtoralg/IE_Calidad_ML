{
  "cells": [
    {
      "cell_type": "markdown",
      "metadata": {
        "id": "view-in-github",
        "colab_type": "text"
      },
      "source": [
        "<a href=\"https://colab.research.google.com/github/dtoralg/IE_Calidad_ML/blob/main/Ejercicios/Modulo%204/Modulo_4_Ejercicio_4_Optimizaci%C3%B3n_M%C3%A9tricas_Resuelto.ipynb\" target=\"_parent\"><img src=\"https://colab.research.google.com/assets/colab-badge.svg\" alt=\"Open In Colab\"/></a>"
      ]
    },
    {
      "cell_type": "markdown",
      "id": "cda69e79",
      "metadata": {
        "id": "cda69e79"
      },
      "source": [
        "### **Ejercicio 4: Optimización de Métricas y Selección de Modelos (Nivel: Avanzado)**\n",
        "#### Optimización de un modelo de clasificación multiclase para defectos en productos electrónicos"
      ]
    },
    {
      "cell_type": "markdown",
      "id": "f15ab897",
      "metadata": {
        "id": "f15ab897"
      },
      "source": [
        "### **Introducción**\n",
        "En este ejercicio, exploraremos cómo optimizar un modelo de clasificación multiclase y seleccionar la mejor métrica de evaluación.\n",
        "\n",
        "El dataset contiene información sobre defectos en productos electrónicos, con 4 categorías de defecto. Aplicaremos técnicas como **SMOTE para balanceo de clases**, **selección de características**, y **Random Forest** para mejorar la precisión en la clasificación. Evaluaremos el modelo con **Precisión, Recall, F1 Score, Exactitud** y compararemos **F1 Score Macro vs Micro y la Curva ROC para clasificación multiclase**."
      ]
    },
    {
      "cell_type": "code",
      "execution_count": null,
      "id": "e9b549f0",
      "metadata": {
        "id": "e9b549f0"
      },
      "outputs": [],
      "source": [
        "# Celda 1: Carga de librerías y configuración del entorno\n",
        "import pandas as pd\n",
        "import numpy as np\n",
        "import matplotlib.pyplot as plt\n",
        "import seaborn as sns\n",
        "from sklearn.model_selection import train_test_split\n",
        "from sklearn.preprocessing import StandardScaler, LabelEncoder, OneHotEncoder\n",
        "from sklearn.impute import SimpleImputer\n",
        "from imblearn.over_sampling import SMOTE\n",
        "from sklearn.ensemble import RandomForestClassifier\n",
        "from sklearn.metrics import classification_report, confusion_matrix, roc_curve, auc\n",
        "from sklearn.preprocessing import label_binarize\n",
        "\n",
        "# Configuración de gráficos\n",
        "sns.set(style='whitegrid')"
      ]
    },
    {
      "cell_type": "code",
      "execution_count": null,
      "id": "bf6444fb",
      "metadata": {
        "id": "bf6444fb"
      },
      "outputs": [],
      "source": [
        "# Celda 2: Carga del dataset\n",
        "dataset_path = 'https://github.com/dtoralg/IE_Calidad_ML/raw/main/Data/defectos_productos.csv'\n",
        "...\n",
        "\n",
        "# Mostrar las primeras filas del dataset\n",
        "..."
      ]
    },
    {
      "cell_type": "code",
      "execution_count": null,
      "id": "03d06bf3",
      "metadata": {
        "id": "03d06bf3"
      },
      "outputs": [],
      "source": [
        "# Celda 3: Información general del dataset\n",
        "..."
      ]
    },
    {
      "cell_type": "code",
      "execution_count": null,
      "id": "b8ba605d",
      "metadata": {
        "id": "b8ba605d"
      },
      "outputs": [],
      "source": [
        "# Celda 4: Distribución de la variable objetivo\n",
        "..."
      ]
    },
    {
      "cell_type": "markdown",
      "id": "9cd2d650",
      "metadata": {
        "id": "9cd2d650"
      },
      "source": [
        "### **Preprocesamiento de los datos**\n",
        "Se realizará un proceso de preparación de datos que incluye:\n",
        "- **Balanceo de clases con SMOTE** para mejorar la detección de todas las clases.\n",
        "- **Selección de características** para eliminar variables no relevantes.\n",
        "- **Codificación de variables categóricas y normalización de variables numéricas**."
      ]
    },
    {
      "cell_type": "code",
      "execution_count": null,
      "id": "d9c1a148",
      "metadata": {
        "id": "d9c1a148"
      },
      "outputs": [],
      "source": [
        "# Celda 5: Procesamiento de datos\n",
        "# Eliminar duplicados\n",
        "...\n",
        "\n",
        "# Imputar valores faltantes con la mediana para variables numéricas\n",
        "...\n",
        "# Codificar variables categóricas con OneHotEncoder\n",
        "...\n",
        "\n",
        "# Codificar la variable objetivo\n",
        "...\n",
        "\n",
        "# División en variables predictoras y objetivo\n",
        "...\n",
        "\n",
        "# División en entrenamiento y prueba\n",
        "...\n",
        "\n",
        "# Aplicación de SMOTE para balancear las clases\n",
        "...\n",
        "\n",
        "# Normalización de los datos\n",
        "..."
      ]
    },
    {
      "cell_type": "code",
      "execution_count": null,
      "id": "fd18fb40",
      "metadata": {
        "id": "fd18fb40"
      },
      "outputs": [],
      "source": [
        "# Celda 6: Entrenamiento del modelo con Random Forest\n",
        "modelo = RandomForestClassifier(n_estimators=200, max_depth=10, random_state=42)\n",
        "modelo.fit(X_train, y_train)\n",
        "y_pred = modelo.predict(X_test)"
      ]
    },
    {
      "cell_type": "code",
      "execution_count": null,
      "id": "b942a52a",
      "metadata": {
        "id": "b942a52a"
      },
      "outputs": [],
      "source": [
        "# Celda 7: Evaluación del modelo con classification report\n",
        "# Importante, usa el argumento \"target_names\" para especificar las clases\n",
        "..."
      ]
    },
    {
      "cell_type": "code",
      "source": [
        "# Celda 8: Visualización de resultados\n",
        "\n",
        "# Matriz de Confusión\n",
        "..."
      ],
      "metadata": {
        "id": "puPaaqZmkbD7"
      },
      "id": "puPaaqZmkbD7",
      "execution_count": null,
      "outputs": []
    },
    {
      "cell_type": "code",
      "source": [
        "# Comparación entre clases reales y predichas\n",
        "..."
      ],
      "metadata": {
        "id": "BK_taJgvkgHk"
      },
      "id": "BK_taJgvkgHk",
      "execution_count": null,
      "outputs": []
    },
    {
      "cell_type": "code",
      "source": [
        "# Curva ROC Multiclase\n",
        "...\n",
        "\n",
        "plt.xlabel('Tasa de Falsos Positivos')\n",
        "plt.ylabel('Tasa de Verdaderos Positivos')\n",
        "plt.title('Curva ROC para Clasificación Multiclase')\n",
        "plt.legend()\n",
        "plt.show()"
      ],
      "metadata": {
        "id": "FsrzT0iMkhZt"
      },
      "id": "FsrzT0iMkhZt",
      "execution_count": null,
      "outputs": []
    },
    {
      "cell_type": "markdown",
      "source": [
        "### **Conclusiones**\n",
        "- Se implementó **SMOTE** para mejorar la detección de clases minoritarias y equilibrar el dataset.\n",
        "- **Random Forest** mostró una mejora significativa en comparación con un Árbol de Decisión simple, gracias a su capacidad de generalización y manejo de datos no lineales.\n",
        "- **El F1 Score Macro vs Micro** permite entender cómo el modelo trata clases balanceadas y desbalanceadas. El **F1 Macro** evalúa el rendimiento en todas las clases por igual, mientras que el **F1 Micro** pondera según la cantidad de muestras en cada clase.\n",
        "- **La Curva ROC-AUC multiclase** permitió analizar la capacidad del modelo para distinguir correctamente entre diferentes defectos.\n",
        "\n",
        "### **Posibles Mejoras**\n",
        "- **Ajuste de hiperparámetros**: Se puede optimizar el modelo utilizando **GridSearchCV** para encontrar los mejores valores de `n_estimators`, `max_depth`, y otros parámetros.\n",
        "- **Exploración de otros modelos**: Probar modelos más avanzados como **XGBoost o LightGBM**, que pueden ofrecer mejores resultados en tareas de clasificación complejas.\n",
        "- **Ingeniería de características**: Crear nuevas variables derivadas de las existentes para mejorar la capacidad predictiva del modelo.\n",
        "- **Manejo avanzado de datos desbalanceados**: Probar otras técnicas como **BalancedRandomForestClassifier** o **focal loss** para mejorar la detección de defectos minoritarios.\n",
        "- **Reducción de dimensionalidad**: Aplicar **PCA** para evaluar si la reducción de dimensiones mejora la eficiencia del modelo sin afectar significativamente el rendimiento.\n"
      ],
      "metadata": {
        "id": "TuiZKTTAkTWu"
      },
      "id": "TuiZKTTAkTWu"
    }
  ],
  "metadata": {
    "colab": {
      "provenance": [],
      "include_colab_link": true
    },
    "language_info": {
      "name": "python"
    },
    "kernelspec": {
      "name": "python3",
      "display_name": "Python 3"
    }
  },
  "nbformat": 4,
  "nbformat_minor": 5
}