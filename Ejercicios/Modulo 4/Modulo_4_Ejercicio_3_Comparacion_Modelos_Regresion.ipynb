{
  "cells": [
    {
      "cell_type": "markdown",
      "metadata": {
        "id": "view-in-github",
        "colab_type": "text"
      },
      "source": [
        "<a href=\"https://colab.research.google.com/github/dtoralg/IE_Calidad_ML/blob/main/Ejercicios/Modulo%204/Modulo_4_Ejercicio_3_Comparacion_Modelos_Regresion.ipynb\" target=\"_parent\"><img src=\"https://colab.research.google.com/assets/colab-badge.svg\" alt=\"Open In Colab\"/></a>"
      ]
    },
    {
      "cell_type": "markdown",
      "id": "46de7d3a",
      "metadata": {
        "id": "46de7d3a"
      },
      "source": [
        "### **Ejercicio 3: Comparación de Métricas en Modelos de Regresión**\n",
        "#### Análisis del impacto de diferentes métricas en la evaluación de un modelo de regresión para predecir la vida útil de motores industriales"
      ]
    },
    {
      "cell_type": "markdown",
      "id": "64ad18ef",
      "metadata": {
        "id": "64ad18ef"
      },
      "source": [
        "### **Introducción**\n",
        "En este ejercicio, exploraremos cómo diferentes métricas de evaluación afectan la interpretación de un modelo de regresión.\n",
        "\n",
        "El dataset utilizado contiene información sobre motores industriales y su **vida útil restante**. Evaluaremos cómo métricas como **MSE, RMSE, MAE y R²** afectan la comprensión del rendimiento del modelo.\n",
        "\n",
        "También discutiremos el impacto de los **valores atípicos** en estas métricas y en qué situaciones es más adecuado utilizar una métrica en lugar de otra."
      ]
    },
    {
      "cell_type": "code",
      "execution_count": null,
      "id": "c07806f1",
      "metadata": {
        "id": "c07806f1"
      },
      "outputs": [],
      "source": [
        "# Celda 1: Carga de librerías y configuración del entorno\n",
        "import pandas as pd\n",
        "import numpy as np\n",
        "import matplotlib.pyplot as plt\n",
        "import seaborn as sns\n",
        "from sklearn.model_selection import train_test_split\n",
        "from sklearn.preprocessing import StandardScaler, OneHotEncoder\n",
        "from sklearn.impute import SimpleImputer\n",
        "from sklearn.linear_model import LinearRegression\n",
        "from sklearn.metrics import mean_absolute_error, mean_squared_error, r2_score\n",
        "\n",
        "# Configuración de gráficos\n",
        "sns.set(style='whitegrid')"
      ]
    },
    {
      "cell_type": "code",
      "execution_count": null,
      "id": "0013c8de",
      "metadata": {
        "id": "0013c8de"
      },
      "outputs": [],
      "source": [
        "# Celda 2: Carga del dataset\n",
        "dataset_path = 'https://github.com/dtoralg/IE_Calidad_ML/raw/main/Data/control_calidad_motores_industriales.csv'\n",
        "...\n",
        "\n",
        "# Mostrar las primeras filas del dataset\n",
        "..."
      ]
    },
    {
      "cell_type": "code",
      "execution_count": null,
      "id": "06204bef",
      "metadata": {
        "id": "06204bef"
      },
      "outputs": [],
      "source": [
        "# Celda 3: Información general del dataset\n",
        "..."
      ]
    },
    {
      "cell_type": "code",
      "execution_count": null,
      "id": "81d788ce",
      "metadata": {
        "id": "81d788ce"
      },
      "outputs": [],
      "source": [
        "# Celda 4: Distribución de la variable objetivo\n",
        "..."
      ]
    },
    {
      "cell_type": "markdown",
      "id": "9cdac562",
      "metadata": {
        "id": "9cdac562"
      },
      "source": [
        "### **Preprocesamiento de los datos**\n",
        "Se realizará un proceso estándar de preparación de datos que incluye:\n",
        "- Eliminación de duplicados.\n",
        "- Imputación de valores faltantes.\n",
        "- Codificación de variables categóricas.\n",
        "- Normalización de variables numéricas.\n",
        "- Transformación de la variable de fecha en una variable numérica útil."
      ]
    },
    {
      "cell_type": "code",
      "execution_count": null,
      "id": "fdff269c",
      "metadata": {
        "id": "fdff269c"
      },
      "outputs": [],
      "source": [
        "# Celda 5: Procesamiento de datos\n",
        "# Eliminar duplicados\n",
        "...\n",
        "\n",
        "# Convertir la fecha en una variable numérica (días desde la instalación)\n",
        "...\n",
        "\n",
        "# Imputar valores faltantes con la mediana para variables numéricas\n",
        "...\n",
        "\n",
        "# Codificar variables categóricas con OneHotEncoder\n",
        "...\n",
        "\n",
        "# División en variables predictoras y objetivo\n",
        "...\n",
        "\n",
        "# División en entrenamiento y prueba\n",
        "...\n",
        "\n",
        "# Normalización de los datos\n",
        "...\n"
      ]
    },
    {
      "cell_type": "code",
      "execution_count": null,
      "id": "8c8562f6",
      "metadata": {
        "id": "8c8562f6"
      },
      "outputs": [],
      "source": [
        "# Celda 6: Entrenamiento del modelo de Regresión Lineal\n",
        "...\n"
      ]
    },
    {
      "cell_type": "code",
      "execution_count": null,
      "id": "d6109434",
      "metadata": {
        "id": "d6109434"
      },
      "outputs": [],
      "source": [
        "# Celda 7: Evaluación del modelo\n",
        "mae = ...\n",
        "mse = ...\n",
        "rmse = ...\n",
        "r2 = ...\n",
        "\n",
        "print(f'Error Absoluto Medio (MAE): {mae:.2f}')\n",
        "print(f'Error Cuadrático Medio (MSE): {mse:.2f}')\n",
        "print(f'Raíz del Error Cuadrático Medio (RMSE): {rmse:.2f}')\n",
        "print(f'Coeficiente de Determinación (R²): {r2:.2f}')"
      ]
    },
    {
      "cell_type": "code",
      "execution_count": null,
      "id": "cb355c87",
      "metadata": {
        "id": "cb355c87"
      },
      "outputs": [],
      "source": [
        "# Celda 8: Comparación de valores reales vs predicciones\n",
        "..."
      ]
    },
    {
      "cell_type": "markdown",
      "id": "dcbce344",
      "metadata": {
        "id": "dcbce344"
      },
      "source": [
        "### **Conclusiones**\n",
        "- **MAE** mide el error absoluto promedio, útil para interpretar en la escala original.\n",
        "- **MSE** penaliza más los errores grandes debido a la elevación al cuadrado.\n",
        "- **RMSE** es más intuitivo ya que está en la misma escala que la variable objetivo.\n",
        "- **R²** indica qué tan bien el modelo explica la variabilidad de `y`.\n",
        "\n",
        "**Posibles mejoras:**\n",
        "- Ajustar los hiperparámetros del modelo.\n",
        "- Manejar mejor los valores atípicos para mejorar la precisión.\n",
        "- Evaluar el uso de modelos más avanzados como **Regresión Ridge o Random Forest**."
      ]
    }
  ],
  "metadata": {
    "colab": {
      "provenance": [],
      "include_colab_link": true
    },
    "language_info": {
      "name": "python"
    },
    "kernelspec": {
      "name": "python3",
      "display_name": "Python 3"
    }
  },
  "nbformat": 4,
  "nbformat_minor": 5
}