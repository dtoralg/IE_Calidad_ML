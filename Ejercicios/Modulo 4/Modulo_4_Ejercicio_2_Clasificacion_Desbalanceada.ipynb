{
  "cells": [
    {
      "cell_type": "markdown",
      "metadata": {
        "id": "view-in-github",
        "colab_type": "text"
      },
      "source": [
        "<a href=\"https://colab.research.google.com/github/dtoralg/IE_Calidad_ML/blob/main/Ejercicios/Modulo%204/Modulo_4_Ejercicio_2_Clasificacion_Desbalanceada.ipynb\" target=\"_parent\"><img src=\"https://colab.research.google.com/assets/colab-badge.svg\" alt=\"Open In Colab\"/></a>"
      ]
    },
    {
      "cell_type": "markdown",
      "id": "b34ef88e",
      "metadata": {
        "id": "b34ef88e"
      },
      "source": [
        "### **Ejercicio 2: Evaluación de Métricas en un Problema de Clasificación Desbalanceado**\n",
        "#### Análisis del impacto del desbalance de clases y aplicación de técnicas de balanceo en la predicción de fallas en sensores industriales"
      ]
    },
    {
      "cell_type": "markdown",
      "id": "a05f8d9b",
      "metadata": {
        "id": "a05f8d9b"
      },
      "source": [
        "### **Introducción**\n",
        "En este ejercicio, exploraremos cómo el **desbalance de clases** afecta la evaluación de un modelo de clasificación binaria y aplicaremos técnicas para manejar este problema.\n",
        "\n",
        "El dataset utilizado contiene información sobre sensores industriales, con un 95% de sensores funcionales y solo un 5% de fallas. Este desbalance puede afectar la capacidad del modelo para detectar correctamente los sensores defectuosos.\n",
        "\n",
        "Evaluaremos el modelo utilizando **Precisión, Recall, F1 Score y Curva ROC-AUC** antes y después de aplicar **SMOTE** para balancear las clases."
      ]
    },
    {
      "cell_type": "code",
      "execution_count": null,
      "id": "e7ef8fc1",
      "metadata": {
        "id": "e7ef8fc1"
      },
      "outputs": [],
      "source": [
        "# Celda 1: Carga de librerías y configuración del entorno\n",
        "import pandas as pd\n",
        "import numpy as np\n",
        "import matplotlib.pyplot as plt\n",
        "import seaborn as sns\n",
        "from sklearn.model_selection import train_test_split\n",
        "from sklearn.preprocessing import StandardScaler, OneHotEncoder\n",
        "from sklearn.impute import SimpleImputer\n",
        "from imblearn.over_sampling import SMOTE\n",
        "from sklearn.ensemble import RandomForestClassifier\n",
        "from sklearn.metrics import classification_report, confusion_matrix, roc_curve, auc\n",
        "\n",
        "# Configuración de gráficos\n",
        "sns.set(style='whitegrid')"
      ]
    },
    {
      "cell_type": "code",
      "execution_count": null,
      "id": "98d24989",
      "metadata": {
        "id": "98d24989"
      },
      "outputs": [],
      "source": [
        "# Celda 2: Carga del dataset\n",
        "dataset_path = 'https://github.com/dtoralg/IE_Calidad_ML/raw/main/Data/fallas_sensores.csv'\n",
        "...\n",
        "\n",
        "# Mostrar las primeras filas del dataset\n",
        "..."
      ]
    },
    {
      "cell_type": "code",
      "execution_count": null,
      "id": "95d740a8",
      "metadata": {
        "id": "95d740a8"
      },
      "outputs": [],
      "source": [
        "# Celda 3: Información general del dataset\n",
        "..."
      ]
    },
    {
      "cell_type": "code",
      "execution_count": null,
      "id": "a0592c09",
      "metadata": {
        "id": "a0592c09"
      },
      "outputs": [],
      "source": [
        "# Celda 4: Distribución de la variable objetivo\n",
        "..."
      ]
    },
    {
      "cell_type": "markdown",
      "id": "a0aec1e5",
      "metadata": {
        "id": "a0aec1e5"
      },
      "source": [
        "### **Preprocesamiento de los datos**\n",
        "Se realizará un proceso estándar de preparación de datos que incluye:\n",
        "- Eliminación de duplicados.\n",
        "- Imputación de valores faltantes.\n",
        "- Codificación de variables categóricas.\n",
        "- Normalización de variables numéricas."
      ]
    },
    {
      "cell_type": "code",
      "execution_count": null,
      "id": "8e4885fb",
      "metadata": {
        "id": "8e4885fb"
      },
      "outputs": [],
      "source": [
        "# Celda 5: Procesamiento de datos\n",
        "# Eliminar duplicados\n",
        "...\n",
        "\n",
        "# Imputar valores faltantes con la mediana para variables numéricas\n",
        "...\n",
        "\n",
        "# Codificar variables categóricas con OneHotEncoder\n",
        "...\n",
        "\n",
        "# Codificar la variable objetivo (No=0, Sí=1)\n",
        "...\n",
        "\n",
        "# División en variables predictoras y objetivo\n",
        "...\n",
        "\n",
        "# División en entrenamiento y prueba\n",
        "...\n",
        "\n",
        "# Normalización de los datos\n",
        "..."
      ]
    },
    {
      "cell_type": "markdown",
      "id": "9bec0687",
      "metadata": {
        "id": "9bec0687"
      },
      "source": [
        "### **Entrenamiento del modelo sin balanceo**\n",
        "Se entrenará un modelo de **Random Forest** en el dataset original para analizar el impacto del desbalance de clases."
      ]
    },
    {
      "cell_type": "code",
      "execution_count": null,
      "id": "ac129597",
      "metadata": {
        "id": "ac129597"
      },
      "outputs": [],
      "source": [
        "# Celda 6: Entrenamiento del modelo de Random Forest\n",
        "modelo = RandomForestClassifier(n_estimators=100, random_state=42)\n",
        "modelo.fit(X_train, y_train)\n",
        "\n",
        "# Hacer predicciones\n",
        "y_pred = modelo.predict(X_test)"
      ]
    },
    {
      "cell_type": "code",
      "execution_count": null,
      "id": "87046f42",
      "metadata": {
        "id": "87046f42"
      },
      "outputs": [],
      "source": [
        "# Celda 7: Evaluación del modelo sin balanceo classification_report\n",
        "..."
      ]
    },
    {
      "cell_type": "markdown",
      "id": "63b4f1f3",
      "metadata": {
        "id": "63b4f1f3"
      },
      "source": [
        "### **Aplicación de SMOTE para balancear las clases**\n",
        "El dataset original está desbalanceado, por lo que aplicaremos **SMOTE** para generar nuevas muestras sintéticas de la clase minoritaria y entrenaremos el modelo nuevamente."
      ]
    },
    {
      "cell_type": "code",
      "execution_count": null,
      "id": "4a6fc4dc",
      "metadata": {
        "id": "4a6fc4dc"
      },
      "outputs": [],
      "source": [
        "# Celda 8: Aplicar SMOTE\n",
        "...\n",
        "\n",
        "# Verificar la nueva distribución de clases\n",
        "sns.countplot(x=y_train_resampled)\n",
        "plt.title('Distribución después de aplicar SMOTE')\n",
        "plt.xlabel('Clase')\n",
        "plt.ylabel('Cantidad')\n",
        "plt.show()"
      ]
    },
    {
      "cell_type": "code",
      "execution_count": null,
      "id": "8aa8649c",
      "metadata": {
        "id": "8aa8649c"
      },
      "outputs": [],
      "source": [
        "# Celda 9: Entrenar modelo con datos balanceados\n",
        "modelo_smote = RandomForestClassifier(n_estimators=100, random_state=42)\n",
        "modelo_smote.fit(X_train_resampled, y_train_resampled)\n",
        "\n",
        "# Hacer predicciones\n",
        "y_pred_smote = modelo_smote.predict(X_test)"
      ]
    },
    {
      "cell_type": "code",
      "execution_count": null,
      "id": "df431ef1",
      "metadata": {
        "id": "df431ef1"
      },
      "outputs": [],
      "source": [
        "# Celda 10: Evaluación del modelo balanceado con classification_Report\n",
        "..."
      ]
    },
    {
      "cell_type": "markdown",
      "id": "4ffe1b8f",
      "metadata": {
        "id": "4ffe1b8f"
      },
      "source": [
        "### **Conclusiones**\n",
        "- Se compararon dos modelos: uno con datos desbalanceados y otro con **SMOTE**. El modelo balanceado mostró mejoras en **Recall y F1 Score**, indicando una mejor detección de fallos reales.\n",
        "- **Próximos pasos:** Ajustar hiperparámetros del modelo o probar modelos más avanzados como **XGBoost**."
      ]
    }
  ],
  "metadata": {
    "colab": {
      "provenance": [],
      "include_colab_link": true
    },
    "language_info": {
      "name": "python"
    },
    "kernelspec": {
      "name": "python3",
      "display_name": "Python 3"
    }
  },
  "nbformat": 4,
  "nbformat_minor": 5
}