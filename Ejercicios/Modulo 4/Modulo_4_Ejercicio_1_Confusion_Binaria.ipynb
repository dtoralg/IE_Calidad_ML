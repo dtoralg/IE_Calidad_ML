{
  "cells": [
    {
      "cell_type": "markdown",
      "metadata": {
        "id": "view-in-github",
        "colab_type": "text"
      },
      "source": [
        "<a href=\"https://colab.research.google.com/github/dtoralg/IE_Calidad_ML/blob/main/Ejercicios/Modulo%204/Modulo_4_Ejercicio_1_Confusion_Binaria.ipynb\" target=\"_parent\"><img src=\"https://colab.research.google.com/assets/colab-badge.svg\" alt=\"Open In Colab\"/></a>"
      ]
    },
    {
      "cell_type": "markdown",
      "id": "acfdf746",
      "metadata": {
        "id": "acfdf746"
      },
      "source": [
        "### **Ejercicio 1: Análisis de Matriz de Confusión en Clasificación Binaria**\n",
        "#### Evaluación del rendimiento de un modelo de clasificación en la predicción de fallas en sensores industriales"
      ]
    },
    {
      "cell_type": "markdown",
      "id": "4c3e11c5",
      "metadata": {
        "id": "4c3e11c5"
      },
      "source": [
        "### **Introducción**\n",
        "En este ejercicio, construiremos y analizaremos una **Matriz de Confusión** para evaluar el rendimiento de un modelo de clasificación binaria en la detección de fallas en sensores industriales.\n",
        "\n",
        "El dataset utilizado contiene información sobre sensores en una línea de producción, y el objetivo es clasificar si un sensor fallará o no. Se analizarán métricas clave como **Precisión, Recall, F1 Score y Exactitud** para comprender cómo se comporta el modelo."
      ]
    },
    {
      "cell_type": "code",
      "execution_count": null,
      "id": "fcfab47c",
      "metadata": {
        "id": "fcfab47c"
      },
      "outputs": [],
      "source": [
        "# Celda 1: Carga de librerías y configuración del entorno\n",
        "import pandas as pd\n",
        "import numpy as np\n",
        "import matplotlib.pyplot as plt\n",
        "import seaborn as sns\n",
        "from sklearn.model_selection import train_test_split\n",
        "from sklearn.preprocessing import StandardScaler, OneHotEncoder\n",
        "from sklearn.impute import SimpleImputer\n",
        "from imblearn.over_sampling import SMOTE\n",
        "from sklearn.ensemble import RandomForestClassifier\n",
        "from sklearn.metrics import classification_report, confusion_matrix\n",
        "\n",
        "# Configuración de gráficos\n",
        "sns.set(style='whitegrid')"
      ]
    },
    {
      "cell_type": "code",
      "execution_count": null,
      "id": "f12ef831",
      "metadata": {
        "id": "f12ef831"
      },
      "outputs": [],
      "source": [
        "# Celda 2: Carga del dataset\n",
        "dataset_path = 'https://github.com/dtoralg/IE_Calidad_ML/raw/main/Data/fallas_sensores.csv'\n",
        "...\n",
        "\n",
        "# Mostrar las primeras filas del dataset\n",
        "..."
      ]
    },
    {
      "cell_type": "code",
      "execution_count": null,
      "id": "6f2d1406",
      "metadata": {
        "id": "6f2d1406"
      },
      "outputs": [],
      "source": [
        "# Celda 3: Información general del dataset\n",
        "..."
      ]
    },
    {
      "cell_type": "code",
      "execution_count": null,
      "id": "750ce421",
      "metadata": {
        "id": "750ce421"
      },
      "outputs": [],
      "source": [
        "# Celda 4: Distribución de la variable objetivo\n",
        "..."
      ]
    },
    {
      "cell_type": "markdown",
      "id": "38888011",
      "metadata": {
        "id": "38888011"
      },
      "source": [
        "### **Preprocesamiento de los datos**\n",
        "Se realizará un proceso estándar de preparación de datos que incluye:\n",
        "- Eliminación de duplicados.\n",
        "- Imputación de valores faltantes.\n",
        "- Codificación de variables categóricas.\n",
        "- Normalización de variables numéricas.\n",
        "- Aplicación de SMOTE para balancear las clases."
      ]
    },
    {
      "cell_type": "code",
      "execution_count": null,
      "id": "260efa76",
      "metadata": {
        "id": "260efa76"
      },
      "outputs": [],
      "source": [
        "# Celda 5: Procesamiento de datos\n",
        "# Eliminar duplicados\n",
        "...\n",
        "\n",
        "# Imputar valores faltantes con la mediana para variables numéricas\n",
        "...\n",
        "\n",
        "# Codificar variables categóricas con OneHotEncoder\n",
        "...\n",
        "\n",
        "# Codificar la variable objetivo (No=0, Sí=1)\n",
        "...\n",
        "\n",
        "# División en variables predictoras y objetivo\n",
        "...\n",
        "\n",
        "# División en entrenamiento y prueba\n",
        "...\n",
        "\n",
        "# Aplicación de SMOTE para balancear clases\n",
        "...\n",
        "\n",
        "# Normalización de los datos\n",
        "..."
      ]
    },
    {
      "cell_type": "code",
      "execution_count": null,
      "id": "e46016d9",
      "metadata": {
        "id": "e46016d9"
      },
      "outputs": [],
      "source": [
        "# Celda 6: Entrenamiento del modelo\n",
        "modelo = RandomForestClassifier(n_estimators=100, random_state=42)\n",
        "modelo.fit(X_train, y_train)\n",
        "y_pred = modelo.predict(X_test)"
      ]
    },
    {
      "cell_type": "code",
      "execution_count": null,
      "id": "8321e274",
      "metadata": {
        "id": "8321e274"
      },
      "outputs": [],
      "source": [
        "# Celda 7: Evaluación del modelo con classification report\n",
        "..."
      ]
    },
    {
      "cell_type": "code",
      "execution_count": null,
      "id": "8ece9c94",
      "metadata": {
        "id": "8ece9c94"
      },
      "outputs": [],
      "source": [
        "# Celda 8: Matriz de Confusión\n",
        "matriz_confusion = ...\n",
        "\n",
        "plt.figure(figsize=(6,5))\n",
        "sns.heatmap(matriz_confusion, annot=True, fmt='d', cmap='Blues', xticklabels=['No Falla', 'Falla'], yticklabels=['No Falla', 'Falla'])\n",
        "plt.xlabel('Predicción')\n",
        "plt.ylabel('Real')\n",
        "plt.title('Matriz de Confusión')\n",
        "plt.show()"
      ]
    },
    {
      "cell_type": "markdown",
      "id": "1315cfbb",
      "metadata": {
        "id": "1315cfbb"
      },
      "source": [
        "### **Conclusiones**\n",
        "- Se aplicó un proceso estándar de preprocesamiento de datos, incluyendo imputación, codificación y balanceo con SMOTE.\n",
        "- **La Matriz de Confusión** muestra la cantidad de predicciones correctas e incorrectas en cada clase.\n",
        "- **Precisión, Recall y F1 Score** permiten evaluar el desempeño del modelo en la clasificación de fallas en sensores.\n",
        "- **Posibles mejoras:** Ajuste de hiperparámetros, prueba con modelos más avanzados como **XGBoost o Redes Neuronales**."
      ]
    }
  ],
  "metadata": {
    "colab": {
      "provenance": [],
      "include_colab_link": true
    },
    "language_info": {
      "name": "python"
    },
    "kernelspec": {
      "name": "python3",
      "display_name": "Python 3"
    }
  },
  "nbformat": 4,
  "nbformat_minor": 5
}