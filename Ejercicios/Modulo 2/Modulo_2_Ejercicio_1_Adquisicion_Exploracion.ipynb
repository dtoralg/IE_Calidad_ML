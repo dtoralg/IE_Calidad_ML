{
  "cells": [
    {
      "cell_type": "markdown",
      "metadata": {
        "id": "view-in-github",
        "colab_type": "text"
      },
      "source": [
        "<a href=\"https://colab.research.google.com/github/dtoralg/IE_Calidad_ML/blob/main/Ejercicios/Modulo%202/Modulo_2_Ejercicio_1_Adquisicion_Exploracion.ipynb\" target=\"_parent\"><img src=\"https://colab.research.google.com/assets/colab-badge.svg\" alt=\"Open In Colab\"/></a>"
      ]
    },
    {
      "cell_type": "markdown",
      "id": "51590e89",
      "metadata": {
        "id": "51590e89"
      },
      "source": [
        "\n",
        "# **Ejercicio 1: Adquisición y Exploración Inicial de Datos**\n",
        "## Carga de datos desde un archivo CSV, y exploración inicial.\n"
      ]
    },
    {
      "cell_type": "markdown",
      "id": "86a2df54",
      "metadata": {
        "id": "86a2df54"
      },
      "source": [
        "\n",
        "## Introducción\n",
        "\n",
        "En este ejercicio, aprenderemos a cargar datos desde un dataset, y realizaremos una exploración inicial de los datos.  \n",
        "Estos son pasos fundamentales en cualquier proceso de análisis de datos o Machine Learning, ya que nos permiten comprender la estructura de los datos y detectar posibles problemas antes de su procesamiento.\n",
        "\n",
        "📌 **Objetivos del ejercicio:**  \n",
        "- Cargar un dataset desde un archivo CSV alojado en GitHub.  \n",
        "- Inspeccionar la estructura del dataset: número de filas y columnas, tipos de datos y valores únicos.  \n",
        "- Obtener estadísticas descriptivas básicas.  \n",
        "- Identificar valores nulos y analizar la proporción de datos faltantes.  \n",
        "- Crear visualizaciones básicas de los datos.  \n",
        "\n",
        "🛠 **Conceptos clave:**  \n",
        "- Fuentes de datos  \n",
        "- Exploración básica  \n",
        "- Estadísticas descriptivas  \n"
      ]
    },
    {
      "cell_type": "code",
      "execution_count": null,
      "id": "2cb9a454",
      "metadata": {
        "id": "2cb9a454"
      },
      "outputs": [],
      "source": [
        "\n",
        "# Celda 1: Importación de librerías necesarias\n",
        "\n",
        "import pandas as pd\n",
        "import numpy as np\n",
        "import requests\n",
        "import matplotlib.pyplot as plt\n",
        "import seaborn as sns\n",
        "\n",
        "# Configuración de estilos para gráficos\n",
        "sns.set_style(\"whitegrid\")\n",
        "plt.rcParams[\"figure.figsize\"] = (10, 6)\n",
        "\n",
        "print(\"Librerías importadas correctamente.\")"
      ]
    },
    {
      "cell_type": "markdown",
      "id": "0111a211",
      "metadata": {
        "id": "0111a211"
      },
      "source": [
        "\n",
        "## Descripción del Dataset\n",
        "\n",
        "Para este ejercicio, utilizaremos el dataset **\"Control de calidad en línea de producción de piezas metálicas\"** alojado en GitHub.  \n",
        "Este dataset contiene información sobre la calidad de piezas metálicas en una línea de producción industrial.\n",
        "\n",
        "📂 **Fuente del dataset:**  \n",
        "[GitHub - Control de calidad en piezas metálicas](https://raw.githubusercontent.com/dtoralg/IE_Calidad_ML/refs/heads/main/Data/control_calidad_piezas_metalicas.csv)\n",
        "\n",
        "### **Estructura del dataset:**\n",
        "| Columna               | Descripción |\n",
        "|-----------------------|-------------|\n",
        "| ID_pieza            | Identificador único de la pieza |\n",
        "| Temperatura         | Temperatura en °C |\n",
        "| Presión_molde       | Presión del molde en psi |\n",
        "| Tiempo_inyección    | Tiempo de inyección en segundos |\n",
        "| Viscosidad_material | Viscosidad del material |\n",
        "| Humedad_ambiente    | Humedad en % |\n",
        "| Energía_consumida   | Energía consumida en kWh |\n",
        "| Operario_turno      | Identificación del operario |\n",
        "| Día_semana          | Día de la semana en que se fabricó |\n",
        "| Lote_producción     | Identificación del lote |\n",
        "| Defecto            | Variable objetivo (OK / KO) |\n"
      ]
    },
    {
      "cell_type": "code",
      "execution_count": null,
      "id": "4842cbf8",
      "metadata": {
        "id": "4842cbf8"
      },
      "outputs": [],
      "source": [
        "\n",
        "# Celda 2: Cargar el dataset desde GitHub\n",
        "\n",
        "url_csv = \"https://raw.githubusercontent.com/dtoralg/IE_Calidad_ML/refs/heads/main/Data/control_calidad_piezas_metalicas.csv\"\n",
        "...\n",
        "\n",
        "# Mostrar las primeras filas del dataset con head()\n",
        "..."
      ]
    },
    {
      "cell_type": "code",
      "execution_count": null,
      "id": "e79884fa",
      "metadata": {
        "id": "e79884fa"
      },
      "outputs": [],
      "source": [
        "# Celda 3: Inspección de la estructura del dataset\n",
        "\n",
        "print(\"Número de filas y columnas:\", df.shape)\n",
        "print(\"Tipos de datos:\")\n",
        "..."
      ]
    },
    {
      "cell_type": "code",
      "source": [
        "# Celda 4: Valores únicos por columna\n",
        "\n",
        "print(\"Valores únicos en cada columna:\")\n",
        "..."
      ],
      "metadata": {
        "id": "PtC4NZygN2he"
      },
      "id": "PtC4NZygN2he",
      "execution_count": null,
      "outputs": []
    },
    {
      "cell_type": "code",
      "execution_count": null,
      "id": "84da2179",
      "metadata": {
        "id": "84da2179"
      },
      "outputs": [],
      "source": [
        "# Celda 5: Estadísticas descriptivas básicas con describe()\n",
        "..."
      ]
    },
    {
      "cell_type": "code",
      "execution_count": null,
      "id": "6056243e",
      "metadata": {
        "id": "6056243e"
      },
      "outputs": [],
      "source": [
        "# Celda 6: Identificación de valores nulos\n",
        "\n",
        "print(\"Valores nulos por columna:\")\n",
        "...\n",
        "\n",
        "# Visualización de proporción de valores nulos\n",
        "...\n",
        "plt.title(\"Mapa de valores nulos en el dataset\")\n",
        "..."
      ]
    },
    {
      "cell_type": "code",
      "execution_count": null,
      "id": "bd2cfafa",
      "metadata": {
        "id": "bd2cfafa"
      },
      "outputs": [],
      "source": [
        "\n",
        "# Celda 7: Visualización de datos\n",
        "\n",
        "# Histograma de la variable Temperatura\n",
        "...\n",
        "\n",
        "# Gráfico de barras para la variable Defecto\n",
        "..."
      ]
    },
    {
      "cell_type": "markdown",
      "id": "813c4141",
      "metadata": {
        "id": "813c4141"
      },
      "source": [
        "\n",
        "## Conclusiones\n",
        "\n",
        "En este ejercicio hemos aprendido cómo cargar datos desde un dataset, explorando su estructura y realizando un primer análisis exploratorio.  \n",
        "\n",
        "\n",
        "**¿Qué podríamos hacer a continuación?**  \n",
        "- Explorar correlaciones entre variables para entender qué factores influyen en los defectos.  \n",
        "- Aplicar modelos de Machine Learning para predecir defectos en piezas metálicas.  \n",
        "- Realizar análisis de optimización de parámetros de producción para reducir defectos.\n"
      ]
    }
  ],
  "metadata": {
    "colab": {
      "provenance": [],
      "include_colab_link": true
    },
    "language_info": {
      "name": "python"
    },
    "kernelspec": {
      "name": "python3",
      "display_name": "Python 3"
    }
  },
  "nbformat": 4,
  "nbformat_minor": 5
}