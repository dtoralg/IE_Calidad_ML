{
  "nbformat": 4,
  "nbformat_minor": 0,
  "metadata": {
    "colab": {
      "provenance": [],
      "authorship_tag": "ABX9TyNrz3dSzlpyBot52MYWfjb3",
      "include_colab_link": true
    },
    "kernelspec": {
      "name": "python3",
      "display_name": "Python 3"
    },
    "language_info": {
      "name": "python"
    }
  },
  "cells": [
    {
      "cell_type": "markdown",
      "metadata": {
        "id": "view-in-github",
        "colab_type": "text"
      },
      "source": [
        "<a href=\"https://colab.research.google.com/github/dtoralg/IE_Calidad_ML/blob/main/Ejercicios/Modulo%202/Modulo_2_Ejercicio_4_Resuelto.ipynb\" target=\"_parent\"><img src=\"https://colab.research.google.com/assets/colab-badge.svg\" alt=\"Open In Colab\"/></a>"
      ]
    },
    {
      "cell_type": "markdown",
      "source": [
        "# Ejercicio 4: Análisis Exploratorio y Visualización Avanzada\n",
        "\n",
        "## Objetivo\n",
        "En este ejercicio, realizarás un análisis exploratorio avanzado sobre el dataset **Iris**, enriquecido con nuevas variables (calculadas en el ejercicio 3). El objetivo es:\n",
        "\n",
        "- **Obtener un resumen estadístico** tanto global como por grupo (por especie).\n",
        "- **Visualizar la distribución** de cada variable numérica (usando histogramas y boxplots).\n",
        "- **Explorar relaciones** entre variables mediante scatter plots y pairplots.\n",
        "- **Identificar relaciones** a través de una matriz de correlación y visualizarla con un heatmap.\n",
        "- **Reflexionar** sobre los hallazgos y cómo estos podrían orientar un análisis predictivo.\n",
        "\n",
        "Usaremos el dataset Iris que, además de las medidas originales, incluye dos nuevas variables:\n",
        "- **sepal_area:** producto de \"sepal length (cm)\" por \"sepal width (cm)\".\n",
        "- **petal_area:** producto de \"petal length (cm)\" por \"petal width (cm)\".\n",
        "\n",
        "> **Pregunta de Reflexión:**  \n",
        "> ¿Qué insights crees que puedes obtener al analizar las áreas de sépalo y pétalo junto con las medidas originales?  \n",
        "> ¿Cómo podrían estas nuevas variables influir en la clasificación de las especies?\n",
        "\n",
        "¡Comencemos!\n"
      ],
      "metadata": {
        "id": "9sZ1DjF08XeL"
      }
    },
    {
      "cell_type": "code",
      "source": [
        "# Paso 1: Importa las librerías necesarias y carga el dataset Iris desde scikit-learn.\n",
        "\n",
        "# TODO: Importa pandas y scikit-learn para cargar el dataset, además de matplotlib y seaborn para las visualizaciones.\n",
        "import pandas as pd\n",
        "from sklearn.datasets import load_iris\n",
        "import matplotlib.pyplot as plt\n",
        "import seaborn as sns\n",
        "\n",
        "# Carga el dataset Iris utilizando load_iris con as_frame=True para obtener un DataFrame.\n",
        "iris = load_iris(as_frame=True)\n",
        "df_iris = iris.frame\n",
        "\n",
        "# Agrega un identificador único para cada muestra: 'sample_id'\n",
        "df_iris.reset_index(inplace=True)\n",
        "df_iris.rename(columns={\"index\": \"sample_id\"}, inplace=True)\n",
        "\n",
        "# Crea las nuevas variables:\n",
        "# - 'sepal_area' = 'sepal length (cm)' * 'sepal width (cm)'\n",
        "# - 'petal_area' = 'petal length (cm)' * 'petal width (cm)'\n",
        "df_iris[\"sepal_area\"] = df_iris[\"sepal length (cm)\"] * df_iris[\"sepal width (cm)\"]\n",
        "df_iris[\"petal_area\"] = df_iris[\"petal length (cm)\"] * df_iris[\"petal width (cm)\"]\n",
        "\n",
        "# Visualiza las primeras filas del DataFrame integrado.\n",
        "print(\"Primeras filas del dataset integrado (Iris enriquecido):\")\n",
        "display(df_iris.head())\n"
      ],
      "metadata": {
        "id": "PJSANVme8YSw"
      },
      "execution_count": null,
      "outputs": []
    },
    {
      "cell_type": "code",
      "source": [
        "# Paso 2: Obtener estadísticas descriptivas generales.\n",
        "\n",
        "# TODO: Calcula y muestra las estadísticas descriptivas generales usando df_iris.describe()\n",
        "print(\"Estadísticas descriptivas generales:\")\n",
        "display(df_iris.describe())\n",
        "\n",
        "# TODO: Calcula estadísticas descriptivas por grupo (por ejemplo, por la columna 'target' o la especie).\n",
        "# Nota: Puedes usar el método groupby para agrupar por la columna 'target' (o usa iris.target_names para interpretar).\n",
        "print(\"Estadísticas descriptivas por grupo (target):\")\n",
        "display(df_iris.groupby('target').describe())\n",
        "\n",
        "# Reflexiona: ¿Qué diferencias observas entre los grupos?\n"
      ],
      "metadata": {
        "id": "pRxU4OJy8Z0j"
      },
      "execution_count": null,
      "outputs": []
    },
    {
      "cell_type": "code",
      "source": [
        "# Paso 3: Visualizaciones individuales para cada variable numérica.\n",
        "\n",
        "# TODO: Crea un histograma para la variable 'sepal length (cm)'.\n",
        "plt.figure(figsize=(8,4))\n",
        "sns.histplot(df_iris[\"sepal length (cm)\"], kde=True)\n",
        "plt.title(\"Histograma de 'sepal length (cm)'\")\n",
        "plt.xlabel(\"sepal length (cm)\")\n",
        "plt.show()\n",
        "\n",
        "# TODO: Crea un diagrama de caja (boxplot) para la variable 'petal_area'.\n",
        "plt.figure(figsize=(8,4))\n",
        "sns.boxplot(x=df_iris[\"petal_area\"])\n",
        "plt.title(\"Boxplot de 'petal_area'\")\n",
        "plt.xlabel(\"petal_area\")\n",
        "plt.show()\n",
        "\n",
        "# Puedes repetir para otras variables según lo desees.\n"
      ],
      "metadata": {
        "id": "vdHpjAcQ8a9D"
      },
      "execution_count": null,
      "outputs": []
    },
    {
      "cell_type": "code",
      "source": [
        "# Paso 4: Visualizar relaciones entre variables.\n",
        "\n",
        "# TODO: Crea un scatter plot para examinar la relación entre 'sepal length (cm)' y 'sepal_area'.\n",
        "plt.figure(figsize=(8,4))\n",
        "sns.scatterplot(x=df_iris[\"sepal length (cm)\"], y=df_iris[\"sepal_area\"])\n",
        "plt.title(\"Relación entre 'sepal length (cm)' y 'sepal_area'\")\n",
        "plt.xlabel(\"sepal length (cm)\")\n",
        "plt.ylabel(\"sepal_area\")\n",
        "plt.show()\n",
        "\n",
        "# TODO: Crea otro scatter plot para 'petal length (cm)' vs. 'petal_area'.\n",
        "plt.figure(figsize=(8,4))\n",
        "sns.scatterplot(x=df_iris[\"petal length (cm)\"], y=df_iris[\"petal_area\"])\n",
        "plt.title(\"Relación entre 'petal length (cm)' y 'petal_area'\")\n",
        "plt.xlabel(\"petal length (cm)\")\n",
        "plt.ylabel(\"petal_area\")\n",
        "plt.show()\n"
      ],
      "metadata": {
        "id": "3Stkxxzs8ciH"
      },
      "execution_count": null,
      "outputs": []
    },
    {
      "cell_type": "code",
      "source": [
        "# Paso 5: Visualizaciones avanzadas para explorar todas las relaciones.\n",
        "\n",
        "# TODO: Crea un pairplot utilizando seaborn para visualizar todas las variables numéricas (incluyendo las nuevas áreas)\n",
        "sns.pairplot(df_iris, hue=\"target\", diag_kind=\"kde\")\n",
        "plt.suptitle(\"Pairplot del dataset Iris enriquecido\", y=1.02)\n",
        "plt.show()\n",
        "\n",
        "# TODO: Calcula la matriz de correlación y visualízala con un heatmap.\n",
        "plt.figure(figsize=(10,8))\n",
        "correlation_matrix = df_iris.corr()\n",
        "sns.heatmap(correlation_matrix, annot=True, cmap=\"coolwarm\")\n",
        "plt.title(\"Matriz de correlación del dataset Iris enriquecido\")\n",
        "plt.show()\n"
      ],
      "metadata": {
        "id": "e1MpuTNq8drD"
      },
      "execution_count": null,
      "outputs": []
    },
    {
      "cell_type": "code",
      "source": [
        "# Paso 7: Sistema de testeo para validar algunos aspectos del análisis\n",
        "\n",
        "# Este bloque de código verificará:\n",
        "# 1. Que el DataFrame integrado tenga 150 registros (tamaño del dataset Iris).\n",
        "# 2. Que las columnas 'sepal_area' y 'petal_area' existan en el DataFrame.\n",
        "# 3. Que la matriz de correlación tenga forma (n x n) correspondiente a todas las variables numéricas.\n",
        "\n",
        "# Test 1: Número de filas.\n",
        "expected_rows = 150\n",
        "actual_rows = df_iris.shape[0]\n",
        "assert actual_rows == expected_rows, f\"Test fallido: Se esperaban {expected_rows} filas, pero se encontraron {actual_rows}.\"\n",
        "\n",
        "# Test 2: Verificar que las columnas derivadas existen.\n",
        "assert \"sepal_area\" in df_iris.columns, \"Test fallido: La columna 'sepal_area' no se encontró.\"\n",
        "assert \"petal_area\" in df_iris.columns, \"Test fallido: La columna 'petal_area' no se encontró.\"\n",
        "\n",
        "# Test 3: Verificar la forma de la matriz de correlación.\n",
        "num_numeric_cols = df_iris.select_dtypes(include='number').shape[1]\n",
        "corr_shape = correlation_matrix.shape\n",
        "assert corr_shape == (num_numeric_cols, num_numeric_cols), f\"Test fallido: Se esperaba una matriz de correlación de forma ({num_numeric_cols}, {num_numeric_cols}), pero se obtuvo {corr_shape}.\"\n",
        "\n",
        "print(\"Todos los tests se han pasado correctamente. El análisis exploratorio y las visualizaciones se han generado como se esperaba.\")\n"
      ],
      "metadata": {
        "id": "oSXyUlhr8e45"
      },
      "execution_count": null,
      "outputs": []
    },
    {
      "cell_type": "markdown",
      "source": [
        "## Reflexión Final\n",
        "\n",
        "1. ¿Qué patrones o relaciones interesantes observaste en la matriz de correlación? ¿Qué variables parecen estar fuertemente correlacionadas?\n",
        "2. Al observar el pairplot, ¿qué diferencias puedes notar en las distribuciones de las variables según la especie (target)?\n",
        "3. ¿Cómo podrían las variables derivadas (sepal_area y petal_area) aportar información adicional para un modelo de clasificación?\n",
        "4. ¿Qué visualización te pareció la más útil para comprender la estructura del dataset y por qué?\n",
        "\n",
        "_Responde estas preguntas en una celda Markdown adicional o en un comentario._\n"
      ],
      "metadata": {
        "id": "JK-MAJkc8gyl"
      }
    }
  ]
}