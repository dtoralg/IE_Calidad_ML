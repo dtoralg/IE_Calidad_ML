{
  "nbformat": 4,
  "nbformat_minor": 0,
  "metadata": {
    "colab": {
      "provenance": [],
      "toc_visible": true,
      "include_colab_link": true
    },
    "kernelspec": {
      "name": "python3",
      "display_name": "Python 3"
    },
    "language_info": {
      "name": "python"
    }
  },
  "cells": [
    {
      "cell_type": "markdown",
      "metadata": {
        "id": "view-in-github",
        "colab_type": "text"
      },
      "source": [
        "<a href=\"https://colab.research.google.com/github/dtoralg/IE_Calidad_ML/blob/main/Ejercicios/Modulo%202/Modulo_2_Ejercicio_1_Resuelto.ipynb\" target=\"_parent\"><img src=\"https://colab.research.google.com/assets/colab-badge.svg\" alt=\"Open In Colab\"/></a>"
      ]
    },
    {
      "cell_type": "markdown",
      "source": [
        "# Ejercicio 1: Importación y Exploración Básica de Datos\n",
        "\n",
        "## Objetivo\n",
        "En este ejercicio, aprenderás a:\n",
        "- Importar un dataset online usando Pandas.\n",
        "- Visualizar las primeras filas del dataset.\n",
        "- Revisar las columnas y los tipos de datos.\n",
        "- Calcular el número total de filas del dataset.\n",
        "\n",
        "Utilizaremos el dataset **Titanic** (en formato CSV) que se encuentra en GitHub. Este dataset contiene información sobre los pasajeros del Titanic y es ampliamente utilizado en proyectos de análisis y Machine Learning.\n",
        "\n",
        "**URL del dataset:**  \n",
        "`https://raw.githubusercontent.com/datasciencedojo/datasets/master/titanic.csv`\n",
        "\n",
        "> **Pregunta:** ¿Qué diferencias encuentras en la estructura del dataset cuando lo cargas en un DataFrame?  \n",
        "> *Reflexiona sobre la cantidad de columnas, el tipo de datos y qué información te podría resultar útil para un análisis posterior.*\n",
        "\n",
        "¡Vamos a empezar!\n"
      ],
      "metadata": {
        "id": "_W26HjTlRPQM"
      }
    },
    {
      "cell_type": "code",
      "source": [
        "# Paso 1: Importa las librerías necesarias\n",
        "\n",
        "# TODO: Importa la librería pandas y, si lo consideras útil, matplotlib o seaborn para visualizaciones.\n",
        "import pandas as pd\n",
        "\n",
        "# (Opcional) Importa matplotlib para futuras visualizaciones\n",
        "import matplotlib.pyplot as plt\n"
      ],
      "metadata": {
        "id": "DR60a5NlQ887"
      },
      "execution_count": null,
      "outputs": []
    },
    {
      "cell_type": "code",
      "source": [
        "# Paso 2: Carga el dataset Titanic desde la URL proporcionada\n",
        "\n",
        "# Define la URL del dataset\n",
        "url_titanic = \"https://raw.githubusercontent.com/datasciencedojo/datasets/master/titanic.csv\"\n",
        "\n",
        "# TODO: Utiliza pd.read_csv() para cargar el dataset y almacénalo en un DataFrame llamado 'df_titanic'\n",
        "df_titanic = pd.read_csv(url_titanic)\n",
        "\n",
        "# Visualiza las primeras filas para comprobar la carga\n",
        "print(\"Primeras filas del dataset Titanic:\")\n",
        "display(df_titanic.head())\n"
      ],
      "metadata": {
        "id": "hzqiZuQKQ9Ug"
      },
      "execution_count": null,
      "outputs": []
    },
    {
      "cell_type": "code",
      "source": [
        "# Paso 3: Explora la estructura del dataset\n",
        "\n",
        "# TODO: Muestra la lista de columnas y el tipo de datos de cada columna usando df_titanic.dtypes\n",
        "print(\"Columnas y tipos de datos en el dataset:\")\n",
        "print(df_titanic.dtypes)\n",
        "\n",
        "# (Opcional) Utiliza df_titanic.info() para ver información general del DataFrame\n",
        "print(\"Información general del dataset:\")\n",
        "display(df_titanic.info())\n"
      ],
      "metadata": {
        "id": "Yxlp3dfjQ9kF"
      },
      "execution_count": null,
      "outputs": []
    },
    {
      "cell_type": "code",
      "source": [
        "# Paso 4: Calcula el número total de filas del dataset\n",
        "\n",
        "# TODO: Crea una variable llamada 'num_rows' que contenga el número total de filas del DataFrame 'df_titanic'\n",
        "num_rows = df_titanic.shape[0]  # Por ejemplo, usando .shape\n",
        "\n",
        "# Muestra el número de filas\n",
        "print(\"Número total de filas en el dataset Titanic:\", num_rows)\n"
      ],
      "metadata": {
        "id": "glV1-tCWRBd2"
      },
      "execution_count": null,
      "outputs": []
    },
    {
      "cell_type": "code",
      "source": [
        "# Paso 5: Testeo de la solución\n",
        "\n",
        "# Este bloque de código verifica que el número de filas calculado sea el esperado.\n",
        "# El dataset Titanic (entrenamiento) tiene 891 filas.\n",
        "expected_rows = 891\n",
        "\n",
        "# Check: Ejecuta esta celda para asegurarte de que la variable 'num_rows' esté definida y tenga el valor correcto.\n",
        "assert num_rows == expected_rows, f\"Test fallido: Se esperaban {expected_rows} filas, pero se encontraron {num_rows}.\"\n",
        "print(\"Test exitoso: El número total de filas es correcto.\")\n"
      ],
      "metadata": {
        "id": "FPMBtdlKRDXj"
      },
      "execution_count": null,
      "outputs": []
    },
    {
      "cell_type": "code",
      "source": [
        "## Reflexión Final\n",
        "\n",
        "1. ¿Qué diferencias notaste entre cargar un dataset en CSV y trabajar con el DataFrame resultante en Pandas?\n",
        "2. ¿Qué información consideras esencial de este dataset para futuros análisis o modelos predictivos?\n",
        "3. ¿Cómo podrías utilizar la información de df_titanic para realizar un análisis exploratorio más profundo?\n",
        "\n",
        "_Responde en un comentario o en una celda Markdown adicional._\n"
      ],
      "metadata": {
        "id": "D1jN7SVMREGS"
      },
      "execution_count": null,
      "outputs": []
    }
  ]
}