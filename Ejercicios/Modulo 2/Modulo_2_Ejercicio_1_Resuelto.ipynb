{
 "cells": [
      {
      "cell_type": "markdown",
      "metadata": {
        "id": "view-in-github",
        "colab_type": "text"
      },
      "source": [
        "<a href=\"https://colab.research.google.com/github/dtoralg/IE_Calidad_ML/blob/main/Ejercicios/Modulo%202/Modulo_2_Ejercicio_2_Resuelto.ipynb\" target=\"_parent\"><img src=\"https://colab.research.google.com/assets/colab-badge.svg\" alt=\"Open In Colab\"/></a>"
      ]
    },
	{
   "cell_type": "markdown",
   "id": "b2e15f2d",
   "metadata": {},
   "source": [
    "# Módulo 2 Ejercicio 1 Resuelto - Control de Calidad en Juguetes\n",
    "\n",
    "En este ejercicio se ha modificado la versión original para utilizar el dataset **control_calidad_juguetes.csv**. \n",
    "El objetivo es cargar y explorar el conjunto de datos de control de calidad en juguetes, el cual se espera que contenga las siguientes columnas:\n",
    "\n",
    "- **ID**: Identificador único del registro\n",
    "- **Fecha**: Fecha de la medición\n",
    "- **Producto**: Nombre o tipo de juguete\n",
    "- **Calidad**: Puntuación numérica de calidad\n",
    "- **Defectos**: Cantidad de defectos detectados\n",
    "- **Costo**: Costo asociado a la producción o inspección\n",
    "\n"
   ]
  },
  {
   "cell_type": "code",
   "execution_count": null,
   "id": "dc29a396",
   "metadata": {},
   "outputs": [],
   "source": [
    "# Importar librerías necesarias\n",
    "import pandas as pd\n",
    "import matplotlib.pyplot as plt\n",
    "import seaborn as sns\n",
    "\n",
    "# Cargar el dataset de calidad de juguetes\n",
    "df = pd.read_csv('https://raw.githubusercontent.com/dtoralg/IE_Calidad_ML/refs/heads/main/Data/control_calidad_juguetes.csv')\n",
    "\n",
    "# Mostrar las primeras filas para verificar la carga\n",
    "print(\"Primeras filas del dataset de juguetes:\")\n",
    "display(df.head())\n",
    "\n",
    "# Mostrar información general del DataFrame\n",
    "print(\"Información del dataset de juguetes:\")\n",
    "display(df.info())\n",
    "\n",
    "# Mostrar estadísticas descriptivas de las variables numéricas\n",
    "print(\"Estadísticas descriptivas del dataset de juguetes:\")\n",
    "display(df.describe())"
   ]
  },
  {
   "cell_type": "code",
   "execution_count": null,
   "id": "1f2f8a19",
   "metadata": {},
   "outputs": [],
   "source": [
    "# Sistema de testeo: Verificar que el DataFrame contiene las columnas requeridas\n",
    "columnas_requeridas = ['ID', 'Producto', 'Calidad', 'Defectos', 'Costo']\n",
    "for col in columnas_requeridas:\n",
    "    assert col in df.columns, f\"Test fallido: La columna {col} no se encontró en el DataFrame.\"\n",
    "\n",
    "print(\"Todos los tests se han pasado correctamente.\")"
   ]
  },
  {
   "cell_type": "markdown",
   "id": "a0c26c0a",
   "metadata": {},
   "source": [
    "## Reflexión Final\n",
    "\n",
    "1. ¿Qué insights puedes obtener de la distribución de la variable **Calidad**?\n",
    "2. ¿Cómo podrías utilizar la información de las columnas **Defectos** y **Costo** para evaluar el desempeño del control de calidad?\n",
    "3. ¿Qué mejoras implementarías en el proceso de validación y exploración de estos datos?\n",
    "\n",
    "Escribe tus respuestas en una celda Markdown adicional."
   ]
  }
 ],
 "metadata": {
  "kernelspec": {
   "display_name": "Python 3",
   "language": "python",
   "name": "python3"
  },
  "language_info": {
   "name": "python",
   "version": "3.x"
  }
 },
 "nbformat": 4,
 "nbformat_minor": 2
}
