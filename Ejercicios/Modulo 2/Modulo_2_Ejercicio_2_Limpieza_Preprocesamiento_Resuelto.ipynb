{
  "cells": [
    {
      "cell_type": "markdown",
      "metadata": {
        "id": "view-in-github",
        "colab_type": "text"
      },
      "source": [
        "<a href=\"https://colab.research.google.com/github/dtoralg/IE_Calidad_ML/blob/main/Ejercicios/Modulo%202/Modulo_2_Ejercicio_2_Limpieza_Preprocesamiento_Resuelto.ipynb\" target=\"_parent\"><img src=\"https://colab.research.google.com/assets/colab-badge.svg\" alt=\"Open In Colab\"/></a>"
      ]
    },
    {
      "cell_type": "markdown",
      "id": "0a3ca264",
      "metadata": {
        "id": "0a3ca264"
      },
      "source": [
        "\n",
        "# **Ejercicio 2: Limpieza y Preprocesamiento de Datos**\n",
        "## Identificación y tratamiento de valores atípicos, duplicados y valores faltantes.\n"
      ]
    },
    {
      "cell_type": "markdown",
      "id": "c28362e6",
      "metadata": {
        "id": "c28362e6"
      },
      "source": [
        "\n",
        "## Introducción\n",
        "\n",
        "En este ejercicio, aprenderemos a **limpiar y preprocesar datos** en un dataset industrial.  \n",
        "Los datos del mundo real a menudo contienen valores duplicados, valores atípicos y valores faltantes, los cuales pueden afectar la calidad de los análisis y los modelos predictivos.  \n",
        "\n",
        "📌 **Objetivos del ejercicio:**  \n",
        "- Identificar y eliminar valores duplicados en el dataset.  \n",
        "- Detectar outliers utilizando el **rango intercuartílico (IQR)**.  \n",
        "- Aplicar técnicas de imputación de valores nulos (media, mediana y forward-fill).  \n",
        "- Normalizar y estandarizar variables numéricas para mejorar la comparación de datos.  \n",
        "\n",
        "🛠 **Conceptos clave:**  \n",
        "- Detección y eliminación de duplicados  \n",
        "- Manejo de valores nulos  \n",
        "- Normalización y estandarización  \n"
      ]
    },
    {
      "cell_type": "code",
      "execution_count": 1,
      "id": "da0b08b0",
      "metadata": {
        "colab": {
          "base_uri": "https://localhost:8080/"
        },
        "id": "da0b08b0",
        "outputId": "deaf987b-ea7d-4429-99c5-2a07bb9b5771"
      },
      "outputs": [
        {
          "output_type": "stream",
          "name": "stdout",
          "text": [
            "Librerías importadas correctamente.\n"
          ]
        }
      ],
      "source": [
        "\n",
        "# Celda 1: Importación de librerías necesarias\n",
        "\n",
        "import pandas as pd\n",
        "import numpy as np\n",
        "import matplotlib.pyplot as plt\n",
        "import seaborn as sns\n",
        "\n",
        "# Configuración de estilos para gráficos\n",
        "sns.set_style(\"whitegrid\")\n",
        "plt.rcParams[\"figure.figsize\"] = (10, 6)\n",
        "\n",
        "print(\"Librerías importadas correctamente.\")\n"
      ]
    },
    {
      "cell_type": "markdown",
      "id": "52cc7e28",
      "metadata": {
        "id": "52cc7e28"
      },
      "source": [
        "\n",
        "## Descripción del Dataset\n",
        "\n",
        "Para este ejercicio, utilizaremos el dataset **\"Control de calidad en circuitos electrónicos\"**, alojado en GitHub.  \n",
        "Este dataset contiene información sobre circuitos electrónicos y su funcionamiento en condiciones de prueba.\n",
        "\n",
        "📂 **Fuente del dataset:**  \n",
        "[GitHub - Control de calidad en circuitos electrónicos](https://raw.githubusercontent.com/dtoralg/IE_Calidad_ML/refs/heads/main/Data/control_calidad_circuitos_electronicos.csv)\n",
        "\n",
        "### **Estructura del dataset:**\n",
        "| Columna               | Descripción |\n",
        "|-----------------------|-------------|\n",
        "| ID_componente        | Identificador único del componente |\n",
        "| Voltaje_operación    | Voltaje de operación en V |\n",
        "| Corriente_fuga      | Corriente de fuga en mA |\n",
        "| Resistencia_circuito | Resistencia en Ohmios |\n",
        "| Frecuencia_operación | Frecuencia de operación en MHz |\n",
        "| Temperatura_prueba  | Temperatura de prueba en °C |\n",
        "| Horas_operación     | Horas de funcionamiento del circuito |\n",
        "| Proveedor_material  | Nombre del proveedor (categórico) |\n",
        "| Modelo_chip         | Modelo del chip (categórico) |\n",
        "| Método_prueba       | Método de prueba aplicado (categórico) |\n",
        "| Fallo_circuito      | Variable objetivo (OK / KO) |\n"
      ]
    },
    {
      "cell_type": "code",
      "execution_count": 2,
      "id": "6026de5a",
      "metadata": {
        "colab": {
          "base_uri": "https://localhost:8080/",
          "height": 206
        },
        "id": "6026de5a",
        "outputId": "4ed95eca-9c9b-448c-b10c-94abfd5ee3bc"
      },
      "outputs": [
        {
          "output_type": "execute_result",
          "data": {
            "text/plain": [
              "   ID_componente  Voltaje_operación  Corriente_fuga  Resistencia_circuito  \\\n",
              "0              1           5.248357        1.934405           1055.302146   \n",
              "1              2           4.930868        2.114882           1208.739222   \n",
              "2              3           5.323844        2.220543           1000.776616   \n",
              "3              4           5.761515        1.644991            792.359071   \n",
              "4              5           4.882923        2.030222           1235.237438   \n",
              "\n",
              "   Frecuencia_operación  Temperatura_prueba  Horas_operación  \\\n",
              "0              2.415568           71.648138      6826.235678   \n",
              "1              2.379194           74.617461      4889.806377   \n",
              "2              2.362610           83.187345      4272.656141   \n",
              "3              2.120637           71.668613      4639.328169   \n",
              "4              2.320803           77.624833      6439.710569   \n",
              "\n",
              "  Proveedor_material Modelo_chip Método_prueba Fallo_circuito  \n",
              "0        Proveedor_2    Modelo_8      Método_C             OK  \n",
              "1        Proveedor_5    Modelo_8      Método_C             OK  \n",
              "2        Proveedor_4   Modelo_10      Método_B             KO  \n",
              "3        Proveedor_4    Modelo_2      Método_C             OK  \n",
              "4        Proveedor_3   Modelo_14      Método_C             OK  "
            ],
            "text/html": [
              "\n",
              "  <div id=\"df-ffdd181e-d9aa-4cc0-b248-a37d9fdbc023\" class=\"colab-df-container\">\n",
              "    <div>\n",
              "<style scoped>\n",
              "    .dataframe tbody tr th:only-of-type {\n",
              "        vertical-align: middle;\n",
              "    }\n",
              "\n",
              "    .dataframe tbody tr th {\n",
              "        vertical-align: top;\n",
              "    }\n",
              "\n",
              "    .dataframe thead th {\n",
              "        text-align: right;\n",
              "    }\n",
              "</style>\n",
              "<table border=\"1\" class=\"dataframe\">\n",
              "  <thead>\n",
              "    <tr style=\"text-align: right;\">\n",
              "      <th></th>\n",
              "      <th>ID_componente</th>\n",
              "      <th>Voltaje_operación</th>\n",
              "      <th>Corriente_fuga</th>\n",
              "      <th>Resistencia_circuito</th>\n",
              "      <th>Frecuencia_operación</th>\n",
              "      <th>Temperatura_prueba</th>\n",
              "      <th>Horas_operación</th>\n",
              "      <th>Proveedor_material</th>\n",
              "      <th>Modelo_chip</th>\n",
              "      <th>Método_prueba</th>\n",
              "      <th>Fallo_circuito</th>\n",
              "    </tr>\n",
              "  </thead>\n",
              "  <tbody>\n",
              "    <tr>\n",
              "      <th>0</th>\n",
              "      <td>1</td>\n",
              "      <td>5.248357</td>\n",
              "      <td>1.934405</td>\n",
              "      <td>1055.302146</td>\n",
              "      <td>2.415568</td>\n",
              "      <td>71.648138</td>\n",
              "      <td>6826.235678</td>\n",
              "      <td>Proveedor_2</td>\n",
              "      <td>Modelo_8</td>\n",
              "      <td>Método_C</td>\n",
              "      <td>OK</td>\n",
              "    </tr>\n",
              "    <tr>\n",
              "      <th>1</th>\n",
              "      <td>2</td>\n",
              "      <td>4.930868</td>\n",
              "      <td>2.114882</td>\n",
              "      <td>1208.739222</td>\n",
              "      <td>2.379194</td>\n",
              "      <td>74.617461</td>\n",
              "      <td>4889.806377</td>\n",
              "      <td>Proveedor_5</td>\n",
              "      <td>Modelo_8</td>\n",
              "      <td>Método_C</td>\n",
              "      <td>OK</td>\n",
              "    </tr>\n",
              "    <tr>\n",
              "      <th>2</th>\n",
              "      <td>3</td>\n",
              "      <td>5.323844</td>\n",
              "      <td>2.220543</td>\n",
              "      <td>1000.776616</td>\n",
              "      <td>2.362610</td>\n",
              "      <td>83.187345</td>\n",
              "      <td>4272.656141</td>\n",
              "      <td>Proveedor_4</td>\n",
              "      <td>Modelo_10</td>\n",
              "      <td>Método_B</td>\n",
              "      <td>KO</td>\n",
              "    </tr>\n",
              "    <tr>\n",
              "      <th>3</th>\n",
              "      <td>4</td>\n",
              "      <td>5.761515</td>\n",
              "      <td>1.644991</td>\n",
              "      <td>792.359071</td>\n",
              "      <td>2.120637</td>\n",
              "      <td>71.668613</td>\n",
              "      <td>4639.328169</td>\n",
              "      <td>Proveedor_4</td>\n",
              "      <td>Modelo_2</td>\n",
              "      <td>Método_C</td>\n",
              "      <td>OK</td>\n",
              "    </tr>\n",
              "    <tr>\n",
              "      <th>4</th>\n",
              "      <td>5</td>\n",
              "      <td>4.882923</td>\n",
              "      <td>2.030222</td>\n",
              "      <td>1235.237438</td>\n",
              "      <td>2.320803</td>\n",
              "      <td>77.624833</td>\n",
              "      <td>6439.710569</td>\n",
              "      <td>Proveedor_3</td>\n",
              "      <td>Modelo_14</td>\n",
              "      <td>Método_C</td>\n",
              "      <td>OK</td>\n",
              "    </tr>\n",
              "  </tbody>\n",
              "</table>\n",
              "</div>\n",
              "    <div class=\"colab-df-buttons\">\n",
              "\n",
              "  <div class=\"colab-df-container\">\n",
              "    <button class=\"colab-df-convert\" onclick=\"convertToInteractive('df-ffdd181e-d9aa-4cc0-b248-a37d9fdbc023')\"\n",
              "            title=\"Convert this dataframe to an interactive table.\"\n",
              "            style=\"display:none;\">\n",
              "\n",
              "  <svg xmlns=\"http://www.w3.org/2000/svg\" height=\"24px\" viewBox=\"0 -960 960 960\">\n",
              "    <path d=\"M120-120v-720h720v720H120Zm60-500h600v-160H180v160Zm220 220h160v-160H400v160Zm0 220h160v-160H400v160ZM180-400h160v-160H180v160Zm440 0h160v-160H620v160ZM180-180h160v-160H180v160Zm440 0h160v-160H620v160Z\"/>\n",
              "  </svg>\n",
              "    </button>\n",
              "\n",
              "  <style>\n",
              "    .colab-df-container {\n",
              "      display:flex;\n",
              "      gap: 12px;\n",
              "    }\n",
              "\n",
              "    .colab-df-convert {\n",
              "      background-color: #E8F0FE;\n",
              "      border: none;\n",
              "      border-radius: 50%;\n",
              "      cursor: pointer;\n",
              "      display: none;\n",
              "      fill: #1967D2;\n",
              "      height: 32px;\n",
              "      padding: 0 0 0 0;\n",
              "      width: 32px;\n",
              "    }\n",
              "\n",
              "    .colab-df-convert:hover {\n",
              "      background-color: #E2EBFA;\n",
              "      box-shadow: 0px 1px 2px rgba(60, 64, 67, 0.3), 0px 1px 3px 1px rgba(60, 64, 67, 0.15);\n",
              "      fill: #174EA6;\n",
              "    }\n",
              "\n",
              "    .colab-df-buttons div {\n",
              "      margin-bottom: 4px;\n",
              "    }\n",
              "\n",
              "    [theme=dark] .colab-df-convert {\n",
              "      background-color: #3B4455;\n",
              "      fill: #D2E3FC;\n",
              "    }\n",
              "\n",
              "    [theme=dark] .colab-df-convert:hover {\n",
              "      background-color: #434B5C;\n",
              "      box-shadow: 0px 1px 3px 1px rgba(0, 0, 0, 0.15);\n",
              "      filter: drop-shadow(0px 1px 2px rgba(0, 0, 0, 0.3));\n",
              "      fill: #FFFFFF;\n",
              "    }\n",
              "  </style>\n",
              "\n",
              "    <script>\n",
              "      const buttonEl =\n",
              "        document.querySelector('#df-ffdd181e-d9aa-4cc0-b248-a37d9fdbc023 button.colab-df-convert');\n",
              "      buttonEl.style.display =\n",
              "        google.colab.kernel.accessAllowed ? 'block' : 'none';\n",
              "\n",
              "      async function convertToInteractive(key) {\n",
              "        const element = document.querySelector('#df-ffdd181e-d9aa-4cc0-b248-a37d9fdbc023');\n",
              "        const dataTable =\n",
              "          await google.colab.kernel.invokeFunction('convertToInteractive',\n",
              "                                                    [key], {});\n",
              "        if (!dataTable) return;\n",
              "\n",
              "        const docLinkHtml = 'Like what you see? Visit the ' +\n",
              "          '<a target=\"_blank\" href=https://colab.research.google.com/notebooks/data_table.ipynb>data table notebook</a>'\n",
              "          + ' to learn more about interactive tables.';\n",
              "        element.innerHTML = '';\n",
              "        dataTable['output_type'] = 'display_data';\n",
              "        await google.colab.output.renderOutput(dataTable, element);\n",
              "        const docLink = document.createElement('div');\n",
              "        docLink.innerHTML = docLinkHtml;\n",
              "        element.appendChild(docLink);\n",
              "      }\n",
              "    </script>\n",
              "  </div>\n",
              "\n",
              "\n",
              "<div id=\"df-04da79a1-3f14-4d47-a294-0d5e8e44ce62\">\n",
              "  <button class=\"colab-df-quickchart\" onclick=\"quickchart('df-04da79a1-3f14-4d47-a294-0d5e8e44ce62')\"\n",
              "            title=\"Suggest charts\"\n",
              "            style=\"display:none;\">\n",
              "\n",
              "<svg xmlns=\"http://www.w3.org/2000/svg\" height=\"24px\"viewBox=\"0 0 24 24\"\n",
              "     width=\"24px\">\n",
              "    <g>\n",
              "        <path d=\"M19 3H5c-1.1 0-2 .9-2 2v14c0 1.1.9 2 2 2h14c1.1 0 2-.9 2-2V5c0-1.1-.9-2-2-2zM9 17H7v-7h2v7zm4 0h-2V7h2v10zm4 0h-2v-4h2v4z\"/>\n",
              "    </g>\n",
              "</svg>\n",
              "  </button>\n",
              "\n",
              "<style>\n",
              "  .colab-df-quickchart {\n",
              "      --bg-color: #E8F0FE;\n",
              "      --fill-color: #1967D2;\n",
              "      --hover-bg-color: #E2EBFA;\n",
              "      --hover-fill-color: #174EA6;\n",
              "      --disabled-fill-color: #AAA;\n",
              "      --disabled-bg-color: #DDD;\n",
              "  }\n",
              "\n",
              "  [theme=dark] .colab-df-quickchart {\n",
              "      --bg-color: #3B4455;\n",
              "      --fill-color: #D2E3FC;\n",
              "      --hover-bg-color: #434B5C;\n",
              "      --hover-fill-color: #FFFFFF;\n",
              "      --disabled-bg-color: #3B4455;\n",
              "      --disabled-fill-color: #666;\n",
              "  }\n",
              "\n",
              "  .colab-df-quickchart {\n",
              "    background-color: var(--bg-color);\n",
              "    border: none;\n",
              "    border-radius: 50%;\n",
              "    cursor: pointer;\n",
              "    display: none;\n",
              "    fill: var(--fill-color);\n",
              "    height: 32px;\n",
              "    padding: 0;\n",
              "    width: 32px;\n",
              "  }\n",
              "\n",
              "  .colab-df-quickchart:hover {\n",
              "    background-color: var(--hover-bg-color);\n",
              "    box-shadow: 0 1px 2px rgba(60, 64, 67, 0.3), 0 1px 3px 1px rgba(60, 64, 67, 0.15);\n",
              "    fill: var(--button-hover-fill-color);\n",
              "  }\n",
              "\n",
              "  .colab-df-quickchart-complete:disabled,\n",
              "  .colab-df-quickchart-complete:disabled:hover {\n",
              "    background-color: var(--disabled-bg-color);\n",
              "    fill: var(--disabled-fill-color);\n",
              "    box-shadow: none;\n",
              "  }\n",
              "\n",
              "  .colab-df-spinner {\n",
              "    border: 2px solid var(--fill-color);\n",
              "    border-color: transparent;\n",
              "    border-bottom-color: var(--fill-color);\n",
              "    animation:\n",
              "      spin 1s steps(1) infinite;\n",
              "  }\n",
              "\n",
              "  @keyframes spin {\n",
              "    0% {\n",
              "      border-color: transparent;\n",
              "      border-bottom-color: var(--fill-color);\n",
              "      border-left-color: var(--fill-color);\n",
              "    }\n",
              "    20% {\n",
              "      border-color: transparent;\n",
              "      border-left-color: var(--fill-color);\n",
              "      border-top-color: var(--fill-color);\n",
              "    }\n",
              "    30% {\n",
              "      border-color: transparent;\n",
              "      border-left-color: var(--fill-color);\n",
              "      border-top-color: var(--fill-color);\n",
              "      border-right-color: var(--fill-color);\n",
              "    }\n",
              "    40% {\n",
              "      border-color: transparent;\n",
              "      border-right-color: var(--fill-color);\n",
              "      border-top-color: var(--fill-color);\n",
              "    }\n",
              "    60% {\n",
              "      border-color: transparent;\n",
              "      border-right-color: var(--fill-color);\n",
              "    }\n",
              "    80% {\n",
              "      border-color: transparent;\n",
              "      border-right-color: var(--fill-color);\n",
              "      border-bottom-color: var(--fill-color);\n",
              "    }\n",
              "    90% {\n",
              "      border-color: transparent;\n",
              "      border-bottom-color: var(--fill-color);\n",
              "    }\n",
              "  }\n",
              "</style>\n",
              "\n",
              "  <script>\n",
              "    async function quickchart(key) {\n",
              "      const quickchartButtonEl =\n",
              "        document.querySelector('#' + key + ' button');\n",
              "      quickchartButtonEl.disabled = true;  // To prevent multiple clicks.\n",
              "      quickchartButtonEl.classList.add('colab-df-spinner');\n",
              "      try {\n",
              "        const charts = await google.colab.kernel.invokeFunction(\n",
              "            'suggestCharts', [key], {});\n",
              "      } catch (error) {\n",
              "        console.error('Error during call to suggestCharts:', error);\n",
              "      }\n",
              "      quickchartButtonEl.classList.remove('colab-df-spinner');\n",
              "      quickchartButtonEl.classList.add('colab-df-quickchart-complete');\n",
              "    }\n",
              "    (() => {\n",
              "      let quickchartButtonEl =\n",
              "        document.querySelector('#df-04da79a1-3f14-4d47-a294-0d5e8e44ce62 button');\n",
              "      quickchartButtonEl.style.display =\n",
              "        google.colab.kernel.accessAllowed ? 'block' : 'none';\n",
              "    })();\n",
              "  </script>\n",
              "</div>\n",
              "\n",
              "    </div>\n",
              "  </div>\n"
            ],
            "application/vnd.google.colaboratory.intrinsic+json": {
              "type": "dataframe",
              "variable_name": "df"
            }
          },
          "metadata": {},
          "execution_count": 2
        }
      ],
      "source": [
        "\n",
        "# Celda 2: Cargar el dataset desde GitHub\n",
        "\n",
        "url_csv = \"https://raw.githubusercontent.com/dtoralg/IE_Calidad_ML/refs/heads/main/Data/control_calidad_circuitos_electronicos.csv\"\n",
        "df = pd.read_csv(url_csv)\n",
        "\n",
        "# Mostrar las primeras filas del dataset\n",
        "df.head()\n"
      ]
    },
    {
      "cell_type": "code",
      "execution_count": 3,
      "id": "9339ff30",
      "metadata": {
        "colab": {
          "base_uri": "https://localhost:8080/"
        },
        "id": "9339ff30",
        "outputId": "d3961ebb-44a4-40e0-b570-853713a95ce6"
      },
      "outputs": [
        {
          "output_type": "stream",
          "name": "stdout",
          "text": [
            "Número de registros duplicados: 6000\n",
            "Duplicados eliminados.\n"
          ]
        }
      ],
      "source": [
        "\n",
        "# Celda 3: Identificación y eliminación de duplicados\n",
        "\n",
        "duplicados = df.duplicated().sum()\n",
        "print(f\"Número de registros duplicados: {duplicados}\")\n",
        "\n",
        "# Eliminar duplicados si existen\n",
        "df = df.drop_duplicates()\n",
        "\n",
        "print(\"Duplicados eliminados.\")\n"
      ]
    },
    {
      "cell_type": "code",
      "execution_count": 4,
      "id": "a46f1cde",
      "metadata": {
        "colab": {
          "base_uri": "https://localhost:8080/"
        },
        "id": "a46f1cde",
        "outputId": "437e480f-8dd0-4891-88b3-77c187f74e24"
      },
      "outputs": [
        {
          "output_type": "stream",
          "name": "stdout",
          "text": [
            "Valores atípicos en Voltaje_operación: 829\n"
          ]
        }
      ],
      "source": [
        "\n",
        "# Celda 4: Detección de valores atípicos (Outliers) usando IQR\n",
        "\n",
        "def detectar_outliers_iqr(data, columna):\n",
        "    Q1 = data[columna].quantile(0.25)\n",
        "    Q3 = data[columna].quantile(0.75)\n",
        "    IQR = Q3 - Q1\n",
        "    umbral_inferior = Q1 - 1.5 * IQR\n",
        "    umbral_superior = Q3 + 1.5 * IQR\n",
        "    outliers = data[(data[columna] < umbral_inferior) | (data[columna] > umbral_superior)]\n",
        "    return outliers\n",
        "\n",
        "# Detectar outliers en \"Voltaje_operación\"\n",
        "outliers_voltaje = detectar_outliers_iqr(df, \"Voltaje_operación\")\n",
        "print(f\"Valores atípicos en Voltaje_operación: {len(outliers_voltaje)}\")\n"
      ]
    },
    {
      "cell_type": "code",
      "execution_count": 5,
      "id": "2793f6f1",
      "metadata": {
        "colab": {
          "base_uri": "https://localhost:8080/"
        },
        "id": "2793f6f1",
        "outputId": "e9451987-c7d1-4bd4-ad0a-c24a32c1160b"
      },
      "outputs": [
        {
          "output_type": "stream",
          "name": "stdout",
          "text": [
            "Valores nulos por columna antes de la imputación:\n",
            "ID_componente               0\n",
            "Voltaje_operación           0\n",
            "Corriente_fuga              0\n",
            "Resistencia_circuito        0\n",
            "Frecuencia_operación        0\n",
            "Temperatura_prueba          0\n",
            "Horas_operación         12000\n",
            "Proveedor_material          0\n",
            "Modelo_chip                 0\n",
            "Método_prueba               0\n",
            "Fallo_circuito              0\n",
            "dtype: int64\n",
            "Valores nulos imputados correctamente.\n"
          ]
        },
        {
          "output_type": "stream",
          "name": "stderr",
          "text": [
            "<ipython-input-5-f907144f281e>:7: FutureWarning: A value is trying to be set on a copy of a DataFrame or Series through chained assignment using an inplace method.\n",
            "The behavior will change in pandas 3.0. This inplace method will never work because the intermediate object on which we are setting values always behaves as a copy.\n",
            "\n",
            "For example, when doing 'df[col].method(value, inplace=True)', try using 'df.method({col: value}, inplace=True)' or df[col] = df[col].method(value) instead, to perform the operation inplace on the original object.\n",
            "\n",
            "\n",
            "  df[\"Horas_operación\"].fillna(df[\"Horas_operación\"].median(), inplace=True)\n"
          ]
        }
      ],
      "source": [
        "\n",
        "# Celda 5: Identificación y manejo de valores nulos\n",
        "\n",
        "print(\"Valores nulos por columna antes de la imputación:\")\n",
        "print(df.isnull().sum())\n",
        "\n",
        "# Aplicación de técnicas de imputación\n",
        "df[\"Horas_operación\"].fillna(df[\"Horas_operación\"].median(), inplace=True)\n",
        "\n",
        "print(\"Valores nulos imputados correctamente.\")\n"
      ]
    },
    {
      "cell_type": "code",
      "execution_count": 6,
      "id": "ae561693",
      "metadata": {
        "colab": {
          "base_uri": "https://localhost:8080/"
        },
        "id": "ae561693",
        "outputId": "a3d2c09c-3aa4-4765-d2e4-27c5f001404c"
      },
      "outputs": [
        {
          "output_type": "stream",
          "name": "stdout",
          "text": [
            "Normalización y estandarización aplicadas correctamente.\n"
          ]
        }
      ],
      "source": [
        "\n",
        "# Celda 6: Normalización y estandarización de datos\n",
        "\n",
        "from sklearn.preprocessing import MinMaxScaler, StandardScaler\n",
        "\n",
        "# Aplicar MinMaxScaler a variables numéricas\n",
        "scaler = MinMaxScaler()\n",
        "df[[\"Voltaje_operación\", \"Corriente_fuga\", \"Resistencia_circuito\"]] = scaler.fit_transform(\n",
        "    df[[\"Voltaje_operación\", \"Corriente_fuga\", \"Resistencia_circuito\"]])\n",
        "\n",
        "# Aplicar StandardScaler a variables numéricas\n",
        "std_scaler = StandardScaler()\n",
        "df[[\"Frecuencia_operación\", \"Temperatura_prueba\", \"Horas_operación\"]] = std_scaler.fit_transform(\n",
        "    df[[\"Frecuencia_operación\", \"Temperatura_prueba\", \"Horas_operación\"]])\n",
        "\n",
        "print(\"Normalización y estandarización aplicadas correctamente.\")\n"
      ]
    },
    {
      "cell_type": "code",
      "execution_count": 7,
      "id": "2a5e515b",
      "metadata": {
        "colab": {
          "base_uri": "https://localhost:8080/",
          "height": 968
        },
        "id": "2a5e515b",
        "outputId": "56189910-25d8-44fa-da60-467be211ff34"
      },
      "outputs": [
        {
          "output_type": "display_data",
          "data": {
            "text/plain": [
              "<Figure size 800x500 with 1 Axes>"
            ],
            "image/png": "[encoded data removed]"
          },
          "metadata": {}
        },
        {
          "output_type": "display_data",
          "data": {
            "text/plain": [
              "<Figure size 800x500 with 1 Axes>"
            ],
            "image/png": "[encoded data removed]"
          },
          "metadata": {}
        }
      ],
      "source": [
        "\n",
        "# Celda 7: Visualización de la distribución de los datos\n",
        "\n",
        "# Histograma de la variable Voltaje_operación después de la normalización\n",
        "plt.figure(figsize=(8,5))\n",
        "sns.histplot(df[\"Voltaje_operación\"], bins=30, kde=True)\n",
        "plt.title(\"Distribución de Voltaje de Operación (Normalizado)\")\n",
        "plt.xlabel(\"Voltaje (Escalado)\")\n",
        "plt.ylabel(\"Frecuencia\")\n",
        "plt.show()\n",
        "\n",
        "# Gráfico de barras para la variable objetivo \"Fallo_circuito\"\n",
        "plt.figure(figsize=(8,5))\n",
        "sns.countplot(x=\"Fallo_circuito\", data=df, order=df[\"Fallo_circuito\"].value_counts().index)\n",
        "plt.title(\"Frecuencia de Fallos en Circuitos Electrónicos\")\n",
        "plt.xlabel(\"Fallo Circuito\")\n",
        "plt.ylabel(\"Cantidad\")\n",
        "plt.xticks(rotation=45)\n",
        "plt.show()\n"
      ]
    },
    {
      "cell_type": "markdown",
      "id": "4ce662b4",
      "metadata": {
        "id": "4ce662b4"
      },
      "source": [
        "\n",
        "## Conclusiones\n",
        "\n",
        "En este ejercicio hemos aplicado distintas técnicas de limpieza y preprocesamiento de datos en un dataset industrial.  \n",
        "\n",
        "**Puntos clave:**  \n",
        "\n",
        "*   Se identificaron y eliminaron **valores duplicados**, mejorando la calidad de los datos.\n",
        "*   Se detectaron **valores atípicos** en \"Voltaje_operación\" usando el método **IQR**.  \n",
        "*   Se imputaron **valores nulos** utilizando la mediana para evitar sesgos.\n",
        "*   Se aplicaron técnicas de **normalización y estandarización** para garantizar una mejor comparabilidad entre variables numéricas.  \n",
        "\n",
        "**¿Qué podríamos hacer a continuación?**  \n",
        "- Aplicar métodos de eliminación de outliers para mejorar la calidad del dataset.  \n",
        "- Evaluar otras técnicas de imputación de valores nulos, como KNN Imputer.  \n",
        "- Preparar el dataset para un modelo de Machine Learning de clasificación de fallos en circuitos electrónicos.  \n"
      ]
    }
  ],
  "metadata": {
    "colab": {
      "provenance": [],
      "include_colab_link": true
    },
    "language_info": {
      "name": "python"
    },
    "kernelspec": {
      "name": "python3",
      "display_name": "Python 3"
    }
  },
  "nbformat": 4,
  "nbformat_minor": 5
}