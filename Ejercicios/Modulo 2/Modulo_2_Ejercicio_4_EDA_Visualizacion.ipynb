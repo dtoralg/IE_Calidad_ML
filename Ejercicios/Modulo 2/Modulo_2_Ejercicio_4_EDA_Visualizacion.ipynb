{
  "cells": [
    {
      "cell_type": "markdown",
      "metadata": {
        "id": "view-in-github",
        "colab_type": "text"
      },
      "source": [
        "<a href=\"https://colab.research.google.com/github/dtoralg/IE_Calidad_ML/blob/main/Ejercicios/Modulo%202/Modulo_2_Ejercicio_4_EDA_Visualizacion.ipynb\" target=\"_parent\"><img src=\"https://colab.research.google.com/assets/colab-badge.svg\" alt=\"Open In Colab\"/></a>"
      ]
    },
    {
      "cell_type": "markdown",
      "id": "fffeaec1",
      "metadata": {
        "id": "fffeaec1"
      },
      "source": [
        "\n",
        "# **Ejercicio 4: Análisis Exploratorio de Datos (EDA) y Visualización**\n",
        "## Aplicación de técnicas de EDA y visualización para comprender la estructura de los datos.\n"
      ]
    },
    {
      "cell_type": "markdown",
      "id": "8ad67a78",
      "metadata": {
        "id": "8ad67a78"
      },
      "source": [
        "\n",
        "## Introducción\n",
        "\n",
        "En este ejercicio, realizaremos un **Análisis Exploratorio de Datos (EDA)** para comprender la estructura y relaciones de los datos en un contexto de control de calidad industrial.  \n",
        "El análisis exploratorio permite identificar patrones, anomalías y relaciones entre variables antes de aplicar modelos de Machine Learning.\n",
        "\n",
        "### Objetivos del ejercicio:\n",
        "- Calcular estadísticas avanzadas: **percentiles, kurtosis, skewness**.\n",
        "- Analizar la distribución de las variables mediante **histogramas y boxplots**.\n",
        "- Identificar correlaciones entre variables utilizando una **matriz de correlación y un heatmap**.\n",
        "- Explorar la evolución de los datos en el tiempo con **gráficos de líneas**.\n",
        "- Generar **insights y conclusiones** a partir de las visualizaciones.\n",
        "\n",
        "### Conceptos clave:\n",
        "- Análisis exploratorio (EDA)  \n",
        "- Matriz de correlación  \n",
        "- Interpretación de visualizaciones  \n"
      ]
    },
    {
      "cell_type": "code",
      "execution_count": null,
      "id": "90772e2c",
      "metadata": {
        "id": "90772e2c"
      },
      "outputs": [],
      "source": [
        "\n",
        "# Celda 1: Importación de librerías necesarias\n",
        "\n",
        "import pandas as pd\n",
        "import numpy as np\n",
        "import matplotlib.pyplot as plt\n",
        "import seaborn as sns\n",
        "from scipy.stats import kurtosis, skew\n",
        "\n",
        "# Configuración de estilos para visualización\n",
        "sns.set_style(\"whitegrid\")\n",
        "plt.rcParams[\"figure.figsize\"] = (10, 6)\n",
        "\n",
        "print(\"Librerías importadas correctamente.\")\n"
      ]
    },
    {
      "cell_type": "markdown",
      "id": "df6d5ac6",
      "metadata": {
        "id": "df6d5ac6"
      },
      "source": [
        "\n",
        "## Descripción del Dataset\n",
        "\n",
        "Para este ejercicio, utilizaremos el dataset **\"Control de calidad en motores industriales\"**, alojado en GitHub.  \n",
        "Este dataset contiene información sobre la vida útil y desempeño de motores industriales.\n",
        "\n",
        "### **Fuente del dataset:**  \n",
        "- **CSV:** [Control de calidad en motores industriales](https://raw.githubusercontent.com/dtoralg/IE_Calidad_ML/refs/heads/main/Data/control_calidad_motores_industriales.csv)\n",
        "\n",
        "### **Estructura del dataset:**\n",
        "| Columna                | Descripción |\n",
        "|------------------------|-------------|\n",
        "| ID_motor              | Identificador único del motor |\n",
        "| Horas_operación       | Horas de funcionamiento |\n",
        "| Temperatura_núcleo    | Temperatura del núcleo en °C |\n",
        "| Vibración            | Frecuencia de vibración en Hz |\n",
        "| Consumo_energía      | Consumo energético en kWh |\n",
        "| Presión_sistema      | Presión del sistema en bar |\n",
        "| Corriente_motor      | Corriente en Amperios |\n",
        "| Velocidad_rotación   | Velocidad de rotación en RPM |\n",
        "| Desgaste_rodamientos | Desgaste medido en mm |\n",
        "| Fecha_instalación    | Fecha en la que se instaló el motor |\n",
        "| Vida_util_restante   | Variable objetivo: estimación de la vida útil restante en horas |\n"
      ]
    },
    {
      "cell_type": "code",
      "execution_count": null,
      "id": "665e99cd",
      "metadata": {
        "id": "665e99cd"
      },
      "outputs": [],
      "source": [
        "\n",
        "# Celda 2: Cargar el dataset desde GitHub\n",
        "# Importante parsear las fechas de \"Fecha_instalación\" con pandas\n",
        "\n",
        "url_csv = \"https://raw.githubusercontent.com/dtoralg/IE_Calidad_ML/refs/heads/main/Data/control_calidad_motores_industriales.csv\"\n",
        "...\n",
        "\n",
        "# Mostrar las primeras filas del dataset\n",
        "...\n"
      ]
    },
    {
      "cell_type": "code",
      "execution_count": null,
      "id": "b096d191",
      "metadata": {
        "id": "b096d191"
      },
      "outputs": [],
      "source": [
        "\n",
        "# Celda 3: Cálculo de estadísticas avanzadas\n",
        "\n",
        "# Seleccionar solo las columnas numéricas (excluyendo datetime)\n",
        "...\n",
        "\n",
        "# Calcular estadísticas avanzadas solo para variables numéricas\n",
        "estadisticas = df[numerical_cols].describe(percentiles=[0.25, 0.5, 0.75])\n",
        "estadisticas.loc[\"kurtosis\"] = ...\n",
        "estadisticas.loc[\"skewness\"] = ...\n",
        "\n",
        "print(\"Estadísticas avanzadas calculadas.\")\n",
        "...\n"
      ]
    },
    {
      "cell_type": "code",
      "execution_count": null,
      "id": "6d392008",
      "metadata": {
        "id": "6d392008"
      },
      "outputs": [],
      "source": [
        "\n",
        "# Celda 4: Análisis de la distribución con histogramas y boxplots\n",
        "\n",
        "# Histograma de la variable Vida_util_restante\n",
        "...\n",
        "\n",
        "# Boxplot de la variable Vibración\n",
        "...\n"
      ]
    },
    {
      "cell_type": "code",
      "execution_count": null,
      "id": "54574bc4",
      "metadata": {
        "id": "54574bc4"
      },
      "outputs": [],
      "source": [
        "\n",
        "# Celda 5: Matriz de correlación con One-Hot Encoding\n",
        "\n",
        "# Aplicar One-Hot Encoding a las variables categóricas antes de calcular la correlación\n",
        "...\n",
        "\n",
        "# Calcular la matriz de correlación\n",
        "correlacion = ...\n",
        "\n",
        "# Crear un heatmap de correlaciones\n",
        "...\n",
        "plt.title(\"Matriz de Correlación entre Variables (One-Hot Encoded)\")\n",
        "plt.show()\n"
      ]
    },
    {
      "cell_type": "code",
      "execution_count": null,
      "id": "e424f4d3",
      "metadata": {
        "id": "e424f4d3"
      },
      "outputs": [],
      "source": [
        "\n",
        "# Celda 6: Análisis de la evolución temporal de la vida útil restante\n",
        "\n",
        "# Convertir fecha de instalación a datetime y ordenar por fecha\n",
        "df[\"Fecha_instalación\"] = ...\n",
        "df_sorted = df.sort_values(\"Fecha_instalación\")\n",
        "\n",
        "# Filtrar fechas posteriores a 2021-01-01\n",
        "df_filtered = ...\n",
        "\n",
        "# Graficar la evolución de la vida útil restante en el tiempo\n",
        "...\n"
      ]
    },
    {
      "cell_type": "markdown",
      "id": "564574d2",
      "metadata": {
        "id": "564574d2"
      },
      "source": [
        "\n",
        "## Conclusiones\n",
        "\n",
        "En este ejercicio hemos aplicado técnicas de **Análisis Exploratorio de Datos (EDA)** para comprender la estructura de los datos en motores industriales.\n",
        "\n",
        "### Puntos clave:\n",
        "- Se calcularon **estadísticas avanzadas** como percentiles, kurtosis y skewness para evaluar la distribución de los datos.\n",
        "- Se analizaron **distribuciones** con histogramas y boxplots, identificando posibles valores atípicos.\n",
        "- Se generó una **matriz de correlación** para explorar relaciones entre variables clave.\n",
        "- Se realizó un **análisis temporal** para evaluar la evolución de la vida útil restante en el tiempo.\n",
        "\n",
        "### Posibles mejoras:\n",
        "- Aplicar técnicas para la detección y eliminación de valores atípicos en variables críticas.\n",
        "- Descomponer la variable de fecha de instalación en componentes (año, mes, día) para análisis más detallados.\n",
        "- Explorar relaciones no lineales entre variables con técnicas de Machine Learning.\n"
      ]
    }
  ],
  "metadata": {
    "colab": {
      "provenance": [],
      "include_colab_link": true
    },
    "language_info": {
      "name": "python"
    },
    "kernelspec": {
      "name": "python3",
      "display_name": "Python 3"
    }
  },
  "nbformat": 4,
  "nbformat_minor": 5
}