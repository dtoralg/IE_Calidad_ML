{
  "cells": [
    {
      "cell_type": "markdown",
      "metadata": {
        "id": "view-in-github",
        "colab_type": "text"
      },
      "source": [
        "<a href=\"https://colab.research.google.com/github/dtoralg/IE_Calidad_ML/blob/main/Ejercicios/Modulo%202/Modulo_2_A_Formulario.ipynb\" target=\"_parent\"><img src=\"https://colab.research.google.com/assets/colab-badge.svg\" alt=\"Open In Colab\"/></a>"
      ]
    },
    {
      "cell_type": "markdown",
      "id": "512e1b62",
      "metadata": {
        "id": "512e1b62"
      },
      "source": [
        "# 📌 Guía de Preparación y Análisis de Datos\n",
        "\n",
        "Esta guía te ayudará a entender y aplicar técnicas esenciales en Python para trabajar con datos.\n",
        "\n",
        "### **Índice**\n",
        "1. [Importación y Exploración de Datos](#section1)\n",
        "2. [Limpieza de Datos](#section2)\n",
        "3. [Transformaciones y Normalización](#section3)\n",
        "4. [Análisis Estadístico](#section4)\n",
        "5. [Visualización de Datos](#section5)\n",
        "6. [Consideraciones Finales](#section6)\n"
      ]
    },
    {
      "cell_type": "markdown",
      "id": "b4fd37b5",
      "metadata": {
        "id": "b4fd37b5"
      },
      "source": [
        "## 1. Importación y Exploración de Datos\n",
        "\n",
        "El primer paso en cualquier análisis es importar los datos y explorar su estructura.\n",
        "\n",
        "**Ejemplo de código para importar y visualizar datos:**"
      ]
    },
    {
      "cell_type": "code",
      "execution_count": null,
      "id": "8d79135f",
      "metadata": {
        "id": "8d79135f"
      },
      "outputs": [],
      "source": [
        "import pandas as pd\n",
        "\n",
        "# Cargar datos desde un archivo CSV\n",
        "df = pd.read_csv('ruta/del/archivo.csv')\n",
        "\n",
        "# Mostrar información general\n",
        "print(df.info())\n",
        "\n",
        "# Mostrar las primeras filas\n",
        "df.head()"
      ]
    },
    {
      "cell_type": "markdown",
      "id": "934b71ff",
      "metadata": {
        "id": "934b71ff"
      },
      "source": [
        "## 2. Limpieza de Datos\n",
        "\n",
        "Los datos pueden contener valores nulos, duplicados o inconsistencias que deben corregirse antes del análisis.\n",
        "\n",
        "**Ejemplo de código para limpiar datos:**"
      ]
    },
    {
      "cell_type": "code",
      "execution_count": null,
      "id": "e4616b57",
      "metadata": {
        "id": "e4616b57"
      },
      "outputs": [],
      "source": [
        "# Eliminar duplicados\n",
        "df = df.drop_duplicates()\n",
        "\n",
        "# Manejo de valores nulos (rellenar con la media)\n",
        "df.fillna(df.mean(), inplace=True)\n",
        "\n",
        "# Verificar valores nulos\n",
        "print(df.isnull().sum())"
      ]
    },
    {
      "cell_type": "markdown",
      "id": "31d2cf11",
      "metadata": {
        "id": "31d2cf11"
      },
      "source": [
        "## 3. Transformaciones y Normalización\n",
        "\n",
        "A menudo es necesario transformar variables para mejorar la interpretación y el rendimiento de los modelos.\n",
        "\n",
        "**Ejemplo de código para normalizar datos:**"
      ]
    },
    {
      "cell_type": "code",
      "execution_count": null,
      "id": "a088d40f",
      "metadata": {
        "id": "a088d40f"
      },
      "outputs": [],
      "source": [
        "from sklearn.preprocessing import StandardScaler\n",
        "\n",
        "# Normalizar variables numéricas\n",
        "scaler = StandardScaler()\n",
        "df[['var1', 'var2']] = scaler.fit_transform(df[['var1', 'var2']])\n",
        "\n",
        "df.head()"
      ]
    },
    {
      "cell_type": "markdown",
      "id": "c1e0ad68",
      "metadata": {
        "id": "c1e0ad68"
      },
      "source": [
        "## 4. Análisis Estadístico\n",
        "\n",
        "Las estadísticas descriptivas ayudan a entender la distribución y tendencias de los datos.\n",
        "\n",
        "**Ejemplo de código para calcular estadísticas básicas:**"
      ]
    },
    {
      "cell_type": "code",
      "execution_count": null,
      "id": "c724c16b",
      "metadata": {
        "id": "c724c16b"
      },
      "outputs": [],
      "source": [
        "# Estadísticas básicas\n",
        "print(df.describe())\n",
        "\n",
        "# Correlación entre variables\n",
        "print(df.corr())"
      ]
    },
    {
      "cell_type": "markdown",
      "id": "e9a752ab",
      "metadata": {
        "id": "e9a752ab"
      },
      "source": [
        "## 5. Visualización de Datos\n",
        "\n",
        "Los gráficos permiten analizar patrones y tendencias de los datos.\n",
        "\n",
        "**Ejemplo de código para visualizar la distribución de una variable:**"
      ]
    },
    {
      "cell_type": "code",
      "execution_count": null,
      "id": "d6b83e8b",
      "metadata": {
        "id": "d6b83e8b"
      },
      "outputs": [],
      "source": [
        "import matplotlib.pyplot as plt\n",
        "import seaborn as sns\n",
        "\n",
        "# Histograma de una variable\n",
        "sns.histplot(df['var1'], bins=30, kde=True)\n",
        "plt.show()"
      ]
    },
    {
      "cell_type": "markdown",
      "id": "3da2e1ed",
      "metadata": {
        "id": "3da2e1ed"
      },
      "source": [
        "## ✅ 6. Consideraciones Finales\n",
        "\n",
        "1.   Elemento de lista\n",
        "2.   Elemento de lista\n",
        "\n",
        "\n",
        "\n",
        "- La limpieza y transformación de datos es esencial para obtener resultados precisos.\n",
        "- La normalización puede mejorar el rendimiento de algunos modelos.\n",
        "- Es importante interpretar correctamente las estadísticas y visualizaciones antes de modelar los datos."
      ]
    }
  ],
  "metadata": {
    "colab": {
      "provenance": [],
      "include_colab_link": true
    }
  },
  "nbformat": 4,
  "nbformat_minor": 5
}