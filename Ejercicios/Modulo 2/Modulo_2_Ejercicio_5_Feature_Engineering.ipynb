{
  "cells": [
    {
      "cell_type": "markdown",
      "metadata": {
        "id": "view-in-github",
        "colab_type": "text"
      },
      "source": [
        "<a href=\"https://colab.research.google.com/github/dtoralg/IE_Calidad_ML/blob/main/Ejercicios/Modulo%202/Modulo_2_Ejercicio_5_Feature_Engineering.ipynb\" target=\"_parent\"><img src=\"https://colab.research.google.com/assets/colab-badge.svg\" alt=\"Open In Colab\"/></a>"
      ]
    },
    {
      "cell_type": "markdown",
      "id": "16ab61f5",
      "metadata": {
        "id": "16ab61f5"
      },
      "source": [
        "\n",
        "# **Ejercicio 5: Feature Engineering y Transformación Avanzada de Datos**\n",
        "## Creación de nuevas variables y reducción de dimensionalidad sin modelos supervisados.\n"
      ]
    },
    {
      "cell_type": "markdown",
      "id": "c90c1a77",
      "metadata": {
        "id": "c90c1a77"
      },
      "source": [
        "\n",
        "## Introducción\n",
        "\n",
        "En este ejercicio, exploraremos técnicas avanzadas de **Feature Engineering y Transformación de Datos** para mejorar la calidad y utilidad de la información en un dataset de control de calidad industrial.  \n",
        "El **Feature Engineering** es un proceso clave en cualquier pipeline de análisis de datos, ya que permite extraer información relevante, reducir la dimensionalidad y mejorar la interpretabilidad de los datos.\n",
        "\n",
        "### Objetivos del ejercicio:\n",
        "- Crear nuevas variables a partir de transformaciones matemáticas y categóricas.\n",
        "- Generar agregaciones sobre datos categóricos y temporales (media, suma, conteo por grupo).\n",
        "- Aplicar técnicas de reducción de dimensionalidad sin modelos supervisados (selección de variables con varianza baja).\n",
        "- Estandarizar las características del dataset para futuras aplicaciones.\n",
        "- Comparar la distribución de los datos antes y después de la transformación.\n",
        "\n",
        "### Conceptos clave:\n",
        "- Feature engineering sin modelos de Machine Learning - llegaremos más adelante.\n",
        "- Agregaciones de datos  \n",
        "- Reducción de dimensionalidad con técnicas estadísticas  \n"
      ]
    },
    {
      "cell_type": "code",
      "execution_count": null,
      "id": "b6c293f6",
      "metadata": {
        "id": "b6c293f6"
      },
      "outputs": [],
      "source": [
        "\n",
        "# Celda 1: Importación de librerías necesarias\n",
        "\n",
        "import pandas as pd\n",
        "import numpy as np\n",
        "import matplotlib.pyplot as plt\n",
        "import seaborn as sns\n",
        "from sklearn.preprocessing import StandardScaler, MinMaxScaler\n",
        "from sklearn.feature_selection import VarianceThreshold\n",
        "\n",
        "# Configuración de estilos para visualización\n",
        "sns.set_style(\"whitegrid\")\n",
        "plt.rcParams[\"figure.figsize\"] = (10, 6)\n",
        "\n",
        "print(\"Librerías importadas correctamente.\")\n"
      ]
    },
    {
      "cell_type": "markdown",
      "id": "59aecb64",
      "metadata": {
        "id": "59aecb64"
      },
      "source": [
        "\n",
        "## Descripción del Dataset\n",
        "\n",
        "Para este ejercicio, utilizaremos el dataset **\"Control de calidad en empaques de alimentos\"**, alojado en GitHub.  \n",
        "Este dataset contiene información sobre la calidad de empaques utilizados en la industria alimentaria.\n",
        "\n",
        "### **Fuente del dataset:**  \n",
        "- **CSV:** [Control de calidad en empaques de alimentos](https://raw.githubusercontent.com/dtoralg/IE_Calidad_ML/refs/heads/main/Data/control_calidad_empaques.csv)\n",
        "\n",
        "### **Estructura del dataset:**\n",
        "| Columna               | Descripción |\n",
        "|-----------------------|-------------|\n",
        "| ID_envase            | Identificador único del envase |\n",
        "| Peso_envase          | Peso del envase en gramos |\n",
        "| Espesor_material     | Espesor del material en mm |\n",
        "| Dureza_superficie    | Dureza de la superficie en N/mm² |\n",
        "| Temperatura_sellado  | Temperatura de sellado en °C |\n",
        "| Tiempo_prensado      | Tiempo de prensado en segundos |\n",
        "| Proveedor_material   | Nombre del proveedor (categórico) |\n",
        "| Tipo_envase          | Tipo de envase (categórico) |\n",
        "| Color_material       | Color del material (categórico) |\n",
        "| Defecto_detectado    | Tipo de defecto presente (multiclase) |\n"
      ]
    },
    {
      "cell_type": "code",
      "execution_count": null,
      "id": "7fd6bb45",
      "metadata": {
        "id": "7fd6bb45"
      },
      "outputs": [],
      "source": [
        "\n",
        "# Celda 2: Cargar el dataset desde GitHub\n",
        "\n",
        "url_csv = \"https://raw.githubusercontent.com/dtoralg/IE_Calidad_ML/refs/heads/main/Data/control_calidad_empaques.csv\"\n",
        "...\n",
        "\n",
        "# Mostrar las primeras filas del dataset\n",
        "...\n"
      ]
    },
    {
      "cell_type": "code",
      "execution_count": null,
      "id": "10d6cea3",
      "metadata": {
        "id": "10d6cea3"
      },
      "outputs": [],
      "source": [
        "\n",
        "# Celda 3: Creación de nuevas variables\n",
        "\n",
        "# Crear una variable de relación entre peso y espesor llamada \"Densidad_material\"\n",
        "...\n",
        "\n",
        "# Crear una variable \"Eficiencia_proceso\" (temperatura de sellado entre tiempo de prensado)\n",
        "...\n",
        "\n",
        "print(\"Nuevas variables creadas correctamente.\")\n",
        "...\n"
      ]
    },
    {
      "cell_type": "code",
      "execution_count": null,
      "id": "8f4b9d86",
      "metadata": {
        "id": "8f4b9d86"
      },
      "outputs": [],
      "source": [
        "\n",
        "# Celda 4: Generación de agregaciones sobre datos categóricos\n",
        "\n",
        "# Calcular la media de dureza por cada proveedor de material\n",
        "df_agg = ...\n",
        "\n",
        "print(\"Agregaciones calculadas correctamente.\")\n",
        "...\n"
      ]
    },
    {
      "cell_type": "code",
      "execution_count": null,
      "id": "9eabef29",
      "metadata": {
        "id": "9eabef29"
      },
      "outputs": [],
      "source": [
        "\n",
        "# Celda 5: Aplicación de reducción de dimensionalidad con varianza baja\n",
        "\n",
        "# Aplicar MinMaxScaler para normalizar los datos antes de la reducción en variables numéricas\n",
        "scaler = ...\n",
        "df_scaled = scaler.fit_transform(...)\n",
        "\n",
        "# Aplicar selección de características con umbral de varianza baja (0.01 con VarianceThreshold)\n",
        "selector = ...\n",
        "df_reduced = ...\n",
        "\n",
        "print(f\"Dimensión original: {df_scaled.shape[1]} variables\")\n",
        "print(f\"Dimensión después de la reducción: {df_reduced.shape[1]} variables\")\n"
      ]
    },
    {
      "cell_type": "code",
      "execution_count": null,
      "id": "cd6e330d",
      "metadata": {
        "id": "cd6e330d"
      },
      "outputs": [],
      "source": [
        "\n",
        "# Celda 6: Comparación de la distribución de datos antes y después de la transformación\n",
        "\n",
        "# Histograma de la variable Dureza_superficie antes y después de la normalización\n",
        "...\n"
      ]
    },
    {
      "cell_type": "markdown",
      "id": "8a5e0609",
      "metadata": {
        "id": "8a5e0609"
      },
      "source": [
        "\n",
        "## Conclusiones\n",
        "\n",
        "En este ejercicio hemos aplicado técnicas avanzadas de **Feature Engineering y Transformación de Datos** para mejorar la calidad del dataset de control de calidad en envases de plástico.\n",
        "\n",
        "### Puntos clave:\n",
        "- Se crearon **nuevas variables** basadas en transformaciones matemáticas para mejorar la representación de los datos.\n",
        "- Se generaron **agregaciones** sobre datos categóricos para analizar tendencias en proveedores de material.\n",
        "- Se aplicó **reducción de dimensionalidad** utilizando la varianza baja como criterio de selección.\n",
        "- Se comparó la **distribución de variables** antes y después de la normalización para evaluar los efectos de la transformación.\n",
        "\n",
        "### Posibles mejoras:\n",
        "- Explorar más transformaciones basadas en funciones logarítmicas y exponenciales.\n",
        "- Aplicar técnicas avanzadas de reducción de dimensionalidad como PCA.\n",
        "- Incorporar información temporal en futuras transformaciones de datos.\n"
      ]
    }
  ],
  "metadata": {
    "colab": {
      "provenance": [],
      "include_colab_link": true
    },
    "language_info": {
      "name": "python"
    },
    "kernelspec": {
      "name": "python3",
      "display_name": "Python 3"
    }
  },
  "nbformat": 4,
  "nbformat_minor": 5
}