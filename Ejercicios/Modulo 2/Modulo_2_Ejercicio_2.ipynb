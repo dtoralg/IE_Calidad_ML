{
  "nbformat": 4,
  "nbformat_minor": 0,
  "metadata": {
    "colab": {
      "provenance": [],
      "authorship_tag": "ABX9TyPaY9EyIoau76Vuabo/fUvj",
      "include_colab_link": true
    },
    "kernelspec": {
      "name": "python3",
      "display_name": "Python 3"
    },
    "language_info": {
      "name": "python"
    }
  },
  "cells": [
    {
      "cell_type": "markdown",
      "metadata": {
        "id": "view-in-github",
        "colab_type": "text"
      },
      "source": [
        "<a href=\"https://colab.research.google.com/github/dtoralg/IE_Calidad_ML/blob/main/Ejercicios/Modulo%202/Modulo_2_Ejercicio_2.ipynb\" target=\"_parent\"><img src=\"https://colab.research.google.com/assets/colab-badge.svg\" alt=\"Open In Colab\"/></a>"
      ]
    },
    {
      "cell_type": "markdown",
      "source": [
        "# Ejercicio 2: Limpieza y Validación de Datos\n",
        "\n",
        "## Objetivo\n",
        "En este ejercicio aprenderás a limpiar y validar un dataset, abordando aspectos fundamentales como:\n",
        "\n",
        "- **Eliminación de duplicados:** Verificar si existen registros duplicados y eliminarlos.\n",
        "- **Manejo de valores faltantes:** Detectar columnas con valores nulos y aplicar técnicas de imputación o eliminación de filas según corresponda.\n",
        "- **Detección de outliers:** Identificar posibles valores atípicos en columnas numéricas mediante análisis gráfico y estadístico.\n",
        "\n",
        "Utilizaremos nuevamente el dataset **Titanic**, disponible online, que contiene información sobre los pasajeros del Titanic. Este dataset es ideal para practicar porque presenta valores faltantes (por ejemplo, en la columna `Age`), y es posible que existan duplicados o outliers en columnas como `Fare`.\n",
        "\n",
        "**URL del dataset:**  \n",
        "`https://raw.githubusercontent.com/datasciencedojo/datasets/master/titanic.csv`\n",
        "\n",
        "> **Pregunta de Reflexión:**  \n",
        "> ¿Por qué es importante eliminar duplicados y manejar valores faltantes antes de realizar un análisis o modelado?  \n",
        "> ¿Qué impacto pueden tener los outliers en un análisis de datos?\n",
        "\n",
        "¡Empecemos!\n"
      ],
      "metadata": {
        "id": "FEHrrqYPX0Gq"
      }
    },
    {
      "cell_type": "code",
      "source": [
        "# Paso 1: Importa las librerías necesarias y carga el dataset Titanic\n",
        "\n",
        "# TODO: Importa pandas y, opcionalmente, matplotlib y seaborn para visualizaciones.\n",
        "import ..\n",
        "\n",
        "# Define la URL del dataset\n",
        "url_titanic = \"https://raw.githubusercontent.com/datasciencedojo/datasets/master/titanic.csv\"\n",
        "\n",
        "# TODO: Carga el dataset utilizando pd.read_csv() y almacénalo en un DataFrame llamado 'df_titanic'\n",
        "..\n",
        "\n",
        "# Muestra las primeras filas para verificar la carga\n",
        "print(\"Primeras filas del dataset Titanic:\")\n",
        "display(..)\n",
        "\n",
        "# Muestra información general y el número de filas inicial\n",
        "print(\"Información general del dataset:\")\n",
        "display(..)\n",
        "print(\"Número de filas inicial:\", ..)\n"
      ],
      "metadata": {
        "id": "U5t8lxkSXe3I"
      },
      "execution_count": null,
      "outputs": []
    },
    {
      "cell_type": "code",
      "source": [
        "# Paso 2: Verificar y eliminar duplicados\n",
        "\n",
        "# TODO: Verifica si existen filas duplicadas en df_titanic y muestra la cantidad de duplicados.\n",
        "duplicados = ..\n",
        "print(\"Número de filas duplicadas antes de la limpieza:\", duplicados)\n",
        "\n",
        "# TODO: Elimina los duplicados y almacena el DataFrame resultante en df_titanic_clean\n",
        "df_titanic_clean = ..\n",
        "\n",
        "# Verifica que los duplicados hayan sido eliminados\n",
        "duplicados_despues = df_titanic_clean.duplicated().sum()\n",
        "print(\"Número de filas duplicadas después de la limpieza:\", duplicados_despues)\n"
      ],
      "metadata": {
        "id": "5KLq5cRnXf5K"
      },
      "execution_count": null,
      "outputs": []
    },
    {
      "cell_type": "code",
      "source": [
        "# Paso 3: Manejar los valores faltantes\n",
        "\n",
        "# TODO: Muestra la cantidad de valores nulos por columna en df_titanic_clean\n",
        "print(\"Valores nulos por columna:\")\n",
        "print(df_titanic_clean.isnull().sum())\n",
        "\n",
        "# Estrategia:\n",
        "# - Para la columna 'Age', imputaremos la mediana.\n",
        "# - La columna 'Cabin' tiene muchos valores nulos; en este ejercicio, la eliminaremos.\n",
        "# - Para 'Embarked', imputaremos el valor más frecuente (mode).\n",
        "\n",
        "# TODO: Imputa la mediana en la columna 'Age'\n",
        "if 'Age' in df_titanic_clean.columns:\n",
        "    median_age = df_titanic_clean['Age'].median()\n",
        "    df_titanic_clean['Age'].fillna(median_age, inplace=True)\n",
        "\n",
        "# TODO: Elimina la columna 'Cabin'\n",
        "if 'Cabin' in df_titanic_clean.columns:\n",
        "    df_titanic_clean.drop(columns=['Cabin'], inplace=True)\n",
        "\n",
        "# TODO: Imputa el valor más frecuente en la columna 'Embarked'\n",
        "if 'Embarked' in df_titanic_clean.columns:\n",
        "    mode_embarked = df_titanic_clean['Embarked'].mode()[0]\n",
        "    df_titanic_clean['Embarked'].fillna(mode_embarked, inplace=True)\n",
        "\n",
        "# Verifica que los valores nulos hayan sido manejados\n",
        "print(\"Valores nulos después del manejo:\")\n",
        "print(df_titanic_clean.isnull().sum())\n"
      ],
      "metadata": {
        "id": "27rnP-jLXg_p"
      },
      "execution_count": null,
      "outputs": []
    },
    {
      "cell_type": "code",
      "source": [
        "# Paso 4: Identificar outliers en columnas numéricas\n",
        "# En este ejemplo, vamos a examinar la columna 'Fare' para detectar posibles outliers.\n",
        "\n",
        "# TODO: Crea un diagrama de caja (boxplot) para la columna 'Fare'\n",
        "plt.figure(figsize=(8,4))\n",
        "sns.boxplot(x=df_titanic_clean['Fare'])\n",
        "plt.title(\"Boxplot de 'Fare'\")\n",
        "plt.show()\n",
        "\n",
        "# Comentario:\n",
        "# Observa el boxplot y determina si existen valores atípicos (outliers) en la columna 'Fare'.\n",
        "# Puedes optar por:\n",
        "# - Eliminar outliers utilizando el método del rango intercuartílico (IQR)\n",
        "# - O conservarlos si consideras que aportan información relevante.\n",
        "#\n",
        "# Por ahora, no modificaremos el DataFrame; simplemente observa y reflexiona.\n"
      ],
      "metadata": {
        "id": "yKSGWiwcXiAX"
      },
      "execution_count": null,
      "outputs": []
    },
    {
      "cell_type": "code",
      "source": [
        "# Paso 5: Testeo de la solución de limpieza\n",
        "\n",
        "# Este bloque de código verificará lo siguiente:\n",
        "# 1. Que no existan duplicados en df_titanic_clean.\n",
        "# 2. Que las columnas 'Age' y 'Embarked' no tengan valores nulos.\n",
        "# 3. Que la columna 'Cabin' ya no exista en el DataFrame.\n",
        "\n",
        "# Test 1: Verificar duplicados\n",
        "assert df_titanic_clean.duplicated().sum() == 0, \"Existen duplicados en el DataFrame después de la limpieza.\"\n",
        "\n",
        "# Test 2: Verificar que 'Age' y 'Embarked' no tengan valores nulos\n",
        "assert df_titanic_clean['Age'].isnull().sum() == 0, \"La columna 'Age' aún contiene valores nulos.\"\n",
        "assert df_titanic_clean['Embarked'].isnull().sum() == 0, \"La columna 'Embarked' aún contiene valores nulos.\"\n",
        "\n",
        "# Test 3: Verificar que la columna 'Cabin' ha sido eliminada\n",
        "assert 'Cabin' not in df_titanic_clean.columns, \"La columna 'Cabin' no ha sido eliminada del DataFrame.\"\n",
        "\n",
        "print(\"Todos los tests se han pasado correctamente. La limpieza y validación de datos se realizó como se esperaba. Buen trabajo!\")\n"
      ],
      "metadata": {
        "id": "2ypJYM88Xiye"
      },
      "execution_count": null,
      "outputs": []
    },
    {
      "cell_type": "markdown",
      "source": [
        "## Reflexión Final\n",
        "\n",
        "1. ¿Qué métodos empleaste para decidir imputar los valores faltantes en las columnas 'Age' y 'Embarked'?  \n",
        "2. ¿Por qué decidiste eliminar la columna 'Cabin' en lugar de imputarla?  \n",
        "3. ¿Qué criterios utilizarías para definir y tratar outliers en un análisis de datos?  \n",
        "4. ¿Cómo crees que la limpieza de datos afecta la calidad y precisión de un modelo de Machine Learning?\n",
        "\n",
        "_Responde estas preguntas en una celda Markdown adicional o en un comentario._\n"
      ],
      "metadata": {
        "id": "jIgDRu7lXltf"
      }
    }
  ]
}