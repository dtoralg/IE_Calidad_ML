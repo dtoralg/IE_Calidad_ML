{
  "cells": [
    {
      "cell_type": "markdown",
      "metadata": {
        "id": "view-in-github",
        "colab_type": "text"
      },
      "source": [
        "<a href=\"https://colab.research.google.com/github/dtoralg/IE_Calidad_ML/blob/main/Ejercicios/Diccionario_ML_Ejemplos_Mejorado.ipynb\" target=\"_parent\"><img src=\"https://colab.research.google.com/assets/colab-badge.svg\" alt=\"Open In Colab\"/></a>"
      ]
    },
    {
      "cell_type": "markdown",
      "id": "74b39129",
      "metadata": {
        "id": "74b39129"
      },
      "source": [
        "# Diccionario Esencial de Python para Machine Learning\n",
        "Este cuaderno recopila y explica las instrucciones más comunes necesarias para resolver ejercicios de Ciencia de Datos y Machine Learning con Python.\n",
        "\n",
        "Está dividido en bloques temáticos:\n",
        "- A. Carga y exploración de datos\n",
        "- B. Visualización\n",
        "- C. Modelos de Machine Learning\n",
        "- D. Evaluación\n",
        "\n",
        "Cada sección explica:\n",
        "- Qué hace cada instrucción\n",
        "- Cuándo utilizarla\n",
        "- Ejemplos breves comentados"
      ]
    },
    {
      "cell_type": "markdown",
      "id": "462cd756",
      "metadata": {
        "id": "462cd756"
      },
      "source": [
        "## A. Cargar y explorar datos"
      ]
    },
    {
      "cell_type": "markdown",
      "id": "86142dc8",
      "metadata": {
        "id": "86142dc8"
      },
      "source": [
        "### Leer un archivo CSV\n",
        "```python\n",
        "import pandas as pd\n",
        "df = pd.read_csv(\"ruta/del/archivo.csv\")\n",
        "```\n",
        "Se usa al principio para cargar datos desde un archivo externo (CSV, Excel...).\n"
      ]
    },
    {
      "cell_type": "markdown",
      "id": "f5edc9ea",
      "metadata": {
        "id": "f5edc9ea"
      },
      "source": [
        "### Ver las primeras filas del dataset\n",
        "```python\n",
        "df.head()\n",
        "```\n",
        "Permite examinar las primeras filas y entender la estructura de los datos.\n"
      ]
    },
    {
      "cell_type": "markdown",
      "id": "e43176e8",
      "metadata": {
        "id": "e43176e8"
      },
      "source": [
        "### Resumen estadístico de las variables numéricas\n",
        "```python\n",
        "df.describe()\n",
        "```\n",
        "Calcula la media, desviación, máximo, mínimo y cuartiles.\n"
      ]
    },
    {
      "cell_type": "markdown",
      "id": "2317ee2f",
      "metadata": {
        "id": "2317ee2f"
      },
      "source": [
        "### Ver nombres de columnas\n",
        "```python\n",
        "df.columns\n",
        "```\n",
        "Muestra las columnas disponibles en el DataFrame.\n"
      ]
    },
    {
      "cell_type": "markdown",
      "id": "96049d6a",
      "metadata": {
        "id": "96049d6a"
      },
      "source": [
        "### Contar clases o categorías en una columna\n",
        "```python\n",
        "df[\"Fault_Type\"].value_counts()\n",
        "```\n",
        "Ayuda a identificar si hay clases desbalanceadas en un problema de clasificación.\n"
      ]
    },
    {
      "cell_type": "markdown",
      "id": "e0c9f02e",
      "metadata": {
        "id": "e0c9f02e"
      },
      "source": [
        "## B. Visualización"
      ]
    },
    {
      "cell_type": "markdown",
      "id": "41378314",
      "metadata": {
        "id": "41378314"
      },
      "source": [
        "### Histograma de una variable numérica\n",
        "```python\n",
        "import seaborn as sns\n",
        "import matplotlib.pyplot as plt\n",
        "\n",
        "sns.histplot(df[\"Temperature\"], kde=True)\n",
        "plt.show()\n",
        "```\n",
        "Muestra la distribución de una variable continua (como temperatura o presión).\n"
      ]
    },
    {
      "cell_type": "markdown",
      "id": "85230e59",
      "metadata": {
        "id": "85230e59"
      },
      "source": [
        "### Gráfico de barras para una variable categórica\n",
        "```python\n",
        "sns.countplot(x=\"Fault_Type\", data=df)\n",
        "plt.show()\n",
        "```\n",
        "Muy útil para ver cuántos ejemplos hay por clase.\n"
      ]
    },
    {
      "cell_type": "markdown",
      "id": "9d059bd4",
      "metadata": {
        "id": "9d059bd4"
      },
      "source": [
        "### Matriz de confusión\n",
        "```python\n",
        "from sklearn.metrics import confusion_matrix\n",
        "import seaborn as sns\n",
        "\n",
        "cm = confusion_matrix(y_test, y_pred)\n",
        "sns.heatmap(cm, annot=True, fmt='d', cmap='Blues')\n",
        "plt.xlabel(\"Predicción\")\n",
        "plt.ylabel(\"Valor real\")\n",
        "plt.title(\"Matriz de Confusión\")\n",
        "plt.show()\n",
        "```\n",
        "Compara lo que el modelo ha predicho con la realidad, útil para clasificación.\n"
      ]
    },
    {
      "cell_type": "markdown",
      "id": "fee3397c",
      "metadata": {
        "id": "fee3397c"
      },
      "source": [
        "## C. Modelos de Machine Learning"
      ]
    },
    {
      "cell_type": "markdown",
      "id": "77cb85f1",
      "metadata": {
        "id": "77cb85f1"
      },
      "source": [
        "### Crear y entrenar un modelo de Random Forest\n",
        "```python\n",
        "from sklearn.ensemble import RandomForestClassifier\n",
        "\n",
        "model = RandomForestClassifier()\n",
        "model.fit(X_train, y_train)\n",
        "```\n",
        "Modelo robusto para clasificación, especialmente con datos tabulares.\n"
      ]
    },
    {
      "cell_type": "markdown",
      "id": "82f72920",
      "metadata": {
        "id": "82f72920"
      },
      "source": [
        "### Crear y entrenar una regresión logística\n",
        "```python\n",
        "from sklearn.linear_model import LogisticRegression\n",
        "\n",
        "model = LogisticRegression(max_iter=1000)\n",
        "model.fit(X_train, y_train)\n",
        "```\n",
        "Modelo lineal básico, útil como punto de partida para clasificación binaria.\n"
      ]
    },
    {
      "cell_type": "markdown",
      "id": "7130a81b",
      "metadata": {
        "id": "7130a81b"
      },
      "source": [
        "### Hacer predicciones\n",
        "```python\n",
        "y_pred = model.predict(X_test)\n",
        "```\n",
        "Usa el modelo entrenado para hacer predicciones con nuevos datos.\n"
      ]
    },
    {
      "cell_type": "markdown",
      "id": "bf1cc2d4",
      "metadata": {
        "id": "bf1cc2d4"
      },
      "source": [
        "## D. Evaluación del rendimiento del modelo"
      ]
    },
    {
      "cell_type": "markdown",
      "id": "ccdfc2d4",
      "metadata": {
        "id": "ccdfc2d4"
      },
      "source": [
        "### Reporte de métricas\n",
        "```python\n",
        "from sklearn.metrics import classification_report\n",
        "\n",
        "print(classification_report(y_test, y_pred))\n",
        "```\n",
        "Incluye precisión, recall, F1-score y soporte para cada clase.\n"
      ]
    },
    {
      "cell_type": "markdown",
      "id": "8fec8562",
      "metadata": {
        "id": "8fec8562"
      },
      "source": [
        "### Calcular F1 Macro\n",
        "```python\n",
        "from sklearn.metrics import f1_score\n",
        "\n",
        "f1_score(y_test, y_pred, average='macro')\n",
        "```\n",
        "Promedia el F1-score de cada clase por igual, útil con clases desbalanceadas.\n"
      ]
    }
  ],
  "metadata": {
    "colab": {
      "provenance": [],
      "include_colab_link": true
    }
  },
  "nbformat": 4,
  "nbformat_minor": 5
}