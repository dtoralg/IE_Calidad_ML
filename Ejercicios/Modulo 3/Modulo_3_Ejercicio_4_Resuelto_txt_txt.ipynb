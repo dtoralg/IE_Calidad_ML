{
  "cells": [
    {
      "cell_type": "markdown",
      "metadata": {
        "id": "view-in-github",
        "colab_type": "text"
      },
      "source": [
        "<a href=\"https://colab.research.google.com/github/dtoralg/IE_Calidad_ML/blob/main/Ejercicios/Modulo%203/Modulo_3_Ejercicio_4_Resuelto_txt_txt.ipynb\" target=\"_parent\"><img src=\"https://colab.research.google.com/assets/colab-badge.svg\" alt=\"Open In Colab\"/></a>"
      ]
    },
    {
      "cell_type": "markdown",
      "metadata": {
        "id": "aa0a9ed1"
      },
      "source": [
        "# Ejercicio 4: Clustering No Supervisado en el Sector Automotriz\n",
        "\n",
        "## Objetivo\n",
        "En este ejercicio, utilizarás el dataset **control_calidad_automotriz.csv** para aplicar técnicas de clustering no supervisado (k-means) y segmentar los registros en grupos basados en sus características numéricas. Aprenderás a:\n",
        "\n",
        "- Cargar y explorar el dataset.\n",
        "- Seleccionar y escalar las variables numéricas relevantes.\n",
        "- Determinar el número óptimo de clusters mediante el método del codo.\n",
        "- Ejecutar k-means para segmentar los datos.\n",
        "- Visualizar los clusters usando una reducción de dimensionalidad (PCA).\n",
        "\n",
        "¡Comencemos!"
      ]
    },
    {
      "cell_type": "markdown",
      "metadata": {
        "id": "5b4c3a78"
      },
      "source": [
        "## 1. Importación de Librerías y Carga del Dataset\n",
        "\n",
        "Importa las librerías necesarias y carga el dataset **control_calidad_automotriz.csv**. Se asume que el archivo se encuentra en el mismo directorio que este notebook.\n",
        "\n",
        "Para este ejercicio, se asumirán que el dataset contiene las siguientes columnas relevantes:\n",
        "- **ID**: Identificador del registro\n",
        "- **Calidad**: Puntuación numérica de calidad\n",
        "- **Defectos**: Cantidad de defectos detectados\n",
        "- **Durabilidad**: Medida numérica que indica la durabilidad del producto\n",
        "- **Eficiencia**: Indicador numérico de eficiencia en el proceso\n"
      ]
    },
    {
      "cell_type": "code",
      "execution_count": null,
      "metadata": {
        "id": "68a872ef"
      },
      "outputs": [],
      "source": [
        "# Importar librerías necesarias\n",
        "import pandas as pd\n",
        "import numpy as np\n",
        "import matplotlib.pyplot as plt\n",
        "import seaborn as sns\n",
        "\n",
        "# Cargar el dataset de calidad en el sector automotriz\n",
        "df_auto = pd.read_csv('control_calidad_automotriz.csv')\n",
        "\n",
        "# Mostrar las primeras filas para verificar la carga\n",
        "print(\"Primeras filas del dataset automotriz:\")\n",
        "display(df_auto.head())\n",
        "\n",
        "# Mostrar información general del DataFrame\n",
        "print(\"Información del dataset automotriz:\")\n",
        "display(df_auto.info())\n",
        "\n",
        "# Mostrar estadísticas descriptivas\n",
        "print(\"Estadísticas descriptivas del dataset automotriz:\")\n",
        "display(df_auto.describe())"
      ]
    },
    {
      "cell_type": "markdown",
      "metadata": {
        "id": "d217c5a4"
      },
      "source": [
        "## 2. Selección y Escalado de Variables Numéricas\n",
        "\n",
        "Selecciona las variables numéricas relevantes para el clustering. En este caso, utilizaremos las columnas **Calidad**, **Defectos**, **Durabilidad** y **Eficiencia**. Luego, aplicaremos escalado a estas variables para que todas tengan la misma importancia en el análisis.\n",
        "\n",
        "Utilizaremos `StandardScaler` para normalizarlas."
      ]
    },
    {
      "cell_type": "code",
      "execution_count": null,
      "metadata": {
        "id": "b2bb71b8"
      },
      "outputs": [],
      "source": [
        "from sklearn.preprocessing import StandardScaler\n",
        "\n",
        "# Seleccionar variables numéricas\n",
        "numeric_features = ['Calidad', 'Defectos', 'Durabilidad', 'Eficiencia']\n",
        "df_numeric = df_auto[numeric_features].copy()\n",
        "\n",
        "# Aplicar StandardScaler\n",
        "scaler = StandardScaler()\n",
        "df_scaled = pd.DataFrame(scaler.fit_transform(df_numeric), columns=numeric_features)\n",
        "\n",
        "print(\"Variables numéricas escaladas:\")\n",
        "display(df_scaled.head())"
      ]
    },
    {
      "cell_type": "markdown",
      "metadata": {
        "id": "7468fef9"
      },
      "source": [
        "## 3. Determinación del Número Óptimo de Clusters (Método del Codo)\n",
        "\n",
        "Para determinar el número óptimo de clusters, utilizaremos el método del codo. Este método implica ejecutar k-means con distintos valores de k y graficar la inercia (suma de las distancias cuadráticas dentro del cluster). El \"codo\" de la gráfica indica un buen compromiso entre complejidad y ajuste."
      ]
    },
    {
      "cell_type": "code",
      "execution_count": null,
      "metadata": {
        "id": "089f4f21"
      },
      "outputs": [],
      "source": [
        "from sklearn.cluster import KMeans\n",
        "\n",
        "# Probar diferentes valores de k y almacenar la inercia\n",
        "inercia = []\n",
        "k_values = range(1, 11)\n",
        "for k in k_values:\n",
        "    kmeans = KMeans(n_clusters=k, random_state=42)\n",
        "    kmeans.fit(df_scaled)\n",
        "    inercia.append(kmeans.inertia_)\n",
        "\n",
        "# Graficar el método del codo\n",
        "plt.figure(figsize=(8, 4))\n",
        "plt.plot(k_values, inercia, marker='o')\n",
        "plt.xlabel('Número de clusters (k)')\n",
        "plt.ylabel('Inercia')\n",
        "plt.title('Método del Codo para determinar el número óptimo de clusters')\n",
        "plt.show()"
      ]
    },
    {
      "cell_type": "markdown",
      "metadata": {
        "id": "39e8740c"
      },
      "source": [
        "## 4. Aplicación de k-means y Visualización de Clusters\n",
        "\n",
        "Una vez determinado un valor óptimo de k (por ejemplo, supongamos k=3), aplica el algoritmo k-means a los datos escalados. Para visualizar los clusters, reduciremos la dimensionalidad a 2 componentes usando PCA y representaremos los grupos en un scatter plot."
      ]
    },
    {
      "cell_type": "code",
      "execution_count": null,
      "metadata": {
        "id": "a187e3d4"
      },
      "outputs": [],
      "source": [
        "# Definir el número óptimo de clusters (ajusta según el método del codo)\n",
        "k_optimo = 3\n",
        "kmeans = KMeans(n_clusters=k_optimo, random_state=42)\n",
        "clusters = kmeans.fit_predict(df_scaled)\n",
        "\n",
        "# Agregar la etiqueta de cluster al DataFrame escalado\n",
        "df_scaled['Cluster'] = clusters\n",
        "\n",
        "# Aplicar PCA para reducir a 2 componentes\n",
        "from sklearn.decomposition import PCA\n",
        "pca = PCA(n_components=2)\n",
        "df_pca = pd.DataFrame(pca.fit_transform(df_scaled[numeric_features]), columns=['PC1', 'PC2'])\n",
        "df_pca['Cluster'] = clusters\n",
        "\n",
        "# Visualizar los clusters en el espacio de los dos primeros componentes\n",
        "plt.figure(figsize=(8, 6))\n",
        "sns.scatterplot(x='PC1', y='PC2', hue='Cluster', data=df_pca, palette='viridis', s=100, alpha=0.8)\n",
        "plt.title('Visualización de Clusters mediante PCA')\n",
        "plt.xlabel('Componente Principal 1')\n",
        "plt.ylabel('Componente Principal 2')\n",
        "plt.legend(title='Cluster')\n",
        "plt.show()\n",
        "\n",
        "# Mostrar la cantidad de registros en cada cluster\n",
        "print(df_scaled['Cluster'].value_counts())"
      ]
    },
    {
      "cell_type": "markdown",
      "metadata": {
        "id": "3b98e76a"
      },
      "source": [
        "## 5. Sistema de Testeo Automático\n",
        "\n",
        "Este bloque de código verificará que:\n",
        "\n",
        "- El DataFrame original no esté vacío.\n",
        "- Las variables numéricas seleccionadas existen en el DataFrame.\n",
        "- El método del codo ha generado una lista de inercia con la misma longitud que el rango de k probado.\n",
        "- El DataFrame resultante del PCA tiene 2 componentes."
      ]
    },
    {
      "cell_type": "code",
      "execution_count": null,
      "metadata": {
        "id": "bcd57b8c"
      },
      "outputs": [],
      "source": [
        "# Test 1: Verificar que el DataFrame original no está vacío\n",
        "assert df_auto.shape[0] > 0, \"Test fallido: El DataFrame original está vacío.\"\n",
        "\n",
        "# Test 2: Verificar que las columnas numéricas existen\n",
        "for col in ['Calidad', 'Defectos', 'Durabilidad', 'Eficiencia']:\n",
        "    assert col in df_auto.columns, f\"Test fallido: La columna {col} no se encontró en el DataFrame.\"\n",
        "\n",
        "# Test 3: Verificar que se generó la lista de inercia para k de 1 a 10\n",
        "assert len(inercia) == 10, \"Test fallido: La lista de inercia no tiene la longitud esperada (10).\"\n",
        "\n",
        "# Test 4: Verificar que el DataFrame del PCA tiene 2 componentes\n",
        "assert df_pca.shape[1] == 3, \"Test fallido: El DataFrame del PCA debería tener 3 columnas (PC1, PC2 y Cluster).\"\n",
        "\n",
        "print(\"Todos los tests se han pasado correctamente.\")"
      ]
    },
    {
      "cell_type": "markdown",
      "metadata": {
        "id": "6d35e6f1"
      },
      "source": [
        "## 6. Reflexión Final\n",
        "\n",
        "1. ¿Qué insights te aporta la segmentación de los datos mediante clustering?\n",
        "2. ¿Cómo interpretas los clusters obtenidos en el contexto del control de calidad en el sector automotriz?\n",
        "3. ¿Qué mejoras o ajustes propondrías para optimizar la segmentación?\n",
        "\n",
        "_Responde estas preguntas en una celda Markdown adicional o en un comentario._"
      ]
    }
  ],
  "metadata": {
    "kernelspec": {
      "display_name": "Python 3",
      "language": "python",
      "name": "python3"
    },
    "language_info": {
      "name": "python",
      "version": "3.x"
    },
    "colab": {
      "provenance": [],
      "include_colab_link": true
    }
  },
  "nbformat": 4,
  "nbformat_minor": 0
}