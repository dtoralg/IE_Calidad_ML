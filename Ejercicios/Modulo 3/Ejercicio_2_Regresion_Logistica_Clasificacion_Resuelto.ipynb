{
  "cells": [
    {
      "cell_type": "markdown",
      "metadata": {
        "id": "view-in-github",
        "colab_type": "text"
      },
      "source": [
        "<a href=\"https://colab.research.google.com/github/dtoralg/IE_Calidad_ML/blob/main/Ejercicios/Modulo%203/Ejercicio_2_Regresion_Logistica_Clasificacion_Resuelto.ipynb\" target=\"_parent\"><img src=\"https://colab.research.google.com/assets/colab-badge.svg\" alt=\"Open In Colab\"/></a>"
      ]
    },
    {
      "cell_type": "markdown",
      "id": "7ef12a9e",
      "metadata": {
        "id": "7ef12a9e"
      },
      "source": [
        "### **Ejercicio 2: Regresión Logística para la Clasificación de Defectos (Nivel: Intermedio)**\n",
        "#### Aplicación de Regresión Logística para clasificar si un circuito electrónico fallará o no"
      ]
    },
    {
      "cell_type": "markdown",
      "id": "a4c926fc",
      "metadata": {
        "id": "a4c926fc"
      },
      "source": [
        "### **Introducción**\n",
        "En este ejercicio, aplicaremos un modelo de Regresión Logística para predecir si un circuito electrónico fallará en una línea de producción. El objetivo es entrenar un modelo de clasificación basado en datos de calidad industrial y evaluar su desempeño utilizando métricas de clasificación."
      ]
    },
    {
      "cell_type": "code",
      "execution_count": null,
      "id": "8a248cd0",
      "metadata": {
        "id": "8a248cd0"
      },
      "outputs": [],
      "source": [
        "# Celda 1\n",
        "import pandas as pd\n",
        "import numpy as np\n",
        "import matplotlib.pyplot as plt\n",
        "import seaborn as sns\n",
        "from sklearn.model_selection import train_test_split\n",
        "from sklearn.linear_model import LogisticRegression\n",
        "from sklearn.metrics import accuracy_score, precision_score, recall_score, f1_score, confusion_matrix\n",
        "\n",
        "# Configuración de gráficos\n",
        "sns.set(style='whitegrid')"
      ]
    },
    {
      "cell_type": "markdown",
      "id": "8383a049",
      "metadata": {
        "id": "8383a049"
      },
      "source": [
        "### **Descripción del dataset**\n",
        "Se utilizará el dataset \"Control de calidad en circuitos electrónicos\", que contiene información sobre diversos parámetros que pueden influir en el fallo de un circuito."
      ]
    },
    {
      "cell_type": "code",
      "execution_count": null,
      "id": "743c6c01",
      "metadata": {
        "id": "743c6c01"
      },
      "outputs": [],
      "source": [
        "# Celda 2\n",
        "dataset_path = 'https://github.com/dtoralg/IE_Calidad_ML/raw/main/Data/control_calidad_circuitos.csv'\n",
        "data = pd.read_csv(dataset_path)\n",
        "\n",
        "# Mostrar las primeras filas del dataset\n",
        "data.head()"
      ]
    },
    {
      "cell_type": "code",
      "execution_count": null,
      "id": "98b3dee6",
      "metadata": {
        "id": "98b3dee6"
      },
      "outputs": [],
      "source": [
        "# Celda 3\n",
        "# Información general del dataset\n",
        "data.info()"
      ]
    },
    {
      "cell_type": "code",
      "execution_count": null,
      "id": "9729bdb3",
      "metadata": {
        "id": "9729bdb3"
      },
      "outputs": [],
      "source": [
        "# Celda 4\n",
        "# Resumen estadístico\n",
        "data.describe()"
      ]
    },
    {
      "cell_type": "code",
      "execution_count": null,
      "id": "314eb683",
      "metadata": {
        "id": "314eb683"
      },
      "outputs": [],
      "source": [
        "# Celda 5\n",
        "# Distribución de la variable objetivo\n",
        "sns.countplot(x='Fallo_circuito', data=data)\n",
        "plt.title('Distribución de circuitos defectuosos y no defectuosos')\n",
        "plt.show()"
      ]
    },
    {
      "cell_type": "markdown",
      "id": "1fca4afe",
      "metadata": {
        "id": "1fca4afe"
      },
      "source": [
        "### **Preparación de los datos**\n",
        "Se seleccionan las variables predictoras y la variable objetivo, y se dividen los datos en entrenamiento y prueba."
      ]
    },
    {
      "cell_type": "code",
      "execution_count": null,
      "id": "7bb9cad4",
      "metadata": {
        "id": "7bb9cad4"
      },
      "outputs": [],
      "source": [
        "# Celda 6\n",
        "# Definir variables predictoras y objetivo\n",
        "X = data.drop(columns=['Fallo_circuito'])\n",
        "y = data['Fallo_circuito']\n",
        "\n",
        "# División en conjuntos de entrenamiento y prueba\n",
        "X_train, X_test, y_train, y_test = train_test_split(X, y, test_size=0.2, random_state=42)"
      ]
    },
    {
      "cell_type": "markdown",
      "id": "7930afa3",
      "metadata": {
        "id": "7930afa3"
      },
      "source": [
        "### **Entrenamiento del modelo**\n",
        "Se entrena un modelo de Regresión Logística con los datos de entrenamiento."
      ]
    },
    {
      "cell_type": "code",
      "execution_count": null,
      "id": "0f513556",
      "metadata": {
        "id": "0f513556"
      },
      "outputs": [],
      "source": [
        "# Celda 7\n",
        "# Crear y entrenar el modelo\n",
        "modelo = LogisticRegression(max_iter=1000)\n",
        "modelo.fit(X_train, y_train)"
      ]
    },
    {
      "cell_type": "markdown",
      "id": "25c14721",
      "metadata": {
        "id": "25c14721"
      },
      "source": [
        "### **Evaluación del modelo**\n",
        "Se evalúa el modelo con métricas de clasificación como precisión, recall y F1-score."
      ]
    },
    {
      "cell_type": "code",
      "execution_count": null,
      "id": "01092f51",
      "metadata": {
        "id": "01092f51"
      },
      "outputs": [],
      "source": [
        "# Celda 8\n",
        "y_pred = modelo.predict(X_test)\n",
        "\n",
        "accuracy = accuracy_score(y_test, y_pred)\n",
        "precision = precision_score(y_test, y_pred)\n",
        "recall = recall_score(y_test, y_pred)\n",
        "f1 = f1_score(y_test, y_pred)\n",
        "\n",
        "print(f'Precisión: {accuracy:.2f}')\n",
        "print(f'Precision: {precision:.2f}')\n",
        "print(f'Recall: {recall:.2f}')\n",
        "print(f'F1-score: {f1:.2f}')"
      ]
    },
    {
      "cell_type": "markdown",
      "id": "3c6c4077",
      "metadata": {
        "id": "3c6c4077"
      },
      "source": [
        "### **Visualización de la matriz de confusión**\n",
        "Se muestra la matriz de confusión para analizar el desempeño del modelo en cada categoría."
      ]
    },
    {
      "cell_type": "code",
      "execution_count": null,
      "id": "c0a2f9e7",
      "metadata": {
        "id": "c0a2f9e7"
      },
      "outputs": [],
      "source": [
        "# Celda 9\n",
        "cm = confusion_matrix(y_test, y_pred)\n",
        "plt.figure(figsize=(6,5))\n",
        "sns.heatmap(cm, annot=True, fmt='d', cmap='Blues', xticklabels=['No Falla', 'Falla'], yticklabels=['No Falla', 'Falla'])\n",
        "plt.xlabel('Predicción')\n",
        "plt.ylabel('Real')\n",
        "plt.title('Matriz de Confusión')\n",
        "plt.show()"
      ]
    },
    {
      "cell_type": "markdown",
      "id": "818d7cdf",
      "metadata": {
        "id": "818d7cdf"
      },
      "source": [
        "### **Conclusiones**\n",
        "En este ejercicio, hemos aplicado un modelo de Regresión Logística para predecir fallos en circuitos electrónicos. Se exploraron los datos, se entrenó el modelo y se evaluaron métricas de clasificación.\n",
        "\n",
        "Se podrían considerar mejoras como la selección de características más relevantes, el balanceo de datos o la aplicación de modelos más avanzados como Random Forest o SVM."
      ]
    }
  ],
  "metadata": {
    "colab": {
      "provenance": [],
      "include_colab_link": true
    }
  },
  "nbformat": 4,
  "nbformat_minor": 5
}