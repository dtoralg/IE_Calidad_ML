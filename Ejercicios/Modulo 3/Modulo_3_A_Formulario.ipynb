{
  "cells": [
    {
      "cell_type": "markdown",
      "metadata": {
        "id": "view-in-github",
        "colab_type": "text"
      },
      "source": [
        "<a href=\"https://colab.research.google.com/github/dtoralg/IE_Calidad_ML/blob/main/Ejercicios/Modulo%203/Modulo_3_A_Formulario.ipynb\" target=\"_parent\"><img src=\"https://colab.research.google.com/assets/colab-badge.svg\" alt=\"Open In Colab\"/></a>"
      ]
    },
    {
      "cell_type": "markdown",
      "id": "d6b773ed",
      "metadata": {
        "id": "d6b773ed"
      },
      "source": [
        "# Guía de Modelos de Machine Learning en Control de Calidad\n",
        "\n",
        "Esta guía proporciona información esencial sobre los modelos de Machine Learning que se utilizan en los ejercicios del Módulo 3.\n",
        "\n",
        "### Índice\n",
        "1. [Introducción a los Modelos de Machine Learning](#section1)\n",
        "2. [Regresión Lineal](#section2)\n",
        "3. [Regresión Logística](#section3)\n",
        "4. [Clasificación con k-NN](#section4)\n",
        "5. [Árboles de Decisión](#section5)\n",
        "6. [Segmentación con k-Means](#section6)\n",
        "7. [Reducción de Dimensionalidad con PCA](#section7)\n",
        "8. [Visualización de Resultados](#section8)\n",
        "9. [Consideraciones Finales](#section9)\n"
      ]
    },
    {
      "cell_type": "markdown",
      "id": "a6433e80",
      "metadata": {
        "id": "a6433e80"
      },
      "source": [
        "## 1. Introducción a los Modelos de Machine Learning\n",
        "\n",
        "El Módulo 3 aborda diferentes técnicas de Machine Learning aplicadas a control de calidad industrial. Cada modelo tiene aplicaciones específicas, desde la predicción hasta la clasificación y segmentación.\n",
        "\n",
        "Los modelos estudiados incluyen:\n",
        "- **Regresión Lineal** para predicción de valores continuos.\n",
        "- **Regresión Logística** para clasificación binaria.\n",
        "- **k-NN (k-Nearest Neighbors)** para clasificación basada en proximidad.\n",
        "- **Árboles de Decisión** para clasificación estructurada.\n",
        "- **k-Means Clustering** para segmentación de productos.\n",
        "- **PCA (Análisis de Componentes Principales)** para reducción de dimensionalidad."
      ]
    },
    {
      "cell_type": "markdown",
      "id": "8e6cf4e7",
      "metadata": {
        "id": "8e6cf4e7"
      },
      "source": [
        "## 2. Regresión Lineal\n",
        "\n",
        "La regresión lineal es un modelo predictivo que busca la relación entre una variable dependiente y una o más variables independientes.\n",
        "\n",
        "**Ejemplo de código para entrenar un modelo de Regresión Lineal:**"
      ]
    },
    {
      "cell_type": "code",
      "execution_count": null,
      "id": "a2005cfa",
      "metadata": {
        "id": "a2005cfa"
      },
      "outputs": [],
      "source": [
        "from sklearn.linear_model import LinearRegression\n",
        "from sklearn.model_selection import train_test_split\n",
        "import pandas as pd\n",
        "\n",
        "# Cargar datos\n",
        "df = pd.read_csv('ruta/del/dataset.csv')\n",
        "\n",
        "# Definir variables\n",
        "X = df[['var1', 'var2']]\n",
        "y = df['target']\n",
        "\n",
        "# Dividir datos\n",
        "X_train, X_test, y_train, y_test = train_test_split(X, y, test_size=0.2, random_state=42)\n",
        "\n",
        "# Entrenar modelo\n",
        "modelo = LinearRegression()\n",
        "modelo.fit(X_train, y_train)\n",
        "\n",
        "# Predicción\n",
        "y_pred = modelo.predict(X_test)"
      ]
    },
    {
      "cell_type": "markdown",
      "id": "e3f70043",
      "metadata": {
        "id": "e3f70043"
      },
      "source": [
        "## 3. Regresión Logística\n",
        "\n",
        "La regresión logística es un modelo utilizado para clasificación binaria.\n",
        "\n",
        "**Ejemplo de código para entrenar un modelo de Regresión Logística:**"
      ]
    },
    {
      "cell_type": "code",
      "execution_count": null,
      "id": "7c014614",
      "metadata": {
        "id": "7c014614"
      },
      "outputs": [],
      "source": [
        "from sklearn.linear_model import LogisticRegression\n",
        "\n",
        "# Entrenar modelo de Regresión Logística\n",
        "modelo = LogisticRegression()\n",
        "modelo.fit(X_train, y_train)\n",
        "\n",
        "# Predicción\n",
        "y_pred = modelo.predict(X_test)"
      ]
    },
    {
      "cell_type": "markdown",
      "id": "48d6b9d2",
      "metadata": {
        "id": "48d6b9d2"
      },
      "source": [
        "## 4. Clasificación con k-Nearest Neighbors (k-NN)\n",
        "\n",
        "k-NN clasifica nuevos datos en función de la proximidad con los datos de entrenamiento.\n",
        "\n",
        "**Ejemplo de código para implementar k-NN:**"
      ]
    },
    {
      "cell_type": "code",
      "execution_count": null,
      "id": "d1c3f43b",
      "metadata": {
        "id": "d1c3f43b"
      },
      "outputs": [],
      "source": [
        "from sklearn.neighbors import KNeighborsClassifier\n",
        "\n",
        "# Entrenar modelo k-NN\n",
        "modelo = KNeighborsClassifier(n_neighbors=5)\n",
        "modelo.fit(X_train, y_train)\n",
        "\n",
        "# Predicción\n",
        "y_pred = modelo.predict(X_test)"
      ]
    },
    {
      "cell_type": "markdown",
      "id": "2e2a72e7",
      "metadata": {
        "id": "2e2a72e7"
      },
      "source": [
        "## 5. Árboles de Decisión\n",
        "\n",
        "Los árboles de decisión clasifican los datos dividiéndolos en reglas jerárquicas.\n",
        "\n",
        "**Ejemplo de código para implementar un Árbol de Decisión:**"
      ]
    },
    {
      "cell_type": "code",
      "execution_count": null,
      "id": "38be43e2",
      "metadata": {
        "id": "38be43e2"
      },
      "outputs": [],
      "source": [
        "from sklearn.tree import DecisionTreeClassifier\n",
        "\n",
        "# Entrenar modelo de Árbol de Decisión\n",
        "modelo = DecisionTreeClassifier()\n",
        "modelo.fit(X_train, y_train)\n",
        "\n",
        "# Predicción\n",
        "y_pred = modelo.predict(X_test)"
      ]
    },
    {
      "cell_type": "markdown",
      "id": "28e48f07",
      "metadata": {
        "id": "28e48f07"
      },
      "source": [
        "## 6. Segmentación con k-Means\n",
        "\n",
        "El algoritmo k-Means agrupa los datos en clústeres en función de su similitud.\n",
        "\n",
        "**Ejemplo de código para aplicar k-Means:**"
      ]
    },
    {
      "cell_type": "code",
      "execution_count": null,
      "id": "36defe81",
      "metadata": {
        "id": "36defe81"
      },
      "outputs": [],
      "source": [
        "from sklearn.cluster import KMeans\n",
        "\n",
        "# Entrenar modelo k-Means\n",
        "modelo = KMeans(n_clusters=3, random_state=42)\n",
        "modelo.fit(X_train)\n",
        "\n",
        "# Asignar clústeres\n",
        "clusters = modelo.predict(X_test)"
      ]
    },
    {
      "cell_type": "markdown",
      "id": "2ce3ccae",
      "metadata": {
        "id": "2ce3ccae"
      },
      "source": [
        "## 7. Reducción de Dimensionalidad con PCA\n",
        "\n",
        "PCA permite reducir la cantidad de variables sin perder información relevante.\n",
        "\n",
        "**Ejemplo de código para aplicar PCA:**"
      ]
    },
    {
      "cell_type": "code",
      "execution_count": null,
      "id": "ddc1f90b",
      "metadata": {
        "id": "ddc1f90b"
      },
      "outputs": [],
      "source": [
        "from sklearn.decomposition import PCA\n",
        "\n",
        "# Aplicar PCA para reducir a 2 componentes\n",
        "pca = PCA(n_components=2)\n",
        "X_pca = pca.fit_transform(X_train)\n",
        "\n",
        "# Ver la varianza explicada\n",
        "print(pca.explained_variance_ratio_)"
      ]
    },
    {
      "cell_type": "markdown",
      "id": "092bf574",
      "metadata": {
        "id": "092bf574"
      },
      "source": [
        "## 8. Visualización de Resultados\n",
        "\n",
        "Los gráficos ayudan a interpretar mejor los resultados de los modelos.\n",
        "\n",
        "**Ejemplo de código para visualizar resultados:**"
      ]
    },
    {
      "cell_type": "code",
      "execution_count": null,
      "id": "6356df11",
      "metadata": {
        "id": "6356df11"
      },
      "outputs": [],
      "source": [
        "import matplotlib.pyplot as plt\n",
        "import seaborn as sns\n",
        "\n",
        "# Gráfico de dispersión de PCA\n",
        "plt.scatter(X_pca[:, 0], X_pca[:, 1], c=y_train)\n",
        "plt.xlabel('Componente 1')\n",
        "plt.ylabel('Componente 2')\n",
        "plt.title('PCA')\n",
        "plt.show()"
      ]
    }
  ],
  "metadata": {
    "colab": {
      "provenance": [],
      "include_colab_link": true
    }
  },
  "nbformat": 4,
  "nbformat_minor": 5
}