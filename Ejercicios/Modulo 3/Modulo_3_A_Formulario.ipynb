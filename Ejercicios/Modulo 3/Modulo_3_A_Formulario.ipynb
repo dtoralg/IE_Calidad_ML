{
  "cells": [
    {
      "cell_type": "markdown",
      "metadata": {
        "id": "view-in-github",
        "colab_type": "text"
      },
      "source": [
        "<a href=\"https://colab.research.google.com/github/dtoralg/IE_Calidad_ML/blob/main/Ejercicios/Modulo%203/Modulo_3_A_Formulario.ipynb\" target=\"_parent\"><img src=\"https://colab.research.google.com/assets/colab-badge.svg\" alt=\"Open In Colab\"/></a>"
      ]
    },
    {
      "cell_type": "markdown",
      "id": "91e1d7ef",
      "metadata": {
        "id": "91e1d7ef"
      },
      "source": [
        "<a href=\"https://colab.research.google.com/github/dtoralg/IE_Calidad_ML/blob/main/Ejercicios/Modulo_3/Modulo_3_Formulario.ipynb\" target=\"_parent\"><img src=\"https://colab.research.google.com/assets/colab-badge.svg\" alt=\"Open In Colab\"/></a>"
      ]
    },
    {
      "cell_type": "markdown",
      "id": "fbd1ad78",
      "metadata": {
        "id": "fbd1ad78"
      },
      "source": [
        "# Guía General de Modelos de Machine Learning en Control de Calidad\n",
        "\n",
        "Esta guía proporciona una visión general sobre los modelos de Machine Learning que los alumnos deben conocer para ejecutar correctamente los ejercicios del Módulo 3."
      ]
    },
    {
      "cell_type": "markdown",
      "id": "f8e01c33",
      "metadata": {
        "id": "f8e01c33"
      },
      "source": [
        "## 1. Introducción a los Modelos de Machine Learning\n",
        "\n",
        "En el Módulo 3, se aplican diferentes técnicas de Machine Learning para la predicción y clasificación en problemas de control de calidad industrial. Cada modelo tiene sus propias características, ventajas y aplicaciones.\n",
        "\n",
        "Los modelos abordados en este módulo incluyen:\n",
        "- **Regresión Lineal** para predicción de valores continuos.\n",
        "- **Regresión Logística** para clasificación binaria.\n",
        "- **k-NN (k-Nearest Neighbors)** para clasificación basada en proximidad.\n",
        "- **Árboles de Decisión** para clasificación estructurada en reglas.\n",
        "- **k-Means Clustering** para segmentación de productos.\n",
        "- **PCA (Análisis de Componentes Principales)** para reducción de dimensionalidad."
      ]
    },
    {
      "cell_type": "markdown",
      "id": "513a1f31",
      "metadata": {
        "id": "513a1f31"
      },
      "source": [
        "## 2. Regresión Lineal\n",
        "\n",
        "La regresión lineal es un modelo predictivo que busca la relación entre una variable dependiente y una o más variables independientes.\n",
        "\n",
        "**Ejemplo de código para entrenar un modelo de Regresión Lineal:**"
      ]
    },
    {
      "cell_type": "code",
      "execution_count": null,
      "id": "653e5806",
      "metadata": {
        "id": "653e5806"
      },
      "outputs": [],
      "source": [
        "from sklearn.linear_model import LinearRegression\n",
        "from sklearn.model_selection import train_test_split\n",
        "import pandas as pd\n",
        "\n",
        "# Cargar datos\n",
        "df = pd.read_csv('ruta/del/dataset.csv')\n",
        "\n",
        "# Definir variables\n",
        "X = df[['var1', 'var2']]\n",
        "y = df['target']\n",
        "\n",
        "# Dividir datos\n",
        "X_train, X_test, y_train, y_test = train_test_split(X, y, test_size=0.2, random_state=42)\n",
        "\n",
        "# Entrenar modelo\n",
        "modelo = LinearRegression()\n",
        "modelo.fit(X_train, y_train)\n",
        "\n",
        "# Predicción\n",
        "y_pred = modelo.predict(X_test)"
      ]
    },
    {
      "cell_type": "markdown",
      "id": "5f043998",
      "metadata": {
        "id": "5f043998"
      },
      "source": [
        "## 3. Regresión Logística\n",
        "\n",
        "La regresión logística se usa para clasificación binaria y predice la probabilidad de pertenencia a una clase.\n",
        "\n",
        "**Ejemplo de código para Regresión Logística:**"
      ]
    },
    {
      "cell_type": "code",
      "execution_count": null,
      "id": "a6987396",
      "metadata": {
        "id": "a6987396"
      },
      "outputs": [],
      "source": [
        "from sklearn.linear_model import LogisticRegression\n",
        "\n",
        "# Entrenar modelo de Regresión Logística\n",
        "modelo = LogisticRegression()\n",
        "modelo.fit(X_train, y_train)\n",
        "\n",
        "# Predicción\n",
        "y_pred = modelo.predict(X_test)"
      ]
    },
    {
      "cell_type": "markdown",
      "id": "52e03a65",
      "metadata": {
        "id": "52e03a65"
      },
      "source": [
        "## 4. Clasificación con k-Nearest Neighbors (k-NN)\n",
        "\n",
        "k-NN clasifica nuevos datos basándose en la cercanía con otros datos previamente clasificados.\n",
        "\n",
        "**Ejemplo de código para implementar k-NN:**"
      ]
    },
    {
      "cell_type": "code",
      "execution_count": null,
      "id": "01ca5d0b",
      "metadata": {
        "id": "01ca5d0b"
      },
      "outputs": [],
      "source": [
        "from sklearn.neighbors import KNeighborsClassifier\n",
        "\n",
        "# Entrenar modelo k-NN\n",
        "modelo = KNeighborsClassifier(n_neighbors=5)\n",
        "modelo.fit(X_train, y_train)\n",
        "\n",
        "# Predicción\n",
        "y_pred = modelo.predict(X_test)"
      ]
    },
    {
      "cell_type": "markdown",
      "id": "7d0bc290",
      "metadata": {
        "id": "7d0bc290"
      },
      "source": [
        "## 5. Árboles de Decisión\n",
        "\n",
        "Los árboles de decisión se basan en reglas jerárquicas para clasificar datos.\n",
        "\n",
        "**Ejemplo de código para implementar un Árbol de Decisión:**"
      ]
    },
    {
      "cell_type": "code",
      "execution_count": null,
      "id": "4fbe05e7",
      "metadata": {
        "id": "4fbe05e7"
      },
      "outputs": [],
      "source": [
        "from sklearn.tree import DecisionTreeClassifier\n",
        "\n",
        "# Entrenar modelo de Árbol de Decisión\n",
        "modelo = DecisionTreeClassifier()\n",
        "modelo.fit(X_train, y_train)\n",
        "\n",
        "# Predicción\n",
        "y_pred = modelo.predict(X_test)"
      ]
    },
    {
      "cell_type": "markdown",
      "id": "a7364aa6",
      "metadata": {
        "id": "a7364aa6"
      },
      "source": [
        "## 6. Segmentación con k-Means Clustering\n",
        "\n",
        "El algoritmo k-Means agrupa los datos en clústeres basándose en similitud.\n",
        "\n",
        "**Ejemplo de código para aplicar k-Means:**"
      ]
    },
    {
      "cell_type": "code",
      "execution_count": null,
      "id": "aa296f7c",
      "metadata": {
        "id": "aa296f7c"
      },
      "outputs": [],
      "source": [
        "from sklearn.cluster import KMeans\n",
        "\n",
        "# Entrenar modelo k-Means\n",
        "modelo = KMeans(n_clusters=3, random_state=42)\n",
        "modelo.fit(X_train)\n",
        "\n",
        "# Asignar clústeres\n",
        "clusters = modelo.predict(X_test)"
      ]
    },
    {
      "cell_type": "markdown",
      "id": "2820936b",
      "metadata": {
        "id": "2820936b"
      },
      "source": [
        "## 7. Reducción de Dimensionalidad con PCA\n",
        "\n",
        "El Análisis de Componentes Principales (PCA) permite reducir la cantidad de variables conservando la información clave.\n",
        "\n",
        "**Ejemplo de código para aplicar PCA:**"
      ]
    },
    {
      "cell_type": "code",
      "execution_count": null,
      "id": "b3f1a1ee",
      "metadata": {
        "id": "b3f1a1ee"
      },
      "outputs": [],
      "source": [
        "from sklearn.decomposition import PCA\n",
        "\n",
        "# Aplicar PCA para reducir a 2 componentes\n",
        "pca = PCA(n_components=2)\n",
        "X_pca = pca.fit_transform(X_train)\n",
        "\n",
        "# Ver la varianza explicada\n",
        "print(pca.explained_variance_ratio_)"
      ]
    },
    {
      "cell_type": "markdown",
      "id": "ff13db5f",
      "metadata": {
        "id": "ff13db5f"
      },
      "source": [
        "## 8. Consideraciones Finales\n",
        "\n",
        "- Cada modelo tiene aplicaciones distintas y es crucial seleccionar el adecuado.\n",
        "- La interpretación de resultados depende del contexto del problema.\n",
        "- Los parámetros de los modelos pueden ajustarse para mejorar su rendimiento.\n",
        "- Los datos deben preprocesarse correctamente para obtener predicciones confiables."
      ]
    }
  ],
  "metadata": {
    "colab": {
      "provenance": [],
      "include_colab_link": true
    }
  },
  "nbformat": 4,
  "nbformat_minor": 5
}