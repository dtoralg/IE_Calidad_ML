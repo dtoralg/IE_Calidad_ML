{
  "cells": [
    {
      "cell_type": "markdown",
      "metadata": {
        "id": "view-in-github",
        "colab_type": "text"
      },
      "source": [
        "<a href=\"https://colab.research.google.com/github/dtoralg/IE_Calidad_ML/blob/main/Ejercicios/Modulo%203/Modulo_3_Ejercicio_5_kMeans_Segmentacion_Productos.ipynb\" target=\"_parent\"><img src=\"https://colab.research.google.com/assets/colab-badge.svg\" alt=\"Open In Colab\"/></a>"
      ]
    },
    {
      "cell_type": "markdown",
      "id": "ee301663",
      "metadata": {
        "id": "ee301663"
      },
      "source": [
        "### **Ejercicio 5: Aplicación de k-Means para Segmentación de Productos**\n",
        "#### Uso del algoritmo k-Means para agrupar productos con características similares"
      ]
    },
    {
      "cell_type": "markdown",
      "id": "b4d43e4e",
      "metadata": {
        "id": "b4d43e4e"
      },
      "source": [
        "### **Introducción**\n",
        "En este ejercicio, aplicaremos el algoritmo de Clustering k-Means para segmentar productos en función de sus propiedades físicas y de calidad. La segmentación de productos es una técnica útil para identificar patrones en los datos y optimizar procesos de control de calidad."
      ]
    },
    {
      "cell_type": "code",
      "execution_count": null,
      "id": "9cf8d8b4",
      "metadata": {
        "id": "9cf8d8b4"
      },
      "outputs": [],
      "source": [
        "# Celda 1\n",
        "import pandas as pd\n",
        "import numpy as np\n",
        "import matplotlib.pyplot as plt\n",
        "import seaborn as sns\n",
        "from sklearn.preprocessing import StandardScaler\n",
        "from sklearn.cluster import KMeans\n",
        "from sklearn.metrics import silhouette_score\n",
        "\n",
        "# Configuración de gráficos\n",
        "sns.set(style='whitegrid')"
      ]
    },
    {
      "cell_type": "markdown",
      "id": "e634a8cb",
      "metadata": {
        "id": "e634a8cb"
      },
      "source": [
        "### **Descripción del dataset**\n",
        "Se utilizará el dataset \"Control de calidad en empaques de alimentos\", que contiene información sobre las propiedades físicas y de calidad de distintos envases utilizados en la industria alimentaria. Este dataset incluye variables relevantes para la segmentación de productos."
      ]
    },
    {
      "cell_type": "code",
      "execution_count": null,
      "id": "dc240b84",
      "metadata": {
        "id": "dc240b84"
      },
      "outputs": [],
      "source": [
        "# Celda 2\n",
        "dataset_path = 'https://github.com/dtoralg/IE_Calidad_ML/raw/main/Data/control_calidad_empaques.csv'\n",
        "...\n",
        "\n",
        "# Mostrar las primeras filas del dataset\n",
        "...\n"
      ]
    },
    {
      "cell_type": "code",
      "execution_count": null,
      "id": "a4d078c9",
      "metadata": {
        "id": "a4d078c9"
      },
      "outputs": [],
      "source": [
        "# Celda 3\n",
        "# Información general del dataset\n",
        "..."
      ]
    },
    {
      "cell_type": "code",
      "execution_count": null,
      "id": "0a93f876",
      "metadata": {
        "id": "0a93f876"
      },
      "outputs": [],
      "source": [
        "# Celda 4\n",
        "# Resumen estadístico\n",
        "..."
      ]
    },
    {
      "cell_type": "code",
      "execution_count": null,
      "id": "126c9ccb",
      "metadata": {
        "id": "126c9ccb"
      },
      "outputs": [],
      "source": [
        "# Celda 5\n",
        "# Distribución de la variable 'Defecto_detectado'\n",
        "..."
      ]
    },
    {
      "cell_type": "markdown",
      "id": "1298bc62",
      "metadata": {
        "id": "1298bc62"
      },
      "source": [
        "### **Preprocesamiento de los datos**\n",
        "Se seleccionan las variables numéricas y se normalizan para mejorar el desempeño del algoritmo de clustering."
      ]
    },
    {
      "cell_type": "code",
      "execution_count": null,
      "id": "855bf8b9",
      "metadata": {
        "id": "855bf8b9"
      },
      "outputs": [],
      "source": [
        "# Celda 6\n",
        "# Seleccionar solo las variables numéricas para el clustering\n",
        "numeric_columns = ...\n",
        "X = ...\n",
        "\n",
        "# Normalización de los datos\n",
        "...\n"
      ]
    },
    {
      "cell_type": "markdown",
      "id": "f8dda693",
      "metadata": {
        "id": "f8dda693"
      },
      "source": [
        "### **Aplicación del algoritmo k-Means**\n",
        "Se aplica el clustering k-Means con un número inicial de clusters k=3 para segmentar los productos."
      ]
    },
    {
      "cell_type": "code",
      "execution_count": null,
      "id": "3ae1b0e3",
      "metadata": {
        "id": "3ae1b0e3"
      },
      "outputs": [],
      "source": [
        "# Celda 7\n",
        "# Aplicar k-Means con 3 clusters\n",
        "...\n",
        "\n",
        "# Mostrar los primeros resultados\n",
        "..."
      ]
    },
    {
      "cell_type": "markdown",
      "id": "d69638d9",
      "metadata": {
        "id": "d69638d9"
      },
      "source": [
        "### **Evaluación del clustering**\n",
        "Se evalúa la calidad del clustering utilizando la inercia y el coeficiente de silueta."
      ]
    },
    {
      "cell_type": "code",
      "execution_count": null,
      "id": "163495b5",
      "metadata": {
        "id": "163495b5"
      },
      "outputs": [],
      "source": [
        "# Celda 8\n",
        "# Calcular la inercia y el coeficiente de silueta\n",
        "...\n",
        "\n",
        "print(f'Inercia del modelo: {inertia:.2f}')\n",
        "print(f'Coeficiente de silueta: {silhouette:.2f}')"
      ]
    },
    {
      "cell_type": "markdown",
      "id": "b8c16f9c",
      "metadata": {
        "id": "b8c16f9c"
      },
      "source": [
        "### **Visualización de los clusters**\n",
        "Se visualizan los clusters en gráficos de dispersión utilizando dos variables principales."
      ]
    },
    {
      "cell_type": "code",
      "execution_count": null,
      "id": "9e0c3fda",
      "metadata": {
        "id": "9e0c3fda"
      },
      "outputs": [],
      "source": [
        "# Celda 9\n",
        "# Gráfico de dispersión de los clusters\n",
        "..."
      ]
    },
    {
      "cell_type": "markdown",
      "id": "1b8bc4c9",
      "metadata": {
        "id": "1b8bc4c9"
      },
      "source": [
        "### **Determinación del número óptimo de clusters**\n",
        "Se utiliza la técnica del codo para encontrar el número adecuado de clusters en los datos."
      ]
    },
    {
      "cell_type": "code",
      "execution_count": null,
      "id": "4eeccece",
      "metadata": {
        "id": "4eeccece"
      },
      "outputs": [],
      "source": [
        "# Celda 10\n",
        "# Aplicación del método del codo\n",
        "inertia_values = []\n",
        "k_range = range(1, 11)\n",
        "\n",
        "for k in k_range: # Aplicar modelo con k variable\n",
        "  ...\n",
        "\n",
        "# Gráfico del método del codo\n",
        "plt.figure(figsize=(8,6))\n",
        "plt.plot(k_range, inertia_values, marker='o', linestyle='dashed')\n",
        "plt.xlabel('Número de Clusters (k)')\n",
        "plt.ylabel('Inercia')\n",
        "plt.title('Método del Codo para determinar k óptimo')\n",
        "plt.show()"
      ]
    },
    {
      "cell_type": "markdown",
      "source": [
        "Identificamos un codo en k=5, a partir del cual la inercia disminuye más lentamente. Por tanto incrementos de k a partir de este punto explican menos variabilidad, pero tienen un coste computacional mayor. Sería el punto  ideal en este caso.\n"
      ],
      "metadata": {
        "id": "-bTyCoTrGnTG"
      },
      "id": "-bTyCoTrGnTG"
    },
    {
      "cell_type": "markdown",
      "id": "dc4d2926",
      "metadata": {
        "id": "dc4d2926"
      },
      "source": [
        "### **Conclusiones**\n",
        "En este ejercicio, aplicamos el algoritmo k-Means para segmentar productos en función de sus propiedades físicas y de calidad. Se evaluó la calidad del clustering mediante la inercia y el coeficiente de silueta, además de utilizar el método del codo para determinar el número óptimo de clusters.\n",
        "\n",
        "Este análisis es útil para mejorar los procesos de control de calidad en la industria alimentaria, permitiendo identificar grupos de productos con características similares y posibles defectos comunes."
      ]
    }
  ],
  "metadata": {
    "colab": {
      "provenance": [],
      "include_colab_link": true
    },
    "language_info": {
      "name": "python"
    },
    "kernelspec": {
      "name": "python3",
      "display_name": "Python 3"
    }
  },
  "nbformat": 4,
  "nbformat_minor": 5
}