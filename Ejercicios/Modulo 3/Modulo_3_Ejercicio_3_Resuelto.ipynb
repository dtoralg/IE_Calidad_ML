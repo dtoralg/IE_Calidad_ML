{
  "cells": [
    {
      "cell_type": "markdown",
      "metadata": {
        "id": "view-in-github",
        "colab_type": "text"
      },
      "source": [
        "<a href=\"https://colab.research.google.com/github/dtoralg/IE_Calidad_ML/blob/main/Ejercicios/Modulo%203/Modulo_3_Ejercicio_3_Resuelto.ipynb\" target=\"_parent\"><img src=\"https://colab.research.google.com/assets/colab-badge.svg\" alt=\"Open In Colab\"/></a>"
      ]
    },
    {
      "cell_type": "markdown",
      "metadata": {
        "id": "fe7c37a2"
      },
      "source": [
        "# Ejercicio 3: Clasificación Supervisada en Equipos Médicos\n",
        "\n",
        "## Objetivo\n",
        "En este ejercicio construirás un modelo de clasificación supervisada para predecir si un equipo médico pasa el control de calidad. Utilizarás el dataset **control_calidad_equipos_medicos.csv** y seguirás los siguientes pasos:\n",
        "\n",
        "- Cargar el dataset y explorar sus características básicas.\n",
        "- Preprocesar los datos, incluyendo la codificación de variables categóricas (por ejemplo, \"TipoEquipo\").\n",
        "- Definir la variable objetivo **Aprobado** (binaria: 1 si pasa el control, 0 si no).\n",
        "- Dividir el conjunto en entrenamiento y prueba.\n",
        "- Entrenar un modelo de clasificación (utilizaremos un árbol de decisión).\n",
        "- Evaluar el modelo con métricas como exactitud, precisión, recall y F1-score.\n",
        "\n",
        "¡Comencemos!"
      ]
    },
    {
      "cell_type": "markdown",
      "metadata": {
        "id": "d2fc9a6a"
      },
      "source": [
        "## 1. Importación de Librerías y Carga del Dataset\n",
        "\n",
        "En esta sección, importarás las librerías necesarias y cargarás el archivo **control_calidad_equipos_medicos.csv** en un DataFrame. Se asume que el archivo se encuentra en el mismo directorio que este notebook."
      ]
    },
    {
      "cell_type": "code",
      "execution_count": null,
      "metadata": {
        "id": "3c405aca"
      },
      "outputs": [],
      "source": [
        "# Importar librerías necesarias\n",
        "import pandas as pd\n",
        "import matplotlib.pyplot as plt\n",
        "import seaborn as sns\n",
        "\n",
        "# Cargar el dataset de calidad de equipos médicos\n",
        "df_medicos = pd.read_csv('control_calidad_equipos_medicos.csv')\n",
        "\n",
        "# Mostrar las primeras filas para verificar la carga\n",
        "print(\"Primeras filas del dataset de equipos médicos:\")\n",
        "display(df_medicos.head())\n",
        "\n",
        "# Mostrar información general del DataFrame\n",
        "print(\"Información del dataset de equipos médicos:\")\n",
        "display(df_medicos.info())\n",
        "\n",
        "# Mostrar estadísticas descriptivas\n",
        "print(\"Estadísticas descriptivas del dataset de equipos médicos:\")\n",
        "display(df_medicos.describe())"
      ]
    },
    {
      "cell_type": "markdown",
      "metadata": {
        "id": "f66c3b79"
      },
      "source": [
        "## 2. Preprocesamiento y Definición de Variables\n",
        "\n",
        "Para este ejercicio se asume que el dataset contiene, entre otras, las siguientes columnas:\n",
        "- **ID**: Identificador del registro\n",
        "- **TipoEquipo**: Tipo o categoría del equipo médico\n",
        "- **Calidad**: Puntuación numérica de calidad\n",
        "- **Defectos**: Cantidad de defectos detectados\n",
        "- **Aprobado**: Variable binaria que indica si el equipo pasó el control de calidad (1 = aprobado, 0 = no aprobado)\n",
        "\n",
        "Primero, revisa la existencia de valores nulos en las columnas de interés y, de ser necesario, aplica una imputación (en este ejemplo se asume que no hay valores nulos críticos). Luego, se codificará la variable **TipoEquipo** y se definirán las variables predictoras y la variable objetivo."
      ]
    },
    {
      "cell_type": "code",
      "execution_count": null,
      "metadata": {
        "id": "0fc6a4e5"
      },
      "outputs": [],
      "source": [
        "# Revisar valores nulos en columnas relevantes\n",
        "print(df_medicos[['TipoEquipo', 'Calidad', 'Defectos', 'Aprobado']].isnull().sum())\n",
        "\n",
        "# Codificar la variable categórica 'TipoEquipo' usando One-Hot Encoding\n",
        "df_tipo = pd.get_dummies(df_medicos['TipoEquipo'], prefix='Tipo', drop_first=True)\n",
        "\n",
        "# Integrar la codificación al DataFrame original\n",
        "df_medicos = pd.concat([df_medicos, df_tipo], axis=1)\n",
        "\n",
        "# Definir variables predictoras y la variable objetivo\n",
        "# Usaremos 'Calidad' y 'Defectos' junto con las columnas dummy generadas a partir de 'TipoEquipo'\n",
        "columnas_dummy = list(df_tipo.columns)\n",
        "X = df_medicos[['Calidad', 'Defectos'] + columnas_dummy]\n",
        "y = df_medicos['Aprobado']\n",
        "\n",
        "print(\"Resumen de las variables predictoras:\")\n",
        "display(X.describe())\n",
        "print(\"Resumen de la variable objetivo (Aprobado):\")\n",
        "display(y.value_counts())"
      ]
    },
    {
      "cell_type": "markdown",
      "metadata": {
        "id": "72dc8c50"
      },
      "source": [
        "## 3. División de Datos y Entrenamiento del Modelo\n",
        "\n",
        "Dividiremos el conjunto de datos en entrenamiento y prueba (80% / 20%) y entrenaremos un modelo de clasificación. En este caso, usaremos un Árbol de Decisión para predecir la variable **Aprobado**."
      ]
    },
    {
      "cell_type": "code",
      "execution_count": null,
      "metadata": {
        "id": "b9f173ea"
      },
      "outputs": [],
      "source": [
        "from sklearn.model_selection import train_test_split\n",
        "from sklearn.tree import DecisionTreeClassifier\n",
        "\n",
        "# Dividir los datos\n",
        "X_train, X_test, y_train, y_test = train_test_split(X, y, test_size=0.2, random_state=42)\n",
        "\n",
        "print(\"Tamaño de X_train:\", X_train.shape)\n",
        "print(\"Tamaño de X_test:\", X_test.shape)\n",
        "\n",
        "# Entrenar el modelo: Árbol de Decisión\n",
        "modelo = DecisionTreeClassifier(random_state=42)\n",
        "modelo.fit(X_train, y_train)\n",
        "\n",
        "print(\"Modelo entrenado exitosamente.\")"
      ]
    },
    {
      "cell_type": "markdown",
      "metadata": {
        "id": "71e7b888"
      },
      "source": [
        "## 4. Evaluación del Modelo\n",
        "\n",
        "Evaluaremos el desempeño del modelo usando métricas de clasificación: exactitud, matriz de confusión, y el reporte de clasificación (precisión, recall y F1-score)."
      ]
    },
    {
      "cell_type": "code",
      "execution_count": null,
      "metadata": {
        "id": "4dfdfdd7"
      },
      "outputs": [],
      "source": [
        "from sklearn.metrics import accuracy_score, confusion_matrix, classification_report\n",
        "\n",
        "# Realizar predicciones en el conjunto de prueba\n",
        "y_pred = modelo.predict(X_test)\n",
        "\n",
        "# Calcular exactitud\n",
        "exactitud = accuracy_score(y_test, y_pred)\n",
        "print(\"Exactitud del modelo:\", exactitud)\n",
        "\n",
        "# Calcular matriz de confusión\n",
        "cm = confusion_matrix(y_test, y_pred)\n",
        "print(\"Matriz de confusión:\")\n",
        "print(cm)\n",
        "\n",
        "# Reporte de clasificación\n",
        "print(\"Reporte de clasificación:\")\n",
        "print(classification_report(y_test, y_pred))"
      ]
    },
    {
      "cell_type": "markdown",
      "metadata": {
        "id": "3bd9aee1"
      },
      "source": [
        "## 5. Sistema de Testeo Automático\n",
        "\n",
        "Este bloque de código verificará que:\n",
        "\n",
        "- El DataFrame no esté vacío.\n",
        "- Existan las columnas clave: `Calidad`, `Defectos`, `Aprobado` y las columnas generadas a partir de `TipoEquipo`.\n",
        "- El modelo entrene y tenga una exactitud razonable (por ejemplo, mayor al 60%)."
      ]
    },
    {
      "cell_type": "code",
      "execution_count": null,
      "metadata": {
        "id": "e7e8dbb3"
      },
      "outputs": [],
      "source": [
        "# Test 1: Verificar que el DataFrame no está vacío\n",
        "assert df_medicos.shape[0] > 0, \"Test fallido: El DataFrame está vacío.\"\n",
        "\n",
        "# Test 2: Verificar que existen las columnas clave\n",
        "columnas_requeridas = ['Calidad', 'Defectos', 'Aprobado'] + columnas_dummy\n",
        "for col in columnas_requeridas:\n",
        "    assert col in df_medicos.columns, f\"Test fallido: La columna {col} no se encontró en el DataFrame.\"\n",
        "\n",
        "# Test 3: Verificar que la exactitud del modelo sea razonable (>= 0.6)\n",
        "assert exactitud >= 0.6, f\"Test fallido: La exactitud del modelo es demasiado baja ({exactitud}).\"\n",
        "\n",
        "print(\"Todos los tests se han pasado correctamente.\")"
      ]
    },
    {
      "cell_type": "markdown",
      "metadata": {
        "id": "72b83de1"
      },
      "source": [
        "## 6. Reflexión Final\n",
        "\n",
        "1. ¿Qué variables consideraste más importantes para predecir si un equipo médico es aprobado y por qué?\n",
        "2. ¿Cómo influye la codificación de la variable **TipoEquipo** en el desempeño del modelo?\n",
        "3. ¿Qué métricas de evaluación te resultaron más útiles para analizar el rendimiento del modelo y por qué?\n",
        "4. ¿Qué mejoras propondrías para optimizar el modelo?\n",
        "\n",
        "_Responde estas preguntas en una celda Markdown adicional o en un comentario._"
      ]
    }
  ],
  "metadata": {
    "kernelspec": {
      "display_name": "Python 3",
      "language": "python",
      "name": "python3"
    },
    "language_info": {
      "name": "python",
      "version": "3.x"
    },
    "colab": {
      "provenance": [],
      "include_colab_link": true
    }
  },
  "nbformat": 4,
  "nbformat_minor": 0
}