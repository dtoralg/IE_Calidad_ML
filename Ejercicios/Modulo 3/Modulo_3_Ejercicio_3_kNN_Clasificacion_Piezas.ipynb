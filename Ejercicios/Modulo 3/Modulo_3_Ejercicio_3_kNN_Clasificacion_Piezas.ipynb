{
  "cells": [
    {
      "cell_type": "markdown",
      "metadata": {
        "id": "view-in-github",
        "colab_type": "text"
      },
      "source": [
        "<a href=\"https://colab.research.google.com/github/dtoralg/IE_Calidad_ML/blob/main/Ejercicios/Modulo%203/Modulo_3_Ejercicio_3_kNN_Clasificacion_Piezas.ipynb\" target=\"_parent\"><img src=\"https://colab.research.google.com/assets/colab-badge.svg\" alt=\"Open In Colab\"/></a>"
      ]
    },
    {
      "cell_type": "markdown",
      "id": "ce1836d2",
      "metadata": {
        "id": "ce1836d2"
      },
      "source": [
        "### **Ejercicio 3: Implementación de k-NN en Clasificación de Piezas Metálicas**\n",
        "#### Aplicación del algoritmo k-Nearest Neighbors (k-NN) para clasificar piezas metálicas"
      ]
    },
    {
      "cell_type": "markdown",
      "id": "784bdddf",
      "metadata": {
        "id": "784bdddf"
      },
      "source": [
        "### **Introducción**\n",
        "En este ejercicio, aplicaremos el algoritmo k-Nearest Neighbors (k-NN) para clasificar piezas metálicas en función de sus características. El objetivo es entrenar un modelo de clasificación para predecir si una pieza es \"OK\" o \"KO\" y evaluar su rendimiento con diferentes valores de k."
      ]
    },
    {
      "cell_type": "code",
      "execution_count": null,
      "id": "70062a29",
      "metadata": {
        "id": "70062a29"
      },
      "outputs": [],
      "source": [
        "# Celda 1\n",
        "import pandas as pd\n",
        "import numpy as np\n",
        "import matplotlib.pyplot as plt\n",
        "import seaborn as sns\n",
        "from sklearn.model_selection import train_test_split\n",
        "from sklearn.preprocessing import StandardScaler\n",
        "from sklearn.neighbors import KNeighborsClassifier\n",
        "from sklearn.metrics import accuracy_score, confusion_matrix, classification_report\n",
        "\n",
        "# Configuración de gráficos\n",
        "sns.set(style='whitegrid')"
      ]
    },
    {
      "cell_type": "markdown",
      "id": "574ebe8a",
      "metadata": {
        "id": "574ebe8a"
      },
      "source": [
        "### **Descripción del dataset**\n",
        "Se utilizará el dataset \"Control de calidad en línea de producción de piezas metálicas\", que contiene información sobre diversas características físicas de las piezas y su clasificación en \"OK\" o \"KO\" (defectuosa)."
      ]
    },
    {
      "cell_type": "code",
      "execution_count": null,
      "id": "6df80e80",
      "metadata": {
        "id": "6df80e80"
      },
      "outputs": [],
      "source": [
        "# Celda 2\n",
        "dataset_path = \"https://github.com/dtoralg/IE_Calidad_ML/raw/main/Data/control_calidad_piezas_metalicas.csv\"\n",
        "...\n",
        "\n",
        "# Mostrar las primeras filas del dataset\n",
        "...\n"
      ]
    },
    {
      "cell_type": "code",
      "execution_count": null,
      "id": "30ef61ce",
      "metadata": {
        "id": "30ef61ce"
      },
      "outputs": [],
      "source": [
        "# Celda 3\n",
        "# Información general del dataset\n",
        "..."
      ]
    },
    {
      "cell_type": "code",
      "execution_count": null,
      "id": "26904d0d",
      "metadata": {
        "id": "26904d0d"
      },
      "outputs": [],
      "source": [
        "# Celda 4\n",
        "# Resumen estadístico\n",
        "..."
      ]
    },
    {
      "cell_type": "code",
      "execution_count": null,
      "id": "cfd5dd6d",
      "metadata": {
        "id": "cfd5dd6d"
      },
      "outputs": [],
      "source": [
        "# Celda 5\n",
        "# Distribución de la variable objetivo \"Defecto\" con un countplot\n",
        "...\n"
      ]
    },
    {
      "cell_type": "markdown",
      "id": "86760406",
      "metadata": {
        "id": "86760406"
      },
      "source": [
        "### **Preparación de los datos**\n",
        "Se seleccionan las características numéricas y la variable objetivo, y se normalizan los datos antes de dividirlos en entrenamiento y prueba."
      ]
    },
    {
      "cell_type": "code",
      "source": [
        "# Convertir variables categóricas a dummies\n",
        "...\n",
        "\n",
        "# Convertir la variable objetivo a valores numéricos (OK -> 0, KO -> 1)\n",
        "...\n",
        "\n",
        "# Verificar la estructura del dataset después de las transformaciones\n",
        "...\n"
      ],
      "metadata": {
        "id": "1Fu2RbGJHv5K"
      },
      "id": "1Fu2RbGJHv5K",
      "execution_count": null,
      "outputs": []
    },
    {
      "cell_type": "code",
      "execution_count": null,
      "id": "48ddf91a",
      "metadata": {
        "id": "48ddf91a"
      },
      "outputs": [],
      "source": [
        "# Celda 6\n",
        "# Definir variables predictoras y objetivo\n",
        "X = ...\n",
        "y = ...\n",
        "\n",
        "# División en conjuntos de entrenamiento y prueba. Ten en cuenta la variable target desbalanceada\n",
        "X_train, X_test, y_train, y_test = ...\n",
        "\n",
        "# Normalización de los datos\n",
        "scaler = ...\n",
        "X_train = ...\n",
        "X_test = ..."
      ]
    },
    {
      "cell_type": "markdown",
      "id": "70bac763",
      "metadata": {
        "id": "70bac763"
      },
      "source": [
        "### **Entrenamiento del modelo k-NN**\n",
        "Se entrena un modelo k-NN con un valor inicial de k=10."
      ]
    },
    {
      "cell_type": "code",
      "execution_count": null,
      "id": "53d5121d",
      "metadata": {
        "id": "53d5121d"
      },
      "outputs": [],
      "source": [
        "# Celda 7\n",
        "# Crear y entrenar el modelo k-NN\n",
        "..."
      ]
    },
    {
      "cell_type": "markdown",
      "id": "e1b3b074",
      "metadata": {
        "id": "e1b3b074"
      },
      "source": [
        "### **Evaluación del modelo**\n",
        "Se evalúa el modelo utilizando métricas de clasificación como precisión y matriz de confusión."
      ]
    },
    {
      "cell_type": "code",
      "execution_count": null,
      "id": "7bbabdf6",
      "metadata": {
        "id": "7bbabdf6"
      },
      "outputs": [],
      "source": [
        "# Celda 8\n",
        "y_pred = ...\n",
        "\n",
        "accuracy = ...\n",
        "print(f'Precisión del modelo: {accuracy:.2f}')\n",
        "\n",
        "print('Reporte de clasificación:')\n",
        "print(...)"
      ]
    },
    {
      "cell_type": "markdown",
      "id": "7f71a7c8",
      "metadata": {
        "id": "7f71a7c8"
      },
      "source": [
        "### **Visualización de la matriz de confusión**\n",
        "Se muestra la matriz de confusión para analizar el desempeño del modelo en cada categoría."
      ]
    },
    {
      "cell_type": "code",
      "execution_count": null,
      "id": "8882f47a",
      "metadata": {
        "id": "8882f47a"
      },
      "outputs": [],
      "source": [
        "# Celda 9\n",
        "cm = ...\n",
        "plt.figure(figsize=(6,5))\n",
        "sns.heatmap(cm, annot=True, fmt='d', cmap='Blues', xticklabels=['OK', 'KO'], yticklabels=['OK', 'KO'])\n",
        "plt.xlabel('Predicción')\n",
        "plt.ylabel('Real')\n",
        "plt.title('Matriz de Confusión')\n",
        "plt.show()"
      ]
    },
    {
      "cell_type": "markdown",
      "id": "773fe0f6",
      "metadata": {
        "id": "773fe0f6"
      },
      "source": [
        "### **Comparación con diferentes valores de k**\n",
        "Se analiza el impacto de distintos valores de k en la precisión del modelo."
      ]
    },
    {
      "cell_type": "code",
      "execution_count": null,
      "id": "1cd35a56",
      "metadata": {
        "id": "1cd35a56"
      },
      "outputs": [],
      "source": [
        "# Celda 10\n",
        "k_values = range(1, 21)\n",
        "accuracy_scores = []\n",
        "\n",
        "for k in k_values:\n",
        "    knn = ...\n",
        "    knn.fit(X_train, y_train)\n",
        "    y_pred_k = ...\n",
        "    accuracy_scores.append(accuracy_score(y_test, y_pred_k))\n",
        "\n",
        "# Visualización de los resultados\n",
        "plt.figure(figsize=(8,5))\n",
        "plt.plot(k_values, accuracy_scores, marker='o', linestyle='dashed')\n",
        "plt.xlabel('Número de Vecinos (k)')\n",
        "plt.ylabel('Precisión')\n",
        "plt.title('Precisión del modelo según el valor de k')\n",
        "plt.show()"
      ]
    },
    {
      "cell_type": "markdown",
      "id": "cf06f7ed",
      "metadata": {
        "id": "cf06f7ed"
      },
      "source": [
        "### **Conclusiones**\n",
        "En este ejercicio, hemos aplicado el algoritmo k-NN para clasificar piezas metálicas como \"OK\" o \"KO\".\n",
        "\n",
        "Se ha evaluado el impacto del número de vecinos (k) en la precisión del modelo, observando que valores pequeños de k pueden generar sobreajuste, mientras que valores grandes pueden suavizar demasiado las predicciones.\n",
        "\n",
        "Se podrían explorar técnicas adicionales como la selección óptima de características, ajuste de hiperparámetros o uso de métodos de reducción de dimensionalidad para mejorar el desempeño del modelo."
      ]
    }
  ],
  "metadata": {
    "colab": {
      "provenance": [],
      "include_colab_link": true
    },
    "language_info": {
      "name": "python"
    },
    "kernelspec": {
      "name": "python3",
      "display_name": "Python 3"
    }
  },
  "nbformat": 4,
  "nbformat_minor": 5
}