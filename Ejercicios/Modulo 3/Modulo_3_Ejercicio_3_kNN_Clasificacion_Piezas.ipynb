{
  "cells": [
    {
      "cell_type": "markdown",
      "metadata": {
        "id": "view-in-github",
        "colab_type": "text"
      },
      "source": [
        "<a href=\"https://colab.research.google.com/github/dtoralg/IE_Calidad_ML/blob/main/Ejercicios/Modulo%203/Modulo_3_Ejercicio_3_kNN_Clasificacion_Piezas.ipynb\" target=\"_parent\"><img src=\"https://colab.research.google.com/assets/colab-badge.svg\" alt=\"Open In Colab\"/></a>"
      ]
    },
    {
      "cell_type": "markdown",
      "id": "ce1836d2",
      "metadata": {
        "id": "ce1836d2"
      },
      "source": [
        "### **Ejercicio 3: Implementación de k-NN en Clasificación de Piezas Metálicas**\n",
        "#### Aplicación del algoritmo k-Nearest Neighbors (k-NN) para clasificar piezas metálicas"
      ]
    },
    {
      "cell_type": "markdown",
      "id": "784bdddf",
      "metadata": {
        "id": "784bdddf"
      },
      "source": [
        "### **Introducción**\n",
        "En este ejercicio, aplicaremos el algoritmo k-Nearest Neighbors (k-NN) para clasificar piezas metálicas en función de sus características. El objetivo es entrenar un modelo de clasificación para predecir si una pieza es \"OK\" o \"KO\"."
      ]
    },
    {
      "cell_type": "code",
      "execution_count": null,
      "id": "70062a29",
      "metadata": {
        "id": "70062a29"
      },
      "outputs": [],
      "source": [
        "# Celda 1\n",
        "import pandas as pd\n",
        "import numpy as np\n",
        "import matplotlib.pyplot as plt\n",
        "import seaborn as sns\n",
        "from sklearn.model_selection import train_test_split\n",
        "from sklearn.preprocessing import StandardScaler\n",
        "from sklearn.neighbors import KNeighborsClassifier\n",
        "\n",
        "# Configuración de gráficos\n",
        "sns.set(style='whitegrid')"
      ]
    },
    {
      "cell_type": "markdown",
      "id": "574ebe8a",
      "metadata": {
        "id": "574ebe8a"
      },
      "source": [
        "### **Descripción del dataset**\n",
        "Se utilizará el dataset \"Control de calidad en línea de producción de piezas metálicas\", que contiene información sobre diversas características físicas de las piezas y su clasificación en \"OK\" o \"KO\" (defectuosa)."
      ]
    },
    {
      "cell_type": "code",
      "execution_count": null,
      "id": "6df80e80",
      "metadata": {
        "id": "6df80e80"
      },
      "outputs": [],
      "source": [
        "# Celda 2\n",
        "dataset_path = \"https://github.com/dtoralg/IE_Calidad_ML/raw/main/Data/control_calidad_piezas_metalicas.csv\"\n",
        "...\n",
        "\n",
        "# Mostrar las primeras filas del dataset\n",
        "...\n"
      ]
    },
    {
      "cell_type": "code",
      "execution_count": null,
      "id": "30ef61ce",
      "metadata": {
        "id": "30ef61ce"
      },
      "outputs": [],
      "source": [
        "# Celda 3\n",
        "# Información general del dataset\n",
        "..."
      ]
    },
    {
      "cell_type": "code",
      "execution_count": null,
      "id": "26904d0d",
      "metadata": {
        "id": "26904d0d"
      },
      "outputs": [],
      "source": [
        "# Celda 4\n",
        "# Resumen estadístico\n",
        "..."
      ]
    },
    {
      "cell_type": "code",
      "execution_count": null,
      "id": "cfd5dd6d",
      "metadata": {
        "id": "cfd5dd6d"
      },
      "outputs": [],
      "source": [
        "# Celda 5\n",
        "# Distribución de la variable objetivo \"Defecto\" con un countplot\n",
        "...\n"
      ]
    },
    {
      "cell_type": "markdown",
      "id": "86760406",
      "metadata": {
        "id": "86760406"
      },
      "source": [
        "### **Preparación de los datos**\n",
        "Se seleccionan las características numéricas y la variable objetivo, y se normalizan los datos antes de dividirlos en entrenamiento y prueba."
      ]
    },
    {
      "cell_type": "code",
      "source": [
        "# Convertir variables categóricas a dummies\n",
        "...\n",
        "\n",
        "# Convertir la variable objetivo a valores numéricos (OK -> 0, KO -> 1)\n",
        "...\n",
        "\n",
        "# Verificar la estructura del dataset después de las transformaciones\n",
        "...\n"
      ],
      "metadata": {
        "id": "1Fu2RbGJHv5K"
      },
      "id": "1Fu2RbGJHv5K",
      "execution_count": null,
      "outputs": []
    },
    {
      "cell_type": "code",
      "execution_count": null,
      "id": "48ddf91a",
      "metadata": {
        "id": "48ddf91a"
      },
      "outputs": [],
      "source": [
        "# Celda 6\n",
        "# Definir variables predictoras y objetivo\n",
        "X = ...\n",
        "y = ...\n",
        "\n",
        "# División en conjuntos de entrenamiento y prueba. Ten en cuenta la variable target desbalanceada\n",
        "X_train, X_test, y_train, y_test = ...\n",
        "\n",
        "# Normalización de los datos\n",
        "scaler = ...\n",
        "X_train = ...\n",
        "X_test = ..."
      ]
    },
    {
      "cell_type": "markdown",
      "id": "70bac763",
      "metadata": {
        "id": "70bac763"
      },
      "source": [
        "### **Entrenamiento del modelo k-NN**\n",
        "Se entrena un modelo k-NN con un valor inicial de k=10."
      ]
    },
    {
      "cell_type": "code",
      "execution_count": null,
      "id": "53d5121d",
      "metadata": {
        "id": "53d5121d"
      },
      "outputs": [],
      "source": [
        "# Celda 7\n",
        "# Crear y entrenar el modelo k-NN\n",
        "..."
      ]
    },
    {
      "cell_type": "markdown",
      "id": "e1b3b074",
      "metadata": {
        "id": "e1b3b074"
      },
      "source": [
        "### **Generación de predicciones**\n",
        "Se generan las predicciones y comparamos con valores de test conocidos."
      ]
    },
    {
      "cell_type": "code",
      "execution_count": null,
      "id": "7bbabdf6",
      "metadata": {
        "id": "7bbabdf6"
      },
      "outputs": [],
      "source": [
        "# Celda 8\n",
        "y_pred = ...\n",
        "import pandas as pd\n",
        "\n",
        "# Hacer predicciones\n",
        "y_pred = ...\n",
        "\n",
        "# Crear una copia del DataFrame original de test para evitar modificar el original\n",
        "df_predicciones = X_test.copy()\n",
        "\n",
        "# Añadir la columna de valores reales\n",
        "df_predicciones[\"Real\"] = y_test.values\n",
        "\n",
        "# Añadir la columna de valores predichos\n",
        "df_predicciones[\"Predicho\"] = y_pred\n",
        "\n",
        "# Mostrar las primeras filas\n",
        "print(df_predicciones.head(5))\n"
      ]
    },
    {
      "cell_type": "markdown",
      "id": "cf06f7ed",
      "metadata": {
        "id": "cf06f7ed"
      },
      "source": [
        "### **Conclusiones**\n",
        "En este ejercicio, hemos aplicado el algoritmo k-NN para clasificar piezas metálicas como \"OK\" o \"KO\".\n",
        "\n",
        "Se podrían explorar técnicas adicionales como la selección óptima de características, ajuste de hiperparámetros o uso de métodos de reducción de dimensionalidad para mejorar el desempeño del modelo."
      ]
    }
  ],
  "metadata": {
    "colab": {
      "provenance": [],
      "include_colab_link": true
    },
    "language_info": {
      "name": "python"
    },
    "kernelspec": {
      "name": "python3",
      "display_name": "Python 3"
    }
  },
  "nbformat": 4,
  "nbformat_minor": 5
}