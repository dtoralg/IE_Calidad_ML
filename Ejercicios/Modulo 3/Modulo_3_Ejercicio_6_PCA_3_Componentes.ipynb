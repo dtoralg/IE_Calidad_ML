{
  "cells": [
    {
      "cell_type": "markdown",
      "metadata": {
        "id": "view-in-github",
        "colab_type": "text"
      },
      "source": [
        "<a href=\"https://colab.research.google.com/github/dtoralg/IE_Calidad_ML/blob/main/Ejercicios/Modulo%203/Modulo_3_Ejercicio_6_PCA_3_Componentes.ipynb\" target=\"_parent\"><img src=\"https://colab.research.google.com/assets/colab-badge.svg\" alt=\"Open In Colab\"/></a>"
      ]
    },
    {
      "cell_type": "markdown",
      "id": "5064a21c",
      "metadata": {
        "id": "5064a21c"
      },
      "source": [
        "### **Ejercicio 6: Reducción de Dimensionalidad con PCA para Análisis de Calidad**\n",
        "#### Aplicación de Análisis de Componentes Principales (PCA) para reducir la dimensionalidad en control de calidad"
      ]
    },
    {
      "cell_type": "markdown",
      "id": "227113a6",
      "metadata": {
        "id": "227113a6"
      },
      "source": [
        "### **Introducción**\n",
        "En este ejercicio, aplicaremos Análisis de Componentes Principales (PCA) para reducir la dimensionalidad de un conjunto de datos de control de calidad en empaques de alimentos. El objetivo es mantener la mayor cantidad de información relevante mientras se reduce el número de variables, facilitando el análisis y mejorando la eficiencia de los modelos de clasificación."
      ]
    },
    {
      "cell_type": "code",
      "execution_count": null,
      "id": "92a27195",
      "metadata": {
        "id": "92a27195"
      },
      "outputs": [],
      "source": [
        "# Celda 1\n",
        "import pandas as pd\n",
        "import numpy as np\n",
        "import matplotlib.pyplot as plt\n",
        "import seaborn as sns\n",
        "from sklearn.model_selection import train_test_split\n",
        "from sklearn.preprocessing import StandardScaler\n",
        "from sklearn.decomposition import PCA\n",
        "from sklearn.ensemble import RandomForestClassifier\n",
        "from sklearn.metrics import accuracy_score, classification_report\n",
        "\n",
        "# Configuración de gráficos\n",
        "sns.set(style='whitegrid')"
      ]
    },
    {
      "cell_type": "markdown",
      "id": "57bc4c86",
      "metadata": {
        "id": "57bc4c86"
      },
      "source": [
        "### **Descripción del dataset**\n",
        "Se utilizará el dataset \"Control de calidad en empaques de alimentos\", que contiene información sobre las propiedades físicas de los envases y su calidad. Este conjunto de datos es ideal para aplicar PCA, ya que permite analizar la reducción de dimensionalidad sin perder información crítica sobre los defectos detectados en los empaques."
      ]
    },
    {
      "cell_type": "code",
      "execution_count": null,
      "id": "3cd7f6a2",
      "metadata": {
        "id": "3cd7f6a2"
      },
      "outputs": [],
      "source": [
        "# Celda 2\n",
        "dataset_path = 'https://github.com/dtoralg/IE_Calidad_ML/raw/main/Data/control_calidad_empaques.csv'\n",
        "...\n",
        "\n",
        "# Mostrar las primeras filas del dataset\n",
        "..."
      ]
    },
    {
      "cell_type": "code",
      "execution_count": null,
      "id": "eb824c35",
      "metadata": {
        "id": "eb824c35"
      },
      "outputs": [],
      "source": [
        "# Celda 3\n",
        "# Información general del dataset\n",
        "..."
      ]
    },
    {
      "cell_type": "code",
      "execution_count": null,
      "id": "96066a6c",
      "metadata": {
        "id": "96066a6c"
      },
      "outputs": [],
      "source": [
        "# Celda 4\n",
        "# Resumen estadístico\n",
        "..."
      ]
    },
    {
      "cell_type": "code",
      "execution_count": null,
      "id": "d95a82a3",
      "metadata": {
        "id": "d95a82a3"
      },
      "outputs": [],
      "source": [
        "# Celda 5\n",
        "# Distribución de la variable objetivo 'Defecto_detectado'\n",
        "..."
      ]
    },
    {
      "cell_type": "markdown",
      "id": "26bd3463",
      "metadata": {
        "id": "26bd3463"
      },
      "source": [
        "### **Preprocesamiento de los datos**\n",
        "Se seleccionan las variables numéricas y se normalizan antes de aplicar PCA."
      ]
    },
    {
      "cell_type": "code",
      "execution_count": null,
      "id": "a1c6522e",
      "metadata": {
        "id": "a1c6522e"
      },
      "outputs": [],
      "source": [
        "# Celda 6\n",
        "# Seleccionar solo las variables numéricas para PCA\n",
        "...\n",
        "\n",
        "# Normalización de los datos\n",
        "...\n"
      ]
    },
    {
      "cell_type": "markdown",
      "id": "f984d155",
      "metadata": {
        "id": "f984d155"
      },
      "source": [
        "### **Aplicación de PCA**\n",
        "Se aplica PCA para reducir la dimensionalidad del dataset y se analiza la varianza explicada."
      ]
    },
    {
      "cell_type": "code",
      "execution_count": null,
      "id": "e8cb653c",
      "metadata": {
        "id": "e8cb653c"
      },
      "outputs": [],
      "source": [
        "# Celda 7\n",
        "# Aplicar PCA con 5 componentes\n",
        "...\n",
        "\n",
        "# Visualizar la varianza explicada\n",
        "..."
      ]
    },
    {
      "cell_type": "markdown",
      "id": "1a8fe895",
      "metadata": {
        "id": "1a8fe895"
      },
      "source": [
        "### **Comparación del modelo de clasificación antes y después de PCA**\n",
        "Se entrena un modelo de clasificación antes y después de aplicar PCA, utilizando solo los 3 primeros componentes. Usaremos un modelo RandomForest muy básico para testear como la reducción de dimensionalidad mejora los cálculos."
      ]
    },
    {
      "cell_type": "code",
      "execution_count": null,
      "id": "af4d8a02",
      "metadata": {
        "id": "af4d8a02"
      },
      "outputs": [],
      "source": [
        "# Celda 8\n",
        "# Preparar la variable objetivo\n",
        "y = ...\n",
        "\n",
        "# Seleccionar solo los 3 primeros componentes de PCA, ya que con ellos explicamos el 60% de la varianza\n",
        "# y nos permiten reducir un 40% el numero de parámetros, y por tanto la carga computacional.\n",
        "X_pca_3 = ...\n",
        "\n",
        "# Dividir datos originales en entrenamiento y prueba\n",
        "X_train, X_test, y_train, y_test = ...\n",
        "\n",
        "# Dividir datos transformados por PCA en entrenamiento y prueba\n",
        "X_train_pca, X_test_pca, _, _ = ...\n",
        "\n",
        "# Modelo de clasificación sin PCA\n",
        "clf_original = RandomForestClassifier(random_state=42)\n",
        "clf_original.fit(X_train, y_train)\n",
        "y_pred_original = clf_original.predict(X_test)\n",
        "accuracy_original = accuracy_score(y_test, y_pred_original)\n",
        "\n",
        "# Modelo de clasificación con PCA (3 componentes principales)\n",
        "clf_pca = RandomForestClassifier(random_state=42)\n",
        "clf_pca.fit(X_train_pca, y_train)\n",
        "y_pred_pca = clf_pca.predict(X_test_pca)\n",
        "accuracy_pca = accuracy_score(y_test, y_pred_pca)\n",
        "\n",
        "print(f'Precisión del modelo sin PCA: {accuracy_original:.2f}')\n",
        "print(f'Precisión del modelo con PCA (3 componentes): {accuracy_pca:.2f}')"
      ]
    },
    {
      "cell_type": "markdown",
      "id": "e160f47d",
      "metadata": {
        "id": "e160f47d"
      },
      "source": [
        "### **Conclusiones**\n",
        "En este ejercicio, aplicamos PCA para reducir la dimensionalidad del dataset de control de calidad en empaques de alimentos. Se analizó la varianza explicada por cada componente y se comparó el desempeño de un modelo de clasificación antes y después de la reducción de dimensionalidad.\n",
        "\n",
        "Se observó que PCA permite reducir la cantidad de variables mientras conserva la mayor parte de la información, aunque puede haber una ligera pérdida de precisión en el modelo de clasificación. Este compromiso entre dimensionalidad y precisión es clave en el análisis de datos en control de calidad."
      ]
    }
  ],
  "metadata": {
    "colab": {
      "provenance": [],
      "include_colab_link": true
    },
    "language_info": {
      "name": "python"
    },
    "kernelspec": {
      "name": "python3",
      "display_name": "Python 3"
    }
  },
  "nbformat": 4,
  "nbformat_minor": 5
}
