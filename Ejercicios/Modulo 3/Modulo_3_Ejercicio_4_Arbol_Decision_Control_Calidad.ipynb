{
  "cells": [
    {
      "cell_type": "markdown",
      "metadata": {
        "id": "view-in-github",
        "colab_type": "text"
      },
      "source": [
        "<a href=\"https://colab.research.google.com/github/dtoralg/IE_Calidad_ML/blob/main/Ejercicios/Modulo%203/Modulo_3_Ejercicio_4_Arbol_Decision_Control_Calidad.ipynb\" target=\"_parent\"><img src=\"https://colab.research.google.com/assets/colab-badge.svg\" alt=\"Open In Colab\"/></a>"
      ]
    },
    {
      "cell_type": "markdown",
      "id": "7ab9161b",
      "metadata": {
        "id": "7ab9161b"
      },
      "source": [
        "### **Ejercicio 4: Construcción de un Árbol de Decisión para Control de Calidad**\n",
        "#### Aplicación de Árboles de Decisión para la detección de defectos en productos farmacéuticos"
      ]
    },
    {
      "cell_type": "markdown",
      "id": "d9fcdbd5",
      "metadata": {
        "id": "d9fcdbd5"
      },
      "source": [
        "### **Introducción**\n",
        "En este ejercicio, construiremos un modelo de Árbol de Decisión para clasificar tipos de defectos en productos farmacéuticos. El objetivo es analizar cómo diferentes características del proceso de fabricación afectan la calidad del producto y qué variables tienen mayor influencia en la clasificación."
      ]
    },
    {
      "cell_type": "code",
      "execution_count": null,
      "id": "fbe9ba1a",
      "metadata": {
        "id": "fbe9ba1a"
      },
      "outputs": [],
      "source": [
        "# Celda 1\n",
        "import pandas as pd\n",
        "import numpy as np\n",
        "import matplotlib.pyplot as plt\n",
        "import seaborn as sns\n",
        "from sklearn.model_selection import train_test_split\n",
        "from sklearn.preprocessing import StandardScaler\n",
        "from sklearn.tree import DecisionTreeClassifier, plot_tree\n",
        "from sklearn.metrics import accuracy_score, classification_report, confusion_matrix\n",
        "\n",
        "# Configuración de gráficos\n",
        "sns.set(style='whitegrid')"
      ]
    },
    {
      "cell_type": "markdown",
      "id": "b08dfecb",
      "metadata": {
        "id": "b08dfecb"
      },
      "source": [
        "### **Descripción del dataset**\n",
        "Se utilizará el dataset \"Control de calidad en productos farmacéuticos\", que contiene información sobre la composición y el proceso de fabricación de medicamentos, así como el tipo de defecto detectado en cada lote."
      ]
    },
    {
      "cell_type": "code",
      "execution_count": null,
      "id": "f67c2433",
      "metadata": {
        "id": "f67c2433"
      },
      "outputs": [],
      "source": [
        "# Celda 2\n",
        "dataset_path = 'https://github.com/dtoralg/IE_Calidad_ML/raw/main/Data/control_calidad_farmaceutico.csv'\n",
        "...\n",
        "\n",
        "# Mostrar las primeras filas del dataset\n",
        "..."
      ]
    },
    {
      "cell_type": "code",
      "execution_count": null,
      "id": "5d879df1",
      "metadata": {
        "id": "5d879df1"
      },
      "outputs": [],
      "source": [
        "# Celda 3\n",
        "# Información general del dataset\n",
        "..."
      ]
    },
    {
      "cell_type": "code",
      "execution_count": null,
      "id": "3cffde65",
      "metadata": {
        "id": "3cffde65"
      },
      "outputs": [],
      "source": [
        "# Celda 4\n",
        "# Resumen estadístico\n",
        "..."
      ]
    },
    {
      "cell_type": "code",
      "execution_count": null,
      "id": "f1547e57",
      "metadata": {
        "id": "f1547e57"
      },
      "outputs": [],
      "source": [
        "# Celda 5\n",
        "# Distribución de la variable objetivo 'Tipo_defecto' con un countplot\n",
        "..."
      ]
    },
    {
      "cell_type": "markdown",
      "id": "8e7ad930",
      "metadata": {
        "id": "8e7ad930"
      },
      "source": [
        "### **Preprocesamiento de los datos**\n",
        "Se convierten las variables categóricas en dummies y se normalizan las variables numéricas."
      ]
    },
    {
      "cell_type": "code",
      "execution_count": null,
      "id": "f6a2c196",
      "metadata": {
        "id": "f6a2c196"
      },
      "outputs": [],
      "source": [
        "# Celda 6\n",
        "# Convertir variables categóricas en variables dummies\n",
        "...\n",
        "\n",
        "# Convertir la variable objetivo en formato numérico\n",
        "tipo_defecto_mapping = {'Sin defecto': 0, 'Rotura': 1, 'Contaminación': 2, 'Dosis incorrecta': 3}\n",
        "data['Tipo_defecto'] = ...\n",
        "\n",
        "# Verificar la estructura del dataset después de las transformaciones\n",
        "..."
      ]
    },
    {
      "cell_type": "markdown",
      "id": "a05ed41a",
      "metadata": {
        "id": "a05ed41a"
      },
      "source": [
        "### **División del dataset en entrenamiento y prueba**"
      ]
    },
    {
      "cell_type": "code",
      "source": [
        "# Convertir la columna de fecha en una variable numérica\n",
        "\n",
        "# Convertir la columna de fecha a tipo datetime\n",
        "...\n",
        "\n",
        "# Crear una nueva variable con los días desde la producción hasta la fecha actual\n",
        "...\n",
        "\n",
        "# Eliminar la columna original de fecha\n",
        "...\n",
        "\n",
        "# Verificar el cambio\n",
        "..."
      ],
      "metadata": {
        "id": "cu0Z1m6VKO8q"
      },
      "id": "cu0Z1m6VKO8q",
      "execution_count": null,
      "outputs": []
    },
    {
      "cell_type": "code",
      "execution_count": null,
      "id": "efff44b1",
      "metadata": {
        "id": "efff44b1"
      },
      "outputs": [],
      "source": [
        "# Celda 7\n",
        "# Definir variables predictoras y objetivo\n",
        "...\n",
        "\n",
        "# División en conjuntos de entrenamiento y prueba\n",
        "...\n",
        "\n",
        "# Normalización de los datos\n",
        "..."
      ]
    },
    {
      "cell_type": "markdown",
      "id": "a56fb4c9",
      "metadata": {
        "id": "a56fb4c9"
      },
      "source": [
        "### **Entrenamiento del modelo de Árbol de Decisión**"
      ]
    },
    {
      "cell_type": "code",
      "execution_count": null,
      "id": "add3d44a",
      "metadata": {
        "id": "add3d44a"
      },
      "outputs": [],
      "source": [
        "# Celda 8\n",
        "# Crear y entrenar el modelo de Árbol de Decisión\n",
        "..."
      ]
    },
    {
      "cell_type": "markdown",
      "id": "e18715b0",
      "metadata": {
        "id": "e18715b0"
      },
      "source": [
        "### **Evaluación del modelo**"
      ]
    },
    {
      "cell_type": "code",
      "execution_count": null,
      "id": "42cf25cf",
      "metadata": {
        "id": "42cf25cf"
      },
      "outputs": [],
      "source": [
        "# Celda 9\n",
        "y_pred = ...\n",
        "\n",
        "accuracy = ...\n",
        "print(f'Precisión del modelo: {accuracy:.2f}')\n",
        "\n",
        "print('Reporte de clasificación:')\n",
        "print(...)"
      ]
    },
    {
      "cell_type": "markdown",
      "id": "6938f310",
      "metadata": {
        "id": "6938f310"
      },
      "source": [
        "### **Visualización de la matriz de confusión**"
      ]
    },
    {
      "cell_type": "code",
      "execution_count": null,
      "id": "c8cf69de",
      "metadata": {
        "id": "c8cf69de"
      },
      "outputs": [],
      "source": [
        "# Celda 10\n",
        "..."
      ]
    },
    {
      "cell_type": "markdown",
      "id": "ce301017",
      "metadata": {
        "id": "ce301017"
      },
      "source": [
        "### **Visualización del Árbol de Decisión**"
      ]
    },
    {
      "cell_type": "code",
      "execution_count": null,
      "id": "4b966420",
      "metadata": {
        "id": "4b966420"
      },
      "outputs": [],
      "source": [
        "# Celda 11\n",
        "plt.figure(figsize=(15,8))\n",
        "plot_tree(modelo_arbol, feature_names=X.columns, class_names=['Sin defecto', 'Rotura', 'Contaminación', 'Dosis incorrecta'], filled=True)\n",
        "plt.show()"
      ]
    },
    {
      "cell_type": "markdown",
      "source": [
        "## Conclusiones\n",
        "\n",
        "En este ejercicio, hemos aplicado el algoritmo DecisionTreeClassifier para clasificar el tipo de defecto que podemos encontrar en las piezas.\n",
        "\n",
        "Como nuestra variable objetivo está desbalanceada, hemos usado stratify para asegurarnos que en el split train/test hay representacion de todos los posibles valores de \"Defecto\". Además hemos notificado la modelo que las clases deben balancearse.\n",
        "\n",
        "Este modelo por si mismo tiene un rendimiento bajo, pero servirá como basee para modelos más avanzados como RandomForest, y podremos unirlo a técnicas como GridSearch, Cross Validation para mejorar más aún sus predicciones.\n",
        "\n"
      ],
      "metadata": {
        "id": "sgXGflvudSxe"
      },
      "id": "sgXGflvudSxe"
    }
  ],
  "metadata": {
    "colab": {
      "provenance": [],
      "include_colab_link": true
    },
    "language_info": {
      "name": "python"
    },
    "kernelspec": {
      "name": "python3",
      "display_name": "Python 3"
    }
  },
  "nbformat": 4,
  "nbformat_minor": 5
}