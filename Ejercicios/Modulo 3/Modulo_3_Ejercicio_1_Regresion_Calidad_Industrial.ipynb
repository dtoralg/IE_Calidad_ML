{
  "cells": [
    {
      "cell_type": "markdown",
      "metadata": {
        "id": "view-in-github",
        "colab_type": "text"
      },
      "source": [
        "<a href=\"https://colab.research.google.com/github/dtoralg/IE_Calidad_ML/blob/main/Ejercicios/Modulo%203/Modulo_3_Ejercicio_1_Regresion_Calidad_Industrial.ipynb\" target=\"_parent\"><img src=\"https://colab.research.google.com/assets/colab-badge.svg\" alt=\"Open In Colab\"/></a>"
      ]
    },
    {
      "cell_type": "markdown",
      "id": "1dc35d98",
      "metadata": {
        "id": "1dc35d98"
      },
      "source": [
        "### **Ejercicio 1: Regresión Lineal en Calidad Industrial**\n",
        "#### Aplicación de Regresión Lineal para predecir la vida útil de motores industriales"
      ]
    },
    {
      "cell_type": "markdown",
      "id": "3e0674a0",
      "metadata": {
        "id": "3e0674a0"
      },
      "source": [
        "### **Introducción**\n",
        "En este ejercicio, aplicaremos un modelo de Regresión Lineal para predecir la vida útil restante de motores industriales. El objetivo es entrenar un modelo de regresión basado en datos de calidad industrial y evaluar su desempeño."
      ]
    },
    {
      "cell_type": "code",
      "execution_count": null,
      "id": "aa241229",
      "metadata": {
        "id": "aa241229"
      },
      "outputs": [],
      "source": [
        "# Celda 1\n",
        "import pandas as pd\n",
        "import numpy as np\n",
        "import matplotlib.pyplot as plt\n",
        "import seaborn as sns\n",
        "from sklearn.model_selection import train_test_split\n",
        "from sklearn.linear_model import LinearRegression\n",
        "from sklearn.metrics import mean_absolute_error, mean_squared_error, r2_score\n",
        "\n",
        "# Configuración de gráficos\n",
        "sns.set(style='whitegrid')"
      ]
    },
    {
      "cell_type": "markdown",
      "id": "b485c017",
      "metadata": {
        "id": "b485c017"
      },
      "source": [
        "### **Descripción del dataset**\n",
        "Se utilizará el dataset \"Control de calidad en motores industriales\", que contiene información relevante para la predicción."
      ]
    },
    {
      "cell_type": "code",
      "execution_count": null,
      "id": "99e0b36f",
      "metadata": {
        "id": "99e0b36f"
      },
      "outputs": [],
      "source": [
        "# Celda 2\n",
        "dataset_path = 'https://github.com/dtoralg/IE_Calidad_ML/raw/main/Data/control_calidad_motores_industriales.csv'\n",
        "...\n",
        "\n",
        "# Mostrar las primeras filas del dataset\n",
        "..."
      ]
    },
    {
      "cell_type": "code",
      "execution_count": null,
      "id": "3ffbbdbe",
      "metadata": {
        "id": "3ffbbdbe"
      },
      "outputs": [],
      "source": [
        "# Celda 3\n",
        "# Información general del dataset\n",
        "..."
      ]
    },
    {
      "cell_type": "code",
      "execution_count": null,
      "id": "aff47d07",
      "metadata": {
        "id": "aff47d07"
      },
      "outputs": [],
      "source": [
        "# Celda 4\n",
        "# Resumen estadístico\n",
        "..."
      ]
    },
    {
      "cell_type": "code",
      "execution_count": null,
      "id": "535cc142",
      "metadata": {
        "id": "535cc142"
      },
      "outputs": [],
      "source": [
        "# Celda 5\n",
        "# Seleccionar solo las columnas numéricas para la matriz de correlación\n",
        "...\n",
        "\n",
        "# Matriz de correlación\n",
        "..."
      ]
    },
    {
      "cell_type": "markdown",
      "id": "48cd39bf",
      "metadata": {
        "id": "48cd39bf"
      },
      "source": [
        "### **Preparación de los datos**\n",
        "Se seleccionan las variables predictoras y la variable objetivo, y se dividen los datos en entrenamiento y prueba."
      ]
    },
    {
      "cell_type": "code",
      "source": [
        "# Convertir variables categóricas y de fecha a formato adecuado.\n",
        "# Como no buscamos predecir series temporales, vamos a convertir la variable \"Fecha_instalación\" a una variable numérica, \"Dias_desde_instalacion\"\n",
        "\n",
        "# Convertir la variable Tipo_aceite en variables dummies\n",
        "...\n",
        "\n",
        "# Convertir la variable Fecha_instalación a número de días desde la instalación\n",
        "...\n",
        "\n",
        "# Eliminar la columna original de fecha\n",
        "...\n",
        "\n",
        "# Verificar la estructura del dataset después de las transformaciones\n",
        "...\n"
      ],
      "metadata": {
        "id": "bqU-sZTKGq3p"
      },
      "id": "bqU-sZTKGq3p",
      "execution_count": null,
      "outputs": []
    },
    {
      "cell_type": "code",
      "execution_count": null,
      "id": "00cf7f68",
      "metadata": {
        "id": "00cf7f68"
      },
      "outputs": [],
      "source": [
        "# Celda 6\n",
        "# Definir variables predictoras y objetivo\n",
        "X = ...\n",
        "y = ...\n",
        "\n",
        "# División en conjuntos de entrenamiento y prueba\n",
        "X_train, X_test, y_train, y_test = ..."
      ]
    },
    {
      "cell_type": "markdown",
      "id": "10959249",
      "metadata": {
        "id": "10959249"
      },
      "source": [
        "### **Entrenamiento del modelo**\n",
        "Se entrena un modelo de Regresión Lineal con los datos de entrenamiento."
      ]
    },
    {
      "cell_type": "code",
      "execution_count": null,
      "id": "0e9c2c20",
      "metadata": {
        "id": "0e9c2c20"
      },
      "outputs": [],
      "source": [
        "# Celda 7\n",
        "# Crear y entrenar el modelo\n",
        "modelo = ...\n",
        "modelo.fit(X_train, y_train)"
      ]
    },
    {
      "cell_type": "markdown",
      "id": "b7bfa03a",
      "metadata": {
        "id": "b7bfa03a"
      },
      "source": [
        "### **Evaluación del modelo**\n",
        "Se evalúa el modelo con métricas de error comunes en regresión."
      ]
    },
    {
      "cell_type": "code",
      "execution_count": null,
      "id": "65954787",
      "metadata": {
        "id": "65954787"
      },
      "outputs": [],
      "source": [
        "# Celda 8\n",
        "y_pred = modelo.predict(X_test)"
      ]
    },
    {
      "cell_type": "markdown",
      "id": "206b3eef",
      "metadata": {
        "id": "206b3eef"
      },
      "source": [
        "### **Visualización de resultados**\n",
        "Se comparan los valores reales con los predichos."
      ]
    },
    {
      "cell_type": "code",
      "execution_count": null,
      "id": "ffe5ce6b",
      "metadata": {
        "id": "ffe5ce6b"
      },
      "outputs": [],
      "source": [
        "# Celda 9\n",
        "# Visualización de y_test vs y_pred en un scatterplot\n",
        "..."
      ]
    },
    {
      "cell_type": "markdown",
      "id": "e8449b9a",
      "metadata": {
        "id": "e8449b9a"
      },
      "source": [
        "### **Conclusiones**\n",
        "En este ejercicio, hemos aplicado un modelo de Regresión Lineal para predecir la vida útil restante de motores industriales. Se exploraron las relaciones entre variables y se entrenó el modelo.\n",
        "\n",
        "Posibles mejoras incluyen la selección de características más relevantes y la aplicación de modelos más avanzados."
      ]
    }
  ],
  "metadata": {
    "colab": {
      "provenance": [],
      "include_colab_link": true
    },
    "language_info": {
      "name": "python"
    },
    "kernelspec": {
      "name": "python3",
      "display_name": "Python 3"
    }
  },
  "nbformat": 4,
  "nbformat_minor": 5
}