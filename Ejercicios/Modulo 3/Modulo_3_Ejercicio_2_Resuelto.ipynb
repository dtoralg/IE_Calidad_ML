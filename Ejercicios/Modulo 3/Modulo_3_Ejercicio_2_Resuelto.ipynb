{
  "cells": [
    {
      "cell_type": "markdown",
      "metadata": {
        "id": "view-in-github",
        "colab_type": "text"
      },
      "source": [
        "<a href=\"https://colab.research.google.com/github/dtoralg/IE_Calidad_ML/blob/main/Ejercicios/Modulo%203/Modulo_3_Ejercicio_2_Resuelto.ipynb\" target=\"_parent\"><img src=\"https://colab.research.google.com/assets/colab-badge.svg\" alt=\"Open In Colab\"/></a>"
      ]
    },
    {
      "cell_type": "markdown",
      "metadata": {
        "id": "e958aa0d"
      },
      "source": [
        "# Ejercicio 2: Regresión Supervisada en Cosméticos\n",
        "\n",
        "## Objetivo\n",
        "En este ejercicio construirás un modelo de regresión supervisada para predecir el **Costo** (un indicador continuo) en el contexto del control de calidad en cosméticos. Utilizarás el dataset **control_calidad_cosmeticos.csv** y realizarás los siguientes pasos:\n",
        "\n",
        "- Cargar el dataset y explorar su contenido.\n",
        "- Preprocesar los datos y seleccionar las variables relevantes.\n",
        "- Dividir el conjunto de datos en entrenamiento y prueba.\n",
        "- Entrenar un modelo de Regresión Lineal.\n",
        "- Evaluar el modelo utilizando métricas como el Error Cuadrático Medio (MSE) y el coeficiente de determinación (R²).\n",
        "\n",
        "¡Comencemos a construir tu primer modelo de regresión!"
      ]
    },
    {
      "cell_type": "markdown",
      "metadata": {
        "id": "44d045a7"
      },
      "source": [
        "## 1. Importación de Librerías y Carga del Dataset\n",
        "\n",
        "En esta sección importarás las librerías necesarias y cargarás el archivo **control_calidad_cosmeticos.csv** en un DataFrame. Se asume que el archivo se encuentra en el mismo directorio que este notebook.\n",
        "\n",
        "El dataset contiene las siguientes columnas reales:\n",
        "- **ID**: identificador del registro\n",
        "- **Fecha**: fecha de la medición\n",
        "- **Calidad**: puntuación numérica de calidad\n",
        "- **Defectos**: cantidad de defectos detectados\n",
        "- **Costo**: costo asociado a la producción o inspección (variable a predecir)"
      ]
    },
    {
      "cell_type": "code",
      "execution_count": null,
      "metadata": {
        "id": "d0d1af30"
      },
      "outputs": [],
      "source": [
        "# Importar librerías necesarias\n",
        "import pandas as pd\n",
        "import matplotlib.pyplot as plt\n",
        "import seaborn as sns\n",
        "\n",
        "# Cargar el dataset de calidad de cosméticos\n",
        "df_cosmeticos = pd.read_csv('control_calidad_cosmeticos.csv')\n",
        "\n",
        "# Mostrar las primeras filas para verificar la carga\n",
        "print(\"Primeras filas del dataset de cosméticos:\")\n",
        "display(df_cosmeticos.head())\n",
        "\n",
        "# Mostrar información general del DataFrame\n",
        "print(\"Información del dataset de cosméticos:\")\n",
        "display(df_cosmeticos.info())\n",
        "\n",
        "# Mostrar estadísticas descriptivas\n",
        "print(\"Estadísticas descriptivas del dataset de cosméticos:\")\n",
        "display(df_cosmeticos.describe())"
      ]
    },
    {
      "cell_type": "markdown",
      "metadata": {
        "id": "d9a8e46d"
      },
      "source": [
        "## 2. Preprocesamiento y Selección de Variables\n",
        "\n",
        "En este paso definirás la variable objetivo y las características que usarás para predecirla.\n",
        "\n",
        "En este ejercicio, predeciremos el **Costo**. Utilizaremos como variables predictoras **Calidad** y **Defectos**.\n",
        "\n",
        "Asegúrate de que no existan valores nulos en estas columnas o, de ser necesario, aplica una imputación (por ejemplo, con la mediana)."
      ]
    },
    {
      "cell_type": "code",
      "execution_count": null,
      "metadata": {
        "id": "71a5628b"
      },
      "outputs": [],
      "source": [
        "# Revisar si hay valores nulos en las columnas de interés\n",
        "print(df_cosmeticos[['Calidad', 'Defectos', 'Costo']].isnull().sum())\n",
        "\n",
        "# En este ejemplo, suponemos que no hay muchos nulos o que ya han sido tratados.\n",
        "\n",
        "# Definir las variables: X (características) e y (variable objetivo)\n",
        "X = df_cosmeticos[['Calidad', 'Defectos']]\n",
        "y = df_cosmeticos['Costo']\n",
        "\n",
        "# Mostrar un resumen de X y y\n",
        "print(\"Resumen de las variables predictoras:\")\n",
        "display(X.describe())\n",
        "print(\"Resumen de la variable objetivo (Costo):\")\n",
        "display(y.describe())"
      ]
    },
    {
      "cell_type": "markdown",
      "metadata": {
        "id": "6f1eae10"
      },
      "source": [
        "## 3. División de Datos y Entrenamiento del Modelo\n",
        "\n",
        "Dividiremos el conjunto de datos en entrenamiento y prueba (80% y 20%, respectivamente) y entrenaremos un modelo de regresión lineal para predecir el **Costo**.\n",
        "\n",
        "Utilizaremos el solver 'auto' o 'lbfgs' (puedes ajustar si lo consideras necesario)."
      ]
    },
    {
      "cell_type": "code",
      "execution_count": null,
      "metadata": {
        "id": "3c277df9"
      },
      "outputs": [],
      "source": [
        "from sklearn.model_selection import train_test_split\n",
        "from sklearn.linear_model import LinearRegression\n",
        "\n",
        "# Dividir los datos en entrenamiento y prueba (80% / 20%)\n",
        "X_train, X_test, y_train, y_test = train_test_split(X, y, test_size=0.2, random_state=42)\n",
        "\n",
        "print(\"Tamaño de X_train:\", X_train.shape)\n",
        "print(\"Tamaño de X_test:\", X_test.shape)\n",
        "\n",
        "# Entrenar el modelo de regresión lineal\n",
        "modelo = LinearRegression()\n",
        "modelo.fit(X_train, y_train)\n",
        "\n",
        "print(\"Modelo entrenado exitosamente.\")"
      ]
    },
    {
      "cell_type": "markdown",
      "metadata": {
        "id": "a1c3dcd3"
      },
      "source": [
        "## 4. Evaluación del Modelo\n",
        "\n",
        "En este paso evaluaremos el rendimiento del modelo utilizando el Error Cuadrático Medio (MSE) y el coeficiente de determinación (R²). Además, se graficará una comparación entre los valores reales y los predichos."
      ]
    },
    {
      "cell_type": "code",
      "execution_count": null,
      "metadata": {
        "id": "f3b6e09a"
      },
      "outputs": [],
      "source": [
        "from sklearn.metrics import mean_squared_error, r2_score\n",
        "\n",
        "# Realizar predicciones en el conjunto de prueba\n",
        "y_pred = modelo.predict(X_test)\n",
        "\n",
        "# Calcular métricas\n",
        "mse = mean_squared_error(y_test, y_pred)\n",
        "r2 = r2_score(y_test, y_pred)\n",
        "\n",
        "print(\"Error Cuadrático Medio (MSE):\", mse)\n",
        "print(\"Coeficiente de determinación (R²):\", r2)\n",
        "\n",
        "# Gráfico de comparación: valores reales vs. predichos\n",
        "plt.figure(figsize=(8, 6))\n",
        "plt.scatter(y_test, y_pred, color='blue', alpha=0.6)\n",
        "plt.plot([y_test.min(), y_test.max()], [y_test.min(), y_test.max()], 'r--', lw=2)\n",
        "plt.xlabel('Valores Reales')\n",
        "plt.ylabel('Valores Predichos')\n",
        "plt.title('Comparación: Valores Reales vs. Predichos')\n",
        "plt.show()"
      ]
    },
    {
      "cell_type": "markdown",
      "metadata": {
        "id": "176ce2dc"
      },
      "source": [
        "## 5. Sistema de Testeo Automático\n",
        "\n",
        "Este bloque verificará algunos aspectos clave:\n",
        "\n",
        "- Que el DataFrame tenga registros.\n",
        "- Que existan las columnas requeridas: `Calidad`, `Defectos` y `Costo`.\n",
        "- Que el modelo entrenado devuelva una métrica R² razonable (por ejemplo, mayor a 0.2, dependiendo de la dispersión de los datos)."
      ]
    },
    {
      "cell_type": "code",
      "execution_count": null,
      "metadata": {
        "id": "3df0a476"
      },
      "outputs": [],
      "source": [
        "# Test 1: Verificar que el DataFrame no está vacío\n",
        "assert df_cosmeticos.shape[0] > 0, \"Test fallido: El DataFrame está vacío.\"\n",
        "\n",
        "# Test 2: Verificar que existen las columnas 'Calidad', 'Defectos' y 'Costo'\n",
        "columnas_requeridas = ['Calidad', 'Defectos', 'Costo']\n",
        "for col in columnas_requeridas:\n",
        "    assert col in df_cosmeticos.columns, f\"Test fallido: La columna {col} no se encontró en el DataFrame.\"\n",
        "\n",
        "# Test 3: Verificar que el modelo tiene un R² razonable (>= 0.2, por ejemplo)\n",
        "assert r2 >= 0.2, f\"Test fallido: El R² del modelo es demasiado bajo ({r2}).\"\n",
        "\n",
        "print(\"Todos los tests se han pasado correctamente.\")"
      ]
    },
    {
      "cell_type": "markdown",
      "metadata": {
        "id": "57cfc8b9"
      },
      "source": [
        "## 6. Reflexión Final\n",
        "\n",
        "1. ¿Qué variables consideraste más relevantes para predecir el costo y por qué?\n",
        "2. ¿Cómo crees que el preprocesamiento (por ejemplo, el manejo de valores faltantes) influye en el rendimiento del modelo?\n",
        "3. ¿Qué otras métricas de evaluación te parecerían útiles para este problema?\n",
        "4. ¿Qué mejoras podrías introducir en el proceso para optimizar el rendimiento del modelo?\n",
        "\n",
        "_Responde estas preguntas en una celda Markdown adicional o en un comentario._"
      ]
    }
  ],
  "metadata": {
    "kernelspec": {
      "display_name": "Python 3",
      "language": "python",
      "name": "python3"
    },
    "language_info": {
      "name": "python",
      "version": "3.x"
    },
    "colab": {
      "provenance": [],
      "include_colab_link": true
    }
  },
  "nbformat": 4,
  "nbformat_minor": 0
}