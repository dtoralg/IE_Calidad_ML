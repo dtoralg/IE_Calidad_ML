{
  "cells": [
    {
      "cell_type": "markdown",
      "metadata": {
        "id": "view-in-github",
        "colab_type": "text"
      },
      "source": [
        "<a href=\"https://colab.research.google.com/github/dtoralg/IE_Calidad_ML/blob/main/Ejercicios/Modulo%203/Modulo_3_Ejercicio_2_Regresion_Logistica_Clasificacion.ipynb\" target=\"_parent\"><img src=\"https://colab.research.google.com/assets/colab-badge.svg\" alt=\"Open In Colab\"/></a>"
      ]
    },
    {
      "cell_type": "markdown",
      "id": "7ef12a9e",
      "metadata": {
        "id": "7ef12a9e"
      },
      "source": [
        "### **Ejercicio 2: Regresión Logística para la Clasificación de Defectos**\n",
        "#### Aplicación de Regresión Logística para clasificar si un circuito electrónico fallará o no"
      ]
    },
    {
      "cell_type": "markdown",
      "id": "a4c926fc",
      "metadata": {
        "id": "a4c926fc"
      },
      "source": [
        "### **Introducción**\n",
        "En este ejercicio, aplicaremos un modelo de Regresión Logística para predecir si un circuito electrónico fallará en una línea de producción. El objetivo es entrenar un modelo de clasificación basado en datos de calidad industrial."
      ]
    },
    {
      "cell_type": "code",
      "execution_count": null,
      "id": "8a248cd0",
      "metadata": {
        "id": "8a248cd0"
      },
      "outputs": [],
      "source": [
        "# Celda 1\n",
        "import pandas as pd\n",
        "import numpy as np\n",
        "import matplotlib.pyplot as plt\n",
        "import seaborn as sns\n",
        "from sklearn.model_selection import train_test_split\n",
        "from sklearn.linear_model import LogisticRegression\n",
        "\n",
        "# Configuración de gráficos\n",
        "sns.set(style='whitegrid')"
      ]
    },
    {
      "cell_type": "markdown",
      "id": "8383a049",
      "metadata": {
        "id": "8383a049"
      },
      "source": [
        "### **Descripción del dataset**\n",
        "Se utilizará el dataset \"Control de calidad en circuitos electrónicos\", que contiene información sobre diversos parámetros que pueden influir en el fallo de un circuito."
      ]
    },
    {
      "cell_type": "code",
      "execution_count": null,
      "id": "743c6c01",
      "metadata": {
        "id": "743c6c01"
      },
      "outputs": [],
      "source": [
        "# Celda 2\n",
        "dataset_path = \"https://github.com/dtoralg/IE_Calidad_ML/raw/main/Data/control_calidad_circuitos_electronicos.csv\"\n",
        "...\n",
        "\n",
        "# Eliminar duplicados\n",
        "...\n",
        "\n",
        "# Imputar valores faltantes en Horas_operación con la mediana\n",
        "...\n",
        "\n",
        "# Mostrar las primeras filas del dataset después de la limpieza\n",
        "...\n"
      ]
    },
    {
      "cell_type": "code",
      "execution_count": null,
      "id": "98b3dee6",
      "metadata": {
        "id": "98b3dee6"
      },
      "outputs": [],
      "source": [
        "# Celda 3\n",
        "# Información general del dataset\n",
        "..."
      ]
    },
    {
      "cell_type": "code",
      "execution_count": null,
      "id": "9729bdb3",
      "metadata": {
        "id": "9729bdb3"
      },
      "outputs": [],
      "source": [
        "# Celda 4\n",
        "# Resumen estadístico con describe\n",
        "..."
      ]
    },
    {
      "cell_type": "code",
      "execution_count": null,
      "id": "314eb683",
      "metadata": {
        "id": "314eb683"
      },
      "outputs": [],
      "source": [
        "# Celda 5\n",
        "# Distribución boxplot de la variable objetivo\n",
        "..."
      ]
    },
    {
      "cell_type": "markdown",
      "source": [
        "¿Está la variable objetivo balanceada o desbalanceada?"
      ],
      "metadata": {
        "id": "MlvCfxmjFslA"
      },
      "id": "MlvCfxmjFslA"
    },
    {
      "cell_type": "markdown",
      "id": "1fca4afe",
      "metadata": {
        "id": "1fca4afe"
      },
      "source": [
        "### **Preparación de los datos**\n",
        "Se seleccionan las variables predictoras y la variable objetivo, y se dividen los datos en entrenamiento y prueba."
      ]
    },
    {
      "cell_type": "code",
      "source": [
        "# Convertir variables categóricas a dummies\n",
        "...\n",
        "\n",
        "# Verificar la estructura del dataset después de las transformaciones\n",
        "...\n"
      ],
      "metadata": {
        "id": "qWqulJ-EHYdc"
      },
      "id": "qWqulJ-EHYdc",
      "execution_count": null,
      "outputs": []
    },
    {
      "cell_type": "code",
      "execution_count": null,
      "id": "7bb9cad4",
      "metadata": {
        "id": "7bb9cad4"
      },
      "outputs": [],
      "source": [
        "# Celda 6\n",
        "# Definir variables predictoras y objetivo\n",
        "X = ...\n",
        "y = ...  # Convertir a valores binarios 0 y 1\n",
        "\n",
        "# División en conjuntos de entrenamiento y prueba\n",
        "X_train, X_test, y_train, y_test = ...\n"
      ]
    },
    {
      "cell_type": "markdown",
      "id": "7930afa3",
      "metadata": {
        "id": "7930afa3"
      },
      "source": [
        "### **Entrenamiento del modelo**\n",
        "Se entrena un modelo de Regresión Logística con los datos de entrenamiento."
      ]
    },
    {
      "cell_type": "code",
      "execution_count": null,
      "id": "0f513556",
      "metadata": {
        "id": "0f513556"
      },
      "outputs": [],
      "source": [
        "# Celda 7\n",
        "# Crear y entrenar el modelo de Regresión Logística\n",
        "..."
      ]
    },
    {
      "cell_type": "markdown",
      "id": "25c14721",
      "metadata": {
        "id": "25c14721"
      },
      "source": [
        "### **Generación de predicciones**\n",
        "Se generan las predicciones del modelo."
      ]
    },
    {
      "cell_type": "code",
      "execution_count": null,
      "id": "01092f51",
      "metadata": {
        "id": "01092f51"
      },
      "outputs": [],
      "source": [
        "# Celda 8\n",
        "y_pred = ...\n"
      ]
    },
    {
      "cell_type": "markdown",
      "id": "3c6c4077",
      "metadata": {
        "id": "3c6c4077"
      },
      "source": [
        "### **Visualización de la matriz de confusión**\n",
        "Se muestra la matriz de confusión para analizar el desempeño del modelo en cada categoría."
      ]
    },
    {
      "cell_type": "code",
      "execution_count": null,
      "id": "c0a2f9e7",
      "metadata": {
        "id": "c0a2f9e7"
      },
      "outputs": [],
      "source": [
        "# Celda 9\n",
        "cm = ...\n",
        "plt.figure(figsize=(6,5))\n",
        "sns.heatmap(cm, annot=True, fmt='d', cmap='Blues', xticklabels=['No Falla', 'Falla'], yticklabels=['No Falla', 'Falla'])\n",
        "plt.xlabel('Predicción')\n",
        "plt.ylabel('Real')\n",
        "plt.title('Matriz de Confusión')\n",
        "plt.show()"
      ]
    },
    {
      "cell_type": "markdown",
      "id": "818d7cdf",
      "metadata": {
        "id": "818d7cdf"
      },
      "source": [
        "### **Conclusiones**\n",
        "\n",
        "En este ejercicio, hemos aplicado un modelo de Regresión Logística para predecir fallos en circuitos electrónicos. Se exploraron los datos y se entrenó el modelo.\n",
        "\n",
        "Se podrían considerar mejoras como la selección de características más relevantes, el balanceo de datos o la aplicación de modelos más avanzados como Random Forest o SVM."
      ]
    }
  ],
  "metadata": {
    "colab": {
      "provenance": [],
      "include_colab_link": true
    },
    "language_info": {
      "name": "python"
    },
    "kernelspec": {
      "name": "python3",
      "display_name": "Python 3"
    }
  },
  "nbformat": 4,
  "nbformat_minor": 5
}