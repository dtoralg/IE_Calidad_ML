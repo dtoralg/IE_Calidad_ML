{
  "cells": [
    {
      "cell_type": "markdown",
      "metadata": {
        "id": "view-in-github",
        "colab_type": "text"
      },
      "source": [
        "<a href=\"https://colab.research.google.com/github/dtoralg/IE_Calidad_ML/blob/main/Ejercicios/Modulo%205/Modulo_5_Ejercicio_3_Grid_vs_Random_Search.ipynb\" target=\"_parent\"><img src=\"https://colab.research.google.com/assets/colab-badge.svg\" alt=\"Open In Colab\"/></a>"
      ]
    },
    {
      "cell_type": "markdown",
      "id": "f10988f0",
      "metadata": {
        "id": "f10988f0"
      },
      "source": [
        "### **Ejercicio 3: ¿Grid Search o Random Search? Elige tu estrategia de optimización**\n",
        "**Optimización de hiperparámetros en Random Forest para clasificación multiclase**"
      ]
    },
    {
      "cell_type": "markdown",
      "id": "1d78e8a8",
      "metadata": {
        "id": "1d78e8a8"
      },
      "source": [
        "### **Introducción**\n",
        "En este ejercicio aprenderás a aplicar y comparar dos estrategias de búsqueda de hiperparámetros: **Grid Search** y **Random Search**.\n",
        "\n",
        "Ambas son técnicas comunes para optimizar el rendimiento de un modelo de machine learning, pero con enfoques y costes computacionales distintos.\n",
        "Utilizaremos un modelo de **Random Forest** aplicado a un problema de clasificación multiclase en un dataset farmacéutico realista."
      ]
    },
    {
      "cell_type": "code",
      "execution_count": null,
      "id": "3aaad8cd",
      "metadata": {
        "id": "3aaad8cd"
      },
      "outputs": [],
      "source": [
        "# Celda 1: Carga de librerías y configuración\n",
        "import pandas as pd\n",
        "import numpy as np\n",
        "import matplotlib.pyplot as plt\n",
        "import seaborn as sns\n",
        "import time\n",
        "from sklearn.model_selection import train_test_split, GridSearchCV, RandomizedSearchCV\n",
        "from sklearn.ensemble import RandomForestClassifier\n",
        "from sklearn.preprocessing import OneHotEncoder, StandardScaler\n",
        "from sklearn.metrics import classification_report, f1_score\n",
        "from sklearn.impute import SimpleImputer\n",
        "sns.set(style='whitegrid')"
      ]
    },
    {
      "cell_type": "code",
      "execution_count": null,
      "id": "af623710",
      "metadata": {
        "id": "af623710"
      },
      "outputs": [],
      "source": [
        "# Celda 2: Cargar el dataset\n",
        "url = 'https://github.com/dtoralg/IE_Calidad_ML/raw/main/Data/control_calidad_farmaceutico.csv'\n",
        "..."
      ]
    },
    {
      "cell_type": "code",
      "execution_count": null,
      "id": "bce0440a",
      "metadata": {
        "id": "bce0440a"
      },
      "outputs": [],
      "source": [
        "# Celda 3: Preprocesamiento del dataset (fechas, categorías, escalado)\n",
        "# Eliminar columnas irrelevantes y convertir fecha\n",
        "..."
      ]
    },
    {
      "cell_type": "code",
      "execution_count": null,
      "id": "17a9b081",
      "metadata": {
        "id": "17a9b081"
      },
      "outputs": [],
      "source": [
        "# Celda 4: Preparar variables predictoras y target\n",
        "..."
      ]
    },
    {
      "cell_type": "code",
      "execution_count": null,
      "id": "7df2b32e",
      "metadata": {
        "id": "7df2b32e"
      },
      "outputs": [],
      "source": [
        "# Celda 5: Codificar variables categóricas\n",
        "..."
      ]
    },
    {
      "cell_type": "code",
      "execution_count": null,
      "id": "f9e23027",
      "metadata": {
        "id": "f9e23027"
      },
      "outputs": [],
      "source": [
        "# Celda 6: Imputar valores faltantes (si existen)\n",
        "..."
      ]
    },
    {
      "cell_type": "code",
      "execution_count": null,
      "id": "ae07e5cd",
      "metadata": {
        "id": "ae07e5cd"
      },
      "outputs": [],
      "source": [
        "# Celda 7: Escalar variables numéricas\n",
        "..."
      ]
    },
    {
      "cell_type": "code",
      "execution_count": null,
      "id": "b635daf4",
      "metadata": {
        "id": "b635daf4"
      },
      "outputs": [],
      "source": [
        "# Celda 8: División en entrenamiento y prueba\n",
        "..."
      ]
    },
    {
      "cell_type": "code",
      "execution_count": null,
      "id": "5eeccce9",
      "metadata": {
        "id": "5eeccce9"
      },
      "outputs": [],
      "source": [
        "# Celda 9: Definir espacio de búsqueda para Grid Search\n",
        "param_grid = {\n",
        "    'n_estimators': ...,\n",
        "    'max_depth': ...,\n",
        "    'min_samples_split': ...,\n",
        "    'criterion': ...\n",
        "}"
      ]
    },
    {
      "cell_type": "code",
      "execution_count": null,
      "id": "86fbb113",
      "metadata": {
        "id": "86fbb113"
      },
      "outputs": [],
      "source": [
        "# Celda 10: Aplicar GridSearchCV y medir tiempo\n",
        "start = time.time()\n",
        "\n",
        "grid_search = ...\n",
        "\n",
        "grid_search.fit(...)\n",
        "\n",
        "end = time.time()\n",
        "tiempo_grid = end - start\n",
        "mejor_grid = grid_search.best_estimator_\n",
        "print('Mejor configuración (Grid Search):', grid_search.best_params_)\n",
        "print('Tiempo de búsqueda (Grid): {:.2f} segundos'.format(tiempo_grid))"
      ]
    },
    {
      "cell_type": "code",
      "execution_count": null,
      "id": "c4c3ce49",
      "metadata": {
        "id": "c4c3ce49"
      },
      "outputs": [],
      "source": [
        "# Celda 11: Evaluar el modelo obtenido con Grid Search\n",
        "# Calcular su classification_report\n",
        "y_pred_grid = ...\n",
        "print(...)"
      ]
    },
    {
      "cell_type": "code",
      "execution_count": null,
      "id": "6a347422",
      "metadata": {
        "id": "6a347422"
      },
      "outputs": [],
      "source": [
        "# Celda 12: Definir espacio para Random Search (más amplio y con distribuciones)\n",
        "# Recomendación: usar randint para seleccionar integers random en un espacio amplio\n",
        "from scipy.stats import randint\n",
        "param_dist = {\n",
        "    'n_estimators': ...,\n",
        "    'max_depth': ...,\n",
        "    'min_samples_split': ...,\n",
        "    'criterion': ...\n",
        "}"
      ]
    },
    {
      "cell_type": "code",
      "execution_count": null,
      "id": "a8c1d8d5",
      "metadata": {
        "id": "a8c1d8d5"
      },
      "outputs": [],
      "source": [
        "# Celda 13: Aplicar RandomizedSearchCV y medir tiempo\n",
        "start = time.time()\n",
        "random_search = RandomizedSearchCV(...,\n",
        "                                  param_distributions=param_dist,\n",
        "                                  n_iter=...,\n",
        "                                  scoring=...,\n",
        "                                  cv=...,\n",
        "                                  n_jobs=-1,\n",
        "                                  random_state=42)\n",
        "\n",
        "random_search.fit(X_train, y_train)\n",
        "end = time.time()\n",
        "tiempo_random = end - start\n",
        "mejor_random = random_search.best_estimator_\n",
        "print('Mejor configuración (Random Search):', random_search.best_params_)\n",
        "print('Tiempo de búsqueda (Random): {:.2f} segundos'.format(tiempo_random))"
      ]
    },
    {
      "cell_type": "code",
      "execution_count": null,
      "id": "cd0d1290",
      "metadata": {
        "id": "cd0d1290"
      },
      "outputs": [],
      "source": [
        "# Celda 14: Evaluar el modelo obtenido con Random Search\n",
        "# Halla su classification report\n",
        "y_pred_random = ...\n",
        "print(...)"
      ]
    },
    {
      "cell_type": "markdown",
      "id": "accd497b",
      "metadata": {
        "id": "accd497b"
      },
      "source": [
        "### **Conclusiones**\n",
        "- **Grid Search** recorre todas las combinaciones posibles, lo que garantiza encontrar el mejor resultado **dentro del grid definido**, pero puede ser costoso en tiempo.\n",
        "- **Random Search** prueba combinaciones aleatorias y es más eficiente cuando el espacio de búsqueda es muy grande.\n",
        "- En este caso, se puede observar si los modelos obtenidos con ambos métodos tienen rendimientos similares o si alguno supera al otro significativamente.\n",
        "\n",
        "### **Preguntas para reflexionar**\n",
        "- ¿Qué estrategia usarías si tienes poco tiempo para entrenar?\n",
        "- ¿Vale la pena recorrer todas las combinaciones posibles?\n",
        "- ¿Cómo podrías definir un espacio de búsqueda más inteligente para Random Search?"
      ]
    }
  ],
  "metadata": {
    "colab": {
      "provenance": [],
      "include_colab_link": true
    },
    "language_info": {
      "name": "python"
    },
    "kernelspec": {
      "name": "python3",
      "display_name": "Python 3"
    }
  },
  "nbformat": 4,
  "nbformat_minor": 5
}