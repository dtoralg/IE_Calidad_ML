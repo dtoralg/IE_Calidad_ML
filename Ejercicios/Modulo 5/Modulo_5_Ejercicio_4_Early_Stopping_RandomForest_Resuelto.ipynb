{
  "cells": [
    {
      "cell_type": "markdown",
      "metadata": {
        "id": "view-in-github",
        "colab_type": "text"
      },
      "source": [
        "<a href=\"https://colab.research.google.com/github/dtoralg/IE_Calidad_ML/blob/main/Ejercicios/Modulo%205/Modulo_5_Ejercicio_4_Early_Stopping_RandomForest_Resuelto.ipynb\" target=\"_parent\"><img src=\"https://colab.research.google.com/assets/colab-badge.svg\" alt=\"Open In Colab\"/></a>"
      ]
    },
    {
      "cell_type": "markdown",
      "id": "91bd43cc",
      "metadata": {
        "id": "91bd43cc"
      },
      "source": [
        "### **Ejercicio 4: Regularización y Early Stopping con Random Forest — una simulación guiada**\n",
        "**Explora cómo monitorear el sobreajuste y aplicar lógica de parada anticipada en Random Forest**"
      ]
    },
    {
      "cell_type": "markdown",
      "id": "c2c85405",
      "metadata": {
        "id": "c2c85405"
      },
      "source": [
        "### **Introducción**\n",
        "En este ejercicio vamos a explorar cómo los hiperparámetros de un modelo complejo como **Random Forest** pueden actuar como herramientas de **regularización**.\n",
        "\n",
        "Simularemos un proceso de entrenamiento iterativo donde se evalúa el rendimiento del modelo conforme aumenta el número de árboles (`n_estimators`) y se ajustan otros parámetros como `max_depth` y `min_samples_leaf`.\n",
        "El objetivo será aprender a **monitorizar** métricas como el **F1 Macro Score** y aplicar una lógica de **early stopping** manual basada en los resultados de validación cruzada."
      ]
    },
    {
      "cell_type": "code",
      "execution_count": 1,
      "id": "f5092259",
      "metadata": {
        "id": "f5092259"
      },
      "outputs": [],
      "source": [
        "# Celda 1: Importar librerías necesarias\n",
        "import pandas as pd\n",
        "import numpy as np\n",
        "import matplotlib.pyplot as plt\n",
        "import seaborn as sns\n",
        "from sklearn.ensemble import RandomForestClassifier\n",
        "from sklearn.model_selection import train_test_split, cross_val_score\n",
        "from sklearn.preprocessing import StandardScaler\n",
        "from sklearn.metrics import f1_score\n",
        "from sklearn.impute import SimpleImputer\n",
        "sns.set(style='whitegrid')"
      ]
    },
    {
      "cell_type": "code",
      "execution_count": 2,
      "id": "7a24d436",
      "metadata": {
        "colab": {
          "base_uri": "https://localhost:8080/",
          "height": 206
        },
        "id": "7a24d436",
        "outputId": "8148d5f5-afbe-43bb-fd31-6330577de326"
      },
      "outputs": [
        {
          "output_type": "execute_result",
          "data": {
            "text/plain": [
              "   ID_producto  Voltaje_prueba  Corriente_operacion  Temperatura_ambiente  \\\n",
              "0            1        9.150115             4.742518             25.530115   \n",
              "1            2       10.008079             3.499830             27.452935   \n",
              "2            3        7.962450             3.179779             23.636370   \n",
              "3            4        3.475670             0.735378             17.409543   \n",
              "4            5        4.902504             4.343243             26.302373   \n",
              "\n",
              "   Tiempo_prueba  Frecuencia_trabajo Material_encapsulado Proveedor  \\\n",
              "0       2.994613           63.985466             Plástico         Z   \n",
              "1      31.319903         1491.344155             Cerámica         Z   \n",
              "2      30.547971         4157.623317             Plástico         Z   \n",
              "3      56.466100         4843.639813             Cerámica         Z   \n",
              "4      43.660205          713.642966             Plástico         Y   \n",
              "\n",
              "              Defecto  \n",
              "0      Mal ensamblado  \n",
              "1      Mal ensamblado  \n",
              "2         Sin defecto  \n",
              "3  Sobrecalentamiento  \n",
              "4  Sobrecalentamiento  "
            ],
            "text/html": [
              "\n",
              "  <div id=\"df-a5945bab-3012-4c12-afde-8dc8fa8d3674\" class=\"colab-df-container\">\n",
              "    <div>\n",
              "<style scoped>\n",
              "    .dataframe tbody tr th:only-of-type {\n",
              "        vertical-align: middle;\n",
              "    }\n",
              "\n",
              "    .dataframe tbody tr th {\n",
              "        vertical-align: top;\n",
              "    }\n",
              "\n",
              "    .dataframe thead th {\n",
              "        text-align: right;\n",
              "    }\n",
              "</style>\n",
              "<table border=\"1\" class=\"dataframe\">\n",
              "  <thead>\n",
              "    <tr style=\"text-align: right;\">\n",
              "      <th></th>\n",
              "      <th>ID_producto</th>\n",
              "      <th>Voltaje_prueba</th>\n",
              "      <th>Corriente_operacion</th>\n",
              "      <th>Temperatura_ambiente</th>\n",
              "      <th>Tiempo_prueba</th>\n",
              "      <th>Frecuencia_trabajo</th>\n",
              "      <th>Material_encapsulado</th>\n",
              "      <th>Proveedor</th>\n",
              "      <th>Defecto</th>\n",
              "    </tr>\n",
              "  </thead>\n",
              "  <tbody>\n",
              "    <tr>\n",
              "      <th>0</th>\n",
              "      <td>1</td>\n",
              "      <td>9.150115</td>\n",
              "      <td>4.742518</td>\n",
              "      <td>25.530115</td>\n",
              "      <td>2.994613</td>\n",
              "      <td>63.985466</td>\n",
              "      <td>Plástico</td>\n",
              "      <td>Z</td>\n",
              "      <td>Mal ensamblado</td>\n",
              "    </tr>\n",
              "    <tr>\n",
              "      <th>1</th>\n",
              "      <td>2</td>\n",
              "      <td>10.008079</td>\n",
              "      <td>3.499830</td>\n",
              "      <td>27.452935</td>\n",
              "      <td>31.319903</td>\n",
              "      <td>1491.344155</td>\n",
              "      <td>Cerámica</td>\n",
              "      <td>Z</td>\n",
              "      <td>Mal ensamblado</td>\n",
              "    </tr>\n",
              "    <tr>\n",
              "      <th>2</th>\n",
              "      <td>3</td>\n",
              "      <td>7.962450</td>\n",
              "      <td>3.179779</td>\n",
              "      <td>23.636370</td>\n",
              "      <td>30.547971</td>\n",
              "      <td>4157.623317</td>\n",
              "      <td>Plástico</td>\n",
              "      <td>Z</td>\n",
              "      <td>Sin defecto</td>\n",
              "    </tr>\n",
              "    <tr>\n",
              "      <th>3</th>\n",
              "      <td>4</td>\n",
              "      <td>3.475670</td>\n",
              "      <td>0.735378</td>\n",
              "      <td>17.409543</td>\n",
              "      <td>56.466100</td>\n",
              "      <td>4843.639813</td>\n",
              "      <td>Cerámica</td>\n",
              "      <td>Z</td>\n",
              "      <td>Sobrecalentamiento</td>\n",
              "    </tr>\n",
              "    <tr>\n",
              "      <th>4</th>\n",
              "      <td>5</td>\n",
              "      <td>4.902504</td>\n",
              "      <td>4.343243</td>\n",
              "      <td>26.302373</td>\n",
              "      <td>43.660205</td>\n",
              "      <td>713.642966</td>\n",
              "      <td>Plástico</td>\n",
              "      <td>Y</td>\n",
              "      <td>Sobrecalentamiento</td>\n",
              "    </tr>\n",
              "  </tbody>\n",
              "</table>\n",
              "</div>\n",
              "    <div class=\"colab-df-buttons\">\n",
              "\n",
              "  <div class=\"colab-df-container\">\n",
              "    <button class=\"colab-df-convert\" onclick=\"convertToInteractive('df-a5945bab-3012-4c12-afde-8dc8fa8d3674')\"\n",
              "            title=\"Convert this dataframe to an interactive table.\"\n",
              "            style=\"display:none;\">\n",
              "\n",
              "  <svg xmlns=\"http://www.w3.org/2000/svg\" height=\"24px\" viewBox=\"0 -960 960 960\">\n",
              "    <path d=\"M120-120v-720h720v720H120Zm60-500h600v-160H180v160Zm220 220h160v-160H400v160Zm0 220h160v-160H400v160ZM180-400h160v-160H180v160Zm440 0h160v-160H620v160ZM180-180h160v-160H180v160Zm440 0h160v-160H620v160Z\"/>\n",
              "  </svg>\n",
              "    </button>\n",
              "\n",
              "  <style>\n",
              "    .colab-df-container {\n",
              "      display:flex;\n",
              "      gap: 12px;\n",
              "    }\n",
              "\n",
              "    .colab-df-convert {\n",
              "      background-color: #E8F0FE;\n",
              "      border: none;\n",
              "      border-radius: 50%;\n",
              "      cursor: pointer;\n",
              "      display: none;\n",
              "      fill: #1967D2;\n",
              "      height: 32px;\n",
              "      padding: 0 0 0 0;\n",
              "      width: 32px;\n",
              "    }\n",
              "\n",
              "    .colab-df-convert:hover {\n",
              "      background-color: #E2EBFA;\n",
              "      box-shadow: 0px 1px 2px rgba(60, 64, 67, 0.3), 0px 1px 3px 1px rgba(60, 64, 67, 0.15);\n",
              "      fill: #174EA6;\n",
              "    }\n",
              "\n",
              "    .colab-df-buttons div {\n",
              "      margin-bottom: 4px;\n",
              "    }\n",
              "\n",
              "    [theme=dark] .colab-df-convert {\n",
              "      background-color: #3B4455;\n",
              "      fill: #D2E3FC;\n",
              "    }\n",
              "\n",
              "    [theme=dark] .colab-df-convert:hover {\n",
              "      background-color: #434B5C;\n",
              "      box-shadow: 0px 1px 3px 1px rgba(0, 0, 0, 0.15);\n",
              "      filter: drop-shadow(0px 1px 2px rgba(0, 0, 0, 0.3));\n",
              "      fill: #FFFFFF;\n",
              "    }\n",
              "  </style>\n",
              "\n",
              "    <script>\n",
              "      const buttonEl =\n",
              "        document.querySelector('#df-a5945bab-3012-4c12-afde-8dc8fa8d3674 button.colab-df-convert');\n",
              "      buttonEl.style.display =\n",
              "        google.colab.kernel.accessAllowed ? 'block' : 'none';\n",
              "\n",
              "      async function convertToInteractive(key) {\n",
              "        const element = document.querySelector('#df-a5945bab-3012-4c12-afde-8dc8fa8d3674');\n",
              "        const dataTable =\n",
              "          await google.colab.kernel.invokeFunction('convertToInteractive',\n",
              "                                                    [key], {});\n",
              "        if (!dataTable) return;\n",
              "\n",
              "        const docLinkHtml = 'Like what you see? Visit the ' +\n",
              "          '<a target=\"_blank\" href=https://colab.research.google.com/notebooks/data_table.ipynb>data table notebook</a>'\n",
              "          + ' to learn more about interactive tables.';\n",
              "        element.innerHTML = '';\n",
              "        dataTable['output_type'] = 'display_data';\n",
              "        await google.colab.output.renderOutput(dataTable, element);\n",
              "        const docLink = document.createElement('div');\n",
              "        docLink.innerHTML = docLinkHtml;\n",
              "        element.appendChild(docLink);\n",
              "      }\n",
              "    </script>\n",
              "  </div>\n",
              "\n",
              "\n",
              "<div id=\"df-41970f15-15a0-4859-aef6-775b74801931\">\n",
              "  <button class=\"colab-df-quickchart\" onclick=\"quickchart('df-41970f15-15a0-4859-aef6-775b74801931')\"\n",
              "            title=\"Suggest charts\"\n",
              "            style=\"display:none;\">\n",
              "\n",
              "<svg xmlns=\"http://www.w3.org/2000/svg\" height=\"24px\"viewBox=\"0 0 24 24\"\n",
              "     width=\"24px\">\n",
              "    <g>\n",
              "        <path d=\"M19 3H5c-1.1 0-2 .9-2 2v14c0 1.1.9 2 2 2h14c1.1 0 2-.9 2-2V5c0-1.1-.9-2-2-2zM9 17H7v-7h2v7zm4 0h-2V7h2v10zm4 0h-2v-4h2v4z\"/>\n",
              "    </g>\n",
              "</svg>\n",
              "  </button>\n",
              "\n",
              "<style>\n",
              "  .colab-df-quickchart {\n",
              "      --bg-color: #E8F0FE;\n",
              "      --fill-color: #1967D2;\n",
              "      --hover-bg-color: #E2EBFA;\n",
              "      --hover-fill-color: #174EA6;\n",
              "      --disabled-fill-color: #AAA;\n",
              "      --disabled-bg-color: #DDD;\n",
              "  }\n",
              "\n",
              "  [theme=dark] .colab-df-quickchart {\n",
              "      --bg-color: #3B4455;\n",
              "      --fill-color: #D2E3FC;\n",
              "      --hover-bg-color: #434B5C;\n",
              "      --hover-fill-color: #FFFFFF;\n",
              "      --disabled-bg-color: #3B4455;\n",
              "      --disabled-fill-color: #666;\n",
              "  }\n",
              "\n",
              "  .colab-df-quickchart {\n",
              "    background-color: var(--bg-color);\n",
              "    border: none;\n",
              "    border-radius: 50%;\n",
              "    cursor: pointer;\n",
              "    display: none;\n",
              "    fill: var(--fill-color);\n",
              "    height: 32px;\n",
              "    padding: 0;\n",
              "    width: 32px;\n",
              "  }\n",
              "\n",
              "  .colab-df-quickchart:hover {\n",
              "    background-color: var(--hover-bg-color);\n",
              "    box-shadow: 0 1px 2px rgba(60, 64, 67, 0.3), 0 1px 3px 1px rgba(60, 64, 67, 0.15);\n",
              "    fill: var(--button-hover-fill-color);\n",
              "  }\n",
              "\n",
              "  .colab-df-quickchart-complete:disabled,\n",
              "  .colab-df-quickchart-complete:disabled:hover {\n",
              "    background-color: var(--disabled-bg-color);\n",
              "    fill: var(--disabled-fill-color);\n",
              "    box-shadow: none;\n",
              "  }\n",
              "\n",
              "  .colab-df-spinner {\n",
              "    border: 2px solid var(--fill-color);\n",
              "    border-color: transparent;\n",
              "    border-bottom-color: var(--fill-color);\n",
              "    animation:\n",
              "      spin 1s steps(1) infinite;\n",
              "  }\n",
              "\n",
              "  @keyframes spin {\n",
              "    0% {\n",
              "      border-color: transparent;\n",
              "      border-bottom-color: var(--fill-color);\n",
              "      border-left-color: var(--fill-color);\n",
              "    }\n",
              "    20% {\n",
              "      border-color: transparent;\n",
              "      border-left-color: var(--fill-color);\n",
              "      border-top-color: var(--fill-color);\n",
              "    }\n",
              "    30% {\n",
              "      border-color: transparent;\n",
              "      border-left-color: var(--fill-color);\n",
              "      border-top-color: var(--fill-color);\n",
              "      border-right-color: var(--fill-color);\n",
              "    }\n",
              "    40% {\n",
              "      border-color: transparent;\n",
              "      border-right-color: var(--fill-color);\n",
              "      border-top-color: var(--fill-color);\n",
              "    }\n",
              "    60% {\n",
              "      border-color: transparent;\n",
              "      border-right-color: var(--fill-color);\n",
              "    }\n",
              "    80% {\n",
              "      border-color: transparent;\n",
              "      border-right-color: var(--fill-color);\n",
              "      border-bottom-color: var(--fill-color);\n",
              "    }\n",
              "    90% {\n",
              "      border-color: transparent;\n",
              "      border-bottom-color: var(--fill-color);\n",
              "    }\n",
              "  }\n",
              "</style>\n",
              "\n",
              "  <script>\n",
              "    async function quickchart(key) {\n",
              "      const quickchartButtonEl =\n",
              "        document.querySelector('#' + key + ' button');\n",
              "      quickchartButtonEl.disabled = true;  // To prevent multiple clicks.\n",
              "      quickchartButtonEl.classList.add('colab-df-spinner');\n",
              "      try {\n",
              "        const charts = await google.colab.kernel.invokeFunction(\n",
              "            'suggestCharts', [key], {});\n",
              "      } catch (error) {\n",
              "        console.error('Error during call to suggestCharts:', error);\n",
              "      }\n",
              "      quickchartButtonEl.classList.remove('colab-df-spinner');\n",
              "      quickchartButtonEl.classList.add('colab-df-quickchart-complete');\n",
              "    }\n",
              "    (() => {\n",
              "      let quickchartButtonEl =\n",
              "        document.querySelector('#df-41970f15-15a0-4859-aef6-775b74801931 button');\n",
              "      quickchartButtonEl.style.display =\n",
              "        google.colab.kernel.accessAllowed ? 'block' : 'none';\n",
              "    })();\n",
              "  </script>\n",
              "</div>\n",
              "\n",
              "    </div>\n",
              "  </div>\n"
            ],
            "application/vnd.google.colaboratory.intrinsic+json": {
              "type": "dataframe",
              "variable_name": "df",
              "summary": "{\n  \"name\": \"df\",\n  \"rows\": 75000,\n  \"fields\": [\n    {\n      \"column\": \"ID_producto\",\n      \"properties\": {\n        \"dtype\": \"number\",\n        \"std\": 21650,\n        \"min\": 1,\n        \"max\": 75000,\n        \"num_unique_values\": 75000,\n        \"samples\": [\n          26838,\n          2593,\n          18360\n        ],\n        \"semantic_type\": \"\",\n        \"description\": \"\"\n      }\n    },\n    {\n      \"column\": \"Voltaje_prueba\",\n      \"properties\": {\n        \"dtype\": \"number\",\n        \"std\": 2.602748725194896,\n        \"min\": 3.000126901261439,\n        \"max\": 11.999646495606752,\n        \"num_unique_values\": 75000,\n        \"samples\": [\n          3.996272128470002,\n          11.477070537858271,\n          3.604523302193412\n        ],\n        \"semantic_type\": \"\",\n        \"description\": \"\"\n      }\n    },\n    {\n      \"column\": \"Corriente_operacion\",\n      \"properties\": {\n        \"dtype\": \"number\",\n        \"std\": 1.4145067227514505,\n        \"min\": 0.100000728215801,\n        \"max\": 4.999961864550159,\n        \"num_unique_values\": 75000,\n        \"samples\": [\n          3.4209544102843323,\n          1.0669653640613344,\n          4.748129080454197\n        ],\n        \"semantic_type\": \"\",\n        \"description\": \"\"\n      }\n    },\n    {\n      \"column\": \"Temperatura_ambiente\",\n      \"properties\": {\n        \"dtype\": \"number\",\n        \"std\": 4.997266375929493,\n        \"min\": 3.372012983829123,\n        \"max\": 46.4112054121334,\n        \"num_unique_values\": 75000,\n        \"samples\": [\n          27.60233322609053,\n          17.853165534636986,\n          25.076968476712597\n        ],\n        \"semantic_type\": \"\",\n        \"description\": \"\"\n      }\n    },\n    {\n      \"column\": \"Tiempo_prueba\",\n      \"properties\": {\n        \"dtype\": \"number\",\n        \"std\": 28.566339610042252,\n        \"min\": 1.0010576129649364,\n        \"max\": 99.99885659687992,\n        \"num_unique_values\": 75000,\n        \"samples\": [\n          10.80280577433898,\n          24.980060126248947,\n          66.99605475104418\n        ],\n        \"semantic_type\": \"\",\n        \"description\": \"\"\n      }\n    },\n    {\n      \"column\": \"Frecuencia_trabajo\",\n      \"properties\": {\n        \"dtype\": \"number\",\n        \"std\": 1430.0436194892545,\n        \"min\": 50.12824506324928,\n        \"max\": 4999.909153855398,\n        \"num_unique_values\": 75000,\n        \"samples\": [\n          601.7456023861785,\n          224.72911652814773,\n          1808.7970567581976\n        ],\n        \"semantic_type\": \"\",\n        \"description\": \"\"\n      }\n    },\n    {\n      \"column\": \"Material_encapsulado\",\n      \"properties\": {\n        \"dtype\": \"category\",\n        \"num_unique_values\": 3,\n        \"samples\": [\n          \"Pl\\u00e1stico\",\n          \"Cer\\u00e1mica\",\n          \"Metal\"\n        ],\n        \"semantic_type\": \"\",\n        \"description\": \"\"\n      }\n    },\n    {\n      \"column\": \"Proveedor\",\n      \"properties\": {\n        \"dtype\": \"category\",\n        \"num_unique_values\": 3,\n        \"samples\": [\n          \"Z\",\n          \"Y\",\n          \"X\"\n        ],\n        \"semantic_type\": \"\",\n        \"description\": \"\"\n      }\n    },\n    {\n      \"column\": \"Defecto\",\n      \"properties\": {\n        \"dtype\": \"category\",\n        \"num_unique_values\": 4,\n        \"samples\": [\n          \"Sin defecto\",\n          \"Cortocircuito\",\n          \"Mal ensamblado\"\n        ],\n        \"semantic_type\": \"\",\n        \"description\": \"\"\n      }\n    }\n  ]\n}"
            }
          },
          "metadata": {},
          "execution_count": 2
        }
      ],
      "source": [
        "# Celda 2: Cargar dataset y mostrar primeras filas\n",
        "url = 'https://github.com/dtoralg/IE_Calidad_ML/raw/main/Data/defectos_productos.csv'\n",
        "df = pd.read_csv(url)\n",
        "df.head()"
      ]
    },
    {
      "cell_type": "code",
      "execution_count": 3,
      "id": "6faf06e4",
      "metadata": {
        "id": "6faf06e4"
      },
      "outputs": [],
      "source": [
        "# Celda 3: Preprocesamiento de variables categóricas\n",
        "df = pd.get_dummies(df, columns=['Material_encapsulado', 'Proveedor'], drop_first=True)"
      ]
    },
    {
      "cell_type": "code",
      "execution_count": 4,
      "id": "4fabdf3f",
      "metadata": {
        "id": "4fabdf3f"
      },
      "outputs": [],
      "source": [
        "# Celda 4: Separar variables predictoras y target\n",
        "X = df.drop(columns=['ID_producto', 'Defecto'])\n",
        "y = df['Defecto']"
      ]
    },
    {
      "cell_type": "code",
      "execution_count": 5,
      "id": "800bcf3e",
      "metadata": {
        "id": "800bcf3e"
      },
      "outputs": [],
      "source": [
        "# Celda 5: Imputación de valores y escalado\n",
        "imputer = SimpleImputer(strategy='median')\n",
        "X_imputed = imputer.fit_transform(X)\n",
        "scaler = StandardScaler()\n",
        "X_scaled = scaler.fit_transform(X_imputed)"
      ]
    },
    {
      "cell_type": "code",
      "execution_count": 6,
      "id": "556385f0",
      "metadata": {
        "id": "556385f0"
      },
      "outputs": [],
      "source": [
        "# Celda 6: Dividir en entrenamiento y prueba\n",
        "X_train, X_test, y_train, y_test = train_test_split(X_scaled, y, test_size=0.2, stratify=y, random_state=42)"
      ]
    },
    {
      "cell_type": "code",
      "execution_count": 7,
      "id": "7ddda327",
      "metadata": {
        "id": "7ddda327"
      },
      "outputs": [],
      "source": [
        "# Celda 7: Evaluar rendimiento en validación cruzada aumentando n_estimators\n",
        "from sklearn.model_selection import StratifiedKFold\n",
        "skf = StratifiedKFold(n_splits=3, shuffle=True, random_state=42)\n",
        "\n",
        "n_estimators_range = range(10, 210, 10)\n",
        "f1_scores = []\n",
        "\n",
        "for n in n_estimators_range:\n",
        "    rf = RandomForestClassifier(n_estimators=n, max_depth=10, min_samples_leaf=3, random_state=42)\n",
        "    scores = cross_val_score(rf, X_train, y_train, cv=skf, scoring='f1_macro')\n",
        "    f1_scores.append(scores.mean())"
      ]
    },
    {
      "cell_type": "code",
      "execution_count": 8,
      "id": "b9f5efed",
      "metadata": {
        "colab": {
          "base_uri": "https://localhost:8080/",
          "height": 601
        },
        "id": "b9f5efed",
        "outputId": "250dcf0e-8a51-48ac-95c9-6d971b0f348b"
      },
      "outputs": [
        {
          "output_type": "display_data",
          "data": {
            "text/plain": [
              "<Figure size 1000x600 with 1 Axes>"
            ],
            "image/png": "[encoded data removed]"
          },
          "metadata": {}
        }
      ],
      "source": [
        "# Celda 8: Visualización del rendimiento vs número de árboles\n",
        "plt.figure(figsize=(10,6))\n",
        "plt.plot(n_estimators_range, f1_scores, marker='o')\n",
        "plt.xlabel('Número de árboles (n_estimators)')\n",
        "plt.ylabel('F1 Macro Score (validación cruzada)')\n",
        "plt.title('Curva de rendimiento vs n_estimators')\n",
        "plt.grid(True)\n",
        "plt.tight_layout()\n",
        "plt.show()"
      ]
    },
    {
      "cell_type": "code",
      "execution_count": 9,
      "id": "a5f5cfe9",
      "metadata": {
        "colab": {
          "base_uri": "https://localhost:8080/"
        },
        "id": "a5f5cfe9",
        "outputId": "7eaa334c-3ec7-4cb6-d851-188763248474"
      },
      "outputs": [
        {
          "output_type": "stream",
          "name": "stdout",
          "text": [
            "Mejor número de árboles según validación cruzada: 140\n"
          ]
        }
      ],
      "source": [
        "# Celda 9: Identificar el mejor valor y entrenar modelo final\n",
        "best_n = n_estimators_range[np.argmax(f1_scores)]\n",
        "print(f'Mejor número de árboles según validación cruzada: {best_n}')\n",
        "modelo_final = RandomForestClassifier(n_estimators=best_n, max_depth=10, min_samples_leaf=3, random_state=42)\n",
        "modelo_final.fit(X_train, y_train)\n",
        "y_pred = modelo_final.predict(X_test)"
      ]
    },
    {
      "cell_type": "code",
      "execution_count": 10,
      "id": "e8fb2f06",
      "metadata": {
        "colab": {
          "base_uri": "https://localhost:8080/"
        },
        "id": "e8fb2f06",
        "outputId": "4a8bc252-1527-4224-f1e0-cac5a2be2524"
      },
      "outputs": [
        {
          "output_type": "stream",
          "name": "stdout",
          "text": [
            "                    precision    recall  f1-score   support\n",
            "\n",
            "     Cortocircuito       1.00      0.25      0.40      2640\n",
            "    Mal ensamblado       1.00      0.51      0.68      2619\n",
            "       Sin defecto       0.55      1.00      0.71      7132\n",
            "Sobrecalentamiento       0.93      0.00      0.01      2609\n",
            "\n",
            "          accuracy                           0.61     15000\n",
            "         macro avg       0.87      0.44      0.45     15000\n",
            "      weighted avg       0.77      0.61      0.53     15000\n",
            "\n"
          ]
        }
      ],
      "source": [
        "# Celda 10: Evaluación final del modelo en conjunto de test\n",
        "from sklearn.metrics import classification_report\n",
        "print(classification_report(y_test, y_pred))"
      ]
    },
    {
      "cell_type": "markdown",
      "id": "15ea5b38",
      "metadata": {
        "id": "15ea5b38"
      },
      "source": [
        "### **Conclusiones**\n",
        "- Hemos utilizado **validación cruzada** para evaluar el rendimiento del modelo conforme aumenta el número de árboles (`n_estimators`).\n",
        "- La métrica usada fue **F1 Macro Score**, adecuada para clasificación multiclase con clases desbalanceadas.\n",
        "- A partir de cierto punto, aumentar `n_estimators` no aporta mejoras sustanciales → se puede aplicar una lógica de **early stopping manual**.\n",
        "- También observamos cómo `max_depth` y `min_samples_leaf` actúan como formas de **regularización estructural**.\n",
        "\n",
        "### **Preguntas para reflexionar**\n",
        "- ¿Qué pasaría si usamos `max_depth=None` o `min_samples_leaf=1`?\n",
        "- ¿En qué casos convendría automatizar el early stopping en lugar de evaluarlo manualmente?\n",
        "- ¿Cómo afecta la semilla aleatoria (random_state) en los resultados de modelos como Random Forest?"
      ]
    }
  ],
  "metadata": {
    "colab": {
      "provenance": [],
      "include_colab_link": true
    },
    "language_info": {
      "name": "python"
    },
    "kernelspec": {
      "name": "python3",
      "display_name": "Python 3"
    }
  },
  "nbformat": 4,
  "nbformat_minor": 5
}