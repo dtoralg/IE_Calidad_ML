{
  "cells": [
    {
      "cell_type": "markdown",
      "metadata": {
        "id": "view-in-github",
        "colab_type": "text"
      },
      "source": [
        "<a href=\"https://colab.research.google.com/github/dtoralg/IE_Calidad_ML/blob/main/Ejercicios/Modulo%205/Modulo_5_Ejercicio_5_CrossValidation.ipynb\" target=\"_parent\"><img src=\"https://colab.research.google.com/assets/colab-badge.svg\" alt=\"Open In Colab\"/></a>"
      ]
    },
    {
      "cell_type": "markdown",
      "id": "b484ee20",
      "metadata": {
        "id": "b484ee20"
      },
      "source": [
        "### **Ejercicio 5: ¿Cuán estable es tu modelo? Evalúa su rendimiento con validación cruzada (dataset balanceado)**\n",
        "**Aplicación de Hold-out, KFold y StratifiedKFold en un problema de clasificación binaria con clases balanceadas**"
      ]
    },
    {
      "cell_type": "markdown",
      "id": "46db2473",
      "metadata": {
        "id": "46db2473"
      },
      "source": [
        "### **Introducción**\n",
        "En este ejercicio aprenderás a aplicar correctamente la **validación cruzada** para evaluar la estabilidad de un modelo y su capacidad de generalización. Usaremos un dataset con clases balanceadas para comprobar cómo la validación cruzada mejora la estimación del rendimiento comparado con una simple partición de entrenamiento/prueba. Analizaremos la variabilidad de métricas como **accuracy** y **F1 Score**, comparando los resultados de **Hold-out**, **KFold**, y **StratifiedKFold**."
      ]
    },
    {
      "cell_type": "code",
      "execution_count": null,
      "id": "a57aa978",
      "metadata": {
        "id": "a57aa978"
      },
      "outputs": [],
      "source": [
        "# Celda 1: Carga de librerías\n",
        "import pandas as pd\n",
        "import numpy as np\n",
        "import matplotlib.pyplot as plt\n",
        "import seaborn as sns\n",
        "from sklearn.model_selection import train_test_split, KFold, StratifiedKFold, cross_val_score\n",
        "from sklearn.ensemble import RandomForestClassifier\n",
        "from sklearn.metrics import classification_report\n",
        "from sklearn.impute import SimpleImputer\n",
        "from sklearn.preprocessing import StandardScaler\n",
        "sns.set(style='whitegrid')"
      ]
    },
    {
      "cell_type": "code",
      "execution_count": null,
      "id": "e846ddf4",
      "metadata": {
        "id": "e846ddf4"
      },
      "outputs": [],
      "source": [
        "# Celda 2: Cargar dataset balanceado\n",
        "url = 'https://github.com/dtoralg/IE_Calidad_ML/raw/main/Data/control_calidad_piezas_metalicas.csv'\n",
        "df = pd.read_csv(url)\n",
        "..."
      ]
    },
    {
      "cell_type": "code",
      "execution_count": null,
      "id": "b847b4e6",
      "metadata": {
        "id": "b847b4e6"
      },
      "outputs": [],
      "source": [
        "# Celda 3: Preparación de variables, drop ID y mapear defecto a binario\n",
        "..."
      ]
    },
    {
      "cell_type": "code",
      "execution_count": null,
      "id": "842fa7d9",
      "metadata": {
        "id": "842fa7d9"
      },
      "outputs": [],
      "source": [
        "# Celda 4: Codificación, imputación y escalado\n",
        "..."
      ]
    },
    {
      "cell_type": "code",
      "execution_count": null,
      "id": "13908135",
      "metadata": {
        "id": "13908135"
      },
      "outputs": [],
      "source": [
        "# Celda 5: Hold-out (train/test split) + entrenamiento de RandomForest, predicciones y classification_report\n",
        "...\n"
      ]
    },
    {
      "cell_type": "code",
      "execution_count": null,
      "id": "ca179843",
      "metadata": {
        "id": "ca179843"
      },
      "outputs": [],
      "source": [
        "# Celda 6: Validación cruzada con KFold (3 particiones)\n",
        "# Ten paciencia, este cálculo puede tardar > 20 min en Colab\n",
        "kf = KFold(...)\n",
        "f1_kf = cross_val_score(..., cv=kf, scoring='f1')\n",
        "acc_kf = cross_val_score(..., cv=kf, scoring='accuracy')\n",
        "print('F1 Score por fold (KFold):', f1_kf)\n",
        "print('Accuracy por fold (KFold):', acc_kf)"
      ]
    },
    {
      "cell_type": "code",
      "execution_count": null,
      "id": "838d55b0",
      "metadata": {
        "id": "838d55b0"
      },
      "outputs": [],
      "source": [
        "# Celda 7: Validación cruzada con StratifiedKFold (3 particiones)\n",
        "# Puede tardar > 20 min en Colab\n",
        "skf = StratifiedKFold(...)\n",
        "f1_skf = cross_val_score(..., cv=skf, scoring='f1')\n",
        "acc_skf = cross_val_score(..., cv=skf, scoring='accuracy')\n",
        "print('F1 Score por fold (StratifiedKFold):', f1_skf)\n",
        "print('Accuracy por fold (StratifiedKFold):', acc_skf)"
      ]
    },
    {
      "cell_type": "code",
      "execution_count": null,
      "id": "ffa3b748",
      "metadata": {
        "id": "ffa3b748"
      },
      "outputs": [],
      "source": [
        "# Celda 8: Visualización con boxplots\n",
        "df_cv = pd.DataFrame({\n",
        "    'KFold - F1': ...,\n",
        "    'StratifiedKFold - F1': ...,\n",
        "    'KFold - Accuracy': ...,\n",
        "    'StratifiedKFold - Accuracy': ...\n",
        "})\n",
        "plt.figure(figsize=(10,6))\n",
        "sns.boxplot(data=df_cv)\n",
        "plt.title('Comparación de variabilidad entre métodos de validación')\n",
        "plt.xticks(rotation=45)\n",
        "plt.tight_layout()\n",
        "plt.show()"
      ]
    },
    {
      "cell_type": "markdown",
      "id": "03469e54",
      "metadata": {
        "id": "03469e54"
      },
      "source": [
        "### **Conclusiones**\n",
        "- En datasets **balanceados**, tanto KFold como StratifiedKFold ofrecen estimaciones consistentes del rendimiento.\n",
        "- Aunque en este caso el desbalance no es un problema, **StratifiedKFold** sigue siendo una práctica recomendable.\n",
        "- La comparación con `train_test_split` muestra que la validación cruzada **reduce la dependencia del azar** al evaluar modelos.\n",
        "\n",
        "### **Preguntas para reflexionar**\n",
        "- ¿Qué métrica muestra más variabilidad entre folds: F1 o Accuracy?\n",
        "- ¿En qué casos podrías confiar solo en `train_test_split`?\n",
        "- ¿Cuál sería una buena estrategia de validación si los datos fueran muy escasos?"
      ]
    }
  ],
  "metadata": {
    "colab": {
      "provenance": [],
      "include_colab_link": true
    },
    "language_info": {
      "name": "python"
    },
    "kernelspec": {
      "name": "python3",
      "display_name": "Python 3"
    }
  },
  "nbformat": 4,
  "nbformat_minor": 5
}