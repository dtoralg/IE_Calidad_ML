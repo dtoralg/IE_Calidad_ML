{
  "cells": [
    {
      "cell_type": "markdown",
      "metadata": {
        "id": "view-in-github",
        "colab_type": "text"
      },
      "source": [
        "<a href=\"https://colab.research.google.com/github/dtoralg/IE_Calidad_ML/blob/main/Ejercicios/Modulo%205/Modulo_5_Ejercicio_5_CrossValidation_Resuelto.ipynb\" target=\"_parent\"><img src=\"https://colab.research.google.com/assets/colab-badge.svg\" alt=\"Open In Colab\"/></a>"
      ]
    },
    {
      "cell_type": "markdown",
      "id": "b484ee20",
      "metadata": {
        "id": "b484ee20"
      },
      "source": [
        "### **Ejercicio 5: ¿Cuán estable es tu modelo? Evalúa su rendimiento con validación cruzada (dataset balanceado)**\n",
        "**Aplicación de Hold-out, KFold y StratifiedKFold en un problema de clasificación binaria con clases balanceadas**"
      ]
    },
    {
      "cell_type": "markdown",
      "id": "46db2473",
      "metadata": {
        "id": "46db2473"
      },
      "source": [
        "### **Introducción**\n",
        "En este ejercicio aprenderás a aplicar correctamente la **validación cruzada** para evaluar la estabilidad de un modelo y su capacidad de generalización. Usaremos un dataset con clases balanceadas para comprobar cómo la validación cruzada mejora la estimación del rendimiento comparado con una simple partición de entrenamiento/prueba. Analizaremos la variabilidad de métricas como **accuracy** y **F1 Score**, comparando los resultados de **Hold-out**, **KFold**, y **StratifiedKFold**."
      ]
    },
    {
      "cell_type": "code",
      "execution_count": 1,
      "id": "a57aa978",
      "metadata": {
        "id": "a57aa978"
      },
      "outputs": [],
      "source": [
        "# Celda 1: Carga de librerías\n",
        "import pandas as pd\n",
        "import numpy as np\n",
        "import matplotlib.pyplot as plt\n",
        "import seaborn as sns\n",
        "from sklearn.model_selection import train_test_split, KFold, StratifiedKFold, cross_val_score\n",
        "from sklearn.linear_model import LogisticRegression\n",
        "from sklearn.metrics import classification_report\n",
        "from sklearn.impute import SimpleImputer\n",
        "from sklearn.preprocessing import StandardScaler\n",
        "sns.set(style='whitegrid')"
      ]
    },
    {
      "cell_type": "code",
      "execution_count": 2,
      "id": "e846ddf4",
      "metadata": {
        "colab": {
          "base_uri": "https://localhost:8080/",
          "height": 226
        },
        "id": "e846ddf4",
        "outputId": "a63db9bb-8a86-4a74-d506-248ea153e24b"
      },
      "outputs": [
        {
          "output_type": "execute_result",
          "data": {
            "text/plain": [
              "   ID_pieza  Temperatura  Presión_molde  Tiempo_inyección  \\\n",
              "0         1   209.934283    1529.461844          6.030595   \n",
              "1         2   197.234714    1480.767531          3.844645   \n",
              "2         3   212.953771    1785.537227          5.575437   \n",
              "3         4   230.460597    1959.849342          4.380762   \n",
              "4         5   195.316933    1706.054083          4.672597   \n",
              "\n",
              "   Viscosidad_material  Humedad_ambiente  Energía_consumida Operario_turno  \\\n",
              "0             2.450860         39.217029           5.779265     Operario_3   \n",
              "1             3.121770         43.969118           9.031166     Operario_5   \n",
              "2             2.862635         43.672496           6.462271     Operario_4   \n",
              "3             2.217833         33.957695          12.616841     Operario_5   \n",
              "4             1.591750         72.752929          10.004330     Operario_5   \n",
              "\n",
              "  Día_semana Lote_producción  Desgaste_molde  Tiempo_desmoldeo  Ancho_pieza  \\\n",
              "0      Lunes         Lote_13        0.458149          3.688541    50.157288   \n",
              "1    Viernes          Lote_6        0.505443          3.834900    59.949957   \n",
              "2  Miércoles         Lote_14        0.597260          3.286921    43.763784   \n",
              "3    Domingo         Lote_13        0.332967          3.305580    52.769876   \n",
              "4      Lunes         Lote_17        0.565406          2.961457    46.792873   \n",
              "\n",
              "   Altura_pieza Defecto  \n",
              "0    101.279351      OK  \n",
              "1     96.724974      KO  \n",
              "2    118.998853      KO  \n",
              "3    115.421844      KO  \n",
              "4     97.644322      OK  "
            ],
            "text/html": [
              "\n",
              "  <div id=\"df-964796d5-b787-40c1-a515-adabc6c96d83\" class=\"colab-df-container\">\n",
              "    <div>\n",
              "<style scoped>\n",
              "    .dataframe tbody tr th:only-of-type {\n",
              "        vertical-align: middle;\n",
              "    }\n",
              "\n",
              "    .dataframe tbody tr th {\n",
              "        vertical-align: top;\n",
              "    }\n",
              "\n",
              "    .dataframe thead th {\n",
              "        text-align: right;\n",
              "    }\n",
              "</style>\n",
              "<table border=\"1\" class=\"dataframe\">\n",
              "  <thead>\n",
              "    <tr style=\"text-align: right;\">\n",
              "      <th></th>\n",
              "      <th>ID_pieza</th>\n",
              "      <th>Temperatura</th>\n",
              "      <th>Presión_molde</th>\n",
              "      <th>Tiempo_inyección</th>\n",
              "      <th>Viscosidad_material</th>\n",
              "      <th>Humedad_ambiente</th>\n",
              "      <th>Energía_consumida</th>\n",
              "      <th>Operario_turno</th>\n",
              "      <th>Día_semana</th>\n",
              "      <th>Lote_producción</th>\n",
              "      <th>Desgaste_molde</th>\n",
              "      <th>Tiempo_desmoldeo</th>\n",
              "      <th>Ancho_pieza</th>\n",
              "      <th>Altura_pieza</th>\n",
              "      <th>Defecto</th>\n",
              "    </tr>\n",
              "  </thead>\n",
              "  <tbody>\n",
              "    <tr>\n",
              "      <th>0</th>\n",
              "      <td>1</td>\n",
              "      <td>209.934283</td>\n",
              "      <td>1529.461844</td>\n",
              "      <td>6.030595</td>\n",
              "      <td>2.450860</td>\n",
              "      <td>39.217029</td>\n",
              "      <td>5.779265</td>\n",
              "      <td>Operario_3</td>\n",
              "      <td>Lunes</td>\n",
              "      <td>Lote_13</td>\n",
              "      <td>0.458149</td>\n",
              "      <td>3.688541</td>\n",
              "      <td>50.157288</td>\n",
              "      <td>101.279351</td>\n",
              "      <td>OK</td>\n",
              "    </tr>\n",
              "    <tr>\n",
              "      <th>1</th>\n",
              "      <td>2</td>\n",
              "      <td>197.234714</td>\n",
              "      <td>1480.767531</td>\n",
              "      <td>3.844645</td>\n",
              "      <td>3.121770</td>\n",
              "      <td>43.969118</td>\n",
              "      <td>9.031166</td>\n",
              "      <td>Operario_5</td>\n",
              "      <td>Viernes</td>\n",
              "      <td>Lote_6</td>\n",
              "      <td>0.505443</td>\n",
              "      <td>3.834900</td>\n",
              "      <td>59.949957</td>\n",
              "      <td>96.724974</td>\n",
              "      <td>KO</td>\n",
              "    </tr>\n",
              "    <tr>\n",
              "      <th>2</th>\n",
              "      <td>3</td>\n",
              "      <td>212.953771</td>\n",
              "      <td>1785.537227</td>\n",
              "      <td>5.575437</td>\n",
              "      <td>2.862635</td>\n",
              "      <td>43.672496</td>\n",
              "      <td>6.462271</td>\n",
              "      <td>Operario_4</td>\n",
              "      <td>Miércoles</td>\n",
              "      <td>Lote_14</td>\n",
              "      <td>0.597260</td>\n",
              "      <td>3.286921</td>\n",
              "      <td>43.763784</td>\n",
              "      <td>118.998853</td>\n",
              "      <td>KO</td>\n",
              "    </tr>\n",
              "    <tr>\n",
              "      <th>3</th>\n",
              "      <td>4</td>\n",
              "      <td>230.460597</td>\n",
              "      <td>1959.849342</td>\n",
              "      <td>4.380762</td>\n",
              "      <td>2.217833</td>\n",
              "      <td>33.957695</td>\n",
              "      <td>12.616841</td>\n",
              "      <td>Operario_5</td>\n",
              "      <td>Domingo</td>\n",
              "      <td>Lote_13</td>\n",
              "      <td>0.332967</td>\n",
              "      <td>3.305580</td>\n",
              "      <td>52.769876</td>\n",
              "      <td>115.421844</td>\n",
              "      <td>KO</td>\n",
              "    </tr>\n",
              "    <tr>\n",
              "      <th>4</th>\n",
              "      <td>5</td>\n",
              "      <td>195.316933</td>\n",
              "      <td>1706.054083</td>\n",
              "      <td>4.672597</td>\n",
              "      <td>1.591750</td>\n",
              "      <td>72.752929</td>\n",
              "      <td>10.004330</td>\n",
              "      <td>Operario_5</td>\n",
              "      <td>Lunes</td>\n",
              "      <td>Lote_17</td>\n",
              "      <td>0.565406</td>\n",
              "      <td>2.961457</td>\n",
              "      <td>46.792873</td>\n",
              "      <td>97.644322</td>\n",
              "      <td>OK</td>\n",
              "    </tr>\n",
              "  </tbody>\n",
              "</table>\n",
              "</div>\n",
              "    <div class=\"colab-df-buttons\">\n",
              "\n",
              "  <div class=\"colab-df-container\">\n",
              "    <button class=\"colab-df-convert\" onclick=\"convertToInteractive('df-964796d5-b787-40c1-a515-adabc6c96d83')\"\n",
              "            title=\"Convert this dataframe to an interactive table.\"\n",
              "            style=\"display:none;\">\n",
              "\n",
              "  <svg xmlns=\"http://www.w3.org/2000/svg\" height=\"24px\" viewBox=\"0 -960 960 960\">\n",
              "    <path d=\"M120-120v-720h720v720H120Zm60-500h600v-160H180v160Zm220 220h160v-160H400v160Zm0 220h160v-160H400v160ZM180-400h160v-160H180v160Zm440 0h160v-160H620v160ZM180-180h160v-160H180v160Zm440 0h160v-160H620v160Z\"/>\n",
              "  </svg>\n",
              "    </button>\n",
              "\n",
              "  <style>\n",
              "    .colab-df-container {\n",
              "      display:flex;\n",
              "      gap: 12px;\n",
              "    }\n",
              "\n",
              "    .colab-df-convert {\n",
              "      background-color: #E8F0FE;\n",
              "      border: none;\n",
              "      border-radius: 50%;\n",
              "      cursor: pointer;\n",
              "      display: none;\n",
              "      fill: #1967D2;\n",
              "      height: 32px;\n",
              "      padding: 0 0 0 0;\n",
              "      width: 32px;\n",
              "    }\n",
              "\n",
              "    .colab-df-convert:hover {\n",
              "      background-color: #E2EBFA;\n",
              "      box-shadow: 0px 1px 2px rgba(60, 64, 67, 0.3), 0px 1px 3px 1px rgba(60, 64, 67, 0.15);\n",
              "      fill: #174EA6;\n",
              "    }\n",
              "\n",
              "    .colab-df-buttons div {\n",
              "      margin-bottom: 4px;\n",
              "    }\n",
              "\n",
              "    [theme=dark] .colab-df-convert {\n",
              "      background-color: #3B4455;\n",
              "      fill: #D2E3FC;\n",
              "    }\n",
              "\n",
              "    [theme=dark] .colab-df-convert:hover {\n",
              "      background-color: #434B5C;\n",
              "      box-shadow: 0px 1px 3px 1px rgba(0, 0, 0, 0.15);\n",
              "      filter: drop-shadow(0px 1px 2px rgba(0, 0, 0, 0.3));\n",
              "      fill: #FFFFFF;\n",
              "    }\n",
              "  </style>\n",
              "\n",
              "    <script>\n",
              "      const buttonEl =\n",
              "        document.querySelector('#df-964796d5-b787-40c1-a515-adabc6c96d83 button.colab-df-convert');\n",
              "      buttonEl.style.display =\n",
              "        google.colab.kernel.accessAllowed ? 'block' : 'none';\n",
              "\n",
              "      async function convertToInteractive(key) {\n",
              "        const element = document.querySelector('#df-964796d5-b787-40c1-a515-adabc6c96d83');\n",
              "        const dataTable =\n",
              "          await google.colab.kernel.invokeFunction('convertToInteractive',\n",
              "                                                    [key], {});\n",
              "        if (!dataTable) return;\n",
              "\n",
              "        const docLinkHtml = 'Like what you see? Visit the ' +\n",
              "          '<a target=\"_blank\" href=https://colab.research.google.com/notebooks/data_table.ipynb>data table notebook</a>'\n",
              "          + ' to learn more about interactive tables.';\n",
              "        element.innerHTML = '';\n",
              "        dataTable['output_type'] = 'display_data';\n",
              "        await google.colab.output.renderOutput(dataTable, element);\n",
              "        const docLink = document.createElement('div');\n",
              "        docLink.innerHTML = docLinkHtml;\n",
              "        element.appendChild(docLink);\n",
              "      }\n",
              "    </script>\n",
              "  </div>\n",
              "\n",
              "\n",
              "<div id=\"df-166df252-31b4-427d-ba32-0fd18378d2f0\">\n",
              "  <button class=\"colab-df-quickchart\" onclick=\"quickchart('df-166df252-31b4-427d-ba32-0fd18378d2f0')\"\n",
              "            title=\"Suggest charts\"\n",
              "            style=\"display:none;\">\n",
              "\n",
              "<svg xmlns=\"http://www.w3.org/2000/svg\" height=\"24px\"viewBox=\"0 0 24 24\"\n",
              "     width=\"24px\">\n",
              "    <g>\n",
              "        <path d=\"M19 3H5c-1.1 0-2 .9-2 2v14c0 1.1.9 2 2 2h14c1.1 0 2-.9 2-2V5c0-1.1-.9-2-2-2zM9 17H7v-7h2v7zm4 0h-2V7h2v10zm4 0h-2v-4h2v4z\"/>\n",
              "    </g>\n",
              "</svg>\n",
              "  </button>\n",
              "\n",
              "<style>\n",
              "  .colab-df-quickchart {\n",
              "      --bg-color: #E8F0FE;\n",
              "      --fill-color: #1967D2;\n",
              "      --hover-bg-color: #E2EBFA;\n",
              "      --hover-fill-color: #174EA6;\n",
              "      --disabled-fill-color: #AAA;\n",
              "      --disabled-bg-color: #DDD;\n",
              "  }\n",
              "\n",
              "  [theme=dark] .colab-df-quickchart {\n",
              "      --bg-color: #3B4455;\n",
              "      --fill-color: #D2E3FC;\n",
              "      --hover-bg-color: #434B5C;\n",
              "      --hover-fill-color: #FFFFFF;\n",
              "      --disabled-bg-color: #3B4455;\n",
              "      --disabled-fill-color: #666;\n",
              "  }\n",
              "\n",
              "  .colab-df-quickchart {\n",
              "    background-color: var(--bg-color);\n",
              "    border: none;\n",
              "    border-radius: 50%;\n",
              "    cursor: pointer;\n",
              "    display: none;\n",
              "    fill: var(--fill-color);\n",
              "    height: 32px;\n",
              "    padding: 0;\n",
              "    width: 32px;\n",
              "  }\n",
              "\n",
              "  .colab-df-quickchart:hover {\n",
              "    background-color: var(--hover-bg-color);\n",
              "    box-shadow: 0 1px 2px rgba(60, 64, 67, 0.3), 0 1px 3px 1px rgba(60, 64, 67, 0.15);\n",
              "    fill: var(--button-hover-fill-color);\n",
              "  }\n",
              "\n",
              "  .colab-df-quickchart-complete:disabled,\n",
              "  .colab-df-quickchart-complete:disabled:hover {\n",
              "    background-color: var(--disabled-bg-color);\n",
              "    fill: var(--disabled-fill-color);\n",
              "    box-shadow: none;\n",
              "  }\n",
              "\n",
              "  .colab-df-spinner {\n",
              "    border: 2px solid var(--fill-color);\n",
              "    border-color: transparent;\n",
              "    border-bottom-color: var(--fill-color);\n",
              "    animation:\n",
              "      spin 1s steps(1) infinite;\n",
              "  }\n",
              "\n",
              "  @keyframes spin {\n",
              "    0% {\n",
              "      border-color: transparent;\n",
              "      border-bottom-color: var(--fill-color);\n",
              "      border-left-color: var(--fill-color);\n",
              "    }\n",
              "    20% {\n",
              "      border-color: transparent;\n",
              "      border-left-color: var(--fill-color);\n",
              "      border-top-color: var(--fill-color);\n",
              "    }\n",
              "    30% {\n",
              "      border-color: transparent;\n",
              "      border-left-color: var(--fill-color);\n",
              "      border-top-color: var(--fill-color);\n",
              "      border-right-color: var(--fill-color);\n",
              "    }\n",
              "    40% {\n",
              "      border-color: transparent;\n",
              "      border-right-color: var(--fill-color);\n",
              "      border-top-color: var(--fill-color);\n",
              "    }\n",
              "    60% {\n",
              "      border-color: transparent;\n",
              "      border-right-color: var(--fill-color);\n",
              "    }\n",
              "    80% {\n",
              "      border-color: transparent;\n",
              "      border-right-color: var(--fill-color);\n",
              "      border-bottom-color: var(--fill-color);\n",
              "    }\n",
              "    90% {\n",
              "      border-color: transparent;\n",
              "      border-bottom-color: var(--fill-color);\n",
              "    }\n",
              "  }\n",
              "</style>\n",
              "\n",
              "  <script>\n",
              "    async function quickchart(key) {\n",
              "      const quickchartButtonEl =\n",
              "        document.querySelector('#' + key + ' button');\n",
              "      quickchartButtonEl.disabled = true;  // To prevent multiple clicks.\n",
              "      quickchartButtonEl.classList.add('colab-df-spinner');\n",
              "      try {\n",
              "        const charts = await google.colab.kernel.invokeFunction(\n",
              "            'suggestCharts', [key], {});\n",
              "      } catch (error) {\n",
              "        console.error('Error during call to suggestCharts:', error);\n",
              "      }\n",
              "      quickchartButtonEl.classList.remove('colab-df-spinner');\n",
              "      quickchartButtonEl.classList.add('colab-df-quickchart-complete');\n",
              "    }\n",
              "    (() => {\n",
              "      let quickchartButtonEl =\n",
              "        document.querySelector('#df-166df252-31b4-427d-ba32-0fd18378d2f0 button');\n",
              "      quickchartButtonEl.style.display =\n",
              "        google.colab.kernel.accessAllowed ? 'block' : 'none';\n",
              "    })();\n",
              "  </script>\n",
              "</div>\n",
              "\n",
              "    </div>\n",
              "  </div>\n"
            ],
            "application/vnd.google.colaboratory.intrinsic+json": {
              "type": "dataframe",
              "variable_name": "df",
              "summary": "{\n  \"name\": \"df\",\n  \"rows\": 50000,\n  \"fields\": [\n    {\n      \"column\": \"ID_pieza\",\n      \"properties\": {\n        \"dtype\": \"number\",\n        \"std\": 14433,\n        \"min\": 1,\n        \"max\": 50000,\n        \"num_unique_values\": 50000,\n        \"samples\": [\n          33554,\n          9428,\n          200\n        ],\n        \"semantic_type\": \"\",\n        \"description\": \"\"\n      }\n    },\n    {\n      \"column\": \"Temperatura\",\n      \"properties\": {\n        \"dtype\": \"number\",\n        \"std\": 20.003397363027094,\n        \"min\": 110.68792272942244,\n        \"max\": 289.5816850205151,\n        \"num_unique_values\": 50000,\n        \"samples\": [\n          192.016702579704,\n          187.75154218198264,\n          177.14059404338752\n        ],\n        \"semantic_type\": \"\",\n        \"description\": \"\"\n      }\n    },\n    {\n      \"column\": \"Presi\\u00f3n_molde\",\n      \"properties\": {\n        \"dtype\": \"number\",\n        \"std\": 300.4948763039599,\n        \"min\": 161.10944187596897,\n        \"max\": 2648.9346514022573,\n        \"num_unique_values\": 50000,\n        \"samples\": [\n          1566.8320970110542,\n          1007.0334250387008,\n          1746.3658005047523\n        ],\n        \"semantic_type\": \"\",\n        \"description\": \"\"\n      }\n    },\n    {\n      \"column\": \"Tiempo_inyecci\\u00f3n\",\n      \"properties\": {\n        \"dtype\": \"number\",\n        \"std\": 0.9995761229361281,\n        \"min\": 1.0006677509719486,\n        \"max\": 9.56211472361489,\n        \"num_unique_values\": 50000,\n        \"samples\": [\n          5.439824345238773,\n          5.065962732871667,\n          5.819913658114847\n        ],\n        \"semantic_type\": \"\",\n        \"description\": \"\"\n      }\n    },\n    {\n      \"column\": \"Viscosidad_material\",\n      \"properties\": {\n        \"dtype\": \"number\",\n        \"std\": 0.5790307243290214,\n        \"min\": 1.5000045963652362,\n        \"max\": 3.499958522837285,\n        \"num_unique_values\": 50000,\n        \"samples\": [\n          2.3708732483311703,\n          2.245172795184566,\n          2.370414749020248\n        ],\n        \"semantic_type\": \"\",\n        \"description\": \"\"\n      }\n    },\n    {\n      \"column\": \"Humedad_ambiente\",\n      \"properties\": {\n        \"dtype\": \"number\",\n        \"std\": 17.31498187231609,\n        \"min\": 20.000876397357427,\n        \"max\": 79.9946484103833,\n        \"num_unique_values\": 50000,\n        \"samples\": [\n          42.655807273777526,\n          69.62266022864563,\n          69.7023335235763\n        ],\n        \"semantic_type\": \"\",\n        \"description\": \"\"\n      }\n    },\n    {\n      \"column\": \"Energ\\u00eda_consumida\",\n      \"properties\": {\n        \"dtype\": \"number\",\n        \"std\": 2.0005576080519782,\n        \"min\": 1.1915720782456931,\n        \"max\": 18.43873268755829,\n        \"num_unique_values\": 50000,\n        \"samples\": [\n          11.26382253859119,\n          9.327340672234428,\n          12.40980842478665\n        ],\n        \"semantic_type\": \"\",\n        \"description\": \"\"\n      }\n    },\n    {\n      \"column\": \"Operario_turno\",\n      \"properties\": {\n        \"dtype\": \"category\",\n        \"num_unique_values\": 10,\n        \"samples\": [\n          \"Operario_1\",\n          \"Operario_5\",\n          \"Operario_2\"\n        ],\n        \"semantic_type\": \"\",\n        \"description\": \"\"\n      }\n    },\n    {\n      \"column\": \"D\\u00eda_semana\",\n      \"properties\": {\n        \"dtype\": \"category\",\n        \"num_unique_values\": 7,\n        \"samples\": [\n          \"Lunes\",\n          \"Viernes\",\n          \"Martes\"\n        ],\n        \"semantic_type\": \"\",\n        \"description\": \"\"\n      }\n    },\n    {\n      \"column\": \"Lote_producci\\u00f3n\",\n      \"properties\": {\n        \"dtype\": \"category\",\n        \"num_unique_values\": 20,\n        \"samples\": [\n          \"Lote_13\",\n          \"Lote_19\",\n          \"Lote_2\"\n        ],\n        \"semantic_type\": \"\",\n        \"description\": \"\"\n      }\n    },\n    {\n      \"column\": \"Desgaste_molde\",\n      \"properties\": {\n        \"dtype\": \"number\",\n        \"std\": 0.10024053239920507,\n        \"min\": 0.0687027081250838,\n        \"max\": 0.9301847742725398,\n        \"num_unique_values\": 50000,\n        \"samples\": [\n          0.3747227587527659,\n          0.6132769469016627,\n          0.5109967302528046\n        ],\n        \"semantic_type\": \"\",\n        \"description\": \"\"\n      }\n    },\n    {\n      \"column\": \"Tiempo_desmoldeo\",\n      \"properties\": {\n        \"dtype\": \"number\",\n        \"std\": 0.4998808307285902,\n        \"min\": 0.5852819957444213,\n        \"max\": 5.002942395056178,\n        \"num_unique_values\": 50000,\n        \"samples\": [\n          2.397642695089509,\n          2.65535248808057,\n          2.778405296084669\n        ],\n        \"semantic_type\": \"\",\n        \"description\": \"\"\n      }\n    },\n    {\n      \"column\": \"Ancho_pieza\",\n      \"properties\": {\n        \"dtype\": \"number\",\n        \"std\": 5.016990457115248,\n        \"min\": 30.981786501495726,\n        \"max\": 70.50510203223055,\n        \"num_unique_values\": 50000,\n        \"samples\": [\n          48.90376257922735,\n          44.365018655676295,\n          52.76977924168784\n        ],\n        \"semantic_type\": \"\",\n        \"description\": \"\"\n      }\n    },\n    {\n      \"column\": \"Altura_pieza\",\n      \"properties\": {\n        \"dtype\": \"number\",\n        \"std\": 10.016849237299523,\n        \"min\": 57.72768220424223,\n        \"max\": 141.53257428430192,\n        \"num_unique_values\": 50000,\n        \"samples\": [\n          92.98186557348028,\n          100.34245347453512,\n          98.92827210143255\n        ],\n        \"semantic_type\": \"\",\n        \"description\": \"\"\n      }\n    },\n    {\n      \"column\": \"Defecto\",\n      \"properties\": {\n        \"dtype\": \"category\",\n        \"num_unique_values\": 2,\n        \"samples\": [\n          \"KO\",\n          \"OK\"\n        ],\n        \"semantic_type\": \"\",\n        \"description\": \"\"\n      }\n    }\n  ]\n}"
            }
          },
          "metadata": {},
          "execution_count": 2
        }
      ],
      "source": [
        "# Celda 2: Cargar dataset balanceado\n",
        "url = 'https://github.com/dtoralg/IE_Calidad_ML/raw/main/Data/control_calidad_piezas_metalicas.csv'\n",
        "df = pd.read_csv(url)\n",
        "df.head()"
      ]
    },
    {
      "cell_type": "code",
      "execution_count": 3,
      "id": "b847b4e6",
      "metadata": {
        "id": "b847b4e6"
      },
      "outputs": [],
      "source": [
        "# Celda 3: Preparación de variables\n",
        "X = df.drop(columns=['ID_pieza', 'Defecto'])\n",
        "y = df['Defecto'].map({'OK': 0, 'KO': 1})"
      ]
    },
    {
      "cell_type": "code",
      "execution_count": 4,
      "id": "842fa7d9",
      "metadata": {
        "id": "842fa7d9"
      },
      "outputs": [],
      "source": [
        "# Celda 4: Codificación, imputación y escalado\n",
        "X = pd.get_dummies(X, drop_first=True)\n",
        "imputer = SimpleImputer(strategy='median')\n",
        "X_imputed = imputer.fit_transform(X)\n",
        "scaler = StandardScaler()\n",
        "X_scaled = scaler.fit_transform(X_imputed)"
      ]
    },
    {
      "cell_type": "code",
      "execution_count": 5,
      "id": "13908135",
      "metadata": {
        "colab": {
          "base_uri": "https://localhost:8080/"
        },
        "id": "13908135",
        "outputId": "6dbc9661-a919-4ab3-cef9-15dbe33d4830"
      },
      "outputs": [
        {
          "output_type": "stream",
          "name": "stdout",
          "text": [
            "              precision    recall  f1-score   support\n",
            "\n",
            "           0       0.51      0.53      0.52      5015\n",
            "           1       0.51      0.49      0.50      4985\n",
            "\n",
            "    accuracy                           0.51     10000\n",
            "   macro avg       0.51      0.51      0.51     10000\n",
            "weighted avg       0.51      0.51      0.51     10000\n",
            "\n"
          ]
        }
      ],
      "source": [
        "# Celda 5: Hold-out (train/test split)\n",
        "X_train, X_test, y_train, y_test = train_test_split(X_scaled, y, test_size=0.2, stratify=y, random_state=42)\n",
        "model = LogisticRegression(max_iter=500)\n",
        "model.fit(X_train, y_train)\n",
        "y_pred = model.predict(X_test)\n",
        "print(classification_report(y_test, y_pred))"
      ]
    },
    {
      "cell_type": "code",
      "execution_count": 9,
      "id": "ca179843",
      "metadata": {
        "colab": {
          "base_uri": "https://localhost:8080/"
        },
        "id": "ca179843",
        "outputId": "7d8abcb7-d245-4909-e191-cdfc1d31b449"
      },
      "outputs": [
        {
          "output_type": "stream",
          "name": "stdout",
          "text": [
            "F1 Score por fold (KFold): [0.50669842 0.47533538 0.48375078 0.47914483 0.4776837 ]\n",
            "Accuracy por fold (KFold): [0.5029 0.5033 0.5012 0.503  0.5003]\n"
          ]
        }
      ],
      "source": [
        "# Celda 6: Validación cruzada con KFold (5 particiones)\n",
        "kf = KFold(n_splits=5, shuffle=True, random_state=42)\n",
        "f1_kf = cross_val_score(model, X_scaled, y, cv=kf, scoring='f1')\n",
        "acc_kf = cross_val_score(model, X_scaled, y, cv=kf, scoring='accuracy')\n",
        "print('F1 Score por fold (KFold):', f1_kf)\n",
        "print('Accuracy por fold (KFold):', acc_kf)"
      ]
    },
    {
      "cell_type": "code",
      "execution_count": 7,
      "id": "838d55b0",
      "metadata": {
        "colab": {
          "base_uri": "https://localhost:8080/"
        },
        "id": "838d55b0",
        "outputId": "c942fd57-9547-4083-d1f7-6716e1dbe21e"
      },
      "outputs": [
        {
          "output_type": "stream",
          "name": "stdout",
          "text": [
            "F1 Score por fold (StratifiedKFold): [0.49023638 0.49127156 0.47929424 0.48902426 0.48434281]\n",
            "Accuracy por fold (StratifiedKFold): [0.504  0.5075 0.4983 0.5135 0.4994]\n"
          ]
        }
      ],
      "source": [
        "# Celda 7: Validación cruzada con StratifiedKFold (5 particiones)\n",
        "skf = StratifiedKFold(n_splits=5, shuffle=True, random_state=42)\n",
        "f1_skf = cross_val_score(model, X_scaled, y, cv=skf, scoring='f1')\n",
        "acc_skf = cross_val_score(model, X_scaled, y, cv=skf, scoring='accuracy')\n",
        "print('F1 Score por fold (StratifiedKFold):', f1_skf)\n",
        "print('Accuracy por fold (StratifiedKFold):', acc_skf)"
      ]
    },
    {
      "cell_type": "code",
      "execution_count": 10,
      "id": "ffa3b748",
      "metadata": {
        "colab": {
          "base_uri": "https://localhost:8080/",
          "height": 601
        },
        "id": "ffa3b748",
        "outputId": "ad215df6-a9bc-41e2-f0f0-43c0c59ebdc1"
      },
      "outputs": [
        {
          "output_type": "display_data",
          "data": {
            "text/plain": [
              "<Figure size 1000x600 with 1 Axes>"
            ],
            "image/png": "[encoded data removed]"
          },
          "metadata": {}
        }
      ],
      "source": [
        "# Celda 8: Visualización con boxplots\n",
        "df_cv = pd.DataFrame({\n",
        "    'KFold - F1': f1_kf,\n",
        "    'StratifiedKFold - F1': f1_skf,\n",
        "    'KFold - Accuracy': acc_kf,\n",
        "    'StratifiedKFold - Accuracy': acc_skf\n",
        "})\n",
        "plt.figure(figsize=(10,6))\n",
        "sns.boxplot(data=df_cv)\n",
        "plt.title('Comparación de variabilidad entre métodos de validación')\n",
        "plt.xticks(rotation=45)\n",
        "plt.tight_layout()\n",
        "plt.show()"
      ]
    },
    {
      "cell_type": "markdown",
      "id": "03469e54",
      "metadata": {
        "id": "03469e54"
      },
      "source": [
        "### **Conclusiones**\n",
        "- En datasets **balanceados**, tanto KFold como StratifiedKFold ofrecen estimaciones consistentes del rendimiento.\n",
        "- Aunque en este caso el desbalance no es un problema, **StratifiedKFold** sigue siendo una práctica recomendable.\n",
        "- La comparación con `train_test_split` muestra que la validación cruzada **reduce la dependencia del azar** al evaluar modelos.\n",
        "\n",
        "### **Preguntas para reflexionar**\n",
        "- ¿Qué métrica muestra más variabilidad entre folds: F1 o Accuracy?\n",
        "- ¿En qué casos podrías confiar solo en `train_test_split`?\n",
        "- ¿Cuál sería una buena estrategia de validación si los datos fueran muy escasos?"
      ]
    }
  ],
  "metadata": {
    "colab": {
      "provenance": [],
      "include_colab_link": true
    },
    "language_info": {
      "name": "python"
    },
    "kernelspec": {
      "name": "python3",
      "display_name": "Python 3"
    }
  },
  "nbformat": 4,
  "nbformat_minor": 5
}