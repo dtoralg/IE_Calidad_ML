{
  "cells": [
    {
      "cell_type": "markdown",
      "metadata": {
        "id": "view-in-github",
        "colab_type": "text"
      },
      "source": [
        "<a href=\"https://colab.research.google.com/github/dtoralg/IE_Calidad_ML/blob/main/Ejercicios/Modulo%205/Modulo_5_Ejercicio_4_Early_Stopping_RandomForest.ipynb\" target=\"_parent\"><img src=\"https://colab.research.google.com/assets/colab-badge.svg\" alt=\"Open In Colab\"/></a>"
      ]
    },
    {
      "cell_type": "markdown",
      "id": "91bd43cc",
      "metadata": {
        "id": "91bd43cc"
      },
      "source": [
        "### **Ejercicio 4: Regularización y Early Stopping con Random Forest — una simulación guiada**\n",
        "**Explora cómo monitorear el sobreajuste y aplicar lógica de parada anticipada en Random Forest**"
      ]
    },
    {
      "cell_type": "markdown",
      "id": "c2c85405",
      "metadata": {
        "id": "c2c85405"
      },
      "source": [
        "### **Introducción**\n",
        "En este ejercicio vamos a explorar cómo los hiperparámetros de un modelo complejo como **Random Forest** pueden actuar como herramientas de **regularización**.\n",
        "\n",
        "Simularemos un proceso de entrenamiento iterativo donde se evalúa el rendimiento del modelo conforme aumenta el número de árboles (`n_estimators`) y se ajustan otros parámetros como `max_depth` y `min_samples_leaf`.\n",
        "El objetivo será aprender a **monitorizar** métricas como el **F1 Macro Score** y aplicar una lógica de **early stopping** manual basada en los resultados de validación cruzada."
      ]
    },
    {
      "cell_type": "code",
      "execution_count": null,
      "id": "f5092259",
      "metadata": {
        "id": "f5092259"
      },
      "outputs": [],
      "source": [
        "# Celda 1: Importar librerías necesarias\n",
        "import pandas as pd\n",
        "import numpy as np\n",
        "import matplotlib.pyplot as plt\n",
        "import seaborn as sns\n",
        "from sklearn.ensemble import RandomForestClassifier\n",
        "from sklearn.model_selection import train_test_split, cross_val_score\n",
        "from sklearn.preprocessing import StandardScaler\n",
        "from sklearn.metrics import f1_score\n",
        "from sklearn.impute import SimpleImputer\n",
        "sns.set(style='whitegrid')"
      ]
    },
    {
      "cell_type": "code",
      "execution_count": null,
      "id": "7a24d436",
      "metadata": {
        "id": "7a24d436"
      },
      "outputs": [],
      "source": [
        "# Celda 2: Cargar dataset y mostrar primeras filas\n",
        "url = 'https://github.com/dtoralg/IE_Calidad_ML/raw/main/Data/defectos_productos.csv'\n",
        "..."
      ]
    },
    {
      "cell_type": "code",
      "execution_count": null,
      "id": "6faf06e4",
      "metadata": {
        "id": "6faf06e4"
      },
      "outputs": [],
      "source": [
        "# Celda 3: Preprocesamiento de variables categóricas\n",
        "..."
      ]
    },
    {
      "cell_type": "code",
      "execution_count": null,
      "id": "4fabdf3f",
      "metadata": {
        "id": "4fabdf3f"
      },
      "outputs": [],
      "source": [
        "# Celda 4: Separar variables predictoras y target\n",
        "..."
      ]
    },
    {
      "cell_type": "code",
      "execution_count": null,
      "id": "800bcf3e",
      "metadata": {
        "id": "800bcf3e"
      },
      "outputs": [],
      "source": [
        "# Celda 5: Imputación de valores y escalado\n",
        "..."
      ]
    },
    {
      "cell_type": "code",
      "execution_count": null,
      "id": "556385f0",
      "metadata": {
        "id": "556385f0"
      },
      "outputs": [],
      "source": [
        "# Celda 6: Dividir en entrenamiento y prueba\n",
        "..."
      ]
    },
    {
      "cell_type": "code",
      "execution_count": null,
      "id": "7ddda327",
      "metadata": {
        "id": "7ddda327"
      },
      "outputs": [],
      "source": [
        "# Celda 7: Evaluar rendimiento en validación cruzada aumentando n_estimators\n",
        "# Crea el StratifiedKFold con 3 splits\n",
        "from sklearn.model_selection import StratifiedKFold\n",
        "skf = ...\n",
        "\n",
        "# Crea un rango entre 10 y 210 con intervalos de 10 unidades\n",
        "n_estimators_range = ...\n",
        "f1_scores = []\n",
        "\n",
        "for n in n_estimators_range:\n",
        "    rf = RandomForestClassifier(...)\n",
        "    scores = cross_val_score(rf, X_train, y_train, cv=skf, scoring='f1_macro')\n",
        "    f1_scores.append(scores.mean())"
      ]
    },
    {
      "cell_type": "code",
      "execution_count": null,
      "id": "b9f5efed",
      "metadata": {
        "id": "b9f5efed"
      },
      "outputs": [],
      "source": [
        "# Celda 8: Visualización del rendimiento vs número de árboles\n",
        "plt.figure(figsize=(10,6))\n",
        "plt.plot(n_estimators_range, f1_scores, marker='o')\n",
        "plt.xlabel('Número de árboles (n_estimators)')\n",
        "plt.ylabel('F1 Macro Score (validación cruzada)')\n",
        "plt.title('Curva de rendimiento vs n_estimators')\n",
        "plt.grid(True)\n",
        "plt.tight_layout()\n",
        "plt.show()"
      ]
    },
    {
      "cell_type": "code",
      "execution_count": null,
      "id": "a5f5cfe9",
      "metadata": {
        "id": "a5f5cfe9"
      },
      "outputs": [],
      "source": [
        "# Celda 9: Identificar el mejor valor y entrenar modelo final\n",
        "best_n = n_estimators_range[np.argmax(f1_scores)]\n",
        "print(f'Mejor número de árboles según validación cruzada: {best_n}')\n",
        "modelo_final = RandomForestClassifier(n_estimators=best_n, max_depth=10, min_samples_leaf=3, random_state=42)\n",
        "modelo_final.fit(X_train, y_train)\n",
        "y_pred = modelo_final.predict(X_test)"
      ]
    },
    {
      "cell_type": "code",
      "execution_count": null,
      "id": "e8fb2f06",
      "metadata": {
        "id": "e8fb2f06"
      },
      "outputs": [],
      "source": [
        "# Celda 10: Evaluación final del modelo en conjunto de test con classification report\n",
        "from sklearn.metrics import classification_report\n",
        "print(...)"
      ]
    },
    {
      "cell_type": "markdown",
      "id": "15ea5b38",
      "metadata": {
        "id": "15ea5b38"
      },
      "source": [
        "### **Conclusiones**\n",
        "- Hemos utilizado **validación cruzada** para evaluar el rendimiento del modelo conforme aumenta el número de árboles (`n_estimators`).\n",
        "- La métrica usada fue **F1 Macro Score**, adecuada para clasificación multiclase con clases desbalanceadas.\n",
        "- A partir de cierto punto, aumentar `n_estimators` no aporta mejoras sustanciales → se puede aplicar una lógica de **early stopping manual**.\n",
        "- También observamos cómo `max_depth` y `min_samples_leaf` actúan como formas de **regularización estructural**.\n",
        "\n",
        "### **Preguntas para reflexionar**\n",
        "- ¿Qué pasaría si usamos `max_depth=None` o `min_samples_leaf=1`?\n",
        "- ¿En qué casos convendría automatizar el early stopping en lugar de evaluarlo manualmente?\n",
        "- ¿Cómo afecta la semilla aleatoria (random_state) en los resultados de modelos como Random Forest?"
      ]
    }
  ],
  "metadata": {
    "colab": {
      "provenance": [],
      "include_colab_link": true
    },
    "language_info": {
      "name": "python"
    },
    "kernelspec": {
      "name": "python3",
      "display_name": "Python 3"
    }
  },
  "nbformat": 4,
  "nbformat_minor": 5
}