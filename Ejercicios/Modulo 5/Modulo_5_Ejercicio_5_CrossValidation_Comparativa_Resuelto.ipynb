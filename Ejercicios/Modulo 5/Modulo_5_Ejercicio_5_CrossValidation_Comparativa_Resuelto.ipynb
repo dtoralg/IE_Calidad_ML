{
  "cells": [
    {
      "cell_type": "markdown",
      "metadata": {
        "id": "view-in-github",
        "colab_type": "text"
      },
      "source": [
        "<a href=\"https://colab.research.google.com/github/dtoralg/IE_Calidad_ML/blob/main/Ejercicios/Modulo%205/Modulo_5_Ejercicio_5_CrossValidation_Comparativa_Resuelto.ipynb\" target=\"_parent\"><img src=\"https://colab.research.google.com/assets/colab-badge.svg\" alt=\"Open In Colab\"/></a>"
      ]
    },
    {
      "cell_type": "markdown",
      "id": "35632764",
      "metadata": {
        "id": "35632764"
      },
      "source": [
        "### **Ejercicio 5: ¿Cuán estable es tu modelo? Evalúa su rendimiento con validación cruzada**\n",
        "**Aplicación de Hold-out, KFold y StratifiedKFold en un problema de clasificación desbalanceada**"
      ]
    },
    {
      "cell_type": "markdown",
      "id": "f41b6773",
      "metadata": {
        "id": "f41b6773"
      },
      "source": [
        "### **Introducción**\n",
        "En este ejercicio aprenderás a aplicar correctamente la **validación cruzada** para evaluar la estabilidad de un modelo y su capacidad de generalización. Analizaremos un problema de clasificación binaria con clases desbalanceadas, y compararemos el rendimiento del modelo utilizando **una única partición** (hold-out) frente a múltiples particiones con **K-Fold** y **StratifiedKFold**. Estudiaremos la **variabilidad** entre particiones, un aspecto clave para saber si podemos confiar en nuestras métricas de evaluación."
      ]
    },
    {
      "cell_type": "code",
      "execution_count": 1,
      "id": "4f591bf4",
      "metadata": {
        "id": "4f591bf4"
      },
      "outputs": [],
      "source": [
        "# Celda 1: Importación de librerías\n",
        "import pandas as pd\n",
        "import numpy as np\n",
        "import matplotlib.pyplot as plt\n",
        "import seaborn as sns\n",
        "from sklearn.model_selection import train_test_split, KFold, StratifiedKFold, cross_val_score\n",
        "from sklearn.linear_model import LogisticRegression\n",
        "from sklearn.metrics import f1_score, accuracy_score, classification_report\n",
        "from sklearn.impute import SimpleImputer\n",
        "from sklearn.preprocessing import StandardScaler\n",
        "sns.set(style='whitegrid')"
      ]
    },
    {
      "cell_type": "code",
      "execution_count": 2,
      "id": "c5c2655d",
      "metadata": {
        "colab": {
          "base_uri": "https://localhost:8080/",
          "height": 206
        },
        "id": "c5c2655d",
        "outputId": "cc930f92-278d-46b3-9ae9-2b99d1e7bbb3"
      },
      "outputs": [
        {
          "output_type": "execute_result",
          "data": {
            "text/plain": [
              "   ID_componente  Voltaje_operación  Corriente_fuga  Resistencia_circuito  \\\n",
              "0              1           5.248357        1.934405           1055.302146   \n",
              "1              2           4.930868        2.114882           1208.739222   \n",
              "2              3           5.323844        2.220543           1000.776616   \n",
              "3              4           5.761515        1.644991            792.359071   \n",
              "4              5           4.882923        2.030222           1235.237438   \n",
              "\n",
              "   Frecuencia_operación  Temperatura_prueba  Horas_operación  \\\n",
              "0              2.415568           71.648138      6826.235678   \n",
              "1              2.379194           74.617461      4889.806377   \n",
              "2              2.362610           83.187345      4272.656141   \n",
              "3              2.120637           71.668613      4639.328169   \n",
              "4              2.320803           77.624833      6439.710569   \n",
              "\n",
              "  Proveedor_material Modelo_chip Método_prueba Fallo_circuito  \n",
              "0        Proveedor_2    Modelo_8      Método_C             OK  \n",
              "1        Proveedor_5    Modelo_8      Método_C             OK  \n",
              "2        Proveedor_4   Modelo_10      Método_B             KO  \n",
              "3        Proveedor_4    Modelo_2      Método_C             OK  \n",
              "4        Proveedor_3   Modelo_14      Método_C             OK  "
            ],
            "text/html": [
              "\n",
              "  <div id=\"df-afbfaa43-8909-4172-a83a-714bb62135c3\" class=\"colab-df-container\">\n",
              "    <div>\n",
              "<style scoped>\n",
              "    .dataframe tbody tr th:only-of-type {\n",
              "        vertical-align: middle;\n",
              "    }\n",
              "\n",
              "    .dataframe tbody tr th {\n",
              "        vertical-align: top;\n",
              "    }\n",
              "\n",
              "    .dataframe thead th {\n",
              "        text-align: right;\n",
              "    }\n",
              "</style>\n",
              "<table border=\"1\" class=\"dataframe\">\n",
              "  <thead>\n",
              "    <tr style=\"text-align: right;\">\n",
              "      <th></th>\n",
              "      <th>ID_componente</th>\n",
              "      <th>Voltaje_operación</th>\n",
              "      <th>Corriente_fuga</th>\n",
              "      <th>Resistencia_circuito</th>\n",
              "      <th>Frecuencia_operación</th>\n",
              "      <th>Temperatura_prueba</th>\n",
              "      <th>Horas_operación</th>\n",
              "      <th>Proveedor_material</th>\n",
              "      <th>Modelo_chip</th>\n",
              "      <th>Método_prueba</th>\n",
              "      <th>Fallo_circuito</th>\n",
              "    </tr>\n",
              "  </thead>\n",
              "  <tbody>\n",
              "    <tr>\n",
              "      <th>0</th>\n",
              "      <td>1</td>\n",
              "      <td>5.248357</td>\n",
              "      <td>1.934405</td>\n",
              "      <td>1055.302146</td>\n",
              "      <td>2.415568</td>\n",
              "      <td>71.648138</td>\n",
              "      <td>6826.235678</td>\n",
              "      <td>Proveedor_2</td>\n",
              "      <td>Modelo_8</td>\n",
              "      <td>Método_C</td>\n",
              "      <td>OK</td>\n",
              "    </tr>\n",
              "    <tr>\n",
              "      <th>1</th>\n",
              "      <td>2</td>\n",
              "      <td>4.930868</td>\n",
              "      <td>2.114882</td>\n",
              "      <td>1208.739222</td>\n",
              "      <td>2.379194</td>\n",
              "      <td>74.617461</td>\n",
              "      <td>4889.806377</td>\n",
              "      <td>Proveedor_5</td>\n",
              "      <td>Modelo_8</td>\n",
              "      <td>Método_C</td>\n",
              "      <td>OK</td>\n",
              "    </tr>\n",
              "    <tr>\n",
              "      <th>2</th>\n",
              "      <td>3</td>\n",
              "      <td>5.323844</td>\n",
              "      <td>2.220543</td>\n",
              "      <td>1000.776616</td>\n",
              "      <td>2.362610</td>\n",
              "      <td>83.187345</td>\n",
              "      <td>4272.656141</td>\n",
              "      <td>Proveedor_4</td>\n",
              "      <td>Modelo_10</td>\n",
              "      <td>Método_B</td>\n",
              "      <td>KO</td>\n",
              "    </tr>\n",
              "    <tr>\n",
              "      <th>3</th>\n",
              "      <td>4</td>\n",
              "      <td>5.761515</td>\n",
              "      <td>1.644991</td>\n",
              "      <td>792.359071</td>\n",
              "      <td>2.120637</td>\n",
              "      <td>71.668613</td>\n",
              "      <td>4639.328169</td>\n",
              "      <td>Proveedor_4</td>\n",
              "      <td>Modelo_2</td>\n",
              "      <td>Método_C</td>\n",
              "      <td>OK</td>\n",
              "    </tr>\n",
              "    <tr>\n",
              "      <th>4</th>\n",
              "      <td>5</td>\n",
              "      <td>4.882923</td>\n",
              "      <td>2.030222</td>\n",
              "      <td>1235.237438</td>\n",
              "      <td>2.320803</td>\n",
              "      <td>77.624833</td>\n",
              "      <td>6439.710569</td>\n",
              "      <td>Proveedor_3</td>\n",
              "      <td>Modelo_14</td>\n",
              "      <td>Método_C</td>\n",
              "      <td>OK</td>\n",
              "    </tr>\n",
              "  </tbody>\n",
              "</table>\n",
              "</div>\n",
              "    <div class=\"colab-df-buttons\">\n",
              "\n",
              "  <div class=\"colab-df-container\">\n",
              "    <button class=\"colab-df-convert\" onclick=\"convertToInteractive('df-afbfaa43-8909-4172-a83a-714bb62135c3')\"\n",
              "            title=\"Convert this dataframe to an interactive table.\"\n",
              "            style=\"display:none;\">\n",
              "\n",
              "  <svg xmlns=\"http://www.w3.org/2000/svg\" height=\"24px\" viewBox=\"0 -960 960 960\">\n",
              "    <path d=\"M120-120v-720h720v720H120Zm60-500h600v-160H180v160Zm220 220h160v-160H400v160Zm0 220h160v-160H400v160ZM180-400h160v-160H180v160Zm440 0h160v-160H620v160ZM180-180h160v-160H180v160Zm440 0h160v-160H620v160Z\"/>\n",
              "  </svg>\n",
              "    </button>\n",
              "\n",
              "  <style>\n",
              "    .colab-df-container {\n",
              "      display:flex;\n",
              "      gap: 12px;\n",
              "    }\n",
              "\n",
              "    .colab-df-convert {\n",
              "      background-color: #E8F0FE;\n",
              "      border: none;\n",
              "      border-radius: 50%;\n",
              "      cursor: pointer;\n",
              "      display: none;\n",
              "      fill: #1967D2;\n",
              "      height: 32px;\n",
              "      padding: 0 0 0 0;\n",
              "      width: 32px;\n",
              "    }\n",
              "\n",
              "    .colab-df-convert:hover {\n",
              "      background-color: #E2EBFA;\n",
              "      box-shadow: 0px 1px 2px rgba(60, 64, 67, 0.3), 0px 1px 3px 1px rgba(60, 64, 67, 0.15);\n",
              "      fill: #174EA6;\n",
              "    }\n",
              "\n",
              "    .colab-df-buttons div {\n",
              "      margin-bottom: 4px;\n",
              "    }\n",
              "\n",
              "    [theme=dark] .colab-df-convert {\n",
              "      background-color: #3B4455;\n",
              "      fill: #D2E3FC;\n",
              "    }\n",
              "\n",
              "    [theme=dark] .colab-df-convert:hover {\n",
              "      background-color: #434B5C;\n",
              "      box-shadow: 0px 1px 3px 1px rgba(0, 0, 0, 0.15);\n",
              "      filter: drop-shadow(0px 1px 2px rgba(0, 0, 0, 0.3));\n",
              "      fill: #FFFFFF;\n",
              "    }\n",
              "  </style>\n",
              "\n",
              "    <script>\n",
              "      const buttonEl =\n",
              "        document.querySelector('#df-afbfaa43-8909-4172-a83a-714bb62135c3 button.colab-df-convert');\n",
              "      buttonEl.style.display =\n",
              "        google.colab.kernel.accessAllowed ? 'block' : 'none';\n",
              "\n",
              "      async function convertToInteractive(key) {\n",
              "        const element = document.querySelector('#df-afbfaa43-8909-4172-a83a-714bb62135c3');\n",
              "        const dataTable =\n",
              "          await google.colab.kernel.invokeFunction('convertToInteractive',\n",
              "                                                    [key], {});\n",
              "        if (!dataTable) return;\n",
              "\n",
              "        const docLinkHtml = 'Like what you see? Visit the ' +\n",
              "          '<a target=\"_blank\" href=https://colab.research.google.com/notebooks/data_table.ipynb>data table notebook</a>'\n",
              "          + ' to learn more about interactive tables.';\n",
              "        element.innerHTML = '';\n",
              "        dataTable['output_type'] = 'display_data';\n",
              "        await google.colab.output.renderOutput(dataTable, element);\n",
              "        const docLink = document.createElement('div');\n",
              "        docLink.innerHTML = docLinkHtml;\n",
              "        element.appendChild(docLink);\n",
              "      }\n",
              "    </script>\n",
              "  </div>\n",
              "\n",
              "\n",
              "<div id=\"df-2e677cc0-0e78-4346-a3ce-de2b0ef9218b\">\n",
              "  <button class=\"colab-df-quickchart\" onclick=\"quickchart('df-2e677cc0-0e78-4346-a3ce-de2b0ef9218b')\"\n",
              "            title=\"Suggest charts\"\n",
              "            style=\"display:none;\">\n",
              "\n",
              "<svg xmlns=\"http://www.w3.org/2000/svg\" height=\"24px\"viewBox=\"0 0 24 24\"\n",
              "     width=\"24px\">\n",
              "    <g>\n",
              "        <path d=\"M19 3H5c-1.1 0-2 .9-2 2v14c0 1.1.9 2 2 2h14c1.1 0 2-.9 2-2V5c0-1.1-.9-2-2-2zM9 17H7v-7h2v7zm4 0h-2V7h2v10zm4 0h-2v-4h2v4z\"/>\n",
              "    </g>\n",
              "</svg>\n",
              "  </button>\n",
              "\n",
              "<style>\n",
              "  .colab-df-quickchart {\n",
              "      --bg-color: #E8F0FE;\n",
              "      --fill-color: #1967D2;\n",
              "      --hover-bg-color: #E2EBFA;\n",
              "      --hover-fill-color: #174EA6;\n",
              "      --disabled-fill-color: #AAA;\n",
              "      --disabled-bg-color: #DDD;\n",
              "  }\n",
              "\n",
              "  [theme=dark] .colab-df-quickchart {\n",
              "      --bg-color: #3B4455;\n",
              "      --fill-color: #D2E3FC;\n",
              "      --hover-bg-color: #434B5C;\n",
              "      --hover-fill-color: #FFFFFF;\n",
              "      --disabled-bg-color: #3B4455;\n",
              "      --disabled-fill-color: #666;\n",
              "  }\n",
              "\n",
              "  .colab-df-quickchart {\n",
              "    background-color: var(--bg-color);\n",
              "    border: none;\n",
              "    border-radius: 50%;\n",
              "    cursor: pointer;\n",
              "    display: none;\n",
              "    fill: var(--fill-color);\n",
              "    height: 32px;\n",
              "    padding: 0;\n",
              "    width: 32px;\n",
              "  }\n",
              "\n",
              "  .colab-df-quickchart:hover {\n",
              "    background-color: var(--hover-bg-color);\n",
              "    box-shadow: 0 1px 2px rgba(60, 64, 67, 0.3), 0 1px 3px 1px rgba(60, 64, 67, 0.15);\n",
              "    fill: var(--button-hover-fill-color);\n",
              "  }\n",
              "\n",
              "  .colab-df-quickchart-complete:disabled,\n",
              "  .colab-df-quickchart-complete:disabled:hover {\n",
              "    background-color: var(--disabled-bg-color);\n",
              "    fill: var(--disabled-fill-color);\n",
              "    box-shadow: none;\n",
              "  }\n",
              "\n",
              "  .colab-df-spinner {\n",
              "    border: 2px solid var(--fill-color);\n",
              "    border-color: transparent;\n",
              "    border-bottom-color: var(--fill-color);\n",
              "    animation:\n",
              "      spin 1s steps(1) infinite;\n",
              "  }\n",
              "\n",
              "  @keyframes spin {\n",
              "    0% {\n",
              "      border-color: transparent;\n",
              "      border-bottom-color: var(--fill-color);\n",
              "      border-left-color: var(--fill-color);\n",
              "    }\n",
              "    20% {\n",
              "      border-color: transparent;\n",
              "      border-left-color: var(--fill-color);\n",
              "      border-top-color: var(--fill-color);\n",
              "    }\n",
              "    30% {\n",
              "      border-color: transparent;\n",
              "      border-left-color: var(--fill-color);\n",
              "      border-top-color: var(--fill-color);\n",
              "      border-right-color: var(--fill-color);\n",
              "    }\n",
              "    40% {\n",
              "      border-color: transparent;\n",
              "      border-right-color: var(--fill-color);\n",
              "      border-top-color: var(--fill-color);\n",
              "    }\n",
              "    60% {\n",
              "      border-color: transparent;\n",
              "      border-right-color: var(--fill-color);\n",
              "    }\n",
              "    80% {\n",
              "      border-color: transparent;\n",
              "      border-right-color: var(--fill-color);\n",
              "      border-bottom-color: var(--fill-color);\n",
              "    }\n",
              "    90% {\n",
              "      border-color: transparent;\n",
              "      border-bottom-color: var(--fill-color);\n",
              "    }\n",
              "  }\n",
              "</style>\n",
              "\n",
              "  <script>\n",
              "    async function quickchart(key) {\n",
              "      const quickchartButtonEl =\n",
              "        document.querySelector('#' + key + ' button');\n",
              "      quickchartButtonEl.disabled = true;  // To prevent multiple clicks.\n",
              "      quickchartButtonEl.classList.add('colab-df-spinner');\n",
              "      try {\n",
              "        const charts = await google.colab.kernel.invokeFunction(\n",
              "            'suggestCharts', [key], {});\n",
              "      } catch (error) {\n",
              "        console.error('Error during call to suggestCharts:', error);\n",
              "      }\n",
              "      quickchartButtonEl.classList.remove('colab-df-spinner');\n",
              "      quickchartButtonEl.classList.add('colab-df-quickchart-complete');\n",
              "    }\n",
              "    (() => {\n",
              "      let quickchartButtonEl =\n",
              "        document.querySelector('#df-2e677cc0-0e78-4346-a3ce-de2b0ef9218b button');\n",
              "      quickchartButtonEl.style.display =\n",
              "        google.colab.kernel.accessAllowed ? 'block' : 'none';\n",
              "    })();\n",
              "  </script>\n",
              "</div>\n",
              "\n",
              "    </div>\n",
              "  </div>\n"
            ],
            "application/vnd.google.colaboratory.intrinsic+json": {
              "type": "dataframe",
              "variable_name": "df"
            }
          },
          "metadata": {},
          "execution_count": 2
        }
      ],
      "source": [
        "# Celda 2: Cargar el dataset\n",
        "url = 'https://github.com/dtoralg/IE_Calidad_ML/raw/main/Data/control_calidad_circuitos_electronicos.csv'\n",
        "df = pd.read_csv(url)\n",
        "df.head()"
      ]
    },
    {
      "cell_type": "code",
      "execution_count": 3,
      "id": "601c323c",
      "metadata": {
        "id": "601c323c"
      },
      "outputs": [],
      "source": [
        "# Celda 3: Preprocesamiento básico\n",
        "X = df.drop(columns=['ID_componente', 'Fallo_circuito'])\n",
        "y = df['Fallo_circuito'].map({'OK': 0, 'KO': 1})"
      ]
    },
    {
      "cell_type": "code",
      "execution_count": 4,
      "id": "c91683d3",
      "metadata": {
        "id": "c91683d3"
      },
      "outputs": [],
      "source": [
        "# Celda 4: Imputación y codificación\n",
        "X = pd.get_dummies(X, drop_first=True)\n",
        "imputer = SimpleImputer(strategy='median')\n",
        "X_imputed = imputer.fit_transform(X)"
      ]
    },
    {
      "cell_type": "code",
      "execution_count": 5,
      "id": "1d83cfbd",
      "metadata": {
        "id": "1d83cfbd"
      },
      "outputs": [],
      "source": [
        "# Celda 5: Escalado\n",
        "scaler = StandardScaler()\n",
        "X_scaled = scaler.fit_transform(X_imputed)"
      ]
    },
    {
      "cell_type": "code",
      "execution_count": 6,
      "id": "3b8c3bd3",
      "metadata": {
        "colab": {
          "base_uri": "https://localhost:8080/"
        },
        "id": "3b8c3bd3",
        "outputId": "351cd53f-6032-474d-82d4-56dc5b52de4f"
      },
      "outputs": [
        {
          "output_type": "stream",
          "name": "stdout",
          "text": [
            "              precision    recall  f1-score   support\n",
            "\n",
            "           0       0.95      1.00      0.97     23913\n",
            "           1       0.00      0.00      0.00      1287\n",
            "\n",
            "    accuracy                           0.95     25200\n",
            "   macro avg       0.47      0.50      0.49     25200\n",
            "weighted avg       0.90      0.95      0.92     25200\n",
            "\n"
          ]
        },
        {
          "output_type": "stream",
          "name": "stderr",
          "text": [
            "/usr/local/lib/python3.11/dist-packages/sklearn/metrics/_classification.py:1565: UndefinedMetricWarning: Precision is ill-defined and being set to 0.0 in labels with no predicted samples. Use `zero_division` parameter to control this behavior.\n",
            "  _warn_prf(average, modifier, f\"{metric.capitalize()} is\", len(result))\n",
            "/usr/local/lib/python3.11/dist-packages/sklearn/metrics/_classification.py:1565: UndefinedMetricWarning: Precision is ill-defined and being set to 0.0 in labels with no predicted samples. Use `zero_division` parameter to control this behavior.\n",
            "  _warn_prf(average, modifier, f\"{metric.capitalize()} is\", len(result))\n",
            "/usr/local/lib/python3.11/dist-packages/sklearn/metrics/_classification.py:1565: UndefinedMetricWarning: Precision is ill-defined and being set to 0.0 in labels with no predicted samples. Use `zero_division` parameter to control this behavior.\n",
            "  _warn_prf(average, modifier, f\"{metric.capitalize()} is\", len(result))\n"
          ]
        }
      ],
      "source": [
        "# Celda 6: Hold-out (train/test split)\n",
        "X_train, X_test, y_train, y_test = train_test_split(X_scaled, y, test_size=0.2, stratify=y, random_state=42)\n",
        "model = LogisticRegression(max_iter=500)\n",
        "model.fit(X_train, y_train)\n",
        "y_pred = model.predict(X_test)\n",
        "print(classification_report(y_test, y_pred))"
      ]
    },
    {
      "cell_type": "code",
      "execution_count": 10,
      "id": "65261324",
      "metadata": {
        "colab": {
          "base_uri": "https://localhost:8080/"
        },
        "id": "65261324",
        "outputId": "1f103fd8-c6f5-4be4-c511-72e4ed30d790"
      },
      "outputs": [
        {
          "output_type": "stream",
          "name": "stdout",
          "text": [
            "F1 Score por fold (KFold): [0. 0. 0. 0. 0.]\n",
            "Accuracy por fold (KFold): [0.95055556 0.94809524 0.94630952 0.94734127 0.95230159]\n"
          ]
        }
      ],
      "source": [
        "# Celda 7: KFold (5 particiones)\n",
        "kf = KFold(n_splits=5, shuffle=True, random_state=42)\n",
        "f1_kf = cross_val_score(model, X_scaled, y, cv=kf, scoring='f1')\n",
        "acc_kf = cross_val_score(model, X_scaled, y, cv=kf, scoring='accuracy')\n",
        "print('F1 Score por fold (KFold):', f1_kf)\n",
        "print('Accuracy por fold (KFold):', acc_kf)"
      ]
    },
    {
      "cell_type": "code",
      "execution_count": 11,
      "id": "c2c27e85",
      "metadata": {
        "colab": {
          "base_uri": "https://localhost:8080/"
        },
        "id": "c2c27e85",
        "outputId": "e432fe71-de00-4d80-80da-6c9bc4059601"
      },
      "outputs": [
        {
          "output_type": "stream",
          "name": "stdout",
          "text": [
            "F1 Score por fold (StratifiedKFold): [0. 0. 0. 0. 0.]\n",
            "Accuracy por fold (StratifiedKFold): [0.94892857 0.94892857 0.94892857 0.94892857 0.94888889]\n"
          ]
        }
      ],
      "source": [
        "# Celda 8: StratifiedKFold (5 particiones)\n",
        "skf = StratifiedKFold(n_splits=5, shuffle=True, random_state=42)\n",
        "f1_skf = cross_val_score(model, X_scaled, y, cv=skf, scoring='f1')\n",
        "acc_skf = cross_val_score(model, X_scaled, y, cv=skf, scoring='accuracy')\n",
        "print('F1 Score por fold (StratifiedKFold):', f1_skf)\n",
        "print('Accuracy por fold (StratifiedKFold):', acc_skf)"
      ]
    },
    {
      "cell_type": "code",
      "execution_count": 12,
      "id": "c1f27e2a",
      "metadata": {
        "colab": {
          "base_uri": "https://localhost:8080/",
          "height": 601
        },
        "id": "c1f27e2a",
        "outputId": "12f7de11-f08c-4e49-880e-0dcd7c642851"
      },
      "outputs": [
        {
          "output_type": "display_data",
          "data": {
            "text/plain": [
              "<Figure size 1000x600 with 1 Axes>"
            ],
            "image/png": "[encoded data removed]"
          },
          "metadata": {}
        }
      ],
      "source": [
        "# Celda 9: Boxplots para comparar variabilidad\n",
        "df_cv = pd.DataFrame({\n",
        "    'KFold - F1': f1_kf,\n",
        "    'StratifiedKFold - F1': f1_skf,\n",
        "    'KFold - Accuracy': acc_kf,\n",
        "    'StratifiedKFold - Accuracy': acc_skf\n",
        "})\n",
        "plt.figure(figsize=(10,6))\n",
        "sns.boxplot(data=df_cv)\n",
        "plt.title('Comparación de variabilidad entre métodos de validación')\n",
        "plt.xticks(rotation=45)\n",
        "plt.tight_layout()\n",
        "plt.show()"
      ]
    },
    {
      "cell_type": "markdown",
      "id": "ebd86c29",
      "metadata": {
        "id": "ebd86c29"
      },
      "source": [
        "### **Conclusiones**\n",
        "- La validación con **KFold** y **StratifiedKFold** ofrece una visión más robusta del rendimiento del modelo comparado con un único `train_test_split`.\n",
        "- **StratifiedKFold** mantiene la proporción de clases en cada fold, lo cual es esencial en datasets desbalanceados.\n",
        "- Observar la **variabilidad entre folds** ayuda a evaluar la estabilidad del modelo y detectar si nuestras métricas son consistentes o dependen de una partición afortunada.\n",
        "\n",
        "### **Preguntas para reflexionar**\n",
        "- ¿Qué método usarías si tu dataset es pequeño? ¿Y si es grande?\n",
        "- ¿Cómo influye el desbalance de clases en la elección de la técnica de validación?\n",
        "- ¿Por qué deberías reportar también la desviación estándar de tus métricas?"
      ]
    }
  ],
  "metadata": {
    "colab": {
      "provenance": [],
      "include_colab_link": true
    },
    "language_info": {
      "name": "python"
    },
    "kernelspec": {
      "name": "python3",
      "display_name": "Python 3"
    }
  },
  "nbformat": 4,
  "nbformat_minor": 5
}