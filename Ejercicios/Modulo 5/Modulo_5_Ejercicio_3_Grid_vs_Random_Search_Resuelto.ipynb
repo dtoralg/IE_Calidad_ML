{
  "cells": [
    {
      "cell_type": "markdown",
      "metadata": {
        "id": "view-in-github",
        "colab_type": "text"
      },
      "source": [
        "<a href=\"https://colab.research.google.com/github/dtoralg/IE_Calidad_ML/blob/main/Ejercicios/Modulo%205/Modulo_5_Ejercicio_3_Grid_vs_Random_Search_Resuelto.ipynb\" target=\"_parent\"><img src=\"https://colab.research.google.com/assets/colab-badge.svg\" alt=\"Open In Colab\"/></a>"
      ]
    },
    {
      "cell_type": "markdown",
      "id": "f10988f0",
      "metadata": {
        "id": "f10988f0"
      },
      "source": [
        "### **Ejercicio 3: ¿Grid Search o Random Search? Elige tu estrategia de optimización**\n",
        "**Optimización de hiperparámetros en Random Forest para clasificación multiclase**"
      ]
    },
    {
      "cell_type": "markdown",
      "id": "1d78e8a8",
      "metadata": {
        "id": "1d78e8a8"
      },
      "source": [
        "### **Introducción**\n",
        "En este ejercicio aprenderás a aplicar y comparar dos estrategias de búsqueda de hiperparámetros: **Grid Search** y **Random Search**.\n",
        "\n",
        "Ambas son técnicas comunes para optimizar el rendimiento de un modelo de machine learning, pero con enfoques y costes computacionales distintos.\n",
        "Utilizaremos un modelo de **Random Forest** aplicado a un problema de clasificación multiclase en un dataset farmacéutico realista."
      ]
    },
    {
      "cell_type": "code",
      "execution_count": 1,
      "id": "3aaad8cd",
      "metadata": {
        "id": "3aaad8cd"
      },
      "outputs": [],
      "source": [
        "# Celda 1: Carga de librerías y configuración\n",
        "import pandas as pd\n",
        "import numpy as np\n",
        "import matplotlib.pyplot as plt\n",
        "import seaborn as sns\n",
        "import time\n",
        "from sklearn.model_selection import train_test_split, GridSearchCV, RandomizedSearchCV\n",
        "from sklearn.ensemble import RandomForestClassifier\n",
        "from sklearn.preprocessing import OneHotEncoder, StandardScaler\n",
        "from sklearn.metrics import classification_report, f1_score\n",
        "from sklearn.impute import SimpleImputer\n",
        "sns.set(style='whitegrid')"
      ]
    },
    {
      "cell_type": "code",
      "execution_count": 2,
      "id": "af623710",
      "metadata": {
        "colab": {
          "base_uri": "https://localhost:8080/",
          "height": 206
        },
        "id": "af623710",
        "outputId": "91e160f0-97c8-4baa-ba8b-9660e6a79b9e"
      },
      "outputs": [
        {
          "output_type": "execute_result",
          "data": {
            "text/plain": [
              "   ID_lote  pH_disolución  Viscosidad  Temperatura_proceso  Tiempo_mezcla  \\\n",
              "0        1       7.248357    1.236467            86.849390      60.324385   \n",
              "1        2       6.930868    1.685664            79.458674      52.219221   \n",
              "2        3       7.323844    1.161342            74.584565      47.979095   \n",
              "3        4       7.761515    1.847235            86.959804      66.975391   \n",
              "4        5       6.882923    1.275656            79.434116      63.796312   \n",
              "\n",
              "  Proveedor_excipientes Tipo_envase Condiciones_almacenamiento  \\\n",
              "0           Proveedor_8    Envase_6                   Ambiente   \n",
              "1           Proveedor_4    Envase_2     Temperatura controlada   \n",
              "2           Proveedor_5    Envase_2                   Ambiente   \n",
              "3           Proveedor_1    Envase_6                   Ambiente   \n",
              "4           Proveedor_5    Envase_6                   Ambiente   \n",
              "\n",
              "  Fecha_producción Tipo_defecto  \n",
              "0       2019-12-04       Rotura  \n",
              "1       2022-09-22  Sin defecto  \n",
              "2       2020-01-03       Rotura  \n",
              "3       2023-09-12       Rotura  \n",
              "4       2023-02-06  Sin defecto  "
            ],
            "text/html": [
              "\n",
              "  <div id=\"df-7bba1801-761d-46dd-b6b1-df5842a303fa\" class=\"colab-df-container\">\n",
              "    <div>\n",
              "<style scoped>\n",
              "    .dataframe tbody tr th:only-of-type {\n",
              "        vertical-align: middle;\n",
              "    }\n",
              "\n",
              "    .dataframe tbody tr th {\n",
              "        vertical-align: top;\n",
              "    }\n",
              "\n",
              "    .dataframe thead th {\n",
              "        text-align: right;\n",
              "    }\n",
              "</style>\n",
              "<table border=\"1\" class=\"dataframe\">\n",
              "  <thead>\n",
              "    <tr style=\"text-align: right;\">\n",
              "      <th></th>\n",
              "      <th>ID_lote</th>\n",
              "      <th>pH_disolución</th>\n",
              "      <th>Viscosidad</th>\n",
              "      <th>Temperatura_proceso</th>\n",
              "      <th>Tiempo_mezcla</th>\n",
              "      <th>Proveedor_excipientes</th>\n",
              "      <th>Tipo_envase</th>\n",
              "      <th>Condiciones_almacenamiento</th>\n",
              "      <th>Fecha_producción</th>\n",
              "      <th>Tipo_defecto</th>\n",
              "    </tr>\n",
              "  </thead>\n",
              "  <tbody>\n",
              "    <tr>\n",
              "      <th>0</th>\n",
              "      <td>1</td>\n",
              "      <td>7.248357</td>\n",
              "      <td>1.236467</td>\n",
              "      <td>86.849390</td>\n",
              "      <td>60.324385</td>\n",
              "      <td>Proveedor_8</td>\n",
              "      <td>Envase_6</td>\n",
              "      <td>Ambiente</td>\n",
              "      <td>2019-12-04</td>\n",
              "      <td>Rotura</td>\n",
              "    </tr>\n",
              "    <tr>\n",
              "      <th>1</th>\n",
              "      <td>2</td>\n",
              "      <td>6.930868</td>\n",
              "      <td>1.685664</td>\n",
              "      <td>79.458674</td>\n",
              "      <td>52.219221</td>\n",
              "      <td>Proveedor_4</td>\n",
              "      <td>Envase_2</td>\n",
              "      <td>Temperatura controlada</td>\n",
              "      <td>2022-09-22</td>\n",
              "      <td>Sin defecto</td>\n",
              "    </tr>\n",
              "    <tr>\n",
              "      <th>2</th>\n",
              "      <td>3</td>\n",
              "      <td>7.323844</td>\n",
              "      <td>1.161342</td>\n",
              "      <td>74.584565</td>\n",
              "      <td>47.979095</td>\n",
              "      <td>Proveedor_5</td>\n",
              "      <td>Envase_2</td>\n",
              "      <td>Ambiente</td>\n",
              "      <td>2020-01-03</td>\n",
              "      <td>Rotura</td>\n",
              "    </tr>\n",
              "    <tr>\n",
              "      <th>3</th>\n",
              "      <td>4</td>\n",
              "      <td>7.761515</td>\n",
              "      <td>1.847235</td>\n",
              "      <td>86.959804</td>\n",
              "      <td>66.975391</td>\n",
              "      <td>Proveedor_1</td>\n",
              "      <td>Envase_6</td>\n",
              "      <td>Ambiente</td>\n",
              "      <td>2023-09-12</td>\n",
              "      <td>Rotura</td>\n",
              "    </tr>\n",
              "    <tr>\n",
              "      <th>4</th>\n",
              "      <td>5</td>\n",
              "      <td>6.882923</td>\n",
              "      <td>1.275656</td>\n",
              "      <td>79.434116</td>\n",
              "      <td>63.796312</td>\n",
              "      <td>Proveedor_5</td>\n",
              "      <td>Envase_6</td>\n",
              "      <td>Ambiente</td>\n",
              "      <td>2023-02-06</td>\n",
              "      <td>Sin defecto</td>\n",
              "    </tr>\n",
              "  </tbody>\n",
              "</table>\n",
              "</div>\n",
              "    <div class=\"colab-df-buttons\">\n",
              "\n",
              "  <div class=\"colab-df-container\">\n",
              "    <button class=\"colab-df-convert\" onclick=\"convertToInteractive('df-7bba1801-761d-46dd-b6b1-df5842a303fa')\"\n",
              "            title=\"Convert this dataframe to an interactive table.\"\n",
              "            style=\"display:none;\">\n",
              "\n",
              "  <svg xmlns=\"http://www.w3.org/2000/svg\" height=\"24px\" viewBox=\"0 -960 960 960\">\n",
              "    <path d=\"M120-120v-720h720v720H120Zm60-500h600v-160H180v160Zm220 220h160v-160H400v160Zm0 220h160v-160H400v160ZM180-400h160v-160H180v160Zm440 0h160v-160H620v160ZM180-180h160v-160H180v160Zm440 0h160v-160H620v160Z\"/>\n",
              "  </svg>\n",
              "    </button>\n",
              "\n",
              "  <style>\n",
              "    .colab-df-container {\n",
              "      display:flex;\n",
              "      gap: 12px;\n",
              "    }\n",
              "\n",
              "    .colab-df-convert {\n",
              "      background-color: #E8F0FE;\n",
              "      border: none;\n",
              "      border-radius: 50%;\n",
              "      cursor: pointer;\n",
              "      display: none;\n",
              "      fill: #1967D2;\n",
              "      height: 32px;\n",
              "      padding: 0 0 0 0;\n",
              "      width: 32px;\n",
              "    }\n",
              "\n",
              "    .colab-df-convert:hover {\n",
              "      background-color: #E2EBFA;\n",
              "      box-shadow: 0px 1px 2px rgba(60, 64, 67, 0.3), 0px 1px 3px 1px rgba(60, 64, 67, 0.15);\n",
              "      fill: #174EA6;\n",
              "    }\n",
              "\n",
              "    .colab-df-buttons div {\n",
              "      margin-bottom: 4px;\n",
              "    }\n",
              "\n",
              "    [theme=dark] .colab-df-convert {\n",
              "      background-color: #3B4455;\n",
              "      fill: #D2E3FC;\n",
              "    }\n",
              "\n",
              "    [theme=dark] .colab-df-convert:hover {\n",
              "      background-color: #434B5C;\n",
              "      box-shadow: 0px 1px 3px 1px rgba(0, 0, 0, 0.15);\n",
              "      filter: drop-shadow(0px 1px 2px rgba(0, 0, 0, 0.3));\n",
              "      fill: #FFFFFF;\n",
              "    }\n",
              "  </style>\n",
              "\n",
              "    <script>\n",
              "      const buttonEl =\n",
              "        document.querySelector('#df-7bba1801-761d-46dd-b6b1-df5842a303fa button.colab-df-convert');\n",
              "      buttonEl.style.display =\n",
              "        google.colab.kernel.accessAllowed ? 'block' : 'none';\n",
              "\n",
              "      async function convertToInteractive(key) {\n",
              "        const element = document.querySelector('#df-7bba1801-761d-46dd-b6b1-df5842a303fa');\n",
              "        const dataTable =\n",
              "          await google.colab.kernel.invokeFunction('convertToInteractive',\n",
              "                                                    [key], {});\n",
              "        if (!dataTable) return;\n",
              "\n",
              "        const docLinkHtml = 'Like what you see? Visit the ' +\n",
              "          '<a target=\"_blank\" href=https://colab.research.google.com/notebooks/data_table.ipynb>data table notebook</a>'\n",
              "          + ' to learn more about interactive tables.';\n",
              "        element.innerHTML = '';\n",
              "        dataTable['output_type'] = 'display_data';\n",
              "        await google.colab.output.renderOutput(dataTable, element);\n",
              "        const docLink = document.createElement('div');\n",
              "        docLink.innerHTML = docLinkHtml;\n",
              "        element.appendChild(docLink);\n",
              "      }\n",
              "    </script>\n",
              "  </div>\n",
              "\n",
              "\n",
              "    <div id=\"df-38fac16e-bd1c-4761-b489-1a1b2abf003b\">\n",
              "      <button class=\"colab-df-quickchart\" onclick=\"quickchart('df-38fac16e-bd1c-4761-b489-1a1b2abf003b')\"\n",
              "                title=\"Suggest charts\"\n",
              "                style=\"display:none;\">\n",
              "\n",
              "<svg xmlns=\"http://www.w3.org/2000/svg\" height=\"24px\"viewBox=\"0 0 24 24\"\n",
              "     width=\"24px\">\n",
              "    <g>\n",
              "        <path d=\"M19 3H5c-1.1 0-2 .9-2 2v14c0 1.1.9 2 2 2h14c1.1 0 2-.9 2-2V5c0-1.1-.9-2-2-2zM9 17H7v-7h2v7zm4 0h-2V7h2v10zm4 0h-2v-4h2v4z\"/>\n",
              "    </g>\n",
              "</svg>\n",
              "      </button>\n",
              "\n",
              "<style>\n",
              "  .colab-df-quickchart {\n",
              "      --bg-color: #E8F0FE;\n",
              "      --fill-color: #1967D2;\n",
              "      --hover-bg-color: #E2EBFA;\n",
              "      --hover-fill-color: #174EA6;\n",
              "      --disabled-fill-color: #AAA;\n",
              "      --disabled-bg-color: #DDD;\n",
              "  }\n",
              "\n",
              "  [theme=dark] .colab-df-quickchart {\n",
              "      --bg-color: #3B4455;\n",
              "      --fill-color: #D2E3FC;\n",
              "      --hover-bg-color: #434B5C;\n",
              "      --hover-fill-color: #FFFFFF;\n",
              "      --disabled-bg-color: #3B4455;\n",
              "      --disabled-fill-color: #666;\n",
              "  }\n",
              "\n",
              "  .colab-df-quickchart {\n",
              "    background-color: var(--bg-color);\n",
              "    border: none;\n",
              "    border-radius: 50%;\n",
              "    cursor: pointer;\n",
              "    display: none;\n",
              "    fill: var(--fill-color);\n",
              "    height: 32px;\n",
              "    padding: 0;\n",
              "    width: 32px;\n",
              "  }\n",
              "\n",
              "  .colab-df-quickchart:hover {\n",
              "    background-color: var(--hover-bg-color);\n",
              "    box-shadow: 0 1px 2px rgba(60, 64, 67, 0.3), 0 1px 3px 1px rgba(60, 64, 67, 0.15);\n",
              "    fill: var(--button-hover-fill-color);\n",
              "  }\n",
              "\n",
              "  .colab-df-quickchart-complete:disabled,\n",
              "  .colab-df-quickchart-complete:disabled:hover {\n",
              "    background-color: var(--disabled-bg-color);\n",
              "    fill: var(--disabled-fill-color);\n",
              "    box-shadow: none;\n",
              "  }\n",
              "\n",
              "  .colab-df-spinner {\n",
              "    border: 2px solid var(--fill-color);\n",
              "    border-color: transparent;\n",
              "    border-bottom-color: var(--fill-color);\n",
              "    animation:\n",
              "      spin 1s steps(1) infinite;\n",
              "  }\n",
              "\n",
              "  @keyframes spin {\n",
              "    0% {\n",
              "      border-color: transparent;\n",
              "      border-bottom-color: var(--fill-color);\n",
              "      border-left-color: var(--fill-color);\n",
              "    }\n",
              "    20% {\n",
              "      border-color: transparent;\n",
              "      border-left-color: var(--fill-color);\n",
              "      border-top-color: var(--fill-color);\n",
              "    }\n",
              "    30% {\n",
              "      border-color: transparent;\n",
              "      border-left-color: var(--fill-color);\n",
              "      border-top-color: var(--fill-color);\n",
              "      border-right-color: var(--fill-color);\n",
              "    }\n",
              "    40% {\n",
              "      border-color: transparent;\n",
              "      border-right-color: var(--fill-color);\n",
              "      border-top-color: var(--fill-color);\n",
              "    }\n",
              "    60% {\n",
              "      border-color: transparent;\n",
              "      border-right-color: var(--fill-color);\n",
              "    }\n",
              "    80% {\n",
              "      border-color: transparent;\n",
              "      border-right-color: var(--fill-color);\n",
              "      border-bottom-color: var(--fill-color);\n",
              "    }\n",
              "    90% {\n",
              "      border-color: transparent;\n",
              "      border-bottom-color: var(--fill-color);\n",
              "    }\n",
              "  }\n",
              "</style>\n",
              "\n",
              "      <script>\n",
              "        async function quickchart(key) {\n",
              "          const quickchartButtonEl =\n",
              "            document.querySelector('#' + key + ' button');\n",
              "          quickchartButtonEl.disabled = true;  // To prevent multiple clicks.\n",
              "          quickchartButtonEl.classList.add('colab-df-spinner');\n",
              "          try {\n",
              "            const charts = await google.colab.kernel.invokeFunction(\n",
              "                'suggestCharts', [key], {});\n",
              "          } catch (error) {\n",
              "            console.error('Error during call to suggestCharts:', error);\n",
              "          }\n",
              "          quickchartButtonEl.classList.remove('colab-df-spinner');\n",
              "          quickchartButtonEl.classList.add('colab-df-quickchart-complete');\n",
              "        }\n",
              "        (() => {\n",
              "          let quickchartButtonEl =\n",
              "            document.querySelector('#df-38fac16e-bd1c-4761-b489-1a1b2abf003b button');\n",
              "          quickchartButtonEl.style.display =\n",
              "            google.colab.kernel.accessAllowed ? 'block' : 'none';\n",
              "        })();\n",
              "      </script>\n",
              "    </div>\n",
              "\n",
              "    </div>\n",
              "  </div>\n"
            ],
            "application/vnd.google.colaboratory.intrinsic+json": {
              "type": "dataframe",
              "variable_name": "df",
              "summary": "{\n  \"name\": \"df\",\n  \"rows\": 75000,\n  \"fields\": [\n    {\n      \"column\": \"ID_lote\",\n      \"properties\": {\n        \"dtype\": \"number\",\n        \"std\": 21650,\n        \"min\": 1,\n        \"max\": 75000,\n        \"num_unique_values\": 75000,\n        \"samples\": [\n          26838,\n          2593,\n          18360\n        ],\n        \"semantic_type\": \"\",\n        \"description\": \"\"\n      }\n    },\n    {\n      \"column\": \"pH_disoluci\\u00f3n\",\n      \"properties\": {\n        \"dtype\": \"number\",\n        \"std\": 0.5002118269417685,\n        \"min\": 4.767198068235562,\n        \"max\": 9.239542125512878,\n        \"num_unique_values\": 75000,\n        \"samples\": [\n          7.013555476569456,\n          6.978588309344213,\n          7.855404272057158\n        ],\n        \"semantic_type\": \"\",\n        \"description\": \"\"\n      }\n    },\n    {\n      \"column\": \"Viscosidad\",\n      \"properties\": {\n        \"dtype\": \"number\",\n        \"std\": 0.30015094766698,\n        \"min\": 0.1611094418759691,\n        \"max\": 2.8686344170844675,\n        \"num_unique_values\": 75000,\n        \"samples\": [\n          1.143180513439164,\n          1.7903788759748602,\n          1.6603171234038334\n        ],\n        \"semantic_type\": \"\",\n        \"description\": \"\"\n      }\n    },\n    {\n      \"column\": \"Temperatura_proceso\",\n      \"properties\": {\n        \"dtype\": \"number\",\n        \"std\": 4.990315921014455,\n        \"min\": 58.12978600590584,\n        \"max\": 99.88434093866,\n        \"num_unique_values\": 75000,\n        \"samples\": [\n          75.14892042498708,\n          77.40142005313285,\n          80.63638495770087\n        ],\n        \"semantic_type\": \"\",\n        \"description\": \"\"\n      }\n    },\n    {\n      \"column\": \"Tiempo_mezcla\",\n      \"properties\": {\n        \"dtype\": \"number\",\n        \"std\": 10.006090280402107,\n        \"min\": 15.86114033568709,\n        \"max\": 102.19366343779144,\n        \"num_unique_values\": 75000,\n        \"samples\": [\n          70.77522385311003,\n          70.5832657226577,\n          57.95779359489749\n        ],\n        \"semantic_type\": \"\",\n        \"description\": \"\"\n      }\n    },\n    {\n      \"column\": \"Proveedor_excipientes\",\n      \"properties\": {\n        \"dtype\": \"category\",\n        \"num_unique_values\": 8,\n        \"samples\": [\n          \"Proveedor_4\",\n          \"Proveedor_6\",\n          \"Proveedor_8\"\n        ],\n        \"semantic_type\": \"\",\n        \"description\": \"\"\n      }\n    },\n    {\n      \"column\": \"Tipo_envase\",\n      \"properties\": {\n        \"dtype\": \"category\",\n        \"num_unique_values\": 6,\n        \"samples\": [\n          \"Envase_6\",\n          \"Envase_2\",\n          \"Envase_1\"\n        ],\n        \"semantic_type\": \"\",\n        \"description\": \"\"\n      }\n    },\n    {\n      \"column\": \"Condiciones_almacenamiento\",\n      \"properties\": {\n        \"dtype\": \"category\",\n        \"num_unique_values\": 3,\n        \"samples\": [\n          \"Ambiente\",\n          \"Temperatura controlada\",\n          \"Refrigerado\"\n        ],\n        \"semantic_type\": \"\",\n        \"description\": \"\"\n      }\n    },\n    {\n      \"column\": \"Fecha_producci\\u00f3n\",\n      \"properties\": {\n        \"dtype\": \"object\",\n        \"num_unique_values\": 1825,\n        \"samples\": [\n          \"2021-05-05\",\n          \"2022-01-12\",\n          \"2020-04-20\"\n        ],\n        \"semantic_type\": \"\",\n        \"description\": \"\"\n      }\n    },\n    {\n      \"column\": \"Tipo_defecto\",\n      \"properties\": {\n        \"dtype\": \"category\",\n        \"num_unique_values\": 4,\n        \"samples\": [\n          \"Sin defecto\",\n          \"Dosis incorrecta\",\n          \"Rotura\"\n        ],\n        \"semantic_type\": \"\",\n        \"description\": \"\"\n      }\n    }\n  ]\n}"
            }
          },
          "metadata": {},
          "execution_count": 2
        }
      ],
      "source": [
        "# Celda 2: Cargar el dataset\n",
        "url = 'https://github.com/dtoralg/IE_Calidad_ML/raw/main/Data/control_calidad_farmaceutico.csv'\n",
        "df = pd.read_csv(url)\n",
        "df.head()"
      ]
    },
    {
      "cell_type": "code",
      "execution_count": 3,
      "id": "bce0440a",
      "metadata": {
        "id": "bce0440a"
      },
      "outputs": [],
      "source": [
        "# Celda 3: Preprocesamiento del dataset (fechas, categorías, escalado)\n",
        "# Eliminar columnas irrelevantes y convertir fecha\n",
        "df['Fecha_producción'] = pd.to_datetime(df['Fecha_producción'], errors='coerce')\n",
        "df['Dias_desde_produccion'] = (pd.to_datetime('today') - df['Fecha_producción']).dt.days\n",
        "df = df.drop(columns=['ID_lote', 'Fecha_producción'])"
      ]
    },
    {
      "cell_type": "code",
      "execution_count": 4,
      "id": "17a9b081",
      "metadata": {
        "id": "17a9b081"
      },
      "outputs": [],
      "source": [
        "# Celda 4: Preparar variables predictoras y target\n",
        "X = df.drop(columns=['Tipo_defecto'])\n",
        "y = df['Tipo_defecto']"
      ]
    },
    {
      "cell_type": "code",
      "execution_count": 5,
      "id": "7df2b32e",
      "metadata": {
        "id": "7df2b32e"
      },
      "outputs": [],
      "source": [
        "# Celda 5: Codificar variables categóricas\n",
        "X = pd.get_dummies(X, drop_first=True)"
      ]
    },
    {
      "cell_type": "code",
      "execution_count": 6,
      "id": "f9e23027",
      "metadata": {
        "id": "f9e23027"
      },
      "outputs": [],
      "source": [
        "# Celda 6: Imputar valores faltantes (si existen)\n",
        "imputer = SimpleImputer(strategy='median')\n",
        "X_imputed = imputer.fit_transform(X)"
      ]
    },
    {
      "cell_type": "code",
      "execution_count": 7,
      "id": "ae07e5cd",
      "metadata": {
        "id": "ae07e5cd"
      },
      "outputs": [],
      "source": [
        "# Celda 7: Escalar variables numéricas\n",
        "scaler = StandardScaler()\n",
        "X_scaled = scaler.fit_transform(X_imputed)"
      ]
    },
    {
      "cell_type": "code",
      "execution_count": 8,
      "id": "b635daf4",
      "metadata": {
        "id": "b635daf4"
      },
      "outputs": [],
      "source": [
        "# Celda 8: División en entrenamiento y prueba\n",
        "X_train, X_test, y_train, y_test = train_test_split(X_scaled, y, test_size=0.2, stratify=y, random_state=42)"
      ]
    },
    {
      "cell_type": "code",
      "execution_count": 9,
      "id": "5eeccce9",
      "metadata": {
        "id": "5eeccce9"
      },
      "outputs": [],
      "source": [
        "# Celda 9: Definir espacio de búsqueda para Grid Search\n",
        "param_grid = {\n",
        "    'n_estimators': [100, 200],\n",
        "    'max_depth': [5, 10],\n",
        "    'min_samples_split': [2, 5],\n",
        "    'criterion': ['gini', 'entropy']\n",
        "}"
      ]
    },
    {
      "cell_type": "code",
      "execution_count": 10,
      "id": "86fbb113",
      "metadata": {
        "id": "86fbb113",
        "outputId": "b8ded90d-3f38-4ca5-bae2-ab21fb524b15",
        "colab": {
          "base_uri": "https://localhost:8080/"
        }
      },
      "outputs": [
        {
          "output_type": "stream",
          "name": "stdout",
          "text": [
            "Mejor configuración (Grid Search): {'criterion': 'gini', 'max_depth': 10, 'min_samples_split': 2, 'n_estimators': 200}\n",
            "Tiempo de búsqueda (Grid): 419.63 segundos\n"
          ]
        }
      ],
      "source": [
        "# Celda 10: Aplicar GridSearchCV y medir tiempo\n",
        "start = time.time()\n",
        "grid_search = GridSearchCV(RandomForestClassifier(random_state=42,\n",
        "                                                  class_weight='balanced'),\n",
        "                           param_grid, scoring='f1_macro', cv=3, n_jobs=-1)\n",
        "grid_search.fit(X_train, y_train)\n",
        "end = time.time()\n",
        "tiempo_grid = end - start\n",
        "mejor_grid = grid_search.best_estimator_\n",
        "print('Mejor configuración (Grid Search):', grid_search.best_params_)\n",
        "print('Tiempo de búsqueda (Grid): {:.2f} segundos'.format(tiempo_grid))"
      ]
    },
    {
      "cell_type": "code",
      "execution_count": 11,
      "id": "c4c3ce49",
      "metadata": {
        "id": "c4c3ce49",
        "outputId": "d08ec73d-8258-414b-8a08-bbf8e91708bd",
        "colab": {
          "base_uri": "https://localhost:8080/"
        }
      },
      "outputs": [
        {
          "output_type": "stream",
          "name": "stdout",
          "text": [
            "                  precision    recall  f1-score   support\n",
            "\n",
            "   Contaminación       0.15      0.19      0.17      2268\n",
            "Dosis incorrecta       0.11      0.18      0.13      1516\n",
            "          Rotura       0.14      0.22      0.17      2264\n",
            "     Sin defecto       0.59      0.40      0.47      8952\n",
            "\n",
            "        accuracy                           0.32     15000\n",
            "       macro avg       0.25      0.25      0.24     15000\n",
            "    weighted avg       0.41      0.32      0.35     15000\n",
            "\n"
          ]
        }
      ],
      "source": [
        "# Celda 11: Evaluar el modelo obtenido con Grid Search\n",
        "y_pred_grid = mejor_grid.predict(X_test)\n",
        "print(classification_report(y_test, y_pred_grid))"
      ]
    },
    {
      "cell_type": "code",
      "execution_count": 12,
      "id": "6a347422",
      "metadata": {
        "id": "6a347422"
      },
      "outputs": [],
      "source": [
        "# Celda 12: Definir espacio para Random Search (más amplio y con distribuciones)\n",
        "from scipy.stats import randint\n",
        "param_dist = {\n",
        "    'n_estimators': randint(100, 300),\n",
        "    'max_depth': randint(4, 15),\n",
        "    'min_samples_split': randint(2, 10),\n",
        "    'criterion': ['gini', 'entropy']\n",
        "}"
      ]
    },
    {
      "cell_type": "code",
      "execution_count": 13,
      "id": "a8c1d8d5",
      "metadata": {
        "id": "a8c1d8d5",
        "outputId": "fabbcea6-3134-48b5-8379-11fef026b320",
        "colab": {
          "base_uri": "https://localhost:8080/"
        }
      },
      "outputs": [
        {
          "output_type": "stream",
          "name": "stdout",
          "text": [
            "Mejor configuración (Random Search): {'criterion': 'gini', 'max_depth': 13, 'min_samples_split': 9, 'n_estimators': 287}\n",
            "Tiempo de búsqueda (Random): 389.59 segundos\n"
          ]
        }
      ],
      "source": [
        "# Celda 13: Aplicar RandomizedSearchCV y medir tiempo\n",
        "start = time.time()\n",
        "random_search = RandomizedSearchCV(RandomForestClassifier(random_state=42,\n",
        "                                                          class_weight='balanced'),\n",
        "                                  param_distributions=param_dist,\n",
        "                                  n_iter=10, scoring='f1_macro', cv=3, n_jobs=-1,\n",
        "                                  random_state=42)\n",
        "\n",
        "random_search.fit(X_train, y_train)\n",
        "end = time.time()\n",
        "tiempo_random = end - start\n",
        "mejor_random = random_search.best_estimator_\n",
        "print('Mejor configuración (Random Search):', random_search.best_params_)\n",
        "print('Tiempo de búsqueda (Random): {:.2f} segundos'.format(tiempo_random))"
      ]
    },
    {
      "cell_type": "code",
      "execution_count": 14,
      "id": "cd0d1290",
      "metadata": {
        "id": "cd0d1290",
        "outputId": "d8f0db0c-1c1a-4d3f-a2fc-b40bd266f404",
        "colab": {
          "base_uri": "https://localhost:8080/"
        }
      },
      "outputs": [
        {
          "output_type": "stream",
          "name": "stdout",
          "text": [
            "                  precision    recall  f1-score   support\n",
            "\n",
            "   Contaminación       0.15      0.14      0.15      2268\n",
            "Dosis incorrecta       0.10      0.11      0.10      1516\n",
            "          Rotura       0.14      0.16      0.15      2264\n",
            "     Sin defecto       0.60      0.57      0.58      8952\n",
            "\n",
            "        accuracy                           0.40     15000\n",
            "       macro avg       0.25      0.25      0.25     15000\n",
            "    weighted avg       0.41      0.40      0.40     15000\n",
            "\n"
          ]
        }
      ],
      "source": [
        "# Celda 14: Evaluar el modelo obtenido con Random Search\n",
        "y_pred_random = mejor_random.predict(X_test)\n",
        "print(classification_report(y_test, y_pred_random))"
      ]
    },
    {
      "cell_type": "markdown",
      "id": "accd497b",
      "metadata": {
        "id": "accd497b"
      },
      "source": [
        "### **Conclusiones**\n",
        "- **Grid Search** recorre todas las combinaciones posibles, lo que garantiza encontrar el mejor resultado **dentro del grid definido**, pero puede ser costoso en tiempo.\n",
        "- **Random Search** prueba combinaciones aleatorias y es más eficiente cuando el espacio de búsqueda es muy grande.\n",
        "- En este caso, se puede observar si los modelos obtenidos con ambos métodos tienen rendimientos similares o si alguno supera al otro significativamente.\n",
        "\n",
        "### **Preguntas para reflexionar**\n",
        "- ¿Qué estrategia usarías si tienes poco tiempo para entrenar?\n",
        "- ¿Vale la pena recorrer todas las combinaciones posibles?\n",
        "- ¿Cómo podrías definir un espacio de búsqueda más inteligente para Random Search?"
      ]
    }
  ],
  "metadata": {
    "colab": {
      "provenance": [],
      "include_colab_link": true
    },
    "language_info": {
      "name": "python"
    },
    "kernelspec": {
      "name": "python3",
      "display_name": "Python 3"
    }
  },
  "nbformat": 4,
  "nbformat_minor": 5
}