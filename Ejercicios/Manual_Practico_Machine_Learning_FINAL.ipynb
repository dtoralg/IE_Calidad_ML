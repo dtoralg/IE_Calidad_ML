{
  "cells": [
    {
      "cell_type": "markdown",
      "metadata": {
        "id": "view-in-github",
        "colab_type": "text"
      },
      "source": [
        "<a href=\"https://colab.research.google.com/github/dtoralg/IE_Calidad_ML/blob/main/Ejercicios/Manual_Practico_Machine_Learning_FINAL.ipynb\" target=\"_parent\"><img src=\"https://colab.research.google.com/assets/colab-badge.svg\" alt=\"Open In Colab\"/></a>"
      ]
    },
    {
      "cell_type": "markdown",
      "id": "be656734",
      "metadata": {
        "id": "be656734"
      },
      "source": [
        "# Manual Práctico y Didáctico de Machine Learning con Python\n",
        "\n",
        "Este cuaderno contiene una guía completa para aprender y practicar los principales conceptos y técnicas de Machine Learning con Python. Está organizado por bloques temáticos y cada bloque incluye:\n",
        "\n",
        "- ✅ Una **explicación breve y clara**\n",
        "- 🧪 Un **ejemplo ejecutable**\n",
        "- ✍️ Un **ejercicio práctico guiado**\n",
        "- 📘 Una **reflexión sobre para qué sirve y cuándo se usa**\n",
        "\n",
        "> **Sigue el orden o navega por el índice según tus intereses.**\n"
      ]
    },
    {
      "cell_type": "markdown",
      "id": "4a1b8213",
      "metadata": {
        "id": "4a1b8213"
      },
      "source": [
        "## 1. Carga y Exploración de Datos"
      ]
    },
    {
      "cell_type": "markdown",
      "id": "482b1b60",
      "metadata": {
        "id": "482b1b60"
      },
      "source": [
        "### ¿Qué es?\n",
        "\n",
        "Cargar y explorar datos es el primer paso de cualquier proceso de análisis. Aquí es donde obtenemos una primera impresión de cómo están estructurados los datos, qué tipo de variables tenemos, si hay valores nulos, columnas irrelevantes, etc.\n",
        "\n",
        "Esto se conoce también como **ETL (Extract, Transform, Load)** en entornos más profesionales.\n",
        "\n",
        "---\n"
      ]
    },
    {
      "cell_type": "markdown",
      "id": "2dc50d34",
      "metadata": {
        "id": "2dc50d34"
      },
      "source": [
        "### 1.1 Cargar un archivo CSV"
      ]
    },
    {
      "cell_type": "markdown",
      "id": "250cd5a4",
      "metadata": {
        "id": "250cd5a4"
      },
      "source": [
        "**Código de ejemplo:**  \n",
        "Cargamos un dataset desde un archivo CSV local o una URL.\n"
      ]
    },
    {
      "cell_type": "code",
      "execution_count": null,
      "id": "ae2799c8",
      "metadata": {
        "id": "ae2799c8"
      },
      "outputs": [],
      "source": [
        "import pandas as pd\n",
        "\n",
        "# Cargar archivo desde local\n",
        "df = pd.read_csv(\"datos_calidad.csv\")\n",
        "\n",
        "# También se puede usar una URL si el archivo está en línea\n",
        "# df = pd.read_csv(\"https://ruta-al-archivo/dataset.csv\")\n",
        "\n",
        "df.head()"
      ]
    },
    {
      "cell_type": "markdown",
      "id": "bbe2c369",
      "metadata": {
        "id": "bbe2c369"
      },
      "source": [
        "**Ejercicio guiado:**  \n",
        "Cambia el nombre del archivo anterior por otro CSV disponible en tu equipo o entorno, y muestra las 10 primeras filas usando `.head(10)`.\n"
      ]
    },
    {
      "cell_type": "markdown",
      "id": "6840d7c5",
      "metadata": {
        "id": "6840d7c5"
      },
      "source": [
        "**¿Para qué sirve?**  \n",
        "Este paso es fundamental para poder trabajar con datos reales. Sin esta carga inicial no es posible iniciar ningún análisis, ni visualizaciones ni modelos.\n"
      ]
    },
    {
      "cell_type": "markdown",
      "id": "dda4e3ee",
      "metadata": {
        "id": "dda4e3ee"
      },
      "source": [
        "### 1.2 Exploración inicial del dataset"
      ]
    },
    {
      "cell_type": "code",
      "execution_count": null,
      "id": "c073c728",
      "metadata": {
        "id": "c073c728"
      },
      "outputs": [],
      "source": [
        "# Ver forma del dataset\n",
        "print(\"Dimensiones:\", df.shape)\n",
        "\n",
        "# Tipos de datos\n",
        "print(df.dtypes)\n",
        "\n",
        "# Resumen estadístico\n",
        "df.describe()"
      ]
    },
    {
      "cell_type": "markdown",
      "id": "f438df95",
      "metadata": {
        "id": "f438df95"
      },
      "source": [
        "**Explicación:**  \n",
        "- `.shape` nos dice cuántas filas y columnas hay.\n",
        "- `.dtypes` muestra el tipo de cada columna.\n",
        "- `.describe()` da estadísticas básicas como media, desviación, mínimo y máximo para columnas numéricas.\n"
      ]
    },
    {
      "cell_type": "markdown",
      "id": "cec02247",
      "metadata": {
        "id": "cec02247"
      },
      "source": [
        "### 1.3 Comprobación de valores faltantes"
      ]
    },
    {
      "cell_type": "code",
      "execution_count": null,
      "id": "8c96bccb",
      "metadata": {
        "id": "8c96bccb"
      },
      "outputs": [],
      "source": [
        "# Comprobar nulos por columna\n",
        "df.isnull().sum().sort_values(ascending=False).head(10)"
      ]
    },
    {
      "cell_type": "markdown",
      "id": "27ecf0c6",
      "metadata": {
        "id": "27ecf0c6"
      },
      "source": [
        "**¿Para qué sirve?**  \n",
        "Muchas funciones y modelos no admiten valores nulos, por lo que es importante identificarlos y decidir si se imputan (rellenan) o se eliminan.\n"
      ]
    },
    {
      "cell_type": "markdown",
      "id": "6dea959d",
      "metadata": {
        "id": "6dea959d"
      },
      "source": [
        "### 1.4 Eliminar columnas irrelevantes"
      ]
    },
    {
      "cell_type": "code",
      "execution_count": null,
      "id": "9b476b88",
      "metadata": {
        "id": "9b476b88"
      },
      "outputs": [],
      "source": [
        "# Supongamos que hay una columna 'ID' que no aporta valor predictivo\n",
        "if 'ID' in df.columns:\n",
        "    df = df.drop(columns=['ID'])\n"
      ]
    },
    {
      "cell_type": "markdown",
      "id": "29752b5a",
      "metadata": {
        "id": "29752b5a"
      },
      "source": [
        "**Ejercicio guiado:**  \n",
        "Busca si tu dataset contiene columnas como identificadores, fechas de carga u observaciones constantes y elimínalas del análisis.\n"
      ]
    },
    {
      "cell_type": "markdown",
      "id": "634a1a56",
      "metadata": {
        "id": "634a1a56"
      },
      "source": [
        "## 2. Preparación de Datos"
      ]
    },
    {
      "cell_type": "markdown",
      "id": "cfdadfb4",
      "metadata": {
        "id": "cfdadfb4"
      },
      "source": [
        "Antes de entrenar cualquier modelo, es fundamental preparar los datos correctamente.  \n",
        "Este proceso incluye:\n",
        "\n",
        "- **Escalar y normalizar** los datos numéricos\n",
        "- **Codificar** variables categóricas\n",
        "- Aplicar técnicas de **feature engineering**\n",
        "- Preparar los datos para evitar fugas de información y mejorar la generalización\n",
        "\n",
        "---\n"
      ]
    },
    {
      "cell_type": "markdown",
      "id": "6394b00e",
      "metadata": {
        "id": "6394b00e"
      },
      "source": [
        "### 2.1 Escalado de variables numéricas"
      ]
    },
    {
      "cell_type": "code",
      "execution_count": null,
      "id": "96141985",
      "metadata": {
        "id": "96141985"
      },
      "outputs": [],
      "source": [
        "from sklearn.preprocessing import StandardScaler\n",
        "\n",
        "# Selección de columnas numéricas\n",
        "num_cols = df.select_dtypes(include='number').columns\n",
        "\n",
        "# Escalado estándar\n",
        "scaler = StandardScaler()\n",
        "df_scaled = df.copy()\n",
        "df_scaled[num_cols] = scaler.fit_transform(df[num_cols])\n",
        "\n",
        "df_scaled.head()"
      ]
    },
    {
      "cell_type": "markdown",
      "id": "2fac689a",
      "metadata": {
        "id": "2fac689a"
      },
      "source": [
        "**¿Por qué escalar?**  \n",
        "Muchos modelos (KNN, Regresión Logística, Redes Neuronales) son sensibles a la escala de las variables.  \n",
        "El `StandardScaler` transforma cada variable para que tenga media 0 y desviación estándar 1.\n"
      ]
    },
    {
      "cell_type": "markdown",
      "id": "a39eb68a",
      "metadata": {
        "id": "a39eb68a"
      },
      "source": [
        "### 2.2 Codificación de variables categóricas"
      ]
    },
    {
      "cell_type": "code",
      "execution_count": null,
      "id": "a7e9aef6",
      "metadata": {
        "id": "a7e9aef6"
      },
      "outputs": [],
      "source": [
        "from sklearn.preprocessing import LabelEncoder\n",
        "\n",
        "# Suponemos que 'Estado' es la variable objetivo\n",
        "if 'Estado' in df.columns:\n",
        "    le = LabelEncoder()\n",
        "    df['Estado_cod'] = le.fit_transform(df['Estado'])\n",
        "    print(\"Clases:\", list(le.classes_))\n",
        "    df[['Estado', 'Estado_cod']].head()\n"
      ]
    },
    {
      "cell_type": "markdown",
      "id": "ad832cd7",
      "metadata": {
        "id": "ad832cd7"
      },
      "source": [
        "**¿Para qué sirve?**  \n",
        "Muchos modelos de machine learning necesitan que las variables categóricas estén en formato numérico.  \n",
        "`LabelEncoder` convierte etiquetas como `\"OK\"`, `\"KO\"` en `0`, `1`.\n"
      ]
    },
    {
      "cell_type": "markdown",
      "id": "ecd2a304",
      "metadata": {
        "id": "ecd2a304"
      },
      "source": [
        "### 2.3 Ingeniería de características (Feature Engineering)"
      ]
    },
    {
      "cell_type": "code",
      "execution_count": null,
      "id": "7d5b3ac1",
      "metadata": {
        "id": "7d5b3ac1"
      },
      "outputs": [],
      "source": [
        "# Crear una nueva variable: relación entre temperatura y presión\n",
        "if \"Temperatura\" in df.columns and \"Presion\" in df.columns:\n",
        "    df['Temp_Pres_ratio'] = df['Temperatura'] / df['Presion']\n",
        "    df[['Temperatura', 'Presion', 'Temp_Pres_ratio']].head()"
      ]
    },
    {
      "cell_type": "markdown",
      "id": "222ae148",
      "metadata": {
        "id": "222ae148"
      },
      "source": [
        "**¿Para qué sirve?**  \n",
        "A veces, relaciones entre variables aportan más valor predictivo que las variables originales por separado.\n"
      ]
    },
    {
      "cell_type": "markdown",
      "id": "1fa988d0",
      "metadata": {
        "id": "1fa988d0"
      },
      "source": [
        "### 2.4 Eliminar columnas constantes o duplicadas"
      ]
    },
    {
      "cell_type": "code",
      "execution_count": null,
      "id": "610a6119",
      "metadata": {
        "id": "610a6119"
      },
      "outputs": [],
      "source": [
        "# Eliminar columnas con un único valor\n",
        "for col in df.columns:\n",
        "    if df[col].nunique() == 1:\n",
        "        df = df.drop(columns=[col])"
      ]
    },
    {
      "cell_type": "markdown",
      "id": "b2e9bbc0",
      "metadata": {
        "id": "b2e9bbc0"
      },
      "source": [
        "**¿Para qué sirve?**  \n",
        "Las columnas que no cambian no aportan información y pueden dificultar el entrenamiento o inflar el tamaño del modelo.\n"
      ]
    },
    {
      "cell_type": "markdown",
      "id": "a9ab26d4",
      "metadata": {
        "id": "a9ab26d4"
      },
      "source": [
        "## 3. Modelos Supervisados"
      ]
    },
    {
      "cell_type": "markdown",
      "id": "ef0b241d",
      "metadata": {
        "id": "ef0b241d"
      },
      "source": [
        "### 3.1 Regresión Lineal"
      ]
    },
    {
      "cell_type": "code",
      "execution_count": null,
      "id": "698420bf",
      "metadata": {
        "id": "698420bf"
      },
      "outputs": [],
      "source": [
        "from sklearn.linear_model import LinearRegression\n",
        "from sklearn.metrics import mean_absolute_error, mean_squared_error, r2_score\n",
        "import numpy as np\n",
        "\n",
        "# Simular datos de ejemplo\n",
        "X_simple = df[[\"Temperatura\"]]\n",
        "y_simple = df[\"Presion\"]\n",
        "\n",
        "# Modelo\n",
        "model_lr = LinearRegression()\n",
        "model_lr.fit(X_simple, y_simple)\n",
        "y_pred_lr = model_lr.predict(X_simple)\n",
        "\n",
        "# Evaluación\n",
        "mae = mean_absolute_error(y_simple, y_pred_lr)\n",
        "mse = mean_squared_error(y_simple, y_pred_lr)\n",
        "rmse = np.sqrt(mse)\n",
        "r2 = r2_score(y_simple, y_pred_lr)\n",
        "\n",
        "print(f\"MAE: {mae:.2f}\")\n",
        "print(f\"MSE: {mse:.2f}\")\n",
        "print(f\"RMSE: {rmse:.2f}\")\n",
        "print(f\"R²: {r2:.2f}\")"
      ]
    },
    {
      "cell_type": "markdown",
      "id": "35a9fc9b",
      "metadata": {
        "id": "35a9fc9b"
      },
      "source": [
        "**¿Para qué sirve?**  \n",
        "La regresión lineal permite predecir un valor numérico continuo.  \n",
        "Es útil como modelo de referencia y también para interpretar relaciones lineales entre variables.\n"
      ]
    },
    {
      "cell_type": "markdown",
      "id": "e35b1560",
      "metadata": {
        "id": "e35b1560"
      },
      "source": [
        "### 3.2 Regresión Logística"
      ]
    },
    {
      "cell_type": "code",
      "execution_count": null,
      "id": "9246c53a",
      "metadata": {
        "id": "9246c53a"
      },
      "outputs": [],
      "source": [
        "from sklearn.linear_model import LogisticRegression\n",
        "from sklearn.metrics import classification_report\n",
        "\n",
        "# Asumimos que y_bin es binaria (0/1)\n",
        "X_log = df_scaled[num_cols]\n",
        "y_log = (df[\"Estado_cod\"] == 1).astype(int) if \"Estado_cod\" in df else y\n",
        "\n",
        "X_train_log, X_test_log, y_train_log, y_test_log = train_test_split(X_log, y_log, test_size=0.3, random_state=42)\n",
        "\n",
        "model_log = LogisticRegression(max_iter=1000)\n",
        "model_log.fit(X_train_log, y_train_log)\n",
        "y_pred_log = model_log.predict(X_test_log)\n",
        "\n",
        "print(classification_report(y_test_log, y_pred_log))"
      ]
    },
    {
      "cell_type": "markdown",
      "id": "2368aa44",
      "metadata": {
        "id": "2368aa44"
      },
      "source": [
        "**¿Para qué sirve?**  \n",
        "Clasifica instancias en dos clases (binaria) de forma simple pero efectiva.  \n",
        "Suele ser el modelo base para comparar con otros más complejos.\n"
      ]
    },
    {
      "cell_type": "markdown",
      "id": "fdd57382",
      "metadata": {
        "id": "fdd57382"
      },
      "source": [
        "### 3.3 Árbol de Decisión"
      ]
    },
    {
      "cell_type": "code",
      "execution_count": null,
      "id": "400c383a",
      "metadata": {
        "id": "400c383a"
      },
      "outputs": [],
      "source": [
        "from sklearn.tree import DecisionTreeClassifier\n",
        "\n",
        "model_dt = DecisionTreeClassifier(max_depth=4)\n",
        "model_dt.fit(X_train_log, y_train_log)\n",
        "y_pred_dt = model_dt.predict(X_test_log)\n",
        "\n",
        "print(classification_report(y_test_log, y_pred_dt))"
      ]
    },
    {
      "cell_type": "markdown",
      "id": "ebd3eac7",
      "metadata": {
        "id": "ebd3eac7"
      },
      "source": [
        "**¿Para qué sirve?**  \n",
        "Los árboles son fáciles de interpretar y permiten entender reglas de decisión.  \n",
        "Son útiles cuando hay relaciones no lineales entre las variables.\n"
      ]
    },
    {
      "cell_type": "markdown",
      "id": "d78e33ae",
      "metadata": {
        "id": "d78e33ae"
      },
      "source": [
        "### 3.4 Random Forest"
      ]
    },
    {
      "cell_type": "code",
      "execution_count": null,
      "id": "233a72c4",
      "metadata": {
        "id": "233a72c4"
      },
      "outputs": [],
      "source": [
        "from sklearn.ensemble import RandomForestClassifier\n",
        "\n",
        "model_rf = RandomForestClassifier(n_estimators=100, random_state=42)\n",
        "model_rf.fit(X_train_log, y_train_log)\n",
        "y_pred_rf = model_rf.predict(X_test_log)\n",
        "\n",
        "print(classification_report(y_test_log, y_pred_rf))"
      ]
    },
    {
      "cell_type": "markdown",
      "id": "d685b0a4",
      "metadata": {
        "id": "d685b0a4"
      },
      "source": [
        "**¿Para qué sirve?**  \n",
        "Es un ensemble de árboles que mejora la robustez y generalización del modelo.  \n",
        "Muy usado en la industria por su rendimiento y facilidad de uso.\n"
      ]
    },
    {
      "cell_type": "markdown",
      "id": "cde069ec",
      "metadata": {
        "id": "cde069ec"
      },
      "source": [
        "### 3.5 K-Nearest Neighbors (KNN)"
      ]
    },
    {
      "cell_type": "code",
      "execution_count": null,
      "id": "81c7380e",
      "metadata": {
        "id": "81c7380e"
      },
      "outputs": [],
      "source": [
        "from sklearn.neighbors import KNeighborsClassifier\n",
        "\n",
        "model_knn = KNeighborsClassifier(n_neighbors=5)\n",
        "model_knn.fit(X_train_log, y_train_log)\n",
        "y_pred_knn = model_knn.predict(X_test_log)\n",
        "\n",
        "print(classification_report(y_test_log, y_pred_knn))"
      ]
    },
    {
      "cell_type": "markdown",
      "id": "d5be8d25",
      "metadata": {
        "id": "d5be8d25"
      },
      "source": [
        "**¿Para qué sirve?**  \n",
        "Clasifica en base a los vecinos más cercanos.  \n",
        "Muy intuitivo y efectivo en datasets pequeños y bien escalados.\n"
      ]
    },
    {
      "cell_type": "code",
      "execution_count": null,
      "id": "a9606a36",
      "metadata": {
        "id": "a9606a36"
      },
      "outputs": [],
      "source": [
        "from sklearn.neural_network import MLPClassifier\n",
        "\n",
        "model_mlp = MLPClassifier(hidden_layer_sizes=(64, 32), max_iter=300, random_state=42)\n",
        "model_mlp.fit(X_train_log, y_train_log)\n",
        "y_pred_mlp = model_mlp.predict(X_test_log)\n",
        "\n",
        "print(classification_report(y_test_log, y_pred_mlp))"
      ]
    },
    {
      "cell_type": "markdown",
      "id": "f7125094",
      "metadata": {
        "id": "f7125094"
      },
      "source": [
        "**¿Para qué sirve?**  \n",
        "Una red neuronal básica que permite modelar relaciones no lineales más complejas.  \n",
        "Requiere datos bien escalados y más entrenamiento que otros modelos.\n"
      ]
    },
    {
      "cell_type": "markdown",
      "id": "9d2c5c30",
      "metadata": {
        "id": "9d2c5c30"
      },
      "source": [
        "## 4. Modelos No Supervisados"
      ]
    },
    {
      "cell_type": "markdown",
      "id": "61ae3297",
      "metadata": {
        "id": "61ae3297"
      },
      "source": [
        "Los modelos no supervisados aprenden a partir de datos **sin etiquetas**. Se utilizan para:\n",
        "- Explorar la estructura interna de los datos\n",
        "- Agrupar observaciones similares\n",
        "- Reducir la dimensionalidad para visualización o mejora de modelos supervisados\n"
      ]
    },
    {
      "cell_type": "markdown",
      "id": "343d1695",
      "metadata": {
        "id": "343d1695"
      },
      "source": [
        "### 4.1 PCA - Análisis de Componentes Principales"
      ]
    },
    {
      "cell_type": "code",
      "execution_count": null,
      "id": "737ee445",
      "metadata": {
        "id": "737ee445"
      },
      "outputs": [],
      "source": [
        "from sklearn.decomposition import PCA\n",
        "import matplotlib.pyplot as plt\n",
        "\n",
        "# Aplicar PCA para reducir a 2 dimensiones\n",
        "pca = PCA(n_components=2)\n",
        "X_pca = pca.fit_transform(X_log)\n",
        "\n",
        "# Visualizar resultado\n",
        "plt.scatter(X_pca[:, 0], X_pca[:, 1], c=y_log, cmap='coolwarm', alpha=0.7)\n",
        "plt.xlabel(\"Componente 1\")\n",
        "plt.ylabel(\"Componente 2\")\n",
        "plt.title(\"Visualización PCA (2D)\")\n",
        "plt.grid(True)\n",
        "plt.show()"
      ]
    },
    {
      "cell_type": "markdown",
      "id": "7a3284e9",
      "metadata": {
        "id": "7a3284e9"
      },
      "source": [
        "**¿Para qué sirve?**  \n",
        "PCA transforma las variables originales en un nuevo conjunto de variables **no correlacionadas**, que capturan la mayor parte de la varianza.\n",
        "Se usa para visualización, compresión o preprocesamiento antes de modelos.\n"
      ]
    },
    {
      "cell_type": "markdown",
      "id": "8bba2a6c",
      "metadata": {
        "id": "8bba2a6c"
      },
      "source": [
        "### 4.2 K-Means - Agrupamiento no supervisado"
      ]
    },
    {
      "cell_type": "code",
      "execution_count": null,
      "id": "01f2478d",
      "metadata": {
        "id": "01f2478d"
      },
      "outputs": [],
      "source": [
        "from sklearn.cluster import KMeans\n",
        "\n",
        "# Aplicar KMeans con 2 grupos\n",
        "kmeans = KMeans(n_clusters=2, random_state=42)\n",
        "clusters = kmeans.fit_predict(X_log)\n",
        "\n",
        "# Visualizar con PCA\n",
        "plt.scatter(X_pca[:, 0], X_pca[:, 1], c=clusters, cmap='Accent', alpha=0.7)\n",
        "plt.title(\"K-Means clustering con visualización PCA\")\n",
        "plt.xlabel(\"PC1\")\n",
        "plt.ylabel(\"PC2\")\n",
        "plt.grid(True)\n",
        "plt.show()"
      ]
    },
    {
      "cell_type": "markdown",
      "id": "8e2dc249",
      "metadata": {
        "id": "8e2dc249"
      },
      "source": [
        "**¿Para qué sirve?**  \n",
        "K-Means permite **agrupar observaciones similares** sin necesidad de etiquetas.  \n",
        "Se usa en segmentación de clientes, análisis exploratorio y detección de patrones no etiquetados.\n"
      ]
    },
    {
      "cell_type": "markdown",
      "id": "d315c7ba",
      "metadata": {
        "id": "d315c7ba"
      },
      "source": [
        "## 5. Evaluación de Modelos"
      ]
    },
    {
      "cell_type": "markdown",
      "id": "fa1c410b",
      "metadata": {
        "id": "fa1c410b"
      },
      "source": [
        "Evaluar el rendimiento de un modelo es tan importante como entrenarlo.  \n",
        "Dependiendo del tipo de problema (clasificación o regresión), usaremos diferentes métricas:\n",
        "\n",
        "- Clasificación: precisión, recall, F1, matriz de confusión, ROC, AUC\n",
        "- Regresión: MAE, MSE, RMSE, R²\n"
      ]
    },
    {
      "cell_type": "markdown",
      "id": "8f07e9a8",
      "metadata": {
        "id": "8f07e9a8"
      },
      "source": [
        "### 5.1 Matriz de Confusión"
      ]
    },
    {
      "cell_type": "code",
      "execution_count": null,
      "id": "9dafff74",
      "metadata": {
        "id": "9dafff74"
      },
      "outputs": [],
      "source": [
        "from sklearn.metrics import confusion_matrix, ConfusionMatrixDisplay\n",
        "\n",
        "cm = confusion_matrix(y_test_log, y_pred_rf)\n",
        "disp = ConfusionMatrixDisplay(confusion_matrix=cm)\n",
        "disp.plot(cmap='Blues')\n",
        "plt.title(\"Matriz de Confusión\")\n",
        "plt.show()"
      ]
    },
    {
      "cell_type": "markdown",
      "id": "25f721e8",
      "metadata": {
        "id": "25f721e8"
      },
      "source": [
        "**¿Para qué sirve?**  \n",
        "Muestra el número de aciertos y errores para cada clase.  \n",
        "Ideal para saber **qué clases se confunden entre sí**.\n"
      ]
    },
    {
      "cell_type": "markdown",
      "id": "be835dc8",
      "metadata": {
        "id": "be835dc8"
      },
      "source": [
        "### 5.2 Precisión, Recall, F1 Score, Accuracy"
      ]
    },
    {
      "cell_type": "code",
      "execution_count": null,
      "id": "05fad1a1",
      "metadata": {
        "id": "05fad1a1"
      },
      "outputs": [],
      "source": [
        "from sklearn.metrics import accuracy_score, precision_score, recall_score, f1_score\n",
        "\n",
        "print(\"Accuracy:\", accuracy_score(y_test_log, y_pred_rf))\n",
        "print(\"Precisión:\", precision_score(y_test_log, y_pred_rf))\n",
        "print(\"Recall:\", recall_score(y_test_log, y_pred_rf))\n",
        "print(\"F1 Score:\", f1_score(y_test_log, y_pred_rf))"
      ]
    },
    {
      "cell_type": "markdown",
      "id": "6cc36c6d",
      "metadata": {
        "id": "6cc36c6d"
      },
      "source": [
        "**¿Cuándo usar cada una?**\n",
        "- `Precisión`: cuántos de los positivos predichos eran correctos\n",
        "- `Recall`: cuántos de los positivos reales fueron capturados\n",
        "- `F1`: equilibrio entre precisión y recall\n",
        "- `Accuracy`: proporción de aciertos totales (menos útil si hay clases desbalanceadas)\n"
      ]
    },
    {
      "cell_type": "markdown",
      "id": "af9a280f",
      "metadata": {
        "id": "af9a280f"
      },
      "source": [
        "### 5.3 Curva ROC y AUC"
      ]
    },
    {
      "cell_type": "code",
      "execution_count": null,
      "id": "b1e7becd",
      "metadata": {
        "id": "b1e7becd"
      },
      "outputs": [],
      "source": [
        "from sklearn.metrics import roc_curve, auc\n",
        "\n",
        "y_prob = model_rf.predict_proba(X_test_log)[:, 1]\n",
        "fpr, tpr, thresholds = roc_curve(y_test_log, y_prob)\n",
        "roc_auc = auc(fpr, tpr)\n",
        "\n",
        "plt.plot(fpr, tpr, label=f\"AUC = {roc_auc:.2f}\")\n",
        "plt.plot([0, 1], [0, 1], linestyle='--')\n",
        "plt.xlabel(\"Tasa de falsos positivos\")\n",
        "plt.ylabel(\"Tasa de verdaderos positivos\")\n",
        "plt.title(\"Curva ROC\")\n",
        "plt.legend()\n",
        "plt.grid(True)\n",
        "plt.show()"
      ]
    },
    {
      "cell_type": "markdown",
      "id": "780c265c",
      "metadata": {
        "id": "780c265c"
      },
      "source": [
        "**¿Para qué sirve?**  \n",
        "Mide la capacidad del modelo para distinguir entre clases.  \n",
        "Cuanto más se acerque el AUC a 1, mejor.\n"
      ]
    },
    {
      "cell_type": "markdown",
      "id": "88d98aa3",
      "metadata": {
        "id": "88d98aa3"
      },
      "source": [
        "### 5.4 MAE, MSE, RMSE, R²"
      ]
    },
    {
      "cell_type": "code",
      "execution_count": null,
      "id": "c3103018",
      "metadata": {
        "id": "c3103018"
      },
      "outputs": [],
      "source": [
        "from sklearn.metrics import mean_absolute_error, mean_squared_error, r2_score\n",
        "import numpy as np\n",
        "\n",
        "# Usamos el modelo de regresión lineal de antes\n",
        "mae = mean_absolute_error(y_simple, y_pred_lr)\n",
        "mse = mean_squared_error(y_simple, y_pred_lr)\n",
        "rmse = np.sqrt(mse)\n",
        "r2 = r2_score(y_simple, y_pred_lr)\n",
        "\n",
        "print(f\"MAE: {mae:.2f}\")\n",
        "print(f\"MSE: {mse:.2f}\")\n",
        "print(f\"RMSE: {rmse:.2f}\")\n",
        "print(f\"R²: {r2:.2f}\")"
      ]
    },
    {
      "cell_type": "markdown",
      "id": "6fd424e6",
      "metadata": {
        "id": "6fd424e6"
      },
      "source": [
        "**¿Qué mide cada métrica?**\n",
        "- `MAE`: error absoluto medio\n",
        "- `MSE`: error cuadrático medio (penaliza más errores grandes)\n",
        "- `RMSE`: raíz cuadrada del MSE (en mismas unidades que la variable)\n",
        "- `R²`: porcentaje de variabilidad explicada por el modelo\n"
      ]
    },
    {
      "cell_type": "markdown",
      "id": "452b71ea",
      "metadata": {
        "id": "452b71ea"
      },
      "source": [
        "## 6. Técnicas de Optimización, Regularización y Redes Neuronales"
      ]
    },
    {
      "cell_type": "markdown",
      "id": "2479e070",
      "metadata": {
        "id": "2479e070"
      },
      "source": [
        "Estas técnicas ayudan a mejorar el rendimiento y la generalización del modelo, especialmente cuando los datos son complejos o limitados.\n",
        "\n",
        "---\n"
      ]
    },
    {
      "cell_type": "markdown",
      "id": "bfedb75b",
      "metadata": {
        "id": "bfedb75b"
      },
      "source": [
        "### 6.1 Regularización L1 y L2"
      ]
    },
    {
      "cell_type": "code",
      "execution_count": null,
      "id": "b93fe5ef",
      "metadata": {
        "id": "b93fe5ef"
      },
      "outputs": [],
      "source": [
        "from sklearn.linear_model import LogisticRegression\n",
        "\n",
        "# L1 (Lasso)\n",
        "model_l1 = LogisticRegression(penalty='l1', solver='liblinear')\n",
        "model_l1.fit(X_train_log, y_train_log)\n",
        "\n",
        "# L2 (Ridge)\n",
        "model_l2 = LogisticRegression(penalty='l2')\n",
        "model_l2.fit(X_train_log, y_train_log)"
      ]
    },
    {
      "cell_type": "markdown",
      "id": "72fb7664",
      "metadata": {
        "id": "72fb7664"
      },
      "source": [
        "**¿Para qué sirve?**  \n",
        "- `L1`: fuerza coeficientes a cero (selección de variables)\n",
        "- `L2`: reduce la magnitud de los coeficientes (reduce overfitting)\n"
      ]
    },
    {
      "cell_type": "markdown",
      "id": "b6048e62",
      "metadata": {
        "id": "b6048e62"
      },
      "source": [
        "### 6.2 Búsqueda de hiperparámetros con GridSearchCV"
      ]
    },
    {
      "cell_type": "code",
      "execution_count": null,
      "id": "4f050f14",
      "metadata": {
        "id": "4f050f14"
      },
      "outputs": [],
      "source": [
        "from sklearn.model_selection import GridSearchCV\n",
        "\n",
        "param_grid = {\n",
        "    'n_estimators': [50, 100],\n",
        "    'max_depth': [3, 5, 10]\n",
        "}\n",
        "\n",
        "grid = GridSearchCV(RandomForestClassifier(), param_grid, cv=5, scoring='f1_macro')\n",
        "grid.fit(X_train_log, y_train_log)\n",
        "\n",
        "print(\"Mejores parámetros:\", grid.best_params_)\n",
        "print(\"Mejor score F1 Macro:\", grid.best_score_)"
      ]
    },
    {
      "cell_type": "markdown",
      "id": "fe99e0a6",
      "metadata": {
        "id": "fe99e0a6"
      },
      "source": [
        "**¿Para qué sirve?**  \n",
        "Permite probar muchas combinaciones de hiperparámetros y seleccionar la mejor automáticamente.\n"
      ]
    },
    {
      "cell_type": "markdown",
      "id": "ae1083a6",
      "metadata": {
        "id": "ae1083a6"
      },
      "source": [
        "### 6.3 RandomizedSearchCV (alternativa rápida a GridSearch)"
      ]
    },
    {
      "cell_type": "code",
      "execution_count": null,
      "id": "ac4f17c3",
      "metadata": {
        "id": "ac4f17c3"
      },
      "outputs": [],
      "source": [
        "from sklearn.model_selection import RandomizedSearchCV\n",
        "\n",
        "from scipy.stats import randint\n",
        "\n",
        "param_dist = {\n",
        "    'n_estimators': randint(50, 150),\n",
        "    'max_depth': randint(3, 10)\n",
        "}\n",
        "\n",
        "random_search = RandomizedSearchCV(RandomForestClassifier(), param_distributions=param_dist, n_iter=10, cv=5, random_state=42)\n",
        "random_search.fit(X_train_log, y_train_log)\n",
        "\n",
        "print(\"Mejores parámetros:\", random_search.best_params_)"
      ]
    },
    {
      "cell_type": "markdown",
      "id": "993c9dbb",
      "metadata": {
        "id": "993c9dbb"
      },
      "source": [
        "### 6.4 Rebalanceo de clases con SMOTE"
      ]
    },
    {
      "cell_type": "code",
      "execution_count": null,
      "id": "9e47f600",
      "metadata": {
        "id": "9e47f600"
      },
      "outputs": [],
      "source": [
        "from imblearn.over_sampling import SMOTE\n",
        "from collections import Counter\n",
        "\n",
        "smote = SMOTE(random_state=42)\n",
        "X_train_sm, y_train_sm = smote.fit_resample(X_train_log, y_train_log)\n",
        "\n",
        "print(\"Distribución original:\", Counter(y_train_log))\n",
        "print(\"Distribución balanceada:\", Counter(y_train_sm))"
      ]
    },
    {
      "cell_type": "markdown",
      "id": "fe4e1b72",
      "metadata": {
        "id": "fe4e1b72"
      },
      "source": [
        "**¿Para qué sirve?**  \n",
        "Genera muestras sintéticas para la clase minoritaria y evita el sobreajuste a la clase mayoritaria.\n"
      ]
    },
    {
      "cell_type": "markdown",
      "id": "77bc3ba1",
      "metadata": {
        "id": "77bc3ba1"
      },
      "source": [
        "### 6.5 Red Neuronal con EarlyStopping"
      ]
    },
    {
      "cell_type": "code",
      "execution_count": null,
      "id": "ccec4293",
      "metadata": {
        "id": "ccec4293"
      },
      "outputs": [],
      "source": [
        "from tensorflow.keras.models import Sequential\n",
        "from tensorflow.keras.layers import Dense, Dropout\n",
        "from tensorflow.keras.callbacks import EarlyStopping\n",
        "from tensorflow.keras.utils import to_categorical\n",
        "\n",
        "y_train_cat = to_categorical(y_train_log)\n",
        "y_test_cat = to_categorical(y_test_log)\n",
        "\n",
        "model_nn = Sequential()\n",
        "model_nn.add(Dense(64, activation='relu', input_shape=(X_train_log.shape[1],)))\n",
        "model_nn.add(Dropout(0.3))\n",
        "model_nn.add(Dense(32, activation='relu'))\n",
        "model_nn.add(Dense(y_train_cat.shape[1], activation='softmax'))\n",
        "\n",
        "model_nn.compile(optimizer='adam', loss='categorical_crossentropy', metrics=['accuracy'])\n",
        "\n",
        "early_stop = EarlyStopping(monitor='val_loss', patience=5, restore_best_weights=True)\n",
        "\n",
        "history = model_nn.fit(X_train_log, y_train_cat,\n",
        "                       validation_split=0.2,\n",
        "                       epochs=100,\n",
        "                       batch_size=32,\n",
        "                       callbacks=[early_stop],\n",
        "                       verbose=0)\n",
        "\n",
        "# Evaluación\n",
        "loss, acc = model_nn.evaluate(X_test_log, y_test_cat, verbose=0)\n",
        "print(f\"Accuracy final en test: {acc:.2f}\")"
      ]
    },
    {
      "cell_type": "markdown",
      "id": "dbe2b91f",
      "metadata": {
        "id": "dbe2b91f"
      },
      "source": [
        "**¿Para qué sirve?**  \n",
        "EarlyStopping evita el sobreentrenamiento parando el entrenamiento si el modelo deja de mejorar en validación.\n"
      ]
    },
    {
      "cell_type": "markdown",
      "id": "1d8ddc3b",
      "metadata": {
        "id": "1d8ddc3b"
      },
      "source": [
        "## 7. Buenas prácticas de programación y consejos para aprender Machine Learning"
      ]
    },
    {
      "cell_type": "markdown",
      "id": "aab5fdda",
      "metadata": {
        "id": "aab5fdda"
      },
      "source": [
        "Aprender a programar y resolver problemas de Machine Learning lleva tiempo. Estos consejos te ayudarán a desarrollar buenos hábitos desde el inicio y evitar errores comunes.\n"
      ]
    },
    {
      "cell_type": "markdown",
      "id": "e1b5a6ba",
      "metadata": {
        "id": "e1b5a6ba"
      },
      "source": [
        "### 7.1 Estructura y claridad en tu código"
      ]
    },
    {
      "cell_type": "markdown",
      "id": "ed74d838",
      "metadata": {
        "id": "ed74d838"
      },
      "source": [
        "- Escribe tu código en bloques lógicos separados por secciones.\n",
        "- Usa nombres de variables descriptivos (`X_train`, `y_test`, `modelo_rf`, etc).\n",
        "- Deja comentarios claros explicando qué hace cada bloque.\n",
        "- Elimina código muerto o duplicado que no se esté usando.\n"
      ]
    },
    {
      "cell_type": "markdown",
      "id": "b53e4d1f",
      "metadata": {
        "id": "b53e4d1f"
      },
      "source": [
        "### 7.2 Prueba tu código por partes"
      ]
    },
    {
      "cell_type": "markdown",
      "id": "2ce2f6aa",
      "metadata": {
        "id": "2ce2f6aa"
      },
      "source": [
        "- No intentes resolver todo en una sola celda o paso.\n",
        "- Ejecuta paso a paso: primero carga de datos, luego separación, luego modelo...\n",
        "- Si algo falla, imprime los shapes de tus variables y revisa el contenido con `.head()`.\n"
      ]
    },
    {
      "cell_type": "markdown",
      "id": "b9bb4934",
      "metadata": {
        "id": "b9bb4934"
      },
      "source": [
        "### 7.3 Aprende a leer documentación"
      ]
    },
    {
      "cell_type": "markdown",
      "id": "bc64ff0c",
      "metadata": {
        "id": "bc64ff0c"
      },
      "source": [
        "- Usa `Shift + Tab` en notebooks o `help(función)` para ver qué hace un método.\n",
        "- Lee la documentación oficial de Scikit-learn, Pandas, Seaborn y Keras.\n",
        "- Copia ejemplos pequeños y prueba cambiando parámetros.\n"
      ]
    },
    {
      "cell_type": "markdown",
      "id": "f231896f",
      "metadata": {
        "id": "f231896f"
      },
      "source": [
        "### 7.4 Reutiliza tus propios códigos como plantillas"
      ]
    },
    {
      "cell_type": "markdown",
      "id": "5aa2de43",
      "metadata": {
        "id": "5aa2de43"
      },
      "source": [
        "- Guarda notebooks que ya te han funcionado.\n",
        "- Usa una plantilla para cargar datos, otra para entrenar modelos, otra para gráficas.\n",
        "- Esto te permitirá resolver ejercicios más rápido en el futuro y te dará confianza.\n"
      ]
    },
    {
      "cell_type": "markdown",
      "id": "3313142b",
      "metadata": {
        "id": "3313142b"
      },
      "source": [
        "### 7.5 Ten paciencia y repite lo básico muchas veces"
      ]
    },
    {
      "cell_type": "markdown",
      "id": "9ed990b9",
      "metadata": {
        "id": "9ed990b9"
      },
      "source": [
        "- No intentes dominar todos los modelos a la vez.\n",
        "- Domina primero uno (RandomForest o Regresión Logística) y evalúalo bien.\n",
        "- El aprendizaje real viene de repetir un problema con distintos datasets y estructuras.\n"
      ]
    },
    {
      "cell_type": "markdown",
      "id": "086a07bf",
      "metadata": {
        "id": "086a07bf"
      },
      "source": [
        "## 6. Redes Neuronales: desde MLP hasta LSTM y CNN"
      ]
    },
    {
      "cell_type": "markdown",
      "id": "f62ea953",
      "metadata": {
        "id": "f62ea953"
      },
      "source": [
        "Las redes neuronales permiten modelar relaciones no lineales complejas.  \n",
        "En esta sección las construiremos de forma progresiva:\n",
        "\n",
        "1. Red Neuronal Multicapa básica (MLP)\n",
        "2. MLP más profunda con Dropout y activación ReLU\n",
        "3. Red LSTM (para series temporales)\n",
        "4. Red Convolucional (CNN, para datos con estructura espacial)\n",
        "5. Uso de EarlyStopping para evitar overfitting\n"
      ]
    },
    {
      "cell_type": "markdown",
      "id": "7051c557",
      "metadata": {
        "id": "7051c557"
      },
      "source": [
        "### 6.1 Red Neuronal Multicapa (MLP) Básica"
      ]
    },
    {
      "cell_type": "markdown",
      "id": "6bbe6864",
      "metadata": {
        "id": "6bbe6864"
      },
      "source": [
        "**Código explicado paso a paso:**"
      ]
    },
    {
      "cell_type": "code",
      "execution_count": null,
      "id": "53b871e8",
      "metadata": {
        "id": "53b871e8"
      },
      "outputs": [],
      "source": [
        "from tensorflow.keras.models import Sequential\n",
        "from tensorflow.keras.layers import Dense\n",
        "from tensorflow.keras.utils import to_categorical\n",
        "\n",
        "# Suponemos que y_train_log está disponible como entero\n",
        "y_train_cat = to_categorical(y_train_log)\n",
        "y_test_cat = to_categorical(y_test_log)\n",
        "\n",
        "# Red con 1 capa oculta de 16 neuronas\n",
        "model_basic = Sequential()\n",
        "model_basic.add(Dense(16, activation='relu', input_shape=(X_train_log.shape[1],)))\n",
        "model_basic.add(Dense(y_train_cat.shape[1], activation='softmax'))\n",
        "\n",
        "model_basic.compile(optimizer='adam', loss='categorical_crossentropy', metrics=['accuracy'])\n",
        "history_basic = model_basic.fit(X_train_log, y_train_cat, validation_split=0.2, epochs=30, verbose=0)\n",
        "\n",
        "print(\"Entrenamiento terminado.\")"
      ]
    },
    {
      "cell_type": "markdown",
      "id": "f28cf002",
      "metadata": {
        "id": "f28cf002"
      },
      "source": [
        "**¿Qué hace este modelo?**\n",
        "\n",
        "- Toma las variables como entrada (X)\n",
        "- Usa una capa con 16 neuronas y activación ReLU\n",
        "- Devuelve una predicción por clase (softmax)\n",
        "- Se entrena con `categorical_crossentropy` porque es multiclase\n",
        "\n",
        "Puedes probar aumentando las neuronas o cambiando el optimizador.\n"
      ]
    },
    {
      "cell_type": "markdown",
      "id": "bfee04fe",
      "metadata": {
        "id": "bfee04fe"
      },
      "source": [
        "### 6.2 MLP profunda con Dropout"
      ]
    },
    {
      "cell_type": "code",
      "execution_count": null,
      "id": "253dd965",
      "metadata": {
        "id": "253dd965"
      },
      "outputs": [],
      "source": [
        "from tensorflow.keras.layers import Dropout\n",
        "\n",
        "model_deep = Sequential()\n",
        "model_deep.add(Dense(64, activation='relu', input_shape=(X_train_log.shape[1],)))\n",
        "model_deep.add(Dropout(0.3))\n",
        "model_deep.add(Dense(32, activation='relu'))\n",
        "model_deep.add(Dense(y_train_cat.shape[1], activation='softmax'))\n",
        "\n",
        "model_deep.compile(optimizer='adam', loss='categorical_crossentropy', metrics=['accuracy'])\n",
        "history_deep = model_deep.fit(X_train_log, y_train_cat, validation_split=0.2, epochs=50, verbose=0)"
      ]
    },
    {
      "cell_type": "markdown",
      "id": "fdc05272",
      "metadata": {
        "id": "fdc05272"
      },
      "source": [
        "**¿Qué mejora esta red respecto a la anterior?**\n",
        "\n",
        "- Tiene más capas y más neuronas.\n",
        "- `Dropout` apaga aleatoriamente neuronas durante el entrenamiento (evita que el modelo memorice demasiado).\n",
        "- Es más robusta y generaliza mejor.\n"
      ]
    },
    {
      "cell_type": "markdown",
      "id": "d3d45ad9",
      "metadata": {
        "id": "d3d45ad9"
      },
      "source": [
        "### 6.3 LSTM - Red para Series Temporales"
      ]
    },
    {
      "cell_type": "code",
      "execution_count": null,
      "id": "bed35c7a",
      "metadata": {
        "id": "bed35c7a"
      },
      "outputs": [],
      "source": [
        "import numpy as np\n",
        "from tensorflow.keras.layers import LSTM, Reshape\n",
        "\n",
        "# Creamos datos simulados: (muestras, pasos_tiempo, variables)\n",
        "X_seq = np.random.rand(100, 10, 5)  # 100 series de 10 pasos y 5 variables\n",
        "y_seq = to_categorical(np.random.randint(0, 2, 100))  # clasificación binaria\n",
        "\n",
        "model_lstm = Sequential()\n",
        "model_lstm.add(LSTM(32, input_shape=(10, 5)))\n",
        "model_lstm.add(Dense(2, activation='softmax'))\n",
        "\n",
        "model_lstm.compile(optimizer='adam', loss='categorical_crossentropy', metrics=['accuracy'])\n",
        "model_lstm.fit(X_seq, y_seq, epochs=10, verbose=0)\n",
        "\n",
        "print(\"Modelo LSTM entrenado para datos secuenciales.\")"
      ]
    },
    {
      "cell_type": "markdown",
      "id": "65e2d15b",
      "metadata": {
        "id": "65e2d15b"
      },
      "source": [
        "**¿Cuándo usar LSTM?**\n",
        "\n",
        "- Cuando tienes secuencias temporales: sensores en el tiempo, texto, series temporales\n",
        "- El modelo \"recuerda\" estados anteriores\n"
      ]
    },
    {
      "cell_type": "markdown",
      "id": "b2776a0b",
      "metadata": {
        "id": "b2776a0b"
      },
      "source": [
        "### 6.4 CNN - Red Convolucional para Imágenes o Datos Espaciales"
      ]
    },
    {
      "cell_type": "code",
      "execution_count": null,
      "id": "6db01565",
      "metadata": {
        "id": "6db01565"
      },
      "outputs": [],
      "source": [
        "from tensorflow.keras.layers import Conv2D, MaxPooling2D, Flatten\n",
        "from tensorflow.keras.utils import to_categorical\n",
        "\n",
        "# Simular imágenes (100 imágenes, 28x28, 1 canal)\n",
        "X_img = np.random.rand(100, 28, 28, 1)\n",
        "y_img = to_categorical(np.random.randint(0, 3, 100))  # 3 clases\n",
        "\n",
        "model_cnn = Sequential()\n",
        "model_cnn.add(Conv2D(32, kernel_size=(3,3), activation='relu', input_shape=(28,28,1)))\n",
        "model_cnn.add(MaxPooling2D(pool_size=(2,2)))\n",
        "model_cnn.add(Flatten())\n",
        "model_cnn.add(Dense(64, activation='relu'))\n",
        "model_cnn.add(Dense(3, activation='softmax'))\n",
        "\n",
        "model_cnn.compile(optimizer='adam', loss='categorical_crossentropy', metrics=['accuracy'])\n",
        "model_cnn.fit(X_img, y_img, epochs=10, verbose=0)\n",
        "\n",
        "print(\"Modelo CNN entrenado para datos con estructura espacial.\")"
      ]
    },
    {
      "cell_type": "markdown",
      "id": "87cc7b36",
      "metadata": {
        "id": "87cc7b36"
      },
      "source": [
        "**¿Para qué sirve?**\n",
        "\n",
        "- Para imágenes, series espectrales, o cualquier dato con estructura bidimensional\n",
        "- Detecta patrones locales con filtros convolucionales\n"
      ]
    },
    {
      "cell_type": "markdown",
      "id": "6033dc07",
      "metadata": {
        "id": "6033dc07"
      },
      "source": [
        "### 6.5 Uso de EarlyStopping para evitar overfitting"
      ]
    },
    {
      "cell_type": "code",
      "execution_count": null,
      "id": "dcf3fa7b",
      "metadata": {
        "id": "dcf3fa7b"
      },
      "outputs": [],
      "source": [
        "from tensorflow.keras.callbacks import EarlyStopping\n",
        "\n",
        "early_stop = EarlyStopping(monitor='val_loss', patience=5, restore_best_weights=True)\n",
        "\n",
        "model_es = Sequential([\n",
        "    Dense(64, activation='relu', input_shape=(X_train_log.shape[1],)),\n",
        "    Dense(32, activation='relu'),\n",
        "    Dense(y_train_cat.shape[1], activation='softmax')\n",
        "])\n",
        "\n",
        "model_es.compile(optimizer='adam', loss='categorical_crossentropy', metrics=['accuracy'])\n",
        "model_es.fit(X_train_log, y_train_cat, validation_split=0.2, epochs=100, batch_size=32,\n",
        "             callbacks=[early_stop], verbose=0)\n",
        "\n",
        "print(\"Entrenamiento con EarlyStopping finalizado.\")"
      ]
    },
    {
      "cell_type": "markdown",
      "id": "b2674248",
      "metadata": {
        "id": "b2674248"
      },
      "source": [
        "**¿Qué hace EarlyStopping?**\n",
        "\n",
        "- Supervisa el rendimiento en validación\n",
        "- Si no mejora durante varias épocas (`patience`), detiene el entrenamiento\n",
        "- Ahorra tiempo y evita sobreajuste\n"
      ]
    }
  ],
  "metadata": {
    "colab": {
      "provenance": [],
      "include_colab_link": true
    }
  },
  "nbformat": 4,
  "nbformat_minor": 5
}