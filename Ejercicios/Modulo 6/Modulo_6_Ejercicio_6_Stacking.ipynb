{
  "cells": [
    {
      "cell_type": "markdown",
      "metadata": {
        "id": "view-in-github",
        "colab_type": "text"
      },
      "source": [
        "<a href=\"https://colab.research.google.com/github/dtoralg/IE_Calidad_ML/blob/main/Ejercicios/Modulo%206/Modulo_6_Ejercicio_6_Stacking.ipynb\" target=\"_parent\"><img src=\"https://colab.research.google.com/assets/colab-badge.svg\" alt=\"Open In Colab\"/></a>"
      ]
    },
    {
      "cell_type": "markdown",
      "id": "e9421759",
      "metadata": {
        "id": "e9421759"
      },
      "source": [
        "# **Ejercicio 6: Predicción de Fallos con Modelos Híbridos (Stacking)**\n",
        "**Propósito**: Construir un modelo de stacking combinando modelos tradicionales y avanzados para detectar fallos en procesos industriales."
      ]
    },
    {
      "cell_type": "markdown",
      "id": "7faf6ffd",
      "metadata": {
        "id": "7faf6ffd"
      },
      "source": [
        "## Introducción\n",
        "\n",
        "La predicción de fallos en entornos industriales es un reto clave para garantizar la calidad y fiabilidad de los productos. En este ejercicio, abordamos este desafío aplicando una técnica avanzada conocida como **stacking** o **ensamblado jerárquico**.\n",
        "\n",
        "El stacking permite **combinar varios modelos base** (de distinto tipo) y un **modelo meta** (meta-modelo) que aprende a partir de sus predicciones. El objetivo es construir un predictor más robusto, capaz de mejorar el rendimiento frente a modelos individuales.\n",
        "\n",
        "Utilizaremos el **SECOM Manufacturing Data Set**, un conjunto de datos multivariable, complejo y realista, ideal para explorar técnicas de ensemble en problemas de clasificación binaria con ruido y correlaciones espurias.\n",
        "\n",
        "Objetivos del ejercicio:\n",
        "- Entrenar tres modelos base: **Regresión Logística**, **Random Forest**, **MLP**.\n",
        "- Combinar sus predicciones utilizando un **meta-modelo** (XGBoost).\n",
        "- Comparar el rendimiento del stacking frente a los modelos individuales.\n",
        "- Discutir la aplicabilidad del stacking en entornos industriales."
      ]
    },
    {
      "cell_type": "markdown",
      "source": [
        "> ### Recomendación:\n",
        "> Las redes neuronales hacen millones de operaciones matemáticas (multiplicaciones de matrices, derivadas, etc.) durante el entrenamiento. Una CPU puede hacer estas operaciones, pero una GPU está diseñada específicamente para hacerlas en paralelo y mucho más rápido.\n",
        ">\n",
        "> Por ello te recomiendo que para estos ejercicios cambies tu entorno de ejecución en Colab.\n",
        ">\n",
        "> Puedes hacerlo haciendo click en `Entorno de Ejecución` en la barra superior, después `Cambiar tipo de entorno de ejecución` y selecciona `GPU`. Esto hará que tus notebook ejecuten más rápido los cálculos con Deep Learning.\n"
      ],
      "metadata": {
        "id": "5h1OjMhOYu_1"
      },
      "id": "5h1OjMhOYu_1"
    },
    {
      "cell_type": "markdown",
      "source": [
        "\n",
        "**Licencia del dataset:** SECOM Manufacturing Data Set — Fuente: UCI ML Repository, Licencia: [CC BY 4.0](https://creativecommons.org/licenses/by/4.0/)"
      ],
      "metadata": {
        "id": "oIB8EeLHYqfI"
      },
      "id": "oIB8EeLHYqfI"
    },
    {
      "cell_type": "markdown",
      "id": "127e0567",
      "metadata": {
        "id": "127e0567"
      },
      "source": [
        "## Carga de librerías y configuración del entorno"
      ]
    },
    {
      "cell_type": "code",
      "execution_count": null,
      "id": "031f32bf",
      "metadata": {
        "id": "031f32bf"
      },
      "outputs": [],
      "source": [
        "# Celda 1\n",
        "import pandas as pd\n",
        "import numpy as np\n",
        "import matplotlib.pyplot as plt\n",
        "import seaborn as sns\n",
        "\n",
        "from sklearn.model_selection import train_test_split\n",
        "from sklearn.preprocessing import StandardScaler\n",
        "from sklearn.metrics import classification_report, confusion_matrix, f1_score\n",
        "from sklearn.linear_model import LogisticRegression\n",
        "from sklearn.ensemble import RandomForestClassifier\n",
        "from sklearn.neural_network import MLPClassifier\n",
        "from sklearn.ensemble import StackingClassifier\n",
        "\n",
        "from imblearn.over_sampling import SMOTE\n",
        "\n",
        "import requests\n",
        "import zipfile\n",
        "import io\n",
        "\n",
        "from xgboost import XGBClassifier\n",
        "\n",
        "# Estilo visual\n",
        "sns.set(style=\"whitegrid\")\n",
        "plt.rcParams[\"figure.figsize\"] = (10, 6)"
      ]
    },
    {
      "cell_type": "markdown",
      "id": "a1f64220",
      "metadata": {
        "id": "a1f64220"
      },
      "source": [
        "## Descripción del dataset o datos de entrada"
      ]
    },
    {
      "cell_type": "markdown",
      "id": "5ac7adef",
      "metadata": {
        "id": "5ac7adef"
      },
      "source": [
        "El dataset utilizado en este ejercicio es el **SECOM Manufacturing Data Set**, proveniente del UCI Machine Learning Repository.\n",
        "\n",
        "- Contiene mediciones de sensores durante procesos de manufactura electrónica.\n",
        "- Cada fila representa una observación con cientos de variables numéricas.\n",
        "- La variable objetivo es binaria (`1`: fallo, `-1`: sin fallo).\n",
        "\n",
        "Este dataset se caracteriza por su **alta dimensionalidad**, **valores ruidosos** y **presencia de correlaciones espurias**, lo que lo convierte en un buen candidato para evaluar modelos de tipo ensemble como el stacking.\n",
        "\n",
        "Fuente: https://archive.ics.uci.edu/ml/datasets/SECOM"
      ]
    },
    {
      "cell_type": "markdown",
      "id": "2ccadf3a",
      "metadata": {
        "id": "2ccadf3a"
      },
      "source": [
        "## Desarrollo del código paso a paso"
      ]
    },
    {
      "cell_type": "markdown",
      "id": "ae1df4db",
      "metadata": {
        "id": "ae1df4db"
      },
      "source": [
        "**Carga y exploración de los datos**"
      ]
    },
    {
      "cell_type": "code",
      "source": [
        "\n",
        "zip_url = \"https://github.com/dtoralg/IE_Calidad_ML/raw/refs/heads/main/Data/Modulo%206/secom.zip\"\n",
        "\n",
        "# Descargar el zip\n",
        "response = requests.get(zip_url)\n",
        "\n",
        "# Verificar que la descarga fue exitosa\n",
        "if response.status_code == 200:\n",
        "    # Leer el archivo ZIP en memoria\n",
        "    zip_file = zipfile.ZipFile(io.BytesIO(response.content))\n",
        "\n",
        "    # Mostrar el contenido del ZIP\n",
        "    print(\"Archivos contenidos:\")\n",
        "    print(zip_file.namelist())\n",
        "\n",
        "    # Extraer todos los archivos (opcional)\n",
        "    zip_file.extractall(\"secom_data\")  # Carpeta donde se guardarán\n",
        "    print(\"Archivos extraídos en la carpeta 'secom_data'.\")\n",
        "else:\n",
        "    print(\"Error al descargar el archivo:\", response.status_code)\n"
      ],
      "metadata": {
        "id": "syT28_YaNZNq"
      },
      "id": "syT28_YaNZNq",
      "execution_count": null,
      "outputs": []
    },
    {
      "cell_type": "code",
      "execution_count": null,
      "id": "5c47ec13",
      "metadata": {
        "id": "5c47ec13"
      },
      "outputs": [],
      "source": [
        "# Celda 2\n",
        "url_data = '/content/secom_data/secom.data'\n",
        "url_labels = '/content/secom_data/secom_labels.data'\n",
        "\n",
        "# Cargar datos\n",
        "df = pd.read_csv(url_data, sep='\\s+', header=None)\n",
        "labels = pd.read_csv(url_labels, sep='\\s+', header=None)\n",
        "df['target'] = labels[0]\n",
        "df.head()"
      ]
    },
    {
      "cell_type": "markdown",
      "id": "23ad1422",
      "metadata": {
        "id": "23ad1422"
      },
      "source": [
        "**Limpieza de datos y preparación del conjunto de entrenamiento**"
      ]
    },
    {
      "cell_type": "code",
      "execution_count": null,
      "id": "7d1438ef",
      "metadata": {
        "id": "7d1438ef"
      },
      "outputs": [],
      "source": [
        "# Celda 3\n",
        "# Eliminar columnas con demasiados nulos\n",
        "... # eliminar columnas con más del 25% de NaNs\n",
        "\n",
        "# Eliminar filas con valores nulos restantes\n",
        "...\n",
        "\n",
        "# Separar variables predictoras y target\n",
        "X = ...\n",
        "y = ...\n",
        "\n",
        "# Escalar datos\n",
        "...\n",
        "\n",
        "# Separar entrenamiento y test\n",
        "...\n",
        "\n",
        "# Crear y aplicar SMOTE\n",
        "...\n",
        "\n",
        "# Verificar\n",
        "print(\"Dimensiones finales:\", X_train.shape, X_test.shape)\n"
      ]
    },
    {
      "cell_type": "markdown",
      "id": "ff6d2027",
      "metadata": {
        "id": "ff6d2027"
      },
      "source": [
        "**Entrenamiento de modelos individuales (base learners)**"
      ]
    },
    {
      "cell_type": "code",
      "execution_count": null,
      "id": "4fb50e29",
      "metadata": {
        "id": "4fb50e29"
      },
      "outputs": [],
      "source": [
        "# Celda 4\n",
        "# Regresión Logística\n",
        "...\n",
        "\n",
        "# Random Forest\n",
        "...\n",
        "\n",
        "# MLP\n",
        "..."
      ]
    },
    {
      "cell_type": "markdown",
      "id": "7e591afa",
      "metadata": {
        "id": "7e591afa"
      },
      "source": [
        "## Visualización de resultados"
      ]
    },
    {
      "cell_type": "markdown",
      "id": "4e26462d",
      "metadata": {
        "id": "4e26462d"
      },
      "source": [
        "**Evaluación de modelos individuales**"
      ]
    },
    {
      "cell_type": "code",
      "execution_count": null,
      "id": "d1a8e9e9",
      "metadata": {
        "id": "d1a8e9e9"
      },
      "outputs": [],
      "source": [
        "# Celda 5\n",
        "for name, model in [('Logistic Regression', lr), ('Random Forest', rf), ('MLP', mlp)]:\n",
        "    y_pred = model.predict(X_test)\n",
        "    print(f\"--- {name} ---\")\n",
        "    print(classification_report(y_test, y_pred))\n",
        "    print(\"F1 Macro:\", f1_score(y_test, y_pred, average='macro'))\n",
        "    print()"
      ]
    },
    {
      "cell_type": "markdown",
      "id": "7356a323",
      "metadata": {
        "id": "7356a323"
      },
      "source": [
        "**Entrenamiento del modelo Stacking con meta-modelo XGBoost**"
      ]
    },
    {
      "cell_type": "code",
      "execution_count": null,
      "id": "40f5c198",
      "metadata": {
        "id": "40f5c198"
      },
      "outputs": [],
      "source": [
        "# Celda 6\n",
        "# Meta-modelo\n",
        "xgb = XGBClassifier(use_label_encoder=False, eval_metric='logloss', random_state=42)\n",
        "\n",
        "# Definir ensemble stacking\n",
        "stacking = StackingClassifier(\n",
        "    estimators=[\n",
        "        ('lr', lr),\n",
        "        ('rf', rf),\n",
        "        ('mlp', mlp)\n",
        "    ],\n",
        "    final_estimator=xgb,\n",
        "    cv=5\n",
        ")\n",
        "\n",
        "# Entrenar ensemble\n",
        "stacking.fit(X_train, y_train)"
      ]
    },
    {
      "cell_type": "code",
      "execution_count": null,
      "id": "61727953",
      "metadata": {
        "id": "61727953"
      },
      "outputs": [],
      "source": [
        "# Celda 7\n",
        "y_pred_stack = stacking.predict(X_test)\n",
        "print(\"--- Modelo Stacking ---\")\n",
        "print(... ) # Classification Report\n",
        "print(\"F1 Macro:\", f1_score(... ))"
      ]
    },
    {
      "cell_type": "markdown",
      "id": "d8331fdb",
      "metadata": {
        "id": "d8331fdb"
      },
      "source": [
        "## Conclusiones"
      ]
    },
    {
      "cell_type": "markdown",
      "id": "e4de1399",
      "metadata": {
        "id": "e4de1399"
      },
      "source": [
        "..."
      ]
    },
    {
      "cell_type": "markdown",
      "id": "d8b591d6",
      "metadata": {
        "id": "d8b591d6"
      },
      "source": [
        "## Próximos pasos"
      ]
    },
    {
      "cell_type": "markdown",
      "id": "0684961d",
      "metadata": {
        "id": "0684961d"
      },
      "source": [
        "- Realizar selección de variables para reducir dimensionalidad antes de aplicar stacking.\n",
        "- Implementar versiones avanzadas con validación interna y meta-predicciones.\n",
        "- Probar meta-modelos distintos como LogisticRegression para evaluar su impacto.\n"
      ]
    }
  ],
  "metadata": {
    "colab": {
      "provenance": [],
      "include_colab_link": true
    },
    "language_info": {
      "name": "python"
    },
    "kernelspec": {
      "name": "python3",
      "display_name": "Python 3"
    }
  },
  "nbformat": 4,
  "nbformat_minor": 5
}