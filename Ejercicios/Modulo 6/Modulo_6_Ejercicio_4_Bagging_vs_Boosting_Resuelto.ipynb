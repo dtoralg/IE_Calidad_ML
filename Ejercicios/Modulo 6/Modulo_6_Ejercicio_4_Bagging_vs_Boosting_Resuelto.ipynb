{
  "cells": [
    {
      "cell_type": "markdown",
      "metadata": {
        "id": "view-in-github",
        "colab_type": "text"
      },
      "source": [
        "<a href=\"https://colab.research.google.com/github/dtoralg/IE_Calidad_ML/blob/main/Ejercicios/Modulo%206/Modulo_6_Ejercicio_4_Bagging_vs_Boosting_Resuelto.ipynb\" target=\"_parent\"><img src=\"https://colab.research.google.com/assets/colab-badge.svg\" alt=\"Open In Colab\"/></a>"
      ]
    },
    {
      "cell_type": "markdown",
      "id": "3487b8ad",
      "metadata": {
        "id": "3487b8ad"
      },
      "source": [
        "# **Ejercicio 4: Bagging vs Boosting — Comparativa con Datos Ruidosos**\n",
        "**Propósito**: Evaluar la robustez de modelos ensemble (Random Forest vs XGBoost) ante la presencia de ruido en datos industriales reales."
      ]
    },
    {
      "cell_type": "markdown",
      "id": "605cd680",
      "metadata": {
        "id": "605cd680"
      },
      "source": [
        "## Introducción\n",
        "\n",
        "En este ejercicio evaluaremos la **robustez de técnicas de ensamblado (ensemble)** en presencia de datos ruidosos utilizando un dataset real del entorno de fabricación industrial. Compararemos dos enfoques:\n",
        "\n",
        "- **Bagging** mediante `RandomForestClassifier`.\n",
        "- **Boosting** mediante `XGBClassifier`.\n",
        "\n",
        "Trabajaremos con el **SECOM Manufacturing Data Set**, que contiene mediciones de sensores con alta correlación espuria y ruido inherente.\n",
        "\n",
        "Objetivos principales:\n",
        "\n",
        "- Introducir **ruido artificial** y comparar el rendimiento de los modelos con y sin ruido.\n",
        "- Evaluar métricas clave: **F1 Macro** y **recall por clase**.\n",
        "- Discutir resultados en términos de **robustez** y **bias-variance tradeoff**.\n"
      ]
    },
    {
      "cell_type": "markdown",
      "source": [
        "\n",
        "> ### Recomendación:\n",
        "> Las redes neuronales hacen millones de operaciones matemáticas (multiplicaciones de matrices, derivadas, etc.) durante el entrenamiento. Una CPU puede hacer estas operaciones, pero una GPU está diseñada específicamente para hacerlas en paralelo y mucho más rápido.\n",
        ">\n",
        "> Por ello te recomiendo que para estos ejercicios cambies tu entorno de ejecución en Colab.\n",
        ">\n",
        "> Puedes hacerlo haciendo click en `Entorno de Ejecución` en la barra superior, después `Cambiar tipo de entorno de ejecución` y selecciona `GPU`. Esto hará que tus notebook ejecuten más rápido los cálculos con Deep Learning.\n"
      ],
      "metadata": {
        "id": "yssizow_W2eW"
      },
      "id": "yssizow_W2eW"
    },
    {
      "cell_type": "markdown",
      "id": "3e451077",
      "metadata": {
        "id": "3e451077"
      },
      "source": [
        "## Carga de librerías y configuración del entorno"
      ]
    },
    {
      "cell_type": "code",
      "execution_count": 1,
      "id": "a3f54c6d",
      "metadata": {
        "id": "a3f54c6d"
      },
      "outputs": [],
      "source": [
        "import pandas as pd\n",
        "import numpy as np\n",
        "import matplotlib.pyplot as plt\n",
        "import seaborn as sns\n",
        "from sklearn.model_selection import train_test_split\n",
        "from sklearn.ensemble import RandomForestClassifier\n",
        "from xgboost import XGBClassifier\n",
        "from sklearn.metrics import f1_score, recall_score\n",
        "from sklearn.preprocessing import StandardScaler\n",
        "from imblearn.over_sampling import SMOTE\n",
        "import requests\n",
        "import zipfile\n",
        "import io\n",
        "\n",
        "# Estilo gráfico\n",
        "sns.set(style='whitegrid')\n",
        "plt.rcParams['figure.figsize'] = (10, 6)"
      ]
    },
    {
      "cell_type": "markdown",
      "source": [
        "## Descripción del dataset: SECOM Manufacturing Data Set"
      ],
      "metadata": {
        "id": "L4wPIKpGazD9"
      },
      "id": "L4wPIKpGazD9"
    },
    {
      "cell_type": "markdown",
      "source": [
        "**Fuente**: UCI Machine Learning Repository  \n",
        "https://archive.ics.uci.edu/ml/datasets/SECOM\n",
        "\n",
        "Este conjunto de datos fue recogido en un entorno real de fabricación de semiconductores y contiene:\n",
        "- 1567 observaciones.\n",
        "- 590 variables medidas por sensores.\n",
        "- 1 variable objetivo binaria: `1` (producto defectuoso) / `-1` (producto correcto)."
      ],
      "metadata": {
        "id": "EMUuJAA5axwM"
      },
      "id": "EMUuJAA5axwM"
    },
    {
      "cell_type": "markdown",
      "source": [
        "**Licencia del dataset:** SECOM Manufacturing Data Set — Fuente: UCI ML Repository, Licencia: [CC BY 4.0](https://creativecommons.org/licenses/by/4.0/)"
      ],
      "metadata": {
        "id": "XHac2hsXW4xF"
      },
      "id": "XHac2hsXW4xF"
    },
    {
      "cell_type": "markdown",
      "source": [
        "## Carga y preparación de datos"
      ],
      "metadata": {
        "id": "6n5LESqGa3uI"
      },
      "id": "6n5LESqGa3uI"
    },
    {
      "cell_type": "code",
      "source": [
        "zip_url = \"https://github.com/dtoralg/IE_Calidad_ML/raw/refs/heads/main/Data/Modulo%206/secom.zip\"\n",
        "\n",
        "# Descargar el zip\n",
        "response = requests.get(zip_url)\n",
        "\n",
        "# Verificar que la descarga fue exitosa\n",
        "if response.status_code == 200:\n",
        "    # Leer el archivo ZIP en memoria\n",
        "    zip_file = zipfile.ZipFile(io.BytesIO(response.content))\n",
        "\n",
        "    # Mostrar el contenido del ZIP\n",
        "    print(\"Archivos contenidos:\")\n",
        "    print(zip_file.namelist())\n",
        "\n",
        "    # Extraer todos los archivos (opcional)\n",
        "    zip_file.extractall(\"secom_data\")  # Carpeta donde se guardarán\n",
        "    print(\"Archivos extraídos en la carpeta 'secom_data'.\")\n",
        "else:\n",
        "    print(\"Error al descargar el archivo:\", response.status_code)"
      ],
      "metadata": {
        "colab": {
          "base_uri": "https://localhost:8080/"
        },
        "id": "1M_1863_a1sS",
        "outputId": "96fa8ecc-4e31-4087-ec5b-b1c0c6395cfb"
      },
      "id": "1M_1863_a1sS",
      "execution_count": 2,
      "outputs": [
        {
          "output_type": "stream",
          "name": "stdout",
          "text": [
            "Archivos contenidos:\n",
            "['secom.data', 'secom.names', 'secom_labels.data']\n",
            "Archivos extraídos en la carpeta 'secom_data'.\n"
          ]
        }
      ]
    },
    {
      "cell_type": "code",
      "source": [
        "# Cargar datos desde archivos locales\n",
        "data_path = '/content/secom_data/secom.data'\n",
        "labels_path = '/content/secom_data/secom_labels.data'\n",
        "\n",
        "features_df = pd.read_csv(data_path, sep='\\s+', header=None)\n",
        "labels_df = pd.read_csv(labels_path, sep='\\s+', header=None, names=[\"label\", \"timestamp\"])\n",
        "\n",
        "# Fusionar y preparar dataset\n",
        "df = pd.concat([features_df, labels_df[\"label\"]], axis=1)\n",
        "df.dropna(axis=1, thresh=800, inplace=True)  # columnas con demasiados NaNs\n",
        "df.fillna(df.median(numeric_only=True), inplace=True)  # imputación\n",
        "\n",
        "# Separar variables y objetivo\n",
        "X = df.drop(columns=[\"label\"])\n",
        "y = df[\"label\"].replace({-1: 0, 1: 1})\n",
        "\n",
        "# Escalar\n",
        "scaler = StandardScaler()\n",
        "X_scaled = scaler.fit_transform(X)\n",
        "\n",
        "# Dividir\n",
        "X_train, X_test, y_train, y_test = train_test_split(X_scaled, y, test_size=0.3, stratify=y, random_state=42)\n",
        "\n",
        "print(\"Distribución de clases en train:\", y_train.value_counts().to_dict())"
      ],
      "metadata": {
        "colab": {
          "base_uri": "https://localhost:8080/"
        },
        "id": "Z027cEQsa-Th",
        "outputId": "85a491d6-0d07-4e0d-d946-fa3467d97c71"
      },
      "id": "Z027cEQsa-Th",
      "execution_count": 3,
      "outputs": [
        {
          "output_type": "stream",
          "name": "stdout",
          "text": [
            "Distribución de clases en train: {0: 1023, 1: 73}\n"
          ]
        }
      ]
    },
    {
      "cell_type": "markdown",
      "id": "55bbd010",
      "metadata": {
        "id": "55bbd010"
      },
      "source": [
        "## Estrategias para tratar el desbalanceo de clases"
      ]
    },
    {
      "cell_type": "markdown",
      "id": "6f3d278e",
      "metadata": {
        "id": "6f3d278e"
      },
      "source": [
        "La clase `1` (productos defectuosos) representa una proporción muy pequeña del dataset.  \n",
        "Para mejorar el rendimiento del modelo en esta clase minoritaria, aplicaremos técnicas de balanceo:\n",
        "\n",
        "- **SMOTE (Synthetic Minority Over-sampling Technique)**: genera ejemplos sintéticos de la clase minoritaria.\n",
        "- **Ajuste de pesos en los modelos**: se le da mayor peso a la clase minoritaria para penalizar más sus errores.\n"
      ]
    },
    {
      "cell_type": "code",
      "execution_count": 4,
      "id": "629226c6",
      "metadata": {
        "colab": {
          "base_uri": "https://localhost:8080/"
        },
        "id": "629226c6",
        "outputId": "a27dc8b0-dffa-4445-be7a-41a139942d7e"
      },
      "outputs": [
        {
          "output_type": "stream",
          "name": "stdout",
          "text": [
            "Distribución tras SMOTE: {0: 1023, 1: 1023}\n"
          ]
        }
      ],
      "source": [
        "# Aplicar SMOTE solo sobre el conjunto de entrenamiento\n",
        "smote = SMOTE(random_state=42)\n",
        "X_train_balanced, y_train_balanced = smote.fit_resample(X_train, y_train)\n",
        "\n",
        "# También aplicamos ruido al conjunto balanceado para identificar que modelo se comporta mejor\n",
        "np.random.seed(42)\n",
        "noise_bal = np.random.normal(loc=0, scale=0.5, size=X_train_balanced.shape)\n",
        "X_train_balanced_noisy = X_train_balanced + noise_bal\n",
        "\n",
        "# Mostrar nueva distribución\n",
        "print(\"Distribución tras SMOTE:\", pd.Series(y_train_balanced).value_counts().to_dict())"
      ]
    },
    {
      "cell_type": "markdown",
      "id": "0e22b6c5",
      "metadata": {
        "id": "0e22b6c5"
      },
      "source": [
        "## Reentrenamiento con datos balanceados (SMOTE)"
      ]
    },
    {
      "cell_type": "code",
      "execution_count": 5,
      "id": "b999ab2a",
      "metadata": {
        "colab": {
          "base_uri": "https://localhost:8080/"
        },
        "id": "b999ab2a",
        "outputId": "1e4d9e11-d1be-4b26-86ba-733f6eb1d211"
      },
      "outputs": [
        {
          "output_type": "stream",
          "name": "stderr",
          "text": [
            "/usr/local/lib/python3.11/dist-packages/xgboost/core.py:158: UserWarning: [14:17:01] WARNING: /workspace/src/learner.cc:740: \n",
            "Parameters: { \"use_label_encoder\" } are not used.\n",
            "\n",
            "  warnings.warn(smsg, UserWarning)\n"
          ]
        }
      ],
      "source": [
        "# Random Forest con SMOTE\n",
        "rf_smote = RandomForestClassifier(random_state=42)\n",
        "rf_smote.fit(X_train_balanced, y_train_balanced)\n",
        "y_pred_rf_smote = rf_smote.predict(X_test)\n",
        "\n",
        "# XGBoost con SMOTE\n",
        "xgb_smote = XGBClassifier(random_state=42, use_label_encoder=False, eval_metric='logloss')\n",
        "xgb_smote.fit(X_train_balanced, y_train_balanced)\n",
        "y_pred_xgb_smote = xgb_smote.predict(X_test)\n",
        "\n",
        "# Métricas\n",
        "f1_rf_smote = f1_score(y_test, y_pred_rf_smote, average='macro')\n",
        "f1_xgb_smote = f1_score(y_test, y_pred_xgb_smote, average='macro')\n",
        "recall_rf_smote = recall_score(y_test, y_pred_rf_smote, average=None)\n",
        "recall_xgb_smote = recall_score(y_test, y_pred_xgb_smote, average=None)"
      ]
    },
    {
      "cell_type": "code",
      "execution_count": 6,
      "id": "450d6b4c",
      "metadata": {
        "colab": {
          "base_uri": "https://localhost:8080/"
        },
        "id": "450d6b4c",
        "outputId": "ac80a90a-0890-4fe9-be75-de889d879e2c"
      },
      "outputs": [
        {
          "output_type": "stream",
          "name": "stderr",
          "text": [
            "/usr/local/lib/python3.11/dist-packages/xgboost/core.py:158: UserWarning: [14:17:10] WARNING: /workspace/src/learner.cc:740: \n",
            "Parameters: { \"use_label_encoder\" } are not used.\n",
            "\n",
            "  warnings.warn(smsg, UserWarning)\n"
          ]
        }
      ],
      "source": [
        "# Random Forest con SMOTE + ruido\n",
        "rf_smote_noisy = RandomForestClassifier(random_state=42)\n",
        "rf_smote_noisy.fit(X_train_balanced_noisy, y_train_balanced)\n",
        "y_pred_rf_smote_noisy = rf_smote_noisy.predict(X_test)\n",
        "\n",
        "# XGBoost con SMOTE + ruido\n",
        "xgb_smote_noisy = XGBClassifier(random_state=42, use_label_encoder=False, eval_metric='logloss')\n",
        "xgb_smote_noisy.fit(X_train_balanced_noisy, y_train_balanced)\n",
        "y_pred_xgb_smote_noisy = xgb_smote_noisy.predict(X_test)\n",
        "\n",
        "# Métricas\n",
        "f1_rf_smote_noisy = f1_score(y_test, y_pred_rf_smote_noisy, average='macro')\n",
        "f1_xgb_smote_noisy = f1_score(y_test, y_pred_xgb_smote_noisy, average='macro')\n",
        "recall_rf_smote_noisy = recall_score(y_test, y_pred_rf_smote_noisy, average=None)\n",
        "recall_xgb_smote_noisy = recall_score(y_test, y_pred_xgb_smote_noisy, average=None)"
      ]
    },
    {
      "cell_type": "markdown",
      "id": "a94d5389",
      "metadata": {
        "id": "a94d5389"
      },
      "source": [
        "## Comparación de resultados con técnicas de balanceo"
      ]
    },
    {
      "cell_type": "code",
      "execution_count": 7,
      "id": "86ba014f",
      "metadata": {
        "colab": {
          "base_uri": "https://localhost:8080/",
          "height": 175
        },
        "id": "86ba014f",
        "outputId": "a1cc80a8-04bf-4b6d-ae95-297484b46d52"
      },
      "outputs": [
        {
          "output_type": "execute_result",
          "data": {
            "text/plain": [
              "                          Modelo  F1 Macro  Recall Clase 0  Recall Clase 1\n",
              "0          Random Forest (SMOTE)  0.482986        1.000000        0.000000\n",
              "1                XGBoost (SMOTE)  0.563954        0.993182        0.096774\n",
              "2  Random Forest (SMOTE + Ruido)  0.574526        0.906818        0.290323\n",
              "3        XGBoost (SMOTE + Ruido)  0.624042        0.931818        0.354839"
            ],
            "text/html": [
              "\n",
              "  <div id=\"df-9f8a3bb0-5dee-45f0-ac81-5013865be609\" class=\"colab-df-container\">\n",
              "    <div>\n",
              "<style scoped>\n",
              "    .dataframe tbody tr th:only-of-type {\n",
              "        vertical-align: middle;\n",
              "    }\n",
              "\n",
              "    .dataframe tbody tr th {\n",
              "        vertical-align: top;\n",
              "    }\n",
              "\n",
              "    .dataframe thead th {\n",
              "        text-align: right;\n",
              "    }\n",
              "</style>\n",
              "<table border=\"1\" class=\"dataframe\">\n",
              "  <thead>\n",
              "    <tr style=\"text-align: right;\">\n",
              "      <th></th>\n",
              "      <th>Modelo</th>\n",
              "      <th>F1 Macro</th>\n",
              "      <th>Recall Clase 0</th>\n",
              "      <th>Recall Clase 1</th>\n",
              "    </tr>\n",
              "  </thead>\n",
              "  <tbody>\n",
              "    <tr>\n",
              "      <th>0</th>\n",
              "      <td>Random Forest (SMOTE)</td>\n",
              "      <td>0.482986</td>\n",
              "      <td>1.000000</td>\n",
              "      <td>0.000000</td>\n",
              "    </tr>\n",
              "    <tr>\n",
              "      <th>1</th>\n",
              "      <td>XGBoost (SMOTE)</td>\n",
              "      <td>0.563954</td>\n",
              "      <td>0.993182</td>\n",
              "      <td>0.096774</td>\n",
              "    </tr>\n",
              "    <tr>\n",
              "      <th>2</th>\n",
              "      <td>Random Forest (SMOTE + Ruido)</td>\n",
              "      <td>0.574526</td>\n",
              "      <td>0.906818</td>\n",
              "      <td>0.290323</td>\n",
              "    </tr>\n",
              "    <tr>\n",
              "      <th>3</th>\n",
              "      <td>XGBoost (SMOTE + Ruido)</td>\n",
              "      <td>0.624042</td>\n",
              "      <td>0.931818</td>\n",
              "      <td>0.354839</td>\n",
              "    </tr>\n",
              "  </tbody>\n",
              "</table>\n",
              "</div>\n",
              "    <div class=\"colab-df-buttons\">\n",
              "\n",
              "  <div class=\"colab-df-container\">\n",
              "    <button class=\"colab-df-convert\" onclick=\"convertToInteractive('df-9f8a3bb0-5dee-45f0-ac81-5013865be609')\"\n",
              "            title=\"Convert this dataframe to an interactive table.\"\n",
              "            style=\"display:none;\">\n",
              "\n",
              "  <svg xmlns=\"http://www.w3.org/2000/svg\" height=\"24px\" viewBox=\"0 -960 960 960\">\n",
              "    <path d=\"M120-120v-720h720v720H120Zm60-500h600v-160H180v160Zm220 220h160v-160H400v160Zm0 220h160v-160H400v160ZM180-400h160v-160H180v160Zm440 0h160v-160H620v160ZM180-180h160v-160H180v160Zm440 0h160v-160H620v160Z\"/>\n",
              "  </svg>\n",
              "    </button>\n",
              "\n",
              "  <style>\n",
              "    .colab-df-container {\n",
              "      display:flex;\n",
              "      gap: 12px;\n",
              "    }\n",
              "\n",
              "    .colab-df-convert {\n",
              "      background-color: #E8F0FE;\n",
              "      border: none;\n",
              "      border-radius: 50%;\n",
              "      cursor: pointer;\n",
              "      display: none;\n",
              "      fill: #1967D2;\n",
              "      height: 32px;\n",
              "      padding: 0 0 0 0;\n",
              "      width: 32px;\n",
              "    }\n",
              "\n",
              "    .colab-df-convert:hover {\n",
              "      background-color: #E2EBFA;\n",
              "      box-shadow: 0px 1px 2px rgba(60, 64, 67, 0.3), 0px 1px 3px 1px rgba(60, 64, 67, 0.15);\n",
              "      fill: #174EA6;\n",
              "    }\n",
              "\n",
              "    .colab-df-buttons div {\n",
              "      margin-bottom: 4px;\n",
              "    }\n",
              "\n",
              "    [theme=dark] .colab-df-convert {\n",
              "      background-color: #3B4455;\n",
              "      fill: #D2E3FC;\n",
              "    }\n",
              "\n",
              "    [theme=dark] .colab-df-convert:hover {\n",
              "      background-color: #434B5C;\n",
              "      box-shadow: 0px 1px 3px 1px rgba(0, 0, 0, 0.15);\n",
              "      filter: drop-shadow(0px 1px 2px rgba(0, 0, 0, 0.3));\n",
              "      fill: #FFFFFF;\n",
              "    }\n",
              "  </style>\n",
              "\n",
              "    <script>\n",
              "      const buttonEl =\n",
              "        document.querySelector('#df-9f8a3bb0-5dee-45f0-ac81-5013865be609 button.colab-df-convert');\n",
              "      buttonEl.style.display =\n",
              "        google.colab.kernel.accessAllowed ? 'block' : 'none';\n",
              "\n",
              "      async function convertToInteractive(key) {\n",
              "        const element = document.querySelector('#df-9f8a3bb0-5dee-45f0-ac81-5013865be609');\n",
              "        const dataTable =\n",
              "          await google.colab.kernel.invokeFunction('convertToInteractive',\n",
              "                                                    [key], {});\n",
              "        if (!dataTable) return;\n",
              "\n",
              "        const docLinkHtml = 'Like what you see? Visit the ' +\n",
              "          '<a target=\"_blank\" href=https://colab.research.google.com/notebooks/data_table.ipynb>data table notebook</a>'\n",
              "          + ' to learn more about interactive tables.';\n",
              "        element.innerHTML = '';\n",
              "        dataTable['output_type'] = 'display_data';\n",
              "        await google.colab.output.renderOutput(dataTable, element);\n",
              "        const docLink = document.createElement('div');\n",
              "        docLink.innerHTML = docLinkHtml;\n",
              "        element.appendChild(docLink);\n",
              "      }\n",
              "    </script>\n",
              "  </div>\n",
              "\n",
              "\n",
              "    <div id=\"df-217b93a5-29e9-4b54-a6ef-fe1df6c70fa7\">\n",
              "      <button class=\"colab-df-quickchart\" onclick=\"quickchart('df-217b93a5-29e9-4b54-a6ef-fe1df6c70fa7')\"\n",
              "                title=\"Suggest charts\"\n",
              "                style=\"display:none;\">\n",
              "\n",
              "<svg xmlns=\"http://www.w3.org/2000/svg\" height=\"24px\"viewBox=\"0 0 24 24\"\n",
              "     width=\"24px\">\n",
              "    <g>\n",
              "        <path d=\"M19 3H5c-1.1 0-2 .9-2 2v14c0 1.1.9 2 2 2h14c1.1 0 2-.9 2-2V5c0-1.1-.9-2-2-2zM9 17H7v-7h2v7zm4 0h-2V7h2v10zm4 0h-2v-4h2v4z\"/>\n",
              "    </g>\n",
              "</svg>\n",
              "      </button>\n",
              "\n",
              "<style>\n",
              "  .colab-df-quickchart {\n",
              "      --bg-color: #E8F0FE;\n",
              "      --fill-color: #1967D2;\n",
              "      --hover-bg-color: #E2EBFA;\n",
              "      --hover-fill-color: #174EA6;\n",
              "      --disabled-fill-color: #AAA;\n",
              "      --disabled-bg-color: #DDD;\n",
              "  }\n",
              "\n",
              "  [theme=dark] .colab-df-quickchart {\n",
              "      --bg-color: #3B4455;\n",
              "      --fill-color: #D2E3FC;\n",
              "      --hover-bg-color: #434B5C;\n",
              "      --hover-fill-color: #FFFFFF;\n",
              "      --disabled-bg-color: #3B4455;\n",
              "      --disabled-fill-color: #666;\n",
              "  }\n",
              "\n",
              "  .colab-df-quickchart {\n",
              "    background-color: var(--bg-color);\n",
              "    border: none;\n",
              "    border-radius: 50%;\n",
              "    cursor: pointer;\n",
              "    display: none;\n",
              "    fill: var(--fill-color);\n",
              "    height: 32px;\n",
              "    padding: 0;\n",
              "    width: 32px;\n",
              "  }\n",
              "\n",
              "  .colab-df-quickchart:hover {\n",
              "    background-color: var(--hover-bg-color);\n",
              "    box-shadow: 0 1px 2px rgba(60, 64, 67, 0.3), 0 1px 3px 1px rgba(60, 64, 67, 0.15);\n",
              "    fill: var(--button-hover-fill-color);\n",
              "  }\n",
              "\n",
              "  .colab-df-quickchart-complete:disabled,\n",
              "  .colab-df-quickchart-complete:disabled:hover {\n",
              "    background-color: var(--disabled-bg-color);\n",
              "    fill: var(--disabled-fill-color);\n",
              "    box-shadow: none;\n",
              "  }\n",
              "\n",
              "  .colab-df-spinner {\n",
              "    border: 2px solid var(--fill-color);\n",
              "    border-color: transparent;\n",
              "    border-bottom-color: var(--fill-color);\n",
              "    animation:\n",
              "      spin 1s steps(1) infinite;\n",
              "  }\n",
              "\n",
              "  @keyframes spin {\n",
              "    0% {\n",
              "      border-color: transparent;\n",
              "      border-bottom-color: var(--fill-color);\n",
              "      border-left-color: var(--fill-color);\n",
              "    }\n",
              "    20% {\n",
              "      border-color: transparent;\n",
              "      border-left-color: var(--fill-color);\n",
              "      border-top-color: var(--fill-color);\n",
              "    }\n",
              "    30% {\n",
              "      border-color: transparent;\n",
              "      border-left-color: var(--fill-color);\n",
              "      border-top-color: var(--fill-color);\n",
              "      border-right-color: var(--fill-color);\n",
              "    }\n",
              "    40% {\n",
              "      border-color: transparent;\n",
              "      border-right-color: var(--fill-color);\n",
              "      border-top-color: var(--fill-color);\n",
              "    }\n",
              "    60% {\n",
              "      border-color: transparent;\n",
              "      border-right-color: var(--fill-color);\n",
              "    }\n",
              "    80% {\n",
              "      border-color: transparent;\n",
              "      border-right-color: var(--fill-color);\n",
              "      border-bottom-color: var(--fill-color);\n",
              "    }\n",
              "    90% {\n",
              "      border-color: transparent;\n",
              "      border-bottom-color: var(--fill-color);\n",
              "    }\n",
              "  }\n",
              "</style>\n",
              "\n",
              "      <script>\n",
              "        async function quickchart(key) {\n",
              "          const quickchartButtonEl =\n",
              "            document.querySelector('#' + key + ' button');\n",
              "          quickchartButtonEl.disabled = true;  // To prevent multiple clicks.\n",
              "          quickchartButtonEl.classList.add('colab-df-spinner');\n",
              "          try {\n",
              "            const charts = await google.colab.kernel.invokeFunction(\n",
              "                'suggestCharts', [key], {});\n",
              "          } catch (error) {\n",
              "            console.error('Error during call to suggestCharts:', error);\n",
              "          }\n",
              "          quickchartButtonEl.classList.remove('colab-df-spinner');\n",
              "          quickchartButtonEl.classList.add('colab-df-quickchart-complete');\n",
              "        }\n",
              "        (() => {\n",
              "          let quickchartButtonEl =\n",
              "            document.querySelector('#df-217b93a5-29e9-4b54-a6ef-fe1df6c70fa7 button');\n",
              "          quickchartButtonEl.style.display =\n",
              "            google.colab.kernel.accessAllowed ? 'block' : 'none';\n",
              "        })();\n",
              "      </script>\n",
              "    </div>\n",
              "\n",
              "  <div id=\"id_6ded2104-d95d-4cc0-ae67-c6078c66400e\">\n",
              "    <style>\n",
              "      .colab-df-generate {\n",
              "        background-color: #E8F0FE;\n",
              "        border: none;\n",
              "        border-radius: 50%;\n",
              "        cursor: pointer;\n",
              "        display: none;\n",
              "        fill: #1967D2;\n",
              "        height: 32px;\n",
              "        padding: 0 0 0 0;\n",
              "        width: 32px;\n",
              "      }\n",
              "\n",
              "      .colab-df-generate:hover {\n",
              "        background-color: #E2EBFA;\n",
              "        box-shadow: 0px 1px 2px rgba(60, 64, 67, 0.3), 0px 1px 3px 1px rgba(60, 64, 67, 0.15);\n",
              "        fill: #174EA6;\n",
              "      }\n",
              "\n",
              "      [theme=dark] .colab-df-generate {\n",
              "        background-color: #3B4455;\n",
              "        fill: #D2E3FC;\n",
              "      }\n",
              "\n",
              "      [theme=dark] .colab-df-generate:hover {\n",
              "        background-color: #434B5C;\n",
              "        box-shadow: 0px 1px 3px 1px rgba(0, 0, 0, 0.15);\n",
              "        filter: drop-shadow(0px 1px 2px rgba(0, 0, 0, 0.3));\n",
              "        fill: #FFFFFF;\n",
              "      }\n",
              "    </style>\n",
              "    <button class=\"colab-df-generate\" onclick=\"generateWithVariable('results_df_bal')\"\n",
              "            title=\"Generate code using this dataframe.\"\n",
              "            style=\"display:none;\">\n",
              "\n",
              "  <svg xmlns=\"http://www.w3.org/2000/svg\" height=\"24px\"viewBox=\"0 0 24 24\"\n",
              "       width=\"24px\">\n",
              "    <path d=\"M7,19H8.4L18.45,9,17,7.55,7,17.6ZM5,21V16.75L18.45,3.32a2,2,0,0,1,2.83,0l1.4,1.43a1.91,1.91,0,0,1,.58,1.4,1.91,1.91,0,0,1-.58,1.4L9.25,21ZM18.45,9,17,7.55Zm-12,3A5.31,5.31,0,0,0,4.9,8.1,5.31,5.31,0,0,0,1,6.5,5.31,5.31,0,0,0,4.9,4.9,5.31,5.31,0,0,0,6.5,1,5.31,5.31,0,0,0,8.1,4.9,5.31,5.31,0,0,0,12,6.5,5.46,5.46,0,0,0,6.5,12Z\"/>\n",
              "  </svg>\n",
              "    </button>\n",
              "    <script>\n",
              "      (() => {\n",
              "      const buttonEl =\n",
              "        document.querySelector('#id_6ded2104-d95d-4cc0-ae67-c6078c66400e button.colab-df-generate');\n",
              "      buttonEl.style.display =\n",
              "        google.colab.kernel.accessAllowed ? 'block' : 'none';\n",
              "\n",
              "      buttonEl.onclick = () => {\n",
              "        google.colab.notebook.generateWithVariable('results_df_bal');\n",
              "      }\n",
              "      })();\n",
              "    </script>\n",
              "  </div>\n",
              "\n",
              "    </div>\n",
              "  </div>\n"
            ],
            "application/vnd.google.colaboratory.intrinsic+json": {
              "type": "dataframe",
              "variable_name": "results_df_bal",
              "summary": "{\n  \"name\": \"results_df_bal\",\n  \"rows\": 4,\n  \"fields\": [\n    {\n      \"column\": \"Modelo\",\n      \"properties\": {\n        \"dtype\": \"string\",\n        \"num_unique_values\": 4,\n        \"samples\": [\n          \"XGBoost (SMOTE)\",\n          \"XGBoost (SMOTE + Ruido)\",\n          \"Random Forest (SMOTE)\"\n        ],\n        \"semantic_type\": \"\",\n        \"description\": \"\"\n      }\n    },\n    {\n      \"column\": \"F1 Macro\",\n      \"properties\": {\n        \"dtype\": \"number\",\n        \"std\": 0.05845694189801333,\n        \"min\": 0.4829857299670692,\n        \"max\": 0.6240421455938697,\n        \"num_unique_values\": 4,\n        \"samples\": [\n          0.5639540092578766,\n          0.6240421455938697,\n          0.4829857299670692\n        ],\n        \"semantic_type\": \"\",\n        \"description\": \"\"\n      }\n    },\n    {\n      \"column\": \"Recall Clase 0\",\n      \"properties\": {\n        \"dtype\": \"number\",\n        \"std\": 0.04585054773143639,\n        \"min\": 0.9068181818181819,\n        \"max\": 1.0,\n        \"num_unique_values\": 4,\n        \"samples\": [\n          0.9931818181818182,\n          0.9318181818181818,\n          1.0\n        ],\n        \"semantic_type\": \"\",\n        \"description\": \"\"\n      }\n    },\n    {\n      \"column\": \"Recall Clase 1\",\n      \"properties\": {\n        \"dtype\": \"number\",\n        \"std\": 0.16527339945096128,\n        \"min\": 0.0,\n        \"max\": 0.3548387096774194,\n        \"num_unique_values\": 4,\n        \"samples\": [\n          0.0967741935483871,\n          0.3548387096774194,\n          0.0\n        ],\n        \"semantic_type\": \"\",\n        \"description\": \"\"\n      }\n    }\n  ]\n}"
            }
          },
          "metadata": {},
          "execution_count": 7
        }
      ],
      "source": [
        "# Añadir nuevos resultados\n",
        "results_df_bal = pd.DataFrame({\n",
        "    \"Modelo\": [\n",
        "        \"Random Forest (SMOTE)\", \"XGBoost (SMOTE)\",\n",
        "        \"Random Forest (SMOTE + Ruido)\", \"XGBoost (SMOTE + Ruido)\"\n",
        "    ],\n",
        "    \"F1 Macro\": [f1_rf_smote, f1_xgb_smote, f1_rf_smote_noisy, f1_xgb_smote_noisy],\n",
        "    \"Recall Clase 0\": [recall_rf_smote[0], recall_xgb_smote[0], recall_rf_smote_noisy[0], recall_xgb_smote_noisy[0]],\n",
        "    \"Recall Clase 1\": [recall_rf_smote[1], recall_xgb_smote[1], recall_rf_smote_noisy[1], recall_xgb_smote_noisy[1]]\n",
        "})\n",
        "\n",
        "\n",
        "results_df_bal"
      ]
    },
    {
      "cell_type": "markdown",
      "id": "599b1d43",
      "metadata": {
        "id": "599b1d43"
      },
      "source": [
        "## Conclusiones"
      ]
    },
    {
      "cell_type": "markdown",
      "id": "11437bf7",
      "metadata": {
        "id": "11437bf7"
      },
      "source": [
        "- **XGBoost** muestra mayor robustez ante ruido.\n",
        "- **XGBoost** tiene mejor F1 al incluir cierto ruido ya que consigue generalizar bien al introducirlo, en una medida similar a RandomForest\n",
        "- El **recall para la clase minoritaria** mejora considerablemente con Boosting + ruido. Esto se debe a que el modelo original tiende a sobreajustarse, aun con el uso de SMOTE, y con el ruido introducido pierde capacidad predictiva de la clase 0 en favor de la clase 1 (generaliza mejor)\n",
        "\n",
        "Este ejercicio demuestra el **trade-off entre bias y varianza**:\n",
        "- Bagging reduce varianza, es más robusto.\n",
        "- Boosting reduce sesgo, pero es más sensible al ruido."
      ]
    },
    {
      "cell_type": "markdown",
      "id": "2af4c32f",
      "metadata": {
        "id": "2af4c32f"
      },
      "source": [
        "## Próximos pasos"
      ]
    },
    {
      "cell_type": "markdown",
      "id": "c300e6ad",
      "metadata": {
        "id": "c300e6ad"
      },
      "source": [
        "- Ajustar hiperparámetros para cada modelo.\n",
        "- Aplicar técnicas de selección de características para reducir dimensionalidad.\n",
        "- Explorar otras técnicas de ensemble como Stacking.\n",
        "\n",
        "---\n",
        "\n",
        "Dataset original: SECOM Manufacturing Data Set — UCI Machine Learning Repository\n"
      ]
    }
  ],
  "metadata": {
    "colab": {
      "provenance": [],
      "gpuType": "T4",
      "include_colab_link": true
    },
    "language_info": {
      "name": "python"
    },
    "kernelspec": {
      "name": "python3",
      "display_name": "Python 3"
    },
    "accelerator": "GPU"
  },
  "nbformat": 4,
  "nbformat_minor": 5
}