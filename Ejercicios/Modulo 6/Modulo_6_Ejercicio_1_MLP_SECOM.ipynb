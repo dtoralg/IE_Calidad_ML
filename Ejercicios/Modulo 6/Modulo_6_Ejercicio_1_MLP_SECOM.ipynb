{
  "cells": [
    {
      "cell_type": "markdown",
      "metadata": {
        "id": "view-in-github",
        "colab_type": "text"
      },
      "source": [
        "<a href=\"https://colab.research.google.com/github/dtoralg/IE_Calidad_ML/blob/main/Ejercicios/Modulo%206/Modulo_6_Ejercicio_1_MLP_SECOM.ipynb\" target=\"_parent\"><img src=\"https://colab.research.google.com/assets/colab-badge.svg\" alt=\"Open In Colab\"/></a>"
      ]
    },
    {
      "cell_type": "markdown",
      "id": "8d3a6137",
      "metadata": {
        "id": "8d3a6137"
      },
      "source": [
        "\n",
        "# **Ejercicio 1: Introducción al Deep Learning en Clasificación Binaria Industrial**\n",
        "## Aplicación de una red neuronal multicapa (MLP) al dataset SECOM\n"
      ]
    },
    {
      "cell_type": "markdown",
      "id": "a1b1e56c",
      "metadata": {
        "id": "a1b1e56c"
      },
      "source": [
        "\n",
        "## Introducción\n",
        "\n",
        "En este ejercicio vamos a construir y comparar modelos clásicos de Machine Learning con una red neuronal multicapa (MLP) para resolver un problema real de clasificación binaria en un entorno industrial. Utilizaremos el **SECOM Manufacturing Data Set**, que contiene medidas de sensores en un proceso de manufactura y una variable objetivo que indica si se detectó un defecto o no.\n",
        "\n",
        "Este tipo de problema es habitual en entornos industriales donde se requiere automatizar la identificación de productos defectuosos, y el uso de redes neuronales puede aportar mejoras en la capacidad de detección frente a modelos clásicos, especialmente cuando existen relaciones no lineales entre las variables.\n",
        "\n",
        "**Lo que aprenderás en este ejercicio:**\n",
        "- Preprocesar datos reales con ruido y valores nulos.\n",
        "- Entrenar y evaluar una red neuronal multicapa (MLP) usando Keras.\n",
        "- Comparar su rendimiento frente a modelos clásicos como Regresión Logística y Random Forest.\n",
        "- Interpretar las curvas de aprendizaje y los resultados obtenidos.\n",
        "\n",
        "**Licencia del dataset:** SECOM Manufacturing Data Set — Fuente: UCI ML Repository, Licencia: [CC BY 4.0](https://creativecommons.org/licenses/by/4.0/)"
      ]
    },
    {
      "cell_type": "markdown",
      "source": [
        "> ### Recomendación:\n",
        "> Las redes neuronales hacen millones de operaciones matemáticas (multiplicaciones de matrices, derivadas, etc.) durante el entrenamiento. Una CPU puede hacer estas operaciones, pero una GPU está diseñada específicamente para hacerlas en paralelo y mucho más rápido.\n",
        ">\n",
        "> Por ello te recomiendo que para estos ejercicios cambies tu entorno de ejecución en Colab.\n",
        ">\n",
        "> Puedes hacerlo haciendo click en `Entorno de Ejecución` en la barra superior, después `Cambiar tipo de entorno de ejecución` y selecciona `GPU`. Esto hará que tus notebook ejecuten más rápido los cálculos con Deep Learning.\n"
      ],
      "metadata": {
        "id": "iJfMDbuV9Wxa"
      },
      "id": "iJfMDbuV9Wxa"
    },
    {
      "cell_type": "markdown",
      "id": "33910d7e",
      "metadata": {
        "id": "33910d7e"
      },
      "source": [
        "## Carga de librerías y configuración del entorno"
      ]
    },
    {
      "cell_type": "code",
      "execution_count": null,
      "id": "18517065",
      "metadata": {
        "id": "18517065"
      },
      "outputs": [],
      "source": [
        "\n",
        "# Celda 1\n",
        "import numpy as np\n",
        "import pandas as pd\n",
        "import matplotlib.pyplot as plt\n",
        "import seaborn as sns\n",
        "from sklearn.model_selection import train_test_split\n",
        "from sklearn.preprocessing import StandardScaler\n",
        "from sklearn.impute import SimpleImputer\n",
        "from sklearn.metrics import confusion_matrix, classification_report, f1_score\n",
        "from sklearn.linear_model import LogisticRegression\n",
        "from sklearn.ensemble import RandomForestClassifier\n",
        "import tensorflow as tf\n",
        "from tensorflow.keras.models import Sequential\n",
        "from tensorflow.keras.layers import Dense\n",
        "from sklearn.metrics import confusion_matrix, classification_report\n",
        "from sklearn.metrics import precision_recall_curve\n",
        "from sklearn.utils import class_weight\n",
        "from tensorflow.keras.callbacks import EarlyStopping\n",
        "from imblearn.over_sampling import SMOTE\n",
        "from tensorflow.keras.models import Sequential\n",
        "from tensorflow.keras.layers import Dense, Dropout\n",
        "from tensorflow.keras.regularizers import l2\n",
        "from tensorflow.keras.optimizers import Adam\n",
        "import requests\n",
        "import zipfile\n",
        "import io\n",
        "\n",
        "# Configuración visual\n",
        "sns.set(style=\"whitegrid\")\n",
        "plt.rcParams[\"figure.figsize\"] = (10, 6)\n"
      ]
    },
    {
      "cell_type": "markdown",
      "id": "206680c9",
      "metadata": {
        "id": "206680c9"
      },
      "source": [
        "## Descripción del dataset"
      ]
    },
    {
      "cell_type": "code",
      "source": [
        "zip_url = \"https://github.com/dtoralg/IE_Calidad_ML/raw/refs/heads/main/Data/Modulo%206/secom.zip\"\n",
        "\n",
        "# Descargar el zip\n",
        "response = requests.get(zip_url)\n",
        "\n",
        "# Verificar que la descarga fue exitosa\n",
        "if response.status_code == 200:\n",
        "    # Leer el archivo ZIP en memoria\n",
        "    zip_file = zipfile.ZipFile(io.BytesIO(response.content))\n",
        "\n",
        "    # Mostrar el contenido del ZIP\n",
        "    print(\"Archivos contenidos:\")\n",
        "    print(zip_file.namelist())\n",
        "\n",
        "    # Extraer todos los archivos (opcional)\n",
        "    zip_file.extractall(\"secom_data\")  # Carpeta donde se guardarán\n",
        "    print(\"Archivos extraídos en la carpeta 'secom_data'.\")\n",
        "else:\n",
        "    print(\"Error al descargar el archivo:\", response.status_code)\n"
      ],
      "metadata": {
        "id": "hvCO78Cv6m4Y"
      },
      "id": "hvCO78Cv6m4Y",
      "execution_count": null,
      "outputs": []
    },
    {
      "cell_type": "code",
      "execution_count": null,
      "id": "955e3047",
      "metadata": {
        "id": "955e3047"
      },
      "outputs": [],
      "source": [
        "# Celda 2 - Cargar y preparar features y etiquetas\n",
        "import pandas as pd\n",
        "\n",
        "# Rutas de los archivos\n",
        "features_url = '/content/secom_data/secom.data'\n",
        "labels_url = '/content/secom_data/secom_labels.data'\n",
        "\n",
        "# Cargar las features\n",
        "X = pd.read_csv(..., sep='\\s+', header=None)\n",
        "# Renombrar columnas solo si el número coincide\n",
        "X.columns = [f'var_{i}' for i in range(X.shape[1])]\n",
        "\n",
        "# Cargar las etiquetas y fechas\n",
        "y = pd.read_csv(..., sep='\\s+', header=None)\n",
        "y.columns = ['label', 'timestamp']  # Añadir nombres de columna\n",
        "y['label'] = ... # Reemplaza los valores de y por valores binarios 0,1\n",
        "\n",
        "\n",
        "# Verificar\n",
        "print(\"Dimensiones de X:\", X.shape)\n",
        "..."
      ]
    },
    {
      "cell_type": "code",
      "source": [
        "print(\"Dimensiones de y:\", y.shape)\n",
        "..."
      ],
      "metadata": {
        "id": "sesFxs2DBcoD"
      },
      "id": "sesFxs2DBcoD",
      "execution_count": null,
      "outputs": []
    },
    {
      "cell_type": "markdown",
      "id": "ee96e998",
      "metadata": {
        "id": "ee96e998"
      },
      "source": [
        "## Preprocesamiento de datos"
      ]
    },
    {
      "cell_type": "code",
      "execution_count": null,
      "id": "5d7ed9d3",
      "metadata": {
        "id": "5d7ed9d3"
      },
      "outputs": [],
      "source": [
        "# Celda 3\n",
        "# Verificar nulos\n",
        "..."
      ]
    },
    {
      "cell_type": "code",
      "execution_count": null,
      "id": "5d0fb742",
      "metadata": {
        "id": "5d0fb742"
      },
      "outputs": [],
      "source": [
        "# Celda 4\n",
        "# Eliminar columnas con más del 25% de nulos\n",
        "...\n",
        "\n",
        "# Imputar el resto con la media\n",
        "...\n",
        "\n",
        "# Escalado\n",
        "...\n"
      ]
    },
    {
      "cell_type": "code",
      "execution_count": null,
      "id": "414635e5",
      "metadata": {
        "id": "414635e5"
      },
      "outputs": [],
      "source": [
        "# Celda 5 Train, test split. Atención al balanceo de la variable target.\n",
        "...\n",
        "\n",
        "# Aplicar SMOTE solo al conjunto de entrenamiento\n",
        "...\n",
        "\n",
        "# Verificar balance\n",
        "..."
      ]
    },
    {
      "cell_type": "markdown",
      "id": "46a84277",
      "metadata": {
        "id": "46a84277"
      },
      "source": [
        "## Entrenamiento de modelos clásicos"
      ]
    },
    {
      "cell_type": "code",
      "execution_count": null,
      "id": "67e684e7",
      "metadata": {
        "id": "67e684e7"
      },
      "outputs": [],
      "source": [
        "\n",
        "# Celda 6\n",
        "# Regresión Logística, fit y predicciones\n",
        "...\n",
        "\n",
        "print(\"Logistic Regression F1 Score:\", f1_score(y_test, lr_preds))"
      ]
    },
    {
      "cell_type": "markdown",
      "id": "8315fc31",
      "metadata": {
        "id": "8315fc31"
      },
      "source": [
        "## Entrenamiento de red neuronal (MLP)"
      ]
    },
    {
      "cell_type": "code",
      "execution_count": null,
      "id": "ac846580",
      "metadata": {
        "id": "ac846580"
      },
      "outputs": [],
      "source": [
        "# Celda 7. Crea una red neuronal, prueba con distintas combinaciones de capas\n",
        "model = Sequential()\n",
        "model.add(...)\n",
        "# Utiliza la red de salida adecuada (clasificación binaria)\n",
        "model.add(...)\n",
        "\n",
        "model.compile(optimizer='adam', loss='binary_crossentropy', metrics=['accuracy'])"
      ]
    },
    {
      "cell_type": "code",
      "execution_count": null,
      "id": "3c4a1e6b",
      "metadata": {
        "id": "3c4a1e6b"
      },
      "outputs": [],
      "source": [
        "# Celda 8\n",
        "\n",
        "# Por su desbalanceo, usaremos los pesos de clase calculados automáticamente\n",
        "weights = class_weight.compute_class_weight(class_weight='balanced', classes=np.unique(y_train), y=y_train)\n",
        "class_weights = dict(zip(np.unique(y_train), weights))\n",
        "print(\"Pesos de clase:\", class_weights)\n",
        "\n",
        "early_stopping = EarlyStopping(\n",
        "    monitor=...,\n",
        "    patience=...,\n",
        "    restore_best_weights=...,\n",
        "    verbose=...\n",
        ")\n",
        "\n",
        "# Entrenamiento del modelo con class_weight\n",
        "history = model.fit(\n",
        "    ...,\n",
        "    ...,\n",
        "    validation_data=(X_test, y_test),\n",
        "    epochs=...,\n",
        "    batch_size=...,\n",
        "    class_weight=...,\n",
        "    callbacks=[...],\n",
        "    verbose=1\n",
        ")\n"
      ]
    },
    {
      "cell_type": "markdown",
      "id": "b4b939a2",
      "metadata": {
        "id": "b4b939a2"
      },
      "source": [
        "## Evaluación de resultados y comparación"
      ]
    },
    {
      "cell_type": "code",
      "execution_count": null,
      "id": "c5eb0701",
      "metadata": {
        "id": "c5eb0701"
      },
      "outputs": [],
      "source": [
        "# Celda 9\n",
        "# Lanza predicciones y después define un umbral a partir del cual predecimos una clase como positiva\n",
        "y_pred_prob = model.predict(X_test)\n",
        "y_pred_class = (y_pred_prob > ...).astype(int)\n",
        "\n",
        "print(\"Matriz de Confusión:\")\n",
        "print(...)\n",
        "\n",
        "print(\"\\nReporte de Clasificación:\")\n",
        "print(...)\n"
      ]
    },
    {
      "cell_type": "code",
      "source": [
        "# Celda 10\n",
        "# Curvas de entrenamiento\n",
        "plt.plot(history.history['accuracy'], label='Train Accuracy')\n",
        "plt.plot(history.history['val_accuracy'], label='Val Accuracy')\n",
        "plt.xlabel(\"Epochs\")\n",
        "plt.ylabel(\"Accuracy\")\n",
        "plt.legend()\n",
        "plt.title(\"Curva de Aprendizaje\")\n",
        "plt.show()"
      ],
      "metadata": {
        "id": "0IsrSQfHDQqD"
      },
      "id": "0IsrSQfHDQqD",
      "execution_count": null,
      "outputs": []
    },
    {
      "cell_type": "code",
      "source": [
        "# Celda 11\n",
        "precision, recall, thresholds = precision_recall_curve(y_test, y_pred_prob)\n",
        "\n",
        "plt.figure(figsize=(8, 5))\n",
        "plt.plot(recall, precision, marker='.')\n",
        "plt.xlabel('Recall')\n",
        "plt.ylabel('Precision')\n",
        "plt.title('Curva Precision-Recall')\n",
        "plt.grid(True)\n",
        "plt.show()"
      ],
      "metadata": {
        "id": "cOKiR01hDabK"
      },
      "id": "cOKiR01hDabK",
      "execution_count": null,
      "outputs": []
    },
    {
      "cell_type": "markdown",
      "id": "0f955d1f",
      "metadata": {
        "id": "0f955d1f"
      },
      "source": [
        "## Conclusiones"
      ]
    },
    {
      "cell_type": "markdown",
      "id": "0b6f5ae0",
      "metadata": {
        "id": "0b6f5ae0"
      },
      "source": [
        "\n",
        "**Resumen de lo aprendido:**\n",
        "- Hemos entrenado una red neuronal simple y modelos clásicos sobre datos industriales reales.\n",
        "- El dataset SECOM tiene ruido y desequilibrios que afectan el rendimiento, pero la red neuronal ha logrado resultados mucho mejores que la regresión.\n",
        "- La preparación de datos (tratamiento de nulos, escalado, SMOTE) ha sido esencial para lograr buenos resultados.\n",
        "\n",
        "**Próximos pasos sugeridos:**\n",
        "1. Ajustar los hiperparámetros de la red neuronal con búsqueda en grid.\n",
        "3. Probar arquitecturas más profundas o usar técnicas de regularización como dropout.\n",
        "\n",
        "**Licencia del dataset:** SECOM Manufacturing Data Set — Fuente: UCI ML Repository, Licencia: [CC BY 4.0](https://creativecommons.org/licenses/by/4.0/)\n"
      ]
    }
  ],
  "metadata": {
    "colab": {
      "provenance": [],
      "gpuType": "T4",
      "include_colab_link": true
    },
    "language_info": {
      "name": "python"
    },
    "kernelspec": {
      "name": "python3",
      "display_name": "Python 3"
    },
    "accelerator": "GPU"
  },
  "nbformat": 4,
  "nbformat_minor": 5
}