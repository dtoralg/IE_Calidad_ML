{
  "cells": [
    {
      "cell_type": "markdown",
      "metadata": {
        "id": "view-in-github",
        "colab_type": "text"
      },
      "source": [
        "<a href=\"https://colab.research.google.com/github/dtoralg/IE_Calidad_ML/blob/main/Ejercicios/Modulo%206/Modulo_6_Ejercicio_3_Prediccion_Vida_Util_LSTM.ipynb\" target=\"_parent\"><img src=\"https://colab.research.google.com/assets/colab-badge.svg\" alt=\"Open In Colab\"/></a>"
      ]
    },
    {
      "cell_type": "markdown",
      "id": "5d4a5d61",
      "metadata": {
        "id": "5d4a5d61"
      },
      "source": [
        "# **Ejercicio 3: Predicción de Vida Útil con Redes Neuronales Recurrentes**\n",
        "## Modelado de series temporales para mantenimiento predictivo usando LSTM\n"
      ]
    },
    {
      "cell_type": "markdown",
      "source": [
        "En este ejercicio abordaremos un problema clásico de **mantenimiento predictivo** en entornos industriales: predecir cuántos ciclos de vida útil le quedan a un motor antes de fallar.\n",
        "\n",
        "Trabajaremos con el dataset **CMAPSS - Turbofan Engine Degradation Simulation**, un conjunto de datos simulado por NASA que ha sido ampliamente utilizado en la literatura para explorar técnicas de modelado secuencial. El objetivo es construir un modelo que, a partir de secuencias de sensores, sea capaz de predecir la vida útil restante (RUL) de cada motor.\n",
        "\n",
        "Utilizaremos una arquitectura basada en **Redes Neuronales Recurrentes (RNN)**, en particular una **LSTM (Long Short-Term Memory)**, comparando su rendimiento frente a un modelo de regresión tradicional como benchmark.\n",
        "\n",
        "Al finalizar este ejercicio, habrás comprendido:\n",
        "\n",
        "- Cómo preparar datos secuenciales para modelos recurrentes.\n",
        "- Cómo implementar una red LSTM con Keras.\n",
        "- Cómo evaluar el rendimiento de modelos secuenciales en tareas de regresión.\n"
      ],
      "metadata": {
        "id": "3KEDcO0h6frf"
      },
      "id": "3KEDcO0h6frf"
    },
    {
      "cell_type": "markdown",
      "source": [
        "> Este cuaderno utiliza el dataset **C-MAPSS: Turbofan Engine Degradation Simulation** proporcionado por la **NASA Prognostics Center of Excellence**.\n",
        ">\n",
        "> Fuente oficial: [https://data.nasa.gov/Aeorspace/CMAPSS-Jet-Engine-Simulated-Data/ff5v-kuh6](https://data.nasa.gov/Aeorspace/CMAPSS-Jet-Engine-Simulated-Data/ff5v-kuh6)\n",
        ">\n",
        "> Licencia: **Dominio Público - US Government Work**  \n",
        "Este dataset ha sido publicado por una agencia del gobierno de los Estados Unidos (NASA) y se encuentra en el **dominio público**, lo que permite su uso, distribución y modificación sin restricciones, incluyendo fines comerciales. Se recomienda atribuir la fuente como buena práctica."
      ],
      "metadata": {
        "id": "GYuHBH5SSveb"
      },
      "id": "GYuHBH5SSveb"
    },
    {
      "cell_type": "code",
      "source": [
        "# Celda 1\n",
        "# Cargamos las librerías necesarias\n",
        "\n",
        "import numpy as np\n",
        "import pandas as pd\n",
        "import matplotlib.pyplot as plt\n",
        "import seaborn as sns\n",
        "import tensorflow as tf\n",
        "from tensorflow.keras.models import Sequential\n",
        "from tensorflow.keras.layers import LSTM, Dense\n",
        "from sklearn.preprocessing import MinMaxScaler\n",
        "from sklearn.metrics import mean_absolute_error, mean_squared_error\n",
        "from sklearn.linear_model import LinearRegression\n",
        "import math\n",
        "import requests\n",
        "import requests\n",
        "import zipfile\n",
        "import io\n",
        "\n",
        "# Estilo visual para gráficos\n",
        "sns.set(style=\"whitegrid\")\n",
        "plt.rcParams[\"figure.figsize\"] = (12, 6)\n",
        "print(\"Entorno preparado correctamente.\")\n"
      ],
      "metadata": {
        "id": "JnknbEbT6xYc"
      },
      "id": "JnknbEbT6xYc",
      "execution_count": null,
      "outputs": []
    },
    {
      "cell_type": "code",
      "source": [
        "zip_url = \"https://github.com/dtoralg/IE_Calidad_ML/raw/refs/heads/main/Data/Modulo%206/CMAPSSData.zip\"\n",
        "\n",
        "# Descargar el zip\n",
        "response = requests.get(zip_url)\n",
        "\n",
        "# Verificar que la descarga fue exitosa\n",
        "if response.status_code == 200:\n",
        "    # Leer el archivo ZIP en memoria\n",
        "    zip_file = zipfile.ZipFile(io.BytesIO(response.content))\n",
        "\n",
        "    # Mostrar el contenido del ZIP\n",
        "    print(\"Archivos contenidos:\")\n",
        "    print(zip_file.namelist())\n",
        "\n",
        "    # Extraer todos los archivos (opcional)\n",
        "    zip_file.extractall(\"CMAPSS_data\")  # Carpeta donde se guardarán\n",
        "    print(\"Archivos extraídos en la carpeta 'CMAPSS_data'.\")\n",
        "else:\n",
        "    print(\"Error al descargar el archivo:\", response.status_code)"
      ],
      "metadata": {
        "id": "ZcvEBDzo8RmH"
      },
      "id": "ZcvEBDzo8RmH",
      "execution_count": null,
      "outputs": []
    },
    {
      "cell_type": "code",
      "source": [
        "# Celda 2\n",
        "# Vamos a utilizar los datos de CMAPSS del motor 1 (FD001)\n",
        "# Como en test, el dataset nos ofrece el ciclo de fallo, no podemos usar LSTM (necesitamos una secuencia de puntos temporales)\n",
        "# Por tanto aprovechamos la serie train, que si que tiene una secuencia temporal, para hacer nuestro modelo.\n",
        "\n",
        "# Rutas de los archivos\n",
        "train_url = '/content/CMAPSS_data/train_FD001.txt'\n",
        "\n",
        "# Cargar las features\n",
        "FD001_train = pd.read_csv(train_url, sep=\" \", header=None)\n",
        "\n",
        "cols = ['unit number', 'cycles', 'operational setting 1', 'operational setting 2',\n",
        "          'operational setting 3'] + [f\"sensor measurement {i}\" for i in range(1, 24)]\n",
        "\n",
        "FD001_train.columns = cols"
      ],
      "metadata": {
        "id": "a9wC7Q-T62FW"
      },
      "id": "a9wC7Q-T62FW",
      "execution_count": null,
      "outputs": []
    },
    {
      "cell_type": "code",
      "source": [
        "# Celda 3\n",
        "# Analizamos la estructura del dataset con describe\n",
        "...\n",
        "\n",
        "# Descripción del conjunto de datos\n",
        "print(f\"Número de registros: ...\")\n",
        "print(f\"Número de motores distintos: ...\")\n",
        "print(\"\\nColumnas del dataset:\")\n",
        "print(...)\n",
        "\n",
        "print(\"\\nEjemplo de evolución temporal (head) para un motor específico (unidad 1):\")\n",
        "..."
      ],
      "metadata": {
        "id": "mOgKUax7AE2P"
      },
      "id": "mOgKUax7AE2P",
      "execution_count": null,
      "outputs": []
    },
    {
      "cell_type": "code",
      "source": [
        "# Verificar nulos\n",
        "missing_ratio = ...\n",
        "print(\"Porcentaje de valores nulos por variable (top 10):\")\n",
        "print(...)"
      ],
      "metadata": {
        "id": "R7JNnnwQB039"
      },
      "id": "R7JNnnwQB039",
      "execution_count": null,
      "outputs": []
    },
    {
      "cell_type": "code",
      "source": [
        "# Eliminar columnas con más del 25% de nulos\n",
        "threshold = 0.25\n",
        "cols_to_drop = ...\n",
        "FD001_train = FD001_train.drop(columns=cols_to_drop)"
      ],
      "metadata": {
        "id": "5BvTuUDAB-_y"
      },
      "id": "5BvTuUDAB-_y",
      "execution_count": null,
      "outputs": []
    },
    {
      "cell_type": "code",
      "source": [
        "# Quitamos aquellas columnas que son constantes y no añaden valor predictivo\n",
        "columns_no_variation = ...\n",
        "FD001_train.drop(columns=columns_no_variation ,inplace=True)"
      ],
      "metadata": {
        "id": "unDbpTteBAaX"
      },
      "id": "unDbpTteBAaX",
      "execution_count": null,
      "outputs": []
    },
    {
      "cell_type": "code",
      "source": [
        "# Celda 4\n",
        "# Visualización de la evolución temporal de los sensores en una unidad\n",
        "\n",
        "unit_example = 1\n",
        "df_unit = FD001_train[FD001_train['unit number'] == unit_example]\n",
        "\n",
        "sns.lineplot(data=df_unit, x='cycles', y='sensor measurement 2', label='Sensor 2')\n",
        "sns.lineplot(data=df_unit, x='cycles', y='sensor measurement 3', label='Sensor 3')\n",
        "sns.lineplot(data=df_unit, x='cycles', y='sensor measurement 4', label='Sensor 4')\n",
        "plt.title('Evolución de sensores para la unidad 1')\n",
        "plt.xlabel('Ciclos de operación')\n",
        "plt.ylabel('Valor del sensor')\n",
        "plt.legend()\n",
        "plt.tight_layout()\n",
        "plt.show()\n"
      ],
      "metadata": {
        "id": "YhggELSn65fE"
      },
      "id": "YhggELSn65fE",
      "execution_count": null,
      "outputs": []
    },
    {
      "cell_type": "code",
      "source": [
        "# Celda 5\n",
        "# Cálculo del Remaining Useful Life (RUL) en train\n",
        "\n",
        "rul_df = FD001_train.groupby('unit number')['cycles'].max().reset_index()\n",
        "rul_df.columns = ['unit number', 'max cycle']\n",
        "\n",
        "FD001_train_max = FD001_train.merge(rul_df, on='unit number', how='left')"
      ],
      "metadata": {
        "id": "TCqWK_be66yq"
      },
      "id": "TCqWK_be66yq",
      "execution_count": null,
      "outputs": []
    },
    {
      "cell_type": "code",
      "source": [
        "# Caculamos RUL como el numero de ciclos restantes\n",
        "# Es decir, el maximos numero de ciclos de cada motor, menos los ciclos que lleva en cada observacion\n",
        "FD001_train_max['RUL'] = ...\n",
        "FD001_train_max.drop('max cycle', axis=1, inplace=True) # quitamos max cycle al ser constante\n",
        "FD001_train_max[['unit number', 'cycles', 'RUL']].head()"
      ],
      "metadata": {
        "id": "3dvI04pvD4qc"
      },
      "id": "3dvI04pvD4qc",
      "execution_count": null,
      "outputs": []
    },
    {
      "cell_type": "code",
      "source": [
        "# Celda 6\n",
        "# Escalado de variables de sensores, nos centramos en predecir con ellas\n",
        "\n",
        "features = [col for col in FD001_train_max.columns if 'sensor measurement' in col]\n",
        "\n",
        "scaler = ...\n",
        "FD001_train_max[features] = ..."
      ],
      "metadata": {
        "id": "QWIDB-rc68BG"
      },
      "id": "QWIDB-rc68BG",
      "execution_count": null,
      "outputs": []
    },
    {
      "cell_type": "code",
      "source": [
        "# Celda 7\n",
        "# Creación de secuencias para entrenamiento de LSTM\n",
        "\n",
        "def create_sequences(data, sequence_length=30):\n",
        "    sequences = []\n",
        "    labels = []\n",
        "    for engine_id in data['unit number'].unique():\n",
        "        engine_df = data[data['unit number'] == engine_id]\n",
        "        for i in range(len(engine_df) - sequence_length):\n",
        "            seq = engine_df.iloc[i:i+sequence_length][features].values\n",
        "            label = engine_df.iloc[i+sequence_length]['RUL']\n",
        "            sequences.append(seq)\n",
        "            labels.append(label)\n",
        "    return np.array(sequences), np.array(labels)\n",
        "\n",
        "seq_length = ... # Cuantos items tomaremos en cada secuencia?\n",
        "X, y = create_sequences(FD001_train_max, seq_length)"
      ],
      "metadata": {
        "id": "rGaJkSAH69XW"
      },
      "id": "rGaJkSAH69XW",
      "execution_count": null,
      "outputs": []
    },
    {
      "cell_type": "code",
      "source": [
        "# Celda 8\n",
        "# División del dataset en entrenamiento y validación\n",
        "\n",
        "split = int(0.8 * X.shape[0])\n",
        "X_train, X_val = X[:split], X[split:]\n",
        "y_train, y_val = y[:split], y[split:]\n",
        "\n",
        "print(f\"Train: {X_train.shape}, Validation: {X_val.shape}\")\n"
      ],
      "metadata": {
        "id": "PD59amGB6-XL"
      },
      "id": "PD59amGB6-XL",
      "execution_count": null,
      "outputs": []
    },
    {
      "cell_type": "code",
      "source": [
        "# Celda 9\n",
        "# Construcción y entrenamiento del modelo LSTM\n",
        "\n",
        "# Alade una capa LSTM de entrada con 64 unidades, y una capa Densa de salida\n",
        "\n",
        "model = Sequential()\n",
        "model.add(...)\n",
        "model.add(...)\n",
        "\n",
        "# Elige la mejor funcion de perdida\n",
        "model.compile(loss='...', optimizer='adam')\n",
        "model.summary()\n",
        "\n",
        "history = model.fit(X_train,\n",
        "                    y_train,\n",
        "                    epochs=...,\n",
        "                    batch_size=...,\n",
        "                    validation_data=...,\n",
        "                    verbose=1)\n"
      ],
      "metadata": {
        "id": "CdPcCAMo6_S-"
      },
      "id": "CdPcCAMo6_S-",
      "execution_count": null,
      "outputs": []
    },
    {
      "cell_type": "code",
      "source": [
        "# Celda 10\n",
        "# Visualización de la pérdida durante el entrenamiento\n",
        "\n",
        "plt.plot(history.history['loss'], label='Entrenamiento')\n",
        "plt.plot(history.history['val_loss'], label='Validación')\n",
        "plt.title('Pérdida (MAE) durante el entrenamiento')\n",
        "plt.xlabel('Época')\n",
        "plt.ylabel('Error absoluto medio')\n",
        "plt.legend()\n",
        "plt.grid(True)\n",
        "plt.show()"
      ],
      "metadata": {
        "id": "x_G7dQua7AR4"
      },
      "id": "x_G7dQua7AR4",
      "execution_count": null,
      "outputs": []
    },
    {
      "cell_type": "code",
      "source": [
        "# Celda 11\n",
        "# Evaluación del modelo LSTM en validación\n",
        "\n",
        "y_pred_val = model.predict(...)\n",
        "mae_val = ...\n",
        "rmse_val = ...\n",
        "print(f\"MAE LSTM: {mae_val:.2f}\")\n",
        "print(f\"RMSE LSTM: {rmse_val:.2f}\")\n"
      ],
      "metadata": {
        "id": "O7qvtc8M7Bad"
      },
      "id": "O7qvtc8M7Bad",
      "execution_count": null,
      "outputs": []
    },
    {
      "cell_type": "code",
      "source": [
        "# Celda 12\n",
        "# Comparación con modelo de regresión lineal\n",
        "\n",
        "X_flat = X_train.reshape(X_train.shape[0], -1)\n",
        "X_val_flat = X_val.reshape(X_val.shape[0], -1)\n",
        "\n",
        "lr_model = ...\n",
        "lr_model.fit(...)\n",
        "y_lr_pred = ...\n",
        "\n",
        "mae_lr = ...\n",
        "rmse_lr = ...\n",
        "print(f\"MAE Linear Regression: {mae_lr:.2f}\")\n",
        "print(f\"RMSE Linear Regression: {rmse_lr:.2f}\")\n"
      ],
      "metadata": {
        "id": "8do_cFH57CZk"
      },
      "id": "8do_cFH57CZk",
      "execution_count": null,
      "outputs": []
    },
    {
      "cell_type": "code",
      "source": [
        "# Celda 13\n",
        "# Comparativa visual entre modelo LSTM y regresión lineal\n",
        "\n",
        "plt.plot(y_val[:200], label='RUL real', color='black')\n",
        "plt.plot(y_pred[:200], label='LSTM', alpha=0.7)\n",
        "plt.plot(y_lr_pred[:200], label='Regresión Lineal', alpha=0.7)\n",
        "plt.title('Comparación de predicciones de RUL (primeros 20 ejemplos)')\n",
        "plt.xlabel('Índice de muestra')\n",
        "plt.ylabel('Vida útil restante')\n",
        "plt.legend()\n",
        "plt.grid(True)\n",
        "plt.show()\n"
      ],
      "metadata": {
        "id": "dWK7j3a27DaA"
      },
      "id": "dWK7j3a27DaA",
      "execution_count": null,
      "outputs": []
    },
    {
      "cell_type": "markdown",
      "source": [
        "### Conclusiones\n",
        "Este ejercicio ha demostrado cómo aplicar una arquitectura LSTM para predecir la vida útil restante (RUL) de motores industriales a partir de secuencias de sensores.\n",
        "\n",
        "A diferencia de modelos tradicionales de regresión, las redes LSTM son capaces de capturar patrones temporales y dependencias en secuencias, lo cual se refleja en una mejora de métricas como MAE y RMSE.\n",
        "\n",
        "En general, el modelo LSTM ha demostrado mejor capacidad de generalización que una regresión lineal, validando su idoneidad para tareas de predicción secuencial."
      ],
      "metadata": {
        "id": "Jdxyhe4E7GuR"
      },
      "id": "Jdxyhe4E7GuR"
    },
    {
      "cell_type": "markdown",
      "source": [
        "### Proximos Pasos\n",
        "1. Optimización de hiperparámetros: número de capas LSTM, número de unidades, tamaño de secuencia, tasa de aprendizaje, etc.\n",
        "2. Evaluación con otros datasets de CMAPSS (FD002, FD003, FD004) que presentan condiciones más complejas y múltiples modos de fallo.\n",
        "3. Aplicación de técnicas de Transfer Learning para adaptar el modelo entrenado a nuevos motores con pocos datos disponibles."
      ],
      "metadata": {
        "id": "gzAwP0A27Pfk"
      },
      "id": "gzAwP0A27Pfk"
    }
  ],
  "metadata": {
    "colab": {
      "provenance": [],
      "include_colab_link": true
    },
    "language_info": {
      "name": "python"
    },
    "kernelspec": {
      "name": "python3",
      "display_name": "Python 3"
    }
  },
  "nbformat": 4,
  "nbformat_minor": 5
}