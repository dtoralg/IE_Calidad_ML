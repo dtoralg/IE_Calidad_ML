{
  "cells": [
    {
      "cell_type": "markdown",
      "metadata": {
        "id": "view-in-github",
        "colab_type": "text"
      },
      "source": [
        "<a href=\"https://colab.research.google.com/github/dtoralg/IE_Calidad_ML/blob/main/Ejercicios/Modulo%206/Modulo_6_Ejercicio_5_Clasificacion_Multiclase_Resuelto.ipynb\" target=\"_parent\"><img src=\"https://colab.research.google.com/assets/colab-badge.svg\" alt=\"Open In Colab\"/></a>"
      ]
    },
    {
      "cell_type": "markdown",
      "id": "5c2cddf8",
      "metadata": {
        "id": "5c2cddf8"
      },
      "source": [
        "# **Ejercicio 5: Clasificación Multiclase con Redes Neuronales**\n",
        "**Propósito**: Aplicar un modelo de red neuronal multicapa para abordar una tarea de clasificación multiclase en base a sensores industriales."
      ]
    },
    {
      "cell_type": "markdown",
      "id": "63f21530",
      "metadata": {
        "id": "63f21530"
      },
      "source": [
        "## Introducción\n",
        "\n",
        "En los entornos industriales modernos, la recopilación masiva de datos a través de sensores ha abierto nuevas oportunidades para detectar, clasificar y prevenir fallos en sistemas de producción.\n",
        "\n",
        "Este ejercicio aborda un problema de **clasificación multiclase** utilizando una **red neuronal multicapa (MLP)** para predecir el tipo de fallo presente en una línea de producción, a partir de variables físicas y transformadas extraídas de sensores industriales.\n",
        "\n",
        "Trabajaremos con el dataset `Industrial_fault_detection.csv`, que contiene la variable objetivo `Fault_Type`, con múltiples clases representando tipos distintos de fallo, incluyendo también la clase `No Fault`.\n",
        "\n",
        "Los objetivos principales de este ejercicio son:\n",
        "- Aplicar técnicas de preparación de datos para clasificación multiclase.\n",
        "- Entrenar una red neuronal multicapa con función `softmax`.\n",
        "- Evaluar el rendimiento del modelo con métricas específicas: `F1 Macro`, matriz de confusión, curvas `ROC` por clase.\n",
        "- Comparar los resultados obtenidos con modelos clásicos como Random Forest y Regresión Logística.\n",
        "\n",
        "Este ejercicio forma parte del módulo de modelos avanzados y permite poner en práctica técnicas modernas de clasificación en un contexto industrial realista.\n"
      ]
    },
    {
      "cell_type": "markdown",
      "id": "0226f4a9",
      "metadata": {
        "id": "0226f4a9"
      },
      "source": [
        "## Carga de librerías y configuración del entorno"
      ]
    },
    {
      "cell_type": "code",
      "execution_count": 1,
      "id": "6dcfc99c",
      "metadata": {
        "id": "6dcfc99c"
      },
      "outputs": [],
      "source": [
        "# Celda 1\n",
        "import pandas as pd\n",
        "import numpy as np\n",
        "import matplotlib.pyplot as plt\n",
        "import seaborn as sns\n",
        "\n",
        "from sklearn.model_selection import train_test_split\n",
        "from sklearn.preprocessing import StandardScaler, LabelEncoder\n",
        "from sklearn.metrics import classification_report, confusion_matrix, f1_score, roc_curve, auc\n",
        "from sklearn.linear_model import LogisticRegression\n",
        "from sklearn.ensemble import RandomForestClassifier\n",
        "\n",
        "from tensorflow.keras.models import Sequential\n",
        "from tensorflow.keras.layers import Dense, Dropout\n",
        "from tensorflow.keras.utils import to_categorical\n",
        "\n",
        "from imblearn.over_sampling import SMOTE\n",
        "from collections import Counter\n",
        "\n",
        "# Estilo visual\n",
        "sns.set(style=\"whitegrid\")\n",
        "plt.rcParams[\"figure.figsize\"] = (10, 6)"
      ]
    },
    {
      "cell_type": "markdown",
      "id": "4da5ff4a",
      "metadata": {
        "id": "4da5ff4a"
      },
      "source": [
        "## Descripción del dataset o datos de entrada"
      ]
    },
    {
      "cell_type": "markdown",
      "id": "4962dba6",
      "metadata": {
        "id": "4962dba6"
      },
      "source": [
        "El dataset `Industrial_fault_detection.csv` simula un entorno industrial en el que múltiples sensores registran variables físicas y espectrales de piezas evaluadas durante el proceso de fabricación.\n",
        "\n",
        "### Variables incluidas:\n",
        "- **Sensores físicos**:\n",
        "  - `Temperature`, `Pressure`, `Vibration`, `Voltage`, `Current`, `Flow`\n",
        "- **Transformadas espectrales (FFT)**:\n",
        "  - `FFT_Temp`, `FFT_Vib`, `FFT_Pres`\n",
        "- **Variable objetivo**:\n",
        "  - `Fault_Type`: representa diferentes tipos de fallo o la ausencia de fallo (`No Fault`)\n",
        "\n",
        "Este dataset es ideal para tareas de clasificación multiclase por su estructura, número de observaciones y balance de clases."
      ]
    },
    {
      "cell_type": "markdown",
      "id": "fe6cea58",
      "metadata": {
        "id": "fe6cea58"
      },
      "source": [
        "## Carga del dataset"
      ]
    },
    {
      "cell_type": "code",
      "execution_count": 2,
      "id": "7a1b1150",
      "metadata": {
        "colab": {
          "base_uri": "https://localhost:8080/",
          "height": 256
        },
        "id": "7a1b1150",
        "outputId": "60b52218-a4eb-45ce-f8ba-21eebdf340f0"
      },
      "outputs": [
        {
          "output_type": "execute_result",
          "data": {
            "text/plain": [
              "   Temperature  Vibration   Pressure  Flow_Rate    Current     Voltage  \\\n",
              "0    46.006138   2.038362  56.775766   6.184385  12.409519  215.762403   \n",
              "1    62.529168   2.573668  76.159843   8.279230  14.906390  215.465859   \n",
              "2    77.295015   3.243491  92.372614   9.172789  15.054051  202.043568   \n",
              "3    76.564164   3.142904  94.149558  13.775375  16.417891  216.699098   \n",
              "4    78.281641   3.139960  94.441006  11.113106  10.899425  227.328291   \n",
              "\n",
              "   FFT_Temp_0  FFT_Vib_0  FFT_Pres_0  FFT_Temp_1  ...  FFT_Temp_7  FFT_Vib_7  \\\n",
              "0  772.403056  32.436537  971.805333    3.760640  ...   22.088538   1.289962   \n",
              "1  767.602396  32.395556  962.481517    8.365137  ...   19.490310   1.283113   \n",
              "2  765.965069  32.032039  956.299456    9.559769  ...   21.108993   0.972256   \n",
              "3  763.936438  33.039854  956.532232   10.251866  ...   20.863726   0.606251   \n",
              "4  746.754887  33.018729  950.212816   18.313107  ...    8.163300   0.627348   \n",
              "\n",
              "   FFT_Pres_7  FFT_Temp_8  FFT_Vib_8  FFT_Pres_8  FFT_Temp_9  FFT_Vib_9  \\\n",
              "0   33.970445    8.787639   1.157286    4.368856    3.760640   0.734033   \n",
              "1   41.364096   12.553525   1.130837    8.104435    8.365137   0.724559   \n",
              "2   43.417119   12.291829   0.803430   13.262436    9.559769   0.934401   \n",
              "3   43.648908   10.321110   1.139870   13.293431   10.251866   0.169234   \n",
              "4   45.461787   14.441649   1.149088    7.149397   18.313107   0.172678   \n",
              "\n",
              "   FFT_Pres_9  Fault_Type  \n",
              "0   30.874568           0  \n",
              "1   27.268295           0  \n",
              "2   30.137127           0  \n",
              "3   29.919938           0  \n",
              "4   36.065067           3  \n",
              "\n",
              "[5 rows x 37 columns]"
            ],
            "text/html": [
              "\n",
              "  <div id=\"df-b423dd19-82e8-40c3-be95-5c245e39cc1a\" class=\"colab-df-container\">\n",
              "    <div>\n",
              "<style scoped>\n",
              "    .dataframe tbody tr th:only-of-type {\n",
              "        vertical-align: middle;\n",
              "    }\n",
              "\n",
              "    .dataframe tbody tr th {\n",
              "        vertical-align: top;\n",
              "    }\n",
              "\n",
              "    .dataframe thead th {\n",
              "        text-align: right;\n",
              "    }\n",
              "</style>\n",
              "<table border=\"1\" class=\"dataframe\">\n",
              "  <thead>\n",
              "    <tr style=\"text-align: right;\">\n",
              "      <th></th>\n",
              "      <th>Temperature</th>\n",
              "      <th>Vibration</th>\n",
              "      <th>Pressure</th>\n",
              "      <th>Flow_Rate</th>\n",
              "      <th>Current</th>\n",
              "      <th>Voltage</th>\n",
              "      <th>FFT_Temp_0</th>\n",
              "      <th>FFT_Vib_0</th>\n",
              "      <th>FFT_Pres_0</th>\n",
              "      <th>FFT_Temp_1</th>\n",
              "      <th>...</th>\n",
              "      <th>FFT_Temp_7</th>\n",
              "      <th>FFT_Vib_7</th>\n",
              "      <th>FFT_Pres_7</th>\n",
              "      <th>FFT_Temp_8</th>\n",
              "      <th>FFT_Vib_8</th>\n",
              "      <th>FFT_Pres_8</th>\n",
              "      <th>FFT_Temp_9</th>\n",
              "      <th>FFT_Vib_9</th>\n",
              "      <th>FFT_Pres_9</th>\n",
              "      <th>Fault_Type</th>\n",
              "    </tr>\n",
              "  </thead>\n",
              "  <tbody>\n",
              "    <tr>\n",
              "      <th>0</th>\n",
              "      <td>46.006138</td>\n",
              "      <td>2.038362</td>\n",
              "      <td>56.775766</td>\n",
              "      <td>6.184385</td>\n",
              "      <td>12.409519</td>\n",
              "      <td>215.762403</td>\n",
              "      <td>772.403056</td>\n",
              "      <td>32.436537</td>\n",
              "      <td>971.805333</td>\n",
              "      <td>3.760640</td>\n",
              "      <td>...</td>\n",
              "      <td>22.088538</td>\n",
              "      <td>1.289962</td>\n",
              "      <td>33.970445</td>\n",
              "      <td>8.787639</td>\n",
              "      <td>1.157286</td>\n",
              "      <td>4.368856</td>\n",
              "      <td>3.760640</td>\n",
              "      <td>0.734033</td>\n",
              "      <td>30.874568</td>\n",
              "      <td>0</td>\n",
              "    </tr>\n",
              "    <tr>\n",
              "      <th>1</th>\n",
              "      <td>62.529168</td>\n",
              "      <td>2.573668</td>\n",
              "      <td>76.159843</td>\n",
              "      <td>8.279230</td>\n",
              "      <td>14.906390</td>\n",
              "      <td>215.465859</td>\n",
              "      <td>767.602396</td>\n",
              "      <td>32.395556</td>\n",
              "      <td>962.481517</td>\n",
              "      <td>8.365137</td>\n",
              "      <td>...</td>\n",
              "      <td>19.490310</td>\n",
              "      <td>1.283113</td>\n",
              "      <td>41.364096</td>\n",
              "      <td>12.553525</td>\n",
              "      <td>1.130837</td>\n",
              "      <td>8.104435</td>\n",
              "      <td>8.365137</td>\n",
              "      <td>0.724559</td>\n",
              "      <td>27.268295</td>\n",
              "      <td>0</td>\n",
              "    </tr>\n",
              "    <tr>\n",
              "      <th>2</th>\n",
              "      <td>77.295015</td>\n",
              "      <td>3.243491</td>\n",
              "      <td>92.372614</td>\n",
              "      <td>9.172789</td>\n",
              "      <td>15.054051</td>\n",
              "      <td>202.043568</td>\n",
              "      <td>765.965069</td>\n",
              "      <td>32.032039</td>\n",
              "      <td>956.299456</td>\n",
              "      <td>9.559769</td>\n",
              "      <td>...</td>\n",
              "      <td>21.108993</td>\n",
              "      <td>0.972256</td>\n",
              "      <td>43.417119</td>\n",
              "      <td>12.291829</td>\n",
              "      <td>0.803430</td>\n",
              "      <td>13.262436</td>\n",
              "      <td>9.559769</td>\n",
              "      <td>0.934401</td>\n",
              "      <td>30.137127</td>\n",
              "      <td>0</td>\n",
              "    </tr>\n",
              "    <tr>\n",
              "      <th>3</th>\n",
              "      <td>76.564164</td>\n",
              "      <td>3.142904</td>\n",
              "      <td>94.149558</td>\n",
              "      <td>13.775375</td>\n",
              "      <td>16.417891</td>\n",
              "      <td>216.699098</td>\n",
              "      <td>763.936438</td>\n",
              "      <td>33.039854</td>\n",
              "      <td>956.532232</td>\n",
              "      <td>10.251866</td>\n",
              "      <td>...</td>\n",
              "      <td>20.863726</td>\n",
              "      <td>0.606251</td>\n",
              "      <td>43.648908</td>\n",
              "      <td>10.321110</td>\n",
              "      <td>1.139870</td>\n",
              "      <td>13.293431</td>\n",
              "      <td>10.251866</td>\n",
              "      <td>0.169234</td>\n",
              "      <td>29.919938</td>\n",
              "      <td>0</td>\n",
              "    </tr>\n",
              "    <tr>\n",
              "      <th>4</th>\n",
              "      <td>78.281641</td>\n",
              "      <td>3.139960</td>\n",
              "      <td>94.441006</td>\n",
              "      <td>11.113106</td>\n",
              "      <td>10.899425</td>\n",
              "      <td>227.328291</td>\n",
              "      <td>746.754887</td>\n",
              "      <td>33.018729</td>\n",
              "      <td>950.212816</td>\n",
              "      <td>18.313107</td>\n",
              "      <td>...</td>\n",
              "      <td>8.163300</td>\n",
              "      <td>0.627348</td>\n",
              "      <td>45.461787</td>\n",
              "      <td>14.441649</td>\n",
              "      <td>1.149088</td>\n",
              "      <td>7.149397</td>\n",
              "      <td>18.313107</td>\n",
              "      <td>0.172678</td>\n",
              "      <td>36.065067</td>\n",
              "      <td>3</td>\n",
              "    </tr>\n",
              "  </tbody>\n",
              "</table>\n",
              "<p>5 rows × 37 columns</p>\n",
              "</div>\n",
              "    <div class=\"colab-df-buttons\">\n",
              "\n",
              "  <div class=\"colab-df-container\">\n",
              "    <button class=\"colab-df-convert\" onclick=\"convertToInteractive('df-b423dd19-82e8-40c3-be95-5c245e39cc1a')\"\n",
              "            title=\"Convert this dataframe to an interactive table.\"\n",
              "            style=\"display:none;\">\n",
              "\n",
              "  <svg xmlns=\"http://www.w3.org/2000/svg\" height=\"24px\" viewBox=\"0 -960 960 960\">\n",
              "    <path d=\"M120-120v-720h720v720H120Zm60-500h600v-160H180v160Zm220 220h160v-160H400v160Zm0 220h160v-160H400v160ZM180-400h160v-160H180v160Zm440 0h160v-160H620v160ZM180-180h160v-160H180v160Zm440 0h160v-160H620v160Z\"/>\n",
              "  </svg>\n",
              "    </button>\n",
              "\n",
              "  <style>\n",
              "    .colab-df-container {\n",
              "      display:flex;\n",
              "      gap: 12px;\n",
              "    }\n",
              "\n",
              "    .colab-df-convert {\n",
              "      background-color: #E8F0FE;\n",
              "      border: none;\n",
              "      border-radius: 50%;\n",
              "      cursor: pointer;\n",
              "      display: none;\n",
              "      fill: #1967D2;\n",
              "      height: 32px;\n",
              "      padding: 0 0 0 0;\n",
              "      width: 32px;\n",
              "    }\n",
              "\n",
              "    .colab-df-convert:hover {\n",
              "      background-color: #E2EBFA;\n",
              "      box-shadow: 0px 1px 2px rgba(60, 64, 67, 0.3), 0px 1px 3px 1px rgba(60, 64, 67, 0.15);\n",
              "      fill: #174EA6;\n",
              "    }\n",
              "\n",
              "    .colab-df-buttons div {\n",
              "      margin-bottom: 4px;\n",
              "    }\n",
              "\n",
              "    [theme=dark] .colab-df-convert {\n",
              "      background-color: #3B4455;\n",
              "      fill: #D2E3FC;\n",
              "    }\n",
              "\n",
              "    [theme=dark] .colab-df-convert:hover {\n",
              "      background-color: #434B5C;\n",
              "      box-shadow: 0px 1px 3px 1px rgba(0, 0, 0, 0.15);\n",
              "      filter: drop-shadow(0px 1px 2px rgba(0, 0, 0, 0.3));\n",
              "      fill: #FFFFFF;\n",
              "    }\n",
              "  </style>\n",
              "\n",
              "    <script>\n",
              "      const buttonEl =\n",
              "        document.querySelector('#df-b423dd19-82e8-40c3-be95-5c245e39cc1a button.colab-df-convert');\n",
              "      buttonEl.style.display =\n",
              "        google.colab.kernel.accessAllowed ? 'block' : 'none';\n",
              "\n",
              "      async function convertToInteractive(key) {\n",
              "        const element = document.querySelector('#df-b423dd19-82e8-40c3-be95-5c245e39cc1a');\n",
              "        const dataTable =\n",
              "          await google.colab.kernel.invokeFunction('convertToInteractive',\n",
              "                                                    [key], {});\n",
              "        if (!dataTable) return;\n",
              "\n",
              "        const docLinkHtml = 'Like what you see? Visit the ' +\n",
              "          '<a target=\"_blank\" href=https://colab.research.google.com/notebooks/data_table.ipynb>data table notebook</a>'\n",
              "          + ' to learn more about interactive tables.';\n",
              "        element.innerHTML = '';\n",
              "        dataTable['output_type'] = 'display_data';\n",
              "        await google.colab.output.renderOutput(dataTable, element);\n",
              "        const docLink = document.createElement('div');\n",
              "        docLink.innerHTML = docLinkHtml;\n",
              "        element.appendChild(docLink);\n",
              "      }\n",
              "    </script>\n",
              "  </div>\n",
              "\n",
              "\n",
              "<div id=\"df-d3bc780b-cc2f-4708-957d-dcd1b5cc2cc8\">\n",
              "  <button class=\"colab-df-quickchart\" onclick=\"quickchart('df-d3bc780b-cc2f-4708-957d-dcd1b5cc2cc8')\"\n",
              "            title=\"Suggest charts\"\n",
              "            style=\"display:none;\">\n",
              "\n",
              "<svg xmlns=\"http://www.w3.org/2000/svg\" height=\"24px\"viewBox=\"0 0 24 24\"\n",
              "     width=\"24px\">\n",
              "    <g>\n",
              "        <path d=\"M19 3H5c-1.1 0-2 .9-2 2v14c0 1.1.9 2 2 2h14c1.1 0 2-.9 2-2V5c0-1.1-.9-2-2-2zM9 17H7v-7h2v7zm4 0h-2V7h2v10zm4 0h-2v-4h2v4z\"/>\n",
              "    </g>\n",
              "</svg>\n",
              "  </button>\n",
              "\n",
              "<style>\n",
              "  .colab-df-quickchart {\n",
              "      --bg-color: #E8F0FE;\n",
              "      --fill-color: #1967D2;\n",
              "      --hover-bg-color: #E2EBFA;\n",
              "      --hover-fill-color: #174EA6;\n",
              "      --disabled-fill-color: #AAA;\n",
              "      --disabled-bg-color: #DDD;\n",
              "  }\n",
              "\n",
              "  [theme=dark] .colab-df-quickchart {\n",
              "      --bg-color: #3B4455;\n",
              "      --fill-color: #D2E3FC;\n",
              "      --hover-bg-color: #434B5C;\n",
              "      --hover-fill-color: #FFFFFF;\n",
              "      --disabled-bg-color: #3B4455;\n",
              "      --disabled-fill-color: #666;\n",
              "  }\n",
              "\n",
              "  .colab-df-quickchart {\n",
              "    background-color: var(--bg-color);\n",
              "    border: none;\n",
              "    border-radius: 50%;\n",
              "    cursor: pointer;\n",
              "    display: none;\n",
              "    fill: var(--fill-color);\n",
              "    height: 32px;\n",
              "    padding: 0;\n",
              "    width: 32px;\n",
              "  }\n",
              "\n",
              "  .colab-df-quickchart:hover {\n",
              "    background-color: var(--hover-bg-color);\n",
              "    box-shadow: 0 1px 2px rgba(60, 64, 67, 0.3), 0 1px 3px 1px rgba(60, 64, 67, 0.15);\n",
              "    fill: var(--button-hover-fill-color);\n",
              "  }\n",
              "\n",
              "  .colab-df-quickchart-complete:disabled,\n",
              "  .colab-df-quickchart-complete:disabled:hover {\n",
              "    background-color: var(--disabled-bg-color);\n",
              "    fill: var(--disabled-fill-color);\n",
              "    box-shadow: none;\n",
              "  }\n",
              "\n",
              "  .colab-df-spinner {\n",
              "    border: 2px solid var(--fill-color);\n",
              "    border-color: transparent;\n",
              "    border-bottom-color: var(--fill-color);\n",
              "    animation:\n",
              "      spin 1s steps(1) infinite;\n",
              "  }\n",
              "\n",
              "  @keyframes spin {\n",
              "    0% {\n",
              "      border-color: transparent;\n",
              "      border-bottom-color: var(--fill-color);\n",
              "      border-left-color: var(--fill-color);\n",
              "    }\n",
              "    20% {\n",
              "      border-color: transparent;\n",
              "      border-left-color: var(--fill-color);\n",
              "      border-top-color: var(--fill-color);\n",
              "    }\n",
              "    30% {\n",
              "      border-color: transparent;\n",
              "      border-left-color: var(--fill-color);\n",
              "      border-top-color: var(--fill-color);\n",
              "      border-right-color: var(--fill-color);\n",
              "    }\n",
              "    40% {\n",
              "      border-color: transparent;\n",
              "      border-right-color: var(--fill-color);\n",
              "      border-top-color: var(--fill-color);\n",
              "    }\n",
              "    60% {\n",
              "      border-color: transparent;\n",
              "      border-right-color: var(--fill-color);\n",
              "    }\n",
              "    80% {\n",
              "      border-color: transparent;\n",
              "      border-right-color: var(--fill-color);\n",
              "      border-bottom-color: var(--fill-color);\n",
              "    }\n",
              "    90% {\n",
              "      border-color: transparent;\n",
              "      border-bottom-color: var(--fill-color);\n",
              "    }\n",
              "  }\n",
              "</style>\n",
              "\n",
              "  <script>\n",
              "    async function quickchart(key) {\n",
              "      const quickchartButtonEl =\n",
              "        document.querySelector('#' + key + ' button');\n",
              "      quickchartButtonEl.disabled = true;  // To prevent multiple clicks.\n",
              "      quickchartButtonEl.classList.add('colab-df-spinner');\n",
              "      try {\n",
              "        const charts = await google.colab.kernel.invokeFunction(\n",
              "            'suggestCharts', [key], {});\n",
              "      } catch (error) {\n",
              "        console.error('Error during call to suggestCharts:', error);\n",
              "      }\n",
              "      quickchartButtonEl.classList.remove('colab-df-spinner');\n",
              "      quickchartButtonEl.classList.add('colab-df-quickchart-complete');\n",
              "    }\n",
              "    (() => {\n",
              "      let quickchartButtonEl =\n",
              "        document.querySelector('#df-d3bc780b-cc2f-4708-957d-dcd1b5cc2cc8 button');\n",
              "      quickchartButtonEl.style.display =\n",
              "        google.colab.kernel.accessAllowed ? 'block' : 'none';\n",
              "    })();\n",
              "  </script>\n",
              "</div>\n",
              "\n",
              "    </div>\n",
              "  </div>\n"
            ],
            "application/vnd.google.colaboratory.intrinsic+json": {
              "type": "dataframe",
              "variable_name": "df"
            }
          },
          "metadata": {},
          "execution_count": 2
        }
      ],
      "source": [
        "# Celda 2\n",
        "url = \"https://raw.githubusercontent.com/dtoralg/IE_Calidad_ML/refs/heads/main/Data/Modulo%206/Industrial_fault_detection.csv\"\n",
        "df = pd.read_csv(url)\n",
        "df.head()"
      ]
    },
    {
      "cell_type": "markdown",
      "id": "9f13c30d",
      "metadata": {
        "id": "9f13c30d"
      },
      "source": [
        "## Desarrollo del código paso a paso"
      ]
    },
    {
      "cell_type": "markdown",
      "id": "f7c017b5",
      "metadata": {
        "id": "f7c017b5"
      },
      "source": [
        "**Codificación de clases, escalado y división de datos**"
      ]
    },
    {
      "cell_type": "code",
      "source": [
        "# Reparto de una variable categórica\n",
        "\n",
        "# Cambia 'Fault_Type' por la variable que desees analizar\n",
        "variable = 'Fault_Type'\n",
        "\n",
        "# Recuento de clases\n",
        "plt.figure(figsize=(8, 5))\n",
        "sns.countplot(data=df, x=variable, order=df[variable].value_counts().index, palette='viridis')\n",
        "plt.title(f\"Distribución de la variable '{variable}'\")\n",
        "plt.xlabel(variable)\n",
        "plt.ylabel(\"Frecuencia\")\n",
        "plt.xticks(rotation=45)\n",
        "plt.tight_layout()\n",
        "plt.show()"
      ],
      "metadata": {
        "colab": {
          "base_uri": "https://localhost:8080/",
          "height": 588
        },
        "id": "nFleim_vHE-s",
        "outputId": "e04fe763-531b-4856-af83-f6df03c551f4"
      },
      "id": "nFleim_vHE-s",
      "execution_count": 3,
      "outputs": [
        {
          "output_type": "stream",
          "name": "stderr",
          "text": [
            "<ipython-input-3-bee0e77be1ba>:8: FutureWarning: \n",
            "\n",
            "Passing `palette` without assigning `hue` is deprecated and will be removed in v0.14.0. Assign the `x` variable to `hue` and set `legend=False` for the same effect.\n",
            "\n",
            "  sns.countplot(data=df, x=variable, order=df[variable].value_counts().index, palette='viridis')\n"
          ]
        },
        {
          "output_type": "display_data",
          "data": {
            "text/plain": [
              "<Figure size 800x500 with 1 Axes>"
            ],
            "image/png": "[encoded data removed]"
          },
          "metadata": {}
        }
      ]
    },
    {
      "cell_type": "code",
      "execution_count": 4,
      "id": "372eb5df",
      "metadata": {
        "id": "372eb5df"
      },
      "outputs": [],
      "source": [
        "# Celda 3\n",
        "X = df.drop(columns=[\"Fault_Type\"])\n",
        "y = df[\"Fault_Type\"]\n",
        "\n",
        "# División\n",
        "X_train, X_test, y_train, y_test = train_test_split(X, y, test_size=0.3, stratify=y, random_state=42)"
      ]
    },
    {
      "cell_type": "markdown",
      "id": "edd9fc21",
      "metadata": {
        "id": "edd9fc21"
      },
      "source": [
        "**Entrenamiento de red neuronal multicapa (MLP)**"
      ]
    },
    {
      "cell_type": "code",
      "source": [
        "# Escalado de variables\n",
        "scaler = StandardScaler()\n",
        "X_train = scaler.fit_transform(X_train)\n",
        "X_test = scaler.fit_transform(X_test)\n"
      ],
      "metadata": {
        "id": "I9WGIf2-Hb8V"
      },
      "id": "I9WGIf2-Hb8V",
      "execution_count": 5,
      "outputs": []
    },
    {
      "cell_type": "code",
      "source": [
        "# Crear y aplicar SMOTE\n",
        "smote = SMOTE(random_state=42)\n",
        "X_train_sm, y_train_sm = smote.fit_resample(X_train, y_train)\n",
        "\n",
        "# Mostrar distribución balanceada\n",
        "print(\"Distribución después de SMOTE:\", Counter(y_train))"
      ],
      "metadata": {
        "colab": {
          "base_uri": "https://localhost:8080/"
        },
        "id": "yA_T901kHdfs",
        "outputId": "3777b89c-6612-4a6e-e151-e8ce83b9b4df"
      },
      "id": "yA_T901kHdfs",
      "execution_count": 6,
      "outputs": [
        {
          "output_type": "stream",
          "name": "stdout",
          "text": [
            "Distribución después de SMOTE: Counter({0: 507, 2: 67, 1: 64, 3: 62})\n"
          ]
        }
      ]
    },
    {
      "cell_type": "code",
      "execution_count": 7,
      "id": "051a446b",
      "metadata": {
        "colab": {
          "base_uri": "https://localhost:8080/"
        },
        "id": "051a446b",
        "outputId": "28108788-1123-49d7-e098-b9f29acf9f20"
      },
      "outputs": [
        {
          "output_type": "stream",
          "name": "stderr",
          "text": [
            "/usr/local/lib/python3.11/dist-packages/keras/src/layers/core/dense.py:87: UserWarning: Do not pass an `input_shape`/`input_dim` argument to a layer. When using Sequential models, prefer using an `Input(shape)` object as the first layer in the model instead.\n",
            "  super().__init__(activity_regularizer=activity_regularizer, **kwargs)\n"
          ]
        }
      ],
      "source": [
        "# Celda 4\n",
        "model = Sequential()\n",
        "model.add(Dense(64, activation='relu', input_shape=(X_train_sm.shape[1],)))\n",
        "model.add(Dropout(0.2))\n",
        "model.add(Dense(128, activation='relu'))\n",
        "model.add(Dropout(0.2))\n",
        "model.add(Dense(128, activation='relu'))\n",
        "model.add(Dropout(0.2))\n",
        "model.add(Dense(4, activation='softmax')) # 4 clases posibles\n",
        "\n",
        "model.compile(optimizer='adam', loss='categorical_crossentropy', metrics=['accuracy'])\n",
        "\n",
        "# Enconding de la y antes de hacer el fit del modelo\n",
        "le = LabelEncoder()\n",
        "y_onehot = to_categorical(le.fit_transform(y_train_sm))\n",
        "\n",
        "history = model.fit(X_train_sm, y_onehot, epochs=100, batch_size=32, validation_split=0.2, verbose=0)"
      ]
    },
    {
      "cell_type": "markdown",
      "id": "282be804",
      "metadata": {
        "id": "282be804"
      },
      "source": [
        "## Visualización de resultados"
      ]
    },
    {
      "cell_type": "code",
      "execution_count": 8,
      "id": "ece03289",
      "metadata": {
        "colab": {
          "base_uri": "https://localhost:8080/"
        },
        "id": "ece03289",
        "outputId": "bd67ac30-474d-4df1-befa-f2995e90f48b"
      },
      "outputs": [
        {
          "output_type": "stream",
          "name": "stdout",
          "text": [
            "\u001b[1m10/10\u001b[0m \u001b[32m━━━━━━━━━━━━━━━━━━━━\u001b[0m\u001b[37m\u001b[0m \u001b[1m0s\u001b[0m 8ms/step\n",
            "              precision    recall  f1-score   support\n",
            "\n",
            "           0       0.74      0.87      0.80       218\n",
            "           1       0.12      0.07      0.09        27\n",
            "           2       0.18      0.07      0.10        28\n",
            "           3       0.11      0.07      0.09        27\n",
            "\n",
            "    accuracy                           0.65       300\n",
            "   macro avg       0.29      0.27      0.27       300\n",
            "weighted avg       0.58      0.65      0.61       300\n",
            "\n",
            "F1 Macro: 0.27090764532624995\n"
          ]
        }
      ],
      "source": [
        "# Celda 5\n",
        "y_pred_proba = model.predict(X_test)\n",
        "y_pred = y_pred_proba.argmax(axis=1)\n",
        "\n",
        "print(classification_report(y_test, y_pred,))\n",
        "print(\"F1 Macro:\", f1_score(y_test, y_pred, average='macro'))"
      ]
    },
    {
      "cell_type": "code",
      "execution_count": 9,
      "id": "2e6fb990",
      "metadata": {
        "colab": {
          "base_uri": "https://localhost:8080/",
          "height": 573
        },
        "id": "2e6fb990",
        "outputId": "e29d45a6-742a-4885-b4e5-c4e9a6a4c57c"
      },
      "outputs": [
        {
          "output_type": "display_data",
          "data": {
            "text/plain": [
              "<Figure size 1000x600 with 2 Axes>"
            ],
            "image/png": "[encoded data removed]"
          },
          "metadata": {}
        }
      ],
      "source": [
        "# Celda 6\n",
        "cm = confusion_matrix(y_test, y_pred)\n",
        "sns.heatmap(cm, annot=True, fmt='d', cmap='Blues', xticklabels=le.classes_, yticklabels=le.classes_)\n",
        "plt.title(\"Matriz de Confusión - Red Neuronal\")\n",
        "plt.xlabel(\"Predicción\")\n",
        "plt.ylabel(\"Real\")\n",
        "plt.show()"
      ]
    },
    {
      "cell_type": "markdown",
      "id": "b08e7f04",
      "metadata": {
        "id": "b08e7f04"
      },
      "source": [
        "**Comparación con modelos clásicos**"
      ]
    },
    {
      "cell_type": "code",
      "execution_count": 19,
      "id": "fe1d42ae",
      "metadata": {
        "colab": {
          "base_uri": "https://localhost:8080/"
        },
        "id": "fe1d42ae",
        "outputId": "02639ec8-78e6-47d5-bc9b-97d86db72fb0"
      },
      "outputs": [
        {
          "output_type": "stream",
          "name": "stdout",
          "text": [
            "Random Forest\n",
            "              precision    recall  f1-score   support\n",
            "\n",
            "           0       0.73      1.00      0.84       218\n",
            "           1       0.00      0.00      0.00        27\n",
            "           2       0.00      0.00      0.00        28\n",
            "           3       0.00      0.00      0.00        27\n",
            "\n",
            "    accuracy                           0.73       300\n",
            "   macro avg       0.18      0.25      0.21       300\n",
            "weighted avg       0.53      0.73      0.61       300\n",
            "\n",
            "F1 Macro: 0.21042471042471042\n"
          ]
        },
        {
          "output_type": "stream",
          "name": "stderr",
          "text": [
            "/usr/local/lib/python3.11/dist-packages/sklearn/metrics/_classification.py:1565: UndefinedMetricWarning: Precision is ill-defined and being set to 0.0 in labels with no predicted samples. Use `zero_division` parameter to control this behavior.\n",
            "  _warn_prf(average, modifier, f\"{metric.capitalize()} is\", len(result))\n",
            "/usr/local/lib/python3.11/dist-packages/sklearn/metrics/_classification.py:1565: UndefinedMetricWarning: Precision is ill-defined and being set to 0.0 in labels with no predicted samples. Use `zero_division` parameter to control this behavior.\n",
            "  _warn_prf(average, modifier, f\"{metric.capitalize()} is\", len(result))\n",
            "/usr/local/lib/python3.11/dist-packages/sklearn/metrics/_classification.py:1565: UndefinedMetricWarning: Precision is ill-defined and being set to 0.0 in labels with no predicted samples. Use `zero_division` parameter to control this behavior.\n",
            "  _warn_prf(average, modifier, f\"{metric.capitalize()} is\", len(result))\n"
          ]
        }
      ],
      "source": [
        "# Celda 8 - Random Forest\n",
        "rf = RandomForestClassifier(random_state=42, class_weight= 'balanced')\n",
        "rf.fit(X_train, y_train)\n",
        "y_pred_rf = rf.predict(X_test)\n",
        "print(\"Random Forest\")\n",
        "print(classification_report(y_test, y_pred_rf))\n",
        "print(\"F1 Macro:\", f1_score(y_test, y_pred_rf, average='macro'))"
      ]
    },
    {
      "cell_type": "code",
      "execution_count": 20,
      "id": "7b2815fc",
      "metadata": {
        "colab": {
          "base_uri": "https://localhost:8080/"
        },
        "id": "7b2815fc",
        "outputId": "4ba63b89-810c-4754-9c39-b42125cf6559"
      },
      "outputs": [
        {
          "output_type": "stream",
          "name": "stdout",
          "text": [
            "Regresión Logística\n",
            "              precision    recall  f1-score   support\n",
            "\n",
            "           0       0.73      1.00      0.84       218\n",
            "           1       0.00      0.00      0.00        27\n",
            "           2       0.00      0.00      0.00        28\n",
            "           3       0.00      0.00      0.00        27\n",
            "\n",
            "    accuracy                           0.73       300\n",
            "   macro avg       0.18      0.25      0.21       300\n",
            "weighted avg       0.53      0.73      0.61       300\n",
            "\n",
            "F1 Macro: 0.21042471042471042\n"
          ]
        },
        {
          "output_type": "stream",
          "name": "stderr",
          "text": [
            "/usr/local/lib/python3.11/dist-packages/sklearn/metrics/_classification.py:1565: UndefinedMetricWarning: Precision is ill-defined and being set to 0.0 in labels with no predicted samples. Use `zero_division` parameter to control this behavior.\n",
            "  _warn_prf(average, modifier, f\"{metric.capitalize()} is\", len(result))\n",
            "/usr/local/lib/python3.11/dist-packages/sklearn/metrics/_classification.py:1565: UndefinedMetricWarning: Precision is ill-defined and being set to 0.0 in labels with no predicted samples. Use `zero_division` parameter to control this behavior.\n",
            "  _warn_prf(average, modifier, f\"{metric.capitalize()} is\", len(result))\n",
            "/usr/local/lib/python3.11/dist-packages/sklearn/metrics/_classification.py:1565: UndefinedMetricWarning: Precision is ill-defined and being set to 0.0 in labels with no predicted samples. Use `zero_division` parameter to control this behavior.\n",
            "  _warn_prf(average, modifier, f\"{metric.capitalize()} is\", len(result))\n"
          ]
        }
      ],
      "source": [
        "# Celda 9 - Regresión Logística\n",
        "lr = LogisticRegression(max_iter=1000)\n",
        "lr.fit(X_train, y_train)\n",
        "y_pred_lr = lr.predict(X_test)\n",
        "print(\"Regresión Logística\")\n",
        "print(classification_report(y_test, y_pred_lr))\n",
        "print(\"F1 Macro:\", f1_score(y_test, y_pred_lr, average='macro'))"
      ]
    },
    {
      "cell_type": "markdown",
      "id": "e12a8055",
      "metadata": {
        "id": "e12a8055"
      },
      "source": [
        "## Conclusiones"
      ]
    },
    {
      "cell_type": "markdown",
      "id": "6d08dfc6",
      "metadata": {
        "id": "6d08dfc6"
      },
      "source": [
        "- La red neuronal multicapa mostró un rendimiento sustancialmente mejor frente a modelos clásicos. Aún así la precisión general es baja debido al fuerte desbalanceo del dataset.\n",
        "- El uso de `softmax` y codificación `one-hot` permitió abordar correctamente la clasificación multiclase.\n",
        "- El `F1 Macro` permitió comparar modelos de forma justa frente al desbalance.\n",
        "\n",
        "Este ejercicio refuerza el papel de las redes neuronales en aplicaciones industriales reales, donde la clasificación precisa de fallos puede mejorar la eficiencia y seguridad del proceso."
      ]
    },
    {
      "cell_type": "markdown",
      "id": "298811fd",
      "metadata": {
        "id": "298811fd"
      },
      "source": [
        "## Próximos pasos"
      ]
    },
    {
      "cell_type": "markdown",
      "id": "2b076ad6",
      "metadata": {
        "id": "2b076ad6"
      },
      "source": [
        "- Incluir regularización L2 y Batch Normalization para mejorar la generalización del modelo.\n",
        "- Implementar Grid Search para afinar hiperparámetros como tasa de dropout o tamaño de capas ocultas.\n",
        "- Usar embeddings y datos temporales si se dispone de secuencias de sensores en el tiempo.\n",
        "\n",
        "---\n",
        "\n",
        "Dataset: Industrial_fault_detection.csv — Aplicaciones industriales reales."
      ]
    }
  ],
  "metadata": {
    "colab": {
      "provenance": [],
      "include_colab_link": true
    },
    "language_info": {
      "name": "python"
    },
    "kernelspec": {
      "name": "python3",
      "display_name": "Python 3"
    }
  },
  "nbformat": 4,
  "nbformat_minor": 5
}