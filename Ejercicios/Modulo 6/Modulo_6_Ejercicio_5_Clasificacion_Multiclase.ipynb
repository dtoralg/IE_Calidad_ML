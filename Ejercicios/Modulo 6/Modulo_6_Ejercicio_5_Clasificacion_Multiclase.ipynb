{
  "cells": [
    {
      "cell_type": "markdown",
      "metadata": {
        "id": "view-in-github",
        "colab_type": "text"
      },
      "source": [
        "<a href=\"https://colab.research.google.com/github/dtoralg/IE_Calidad_ML/blob/main/Ejercicios/Modulo%206/Modulo_6_Ejercicio_5_Clasificacion_Multiclase.ipynb\" target=\"_parent\"><img src=\"https://colab.research.google.com/assets/colab-badge.svg\" alt=\"Open In Colab\"/></a>"
      ]
    },
    {
      "cell_type": "markdown",
      "id": "5c2cddf8",
      "metadata": {
        "id": "5c2cddf8"
      },
      "source": [
        "# **Ejercicio 5: Clasificación Multiclase con Redes Neuronales**\n",
        "**Propósito**: Aplicar un modelo de red neuronal multicapa para abordar una tarea de clasificación multiclase en base a sensores industriales."
      ]
    },
    {
      "cell_type": "markdown",
      "id": "63f21530",
      "metadata": {
        "id": "63f21530"
      },
      "source": [
        "## Introducción\n",
        "\n",
        "En los entornos industriales modernos, la recopilación masiva de datos a través de sensores ha abierto nuevas oportunidades para detectar, clasificar y prevenir fallos en sistemas de producción.\n",
        "\n",
        "Este ejercicio aborda un problema de **clasificación multiclase** utilizando una **red neuronal multicapa (MLP)** para predecir el tipo de fallo presente en una línea de producción, a partir de variables físicas y transformadas extraídas de sensores industriales.\n",
        "\n",
        "Trabajaremos con el dataset `Industrial_fault_detection.csv`, que contiene la variable objetivo `Fault_Type`, con múltiples clases representando tipos distintos de fallo, incluyendo también la clase `No Fault`.\n",
        "\n",
        "Los objetivos principales de este ejercicio son:\n",
        "- Aplicar técnicas de preparación de datos para clasificación multiclase.\n",
        "- Entrenar una red neuronal multicapa con función `softmax`.\n",
        "- Evaluar el rendimiento del modelo con métricas específicas: `F1 Macro`, matriz de confusión, curvas `ROC` por clase.\n",
        "- Comparar los resultados obtenidos con modelos clásicos como Random Forest y Regresión Logística.\n",
        "\n",
        "Este ejercicio forma parte del módulo de modelos avanzados y permite poner en práctica técnicas modernas de clasificación en un contexto industrial realista.\n"
      ]
    },
    {
      "cell_type": "markdown",
      "id": "0226f4a9",
      "metadata": {
        "id": "0226f4a9"
      },
      "source": [
        "## Carga de librerías y configuración del entorno"
      ]
    },
    {
      "cell_type": "code",
      "execution_count": null,
      "id": "6dcfc99c",
      "metadata": {
        "id": "6dcfc99c"
      },
      "outputs": [],
      "source": [
        "# Celda 1\n",
        "import pandas as pd\n",
        "import numpy as np\n",
        "import matplotlib.pyplot as plt\n",
        "import seaborn as sns\n",
        "\n",
        "from sklearn.model_selection import train_test_split\n",
        "from sklearn.preprocessing import StandardScaler, LabelEncoder\n",
        "from sklearn.metrics import classification_report, confusion_matrix, f1_score, roc_curve, auc\n",
        "from sklearn.linear_model import LogisticRegression\n",
        "from sklearn.ensemble import RandomForestClassifier\n",
        "\n",
        "from tensorflow.keras.models import Sequential\n",
        "from tensorflow.keras.layers import Dense, Dropout\n",
        "from tensorflow.keras.utils import to_categorical\n",
        "\n",
        "from imblearn.over_sampling import SMOTE\n",
        "from collections import Counter\n",
        "\n",
        "# Estilo visual\n",
        "sns.set(style=\"whitegrid\")\n",
        "plt.rcParams[\"figure.figsize\"] = (10, 6)"
      ]
    },
    {
      "cell_type": "markdown",
      "id": "4da5ff4a",
      "metadata": {
        "id": "4da5ff4a"
      },
      "source": [
        "## Descripción del dataset o datos de entrada"
      ]
    },
    {
      "cell_type": "markdown",
      "id": "4962dba6",
      "metadata": {
        "id": "4962dba6"
      },
      "source": [
        "El dataset `Industrial_fault_detection.csv` simula un entorno industrial en el que múltiples sensores registran variables físicas y espectrales de piezas evaluadas durante el proceso de fabricación.\n",
        "\n",
        "### Variables incluidas:\n",
        "- **Sensores físicos**:\n",
        "  - `Temperature`, `Pressure`, `Vibration`, `Voltage`, `Current`, `Flow`\n",
        "- **Transformadas espectrales (FFT)**:\n",
        "  - `FFT_Temp`, `FFT_Vib`, `FFT_Pres`\n",
        "- **Variable objetivo**:\n",
        "  - `Fault_Type`: representa diferentes tipos de fallo o la ausencia de fallo (`No Fault`)\n",
        "\n",
        "Este dataset es ideal para tareas de clasificación multiclase por su estructura, número de observaciones y balance de clases."
      ]
    },
    {
      "cell_type": "markdown",
      "id": "fe6cea58",
      "metadata": {
        "id": "fe6cea58"
      },
      "source": [
        "## Carga del dataset"
      ]
    },
    {
      "cell_type": "code",
      "execution_count": null,
      "id": "7a1b1150",
      "metadata": {
        "id": "7a1b1150"
      },
      "outputs": [],
      "source": [
        "# Celda 2\n",
        "url = \"https://raw.githubusercontent.com/dtoralg/IE_Calidad_ML/refs/heads/main/Data/Modulo%206/Industrial_fault_detection.csv\"\n",
        "df = pd.read_csv(url)\n",
        "df.head()"
      ]
    },
    {
      "cell_type": "markdown",
      "id": "9f13c30d",
      "metadata": {
        "id": "9f13c30d"
      },
      "source": [
        "## Desarrollo del código paso a paso"
      ]
    },
    {
      "cell_type": "markdown",
      "id": "f7c017b5",
      "metadata": {
        "id": "f7c017b5"
      },
      "source": [
        "**Codificación de clases, escalado y división de datos**"
      ]
    },
    {
      "cell_type": "code",
      "source": [
        "# Reparto de una variable categórica\n",
        "\n",
        "# Cambia 'Fault_Type' por la variable que desees analizar\n",
        "variable = 'Fault_Type'\n",
        "\n",
        "# Recuento de clases\n",
        "plt.figure(figsize=(8, 5))\n",
        "sns.countplot(data=df, x=variable, order=df[variable].value_counts().index, palette='viridis')\n",
        "plt.title(f\"Distribución de la variable '{variable}'\")\n",
        "plt.xlabel(variable)\n",
        "plt.ylabel(\"Frecuencia\")\n",
        "plt.xticks(rotation=45)\n",
        "plt.tight_layout()\n",
        "plt.show()"
      ],
      "metadata": {
        "id": "nFleim_vHE-s"
      },
      "id": "nFleim_vHE-s",
      "execution_count": null,
      "outputs": []
    },
    {
      "cell_type": "code",
      "execution_count": null,
      "id": "372eb5df",
      "metadata": {
        "id": "372eb5df"
      },
      "outputs": [],
      "source": [
        "# Celda 3\n",
        "X = ... # todas las columnas menos el target\n",
        "y = ... #target\n",
        "\n",
        "# División\n",
        "X_train, X_test, y_train, y_test = ..."
      ]
    },
    {
      "cell_type": "markdown",
      "id": "edd9fc21",
      "metadata": {
        "id": "edd9fc21"
      },
      "source": [
        "**Entrenamiento de red neuronal multicapa (MLP)**"
      ]
    },
    {
      "cell_type": "code",
      "source": [
        "# Escalado de variables X_train y X_test\n",
        "..."
      ],
      "metadata": {
        "id": "I9WGIf2-Hb8V"
      },
      "id": "I9WGIf2-Hb8V",
      "execution_count": null,
      "outputs": []
    },
    {
      "cell_type": "code",
      "source": [
        "# Crear y aplicar SMOTE sobre train\n",
        "...\n",
        "\n",
        "# Mostrar distribución balanceada\n",
        "print(\"Distribución después de SMOTE:\", Counter(y_train_smote))"
      ],
      "metadata": {
        "id": "yA_T901kHdfs"
      },
      "id": "yA_T901kHdfs",
      "execution_count": null,
      "outputs": []
    },
    {
      "cell_type": "code",
      "source": [
        "# Enconding de la variable target antes de hacer el fit del modelo\n",
        "le = LabelEncoder()\n",
        "y_onehot = to_categorical(le.fit_transform(y_train_smote))"
      ],
      "metadata": {
        "id": "SNPAjH6QV0HD"
      },
      "id": "SNPAjH6QV0HD",
      "execution_count": null,
      "outputs": []
    },
    {
      "cell_type": "code",
      "execution_count": null,
      "id": "051a446b",
      "metadata": {
        "id": "051a446b"
      },
      "outputs": [],
      "source": [
        "# Celda 4\n",
        "# Prueba distintas combinaciones de capas para ver como afecta al resultado.\n",
        "# Como inicio, puedes probar una capa Dense, una Dropout, y una capa Dense de salida\n",
        "# Para la capa de salida, piensa en cuantas clases queremos predecir.\n",
        "model = Sequential()\n",
        "model.add(Dense(..., activation=..., input_shape=(X_train_smote.shape[1],)))\n",
        "...\n",
        "model.add(...) # 4 clases posibles\n",
        "\n",
        "# Añade al compilador al menos el \"optimizer\", la función de pérdida y las métricas\n",
        "model.compile(...)\n",
        "\n",
        "history = model.fit(X_train_sm, y_onehot, epochs=..., batch_size=..., validation_split=..., verbose=...)"
      ]
    },
    {
      "cell_type": "markdown",
      "id": "282be804",
      "metadata": {
        "id": "282be804"
      },
      "source": [
        "## Visualización de resultados"
      ]
    },
    {
      "cell_type": "code",
      "execution_count": null,
      "id": "ece03289",
      "metadata": {
        "id": "ece03289"
      },
      "outputs": [],
      "source": [
        "# Celda 5\n",
        "y_pred_proba = model.predict(...)\n",
        "y_pred = y_pred_proba.argmax(axis=1)\n",
        "\n",
        "# Classification Report y F1 del modelo (para todas las clases)\n",
        "print(...)\n",
        "print(\"F1 Macro:\", f1_score(...))"
      ]
    },
    {
      "cell_type": "code",
      "execution_count": null,
      "id": "2e6fb990",
      "metadata": {
        "id": "2e6fb990"
      },
      "outputs": [],
      "source": [
        "# Celda 6\n",
        "cm = confusion_matrix(y_test, y_pred)\n",
        "sns.heatmap(cm, annot=True, fmt='d', cmap='Blues', xticklabels=le.classes_, yticklabels=le.classes_)\n",
        "plt.title(\"Matriz de Confusión - Red Neuronal\")\n",
        "plt.xlabel(\"Predicción\")\n",
        "plt.ylabel(\"Real\")\n",
        "plt.show()"
      ]
    },
    {
      "cell_type": "markdown",
      "id": "b08e7f04",
      "metadata": {
        "id": "b08e7f04"
      },
      "source": [
        "**Comparación con modelos clásicos**"
      ]
    },
    {
      "cell_type": "code",
      "execution_count": null,
      "id": "fe1d42ae",
      "metadata": {
        "id": "fe1d42ae"
      },
      "outputs": [],
      "source": [
        "# Celda 8 - Random Forest\n",
        "\n",
        "# Entrena un modelo RandomForest, calcula sus predicciones y extrae el\n",
        "# Classification_Report y el F1_score del modelo\n",
        "..."
      ]
    },
    {
      "cell_type": "code",
      "execution_count": null,
      "id": "7b2815fc",
      "metadata": {
        "id": "7b2815fc"
      },
      "outputs": [],
      "source": [
        "# Celda 9 - Regresión Logística\n",
        "\n",
        "# Entrena un modelo LogisticRegression, calcula sus predicciones y extrae el\n",
        "# Classification_Report y el F1_score del modelo\n",
        "..."
      ]
    },
    {
      "cell_type": "markdown",
      "id": "e12a8055",
      "metadata": {
        "id": "e12a8055"
      },
      "source": [
        "## Conclusiones"
      ]
    },
    {
      "cell_type": "markdown",
      "id": "6d08dfc6",
      "metadata": {
        "id": "6d08dfc6"
      },
      "source": [
        "- La red neuronal multicapa mostró un rendimiento sustancialmente mejor frente a modelos clásicos. Aún así la precisión general es baja debido al fuerte desbalanceo del dataset.\n",
        "- El uso de `softmax` y codificación `one-hot` permitió abordar correctamente la clasificación multiclase.\n",
        "- El `F1 Macro` permitió comparar modelos de forma justa frente al desbalance.\n",
        "\n",
        "Este ejercicio refuerza el papel de las redes neuronales en aplicaciones industriales reales, donde la clasificación precisa de fallos puede mejorar la eficiencia y seguridad del proceso."
      ]
    },
    {
      "cell_type": "markdown",
      "id": "298811fd",
      "metadata": {
        "id": "298811fd"
      },
      "source": [
        "## Próximos pasos"
      ]
    },
    {
      "cell_type": "markdown",
      "id": "2b076ad6",
      "metadata": {
        "id": "2b076ad6"
      },
      "source": [
        "- Incluir regularización L2 y Batch Normalization para mejorar la generalización del modelo.\n",
        "- Implementar Grid Search para afinar hiperparámetros como tasa de dropout o tamaño de capas ocultas.\n",
        "- Usar embeddings y datos temporales si se dispone de secuencias de sensores en el tiempo.\n",
        "\n",
        "---\n",
        "\n",
        "Dataset: Industrial_fault_detection.csv — Aplicaciones industriales reales."
      ]
    }
  ],
  "metadata": {
    "colab": {
      "provenance": [],
      "include_colab_link": true
    },
    "language_info": {
      "name": "python"
    },
    "kernelspec": {
      "name": "python3",
      "display_name": "Python 3"
    }
  },
  "nbformat": 4,
  "nbformat_minor": 5
}