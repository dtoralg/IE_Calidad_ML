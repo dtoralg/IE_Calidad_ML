{
  "cells": [
    {
      "cell_type": "markdown",
      "metadata": {
        "id": "view-in-github",
        "colab_type": "text"
      },
      "source": [
        "<a href=\"https://colab.research.google.com/github/dtoralg/IE_Calidad_ML/blob/main/Ejercicios/Modulo%203/Modulo_3_Ejercicio_6_Resuelto_txt_txt.ipynb\" target=\"_parent\"><img src=\"https://colab.research.google.com/assets/colab-badge.svg\" alt=\"Open In Colab\"/></a>"
      ]
    },
    {
      "cell_type": "markdown",
      "metadata": {
        "id": "9ce9f16c"
      },
      "source": [
        "# Ejercicio 6: Comparativa de Modelos Supervisados en Bebidas\n",
        "\n",
        "## Objetivo\n",
        "En este ejercicio, trabajarás con el dataset **control_calidad_bebidas.csv** para resolver un problema de clasificación supervisada: predecir si una bebida cumple con los estándares de calidad (variable `Aprobado`).\n",
        "\n",
        "Para ello, implementarás dos modelos diferentes:\n",
        "\n",
        "- **Regresión Logística:** un modelo lineal que te permitirá obtener probabilidades y clasificar en función de un umbral.\n",
        "- **k-Nearest Neighbors (k-NN):** un modelo basado en la similitud de las observaciones.\n",
        "\n",
        "Se dividirá el dataset en conjuntos de entrenamiento y prueba, se entrenarán ambos modelos y se evaluará su desempeño mediante métricas como exactitud, matriz de confusión y reporte de clasificación.\n",
        "\n",
        "Finalmente, compararás los resultados y reflexionarás sobre cuál modelo se adapta mejor a este problema y por qué.\n",
        "\n",
        "¡Manos a la obra!"
      ]
    },
    {
      "cell_type": "markdown",
      "metadata": {
        "id": "f33d1e0e"
      },
      "source": [
        "## 1. Importación de Librerías y Carga del Dataset\n",
        "\n",
        "Importa las librerías necesarias y carga el dataset **control_calidad_bebidas.csv**. Se asume que el archivo se encuentra en el mismo directorio que este notebook.\n",
        "\n",
        "El dataset se espera que contenga al menos las siguientes columnas:\n",
        "- **ID**: Identificador del registro\n",
        "- **Calidad**: Puntuación numérica de calidad\n",
        "- **Defectos**: Cantidad de defectos detectados\n",
        "- **Sensacion**: Puntuación de la evaluación sensorial\n",
        "- **Aprobado**: Variable binaria (1 = aprobado, 0 = no aprobado)"
      ]
    },
    {
      "cell_type": "code",
      "execution_count": null,
      "metadata": {
        "id": "c1e3a9e3"
      },
      "outputs": [],
      "source": [
        "# Importar librerías necesarias\n",
        "import pandas as pd\n",
        "import numpy as np\n",
        "import matplotlib.pyplot as plt\n",
        "import seaborn as sns\n",
        "\n",
        "# Cargar el dataset de calidad de bebidas\n",
        "df_bebidas = pd.read_csv('control_calidad_bebidas.csv')\n",
        "\n",
        "# Mostrar las primeras filas para verificar la carga\n",
        "print(\"Primeras filas del dataset de bebidas:\")\n",
        "display(df_bebidas.head())\n",
        "\n",
        "# Información general del DataFrame\n",
        "print(\"Información del dataset de bebidas:\")\n",
        "display(df_bebidas.info())\n",
        "\n",
        "# Estadísticas descriptivas\n",
        "print(\"Estadísticas descriptivas del dataset de bebidas:\")\n",
        "display(df_bebidas.describe())"
      ]
    },
    {
      "cell_type": "markdown",
      "metadata": {
        "id": "9f6f82a2"
      },
      "source": [
        "## 2. Preprocesamiento y Selección de Variables\n",
        "\n",
        "Define las variables predictoras y la variable objetivo.\n",
        "\n",
        "Para este ejercicio, usaremos las siguientes columnas:\n",
        "- Variables predictoras: **Calidad**, **Defectos** y **Sensacion**.\n",
        "- Variable objetivo: **Aprobado** (1 si la bebida cumple con el estándar, 0 si no).\n",
        "\n",
        "Verifica la existencia de valores nulos en estas columnas y realiza las imputaciones necesarias (si es necesario)."
      ]
    },
    {
      "cell_type": "code",
      "execution_count": null,
      "metadata": {
        "id": "fce42bcb"
      },
      "outputs": [],
      "source": [
        "# Revisar valores nulos en las columnas de interés\n",
        "print(df_bebidas[['Calidad', 'Defectos', 'Sensacion', 'Aprobado']].isnull().sum())\n",
        "\n",
        "# En este ejemplo, asumiremos que los datos están completos o ya han sido preprocesados.\n",
        "\n",
        "# Definir las variables predictoras y la variable objetivo\n",
        "X = df_bebidas[['Calidad', 'Defectos', 'Sensacion']]\n",
        "y = df_bebidas['Aprobado']\n",
        "\n",
        "print(\"Resumen de las variables predictoras:\")\n",
        "display(X.describe())\n",
        "print(\"Distribución de la variable objetivo (Aprobado):\")\n",
        "print(y.value_counts())"
      ]
    },
    {
      "cell_type": "markdown",
      "metadata": {
        "id": "2d3d2b42"
      },
      "source": [
        "## 3. División de Datos y Entrenamiento de Modelos\n",
        "\n",
        "Dividiremos el conjunto en entrenamiento y prueba (80% / 20%) y entrenaremos dos modelos:\n",
        "\n",
        "- **Modelo 1:** Regresión Logística\n",
        "- **Modelo 2:** k-Nearest Neighbors (k-NN)\n",
        "\n",
        "Utilizaremos la función `train_test_split` para dividir los datos y luego entrenaremos ambos modelos."
      ]
    },
    {
      "cell_type": "code",
      "execution_count": null,
      "metadata": {
        "id": "9f4eb6b8"
      },
      "outputs": [],
      "source": [
        "from sklearn.model_selection import train_test_split\n",
        "from sklearn.linear_model import LogisticRegression\n",
        "from sklearn.neighbors import KNeighborsClassifier\n",
        "\n",
        "# Dividir el conjunto de datos en entrenamiento (80%) y prueba (20%)\n",
        "X_train, X_test, y_train, y_test = train_test_split(X, y, test_size=0.2, random_state=42)\n",
        "\n",
        "print(\"Tamaño de X_train:\", X_train.shape)\n",
        "print(\"Tamaño de X_test:\", X_test.shape)\n",
        "\n",
        "# Modelo 1: Regresión Logística\n",
        "modelo_log = LogisticRegression(solver='liblinear')\n",
        "modelo_log.fit(X_train, y_train)\n",
        "\n",
        "# Modelo 2: k-Nearest Neighbors\n",
        "modelo_knn = KNeighborsClassifier(n_neighbors=5)\n",
        "modelo_knn.fit(X_train, y_train)\n",
        "\n",
        "print(\"Ambos modelos han sido entrenados exitosamente.\")"
      ]
    },
    {
      "cell_type": "markdown",
      "metadata": {
        "id": "2a2fba06"
      },
      "source": [
        "## 4. Evaluación de Modelos\n",
        "\n",
        "Evalúa ambos modelos en el conjunto de prueba utilizando métricas de clasificación.\n",
        "\n",
        "Calcula la exactitud, la matriz de confusión y el reporte de clasificación (precisión, recall y F1-score) para cada modelo."
      ]
    },
    {
      "cell_type": "code",
      "execution_count": null,
      "metadata": {
        "id": "91e4a7aa"
      },
      "outputs": [],
      "source": [
        "from sklearn.metrics import accuracy_score, confusion_matrix, classification_report\n",
        "\n",
        "# Evaluación del Modelo 1: Regresión Logística\n",
        "y_pred_log = modelo_log.predict(X_test)\n",
        "exactitud_log = accuracy_score(y_test, y_pred_log)\n",
        "print(\"Regresión Logística - Exactitud:\", exactitud_log)\n",
        "print(\"Regresión Logística - Matriz de Confusión:\")\n",
        "print(confusion_matrix(y_test, y_pred_log))\n",
        "print(\"Regresión Logística - Reporte de Clasificación:\")\n",
        "print(classification_report(y_test, y_pred_log))\n",
        "\n",
        "# Evaluación del Modelo 2: k-Nearest Neighbors\n",
        "y_pred_knn = modelo_knn.predict(X_test)\n",
        "exactitud_knn = accuracy_score(y_test, y_pred_knn)\n",
        "print(\"k-NN - Exactitud:\", exactitud_knn)\n",
        "print(\"k-NN - Matriz de Confusión:\")\n",
        "print(confusion_matrix(y_test, y_pred_knn))\n",
        "print(\"k-NN - Reporte de Clasificación:\")\n",
        "print(classification_report(y_test, y_pred_knn))"
      ]
    },
    {
      "cell_type": "markdown",
      "metadata": {
        "id": "503a3a61"
      },
      "source": [
        "## 5. Sistema de Testeo Automático\n",
        "\n",
        "Este bloque verificará que:\n",
        "\n",
        "- El DataFrame no esté vacío.\n",
        "- Existan las columnas requeridas: `Calidad`, `Defectos`, `Sensacion` y `Aprobado`.\n",
        "- El modelo entrenado tenga una exactitud razonable (por ejemplo, mayor a 0.6) para ambos modelos."
      ]
    },
    {
      "cell_type": "code",
      "execution_count": null,
      "metadata": {
        "id": "7d4d1af6"
      },
      "outputs": [],
      "source": [
        "# Test 1: Verificar que el DataFrame no está vacío\n",
        "assert df_bebidas.shape[0] > 0, \"Test fallido: El DataFrame está vacío.\"\n",
        "\n",
        "# Test 2: Verificar que existen las columnas requeridas\n",
        "columnas_requeridas = ['Calidad', 'Defectos', 'Sensacion', 'Aprobado']\n",
        "for col in columnas_requeridas:\n",
        "    assert col in df_bebidas.columns, f\"Test fallido: La columna {col} no se encontró en el DataFrame.\"\n",
        "\n",
        "# Test 3: Verificar que la exactitud de ambos modelos sea razonable (>= 0.6)\n",
        "assert exactitud_log >= 0.6, f\"Test fallido: La exactitud de Regresión Logística es demasiado baja ({exactitud_log}).\"\n",
        "assert exactitud_knn >= 0.6, f\"Test fallido: La exactitud de k-NN es demasiado baja ({exactitud_knn}).\"\n",
        "\n",
        "print(\"Todos los tests se han pasado correctamente.\")"
      ]
    },
    {
      "cell_type": "markdown",
      "metadata": {
        "id": "a7a25d9f"
      },
      "source": [
        "## 6. Reflexión Final\n",
        "\n",
        "1. ¿Qué diferencias observas en el desempeño de los dos modelos?\n",
        "2. ¿En qué situaciones crees que un modelo podría ser más adecuado que el otro?\n",
        "3. ¿Qué variables crees que tienen mayor influencia en la predicción de la calidad de las bebidas?\n",
        "4. ¿Qué mejoras o ajustes implementarías para optimizar el desempeño de los modelos?\n",
        "\n",
        "_Responde estas preguntas en una celda Markdown adicional o en un comentario._"
      ]
    }
  ],
  "metadata": {
    "kernelspec": {
      "display_name": "Python 3",
      "language": "python",
      "name": "python3"
    },
    "language_info": {
      "name": "python",
      "version": "3.x"
    },
    "colab": {
      "provenance": [],
      "include_colab_link": true
    }
  },
  "nbformat": 4,
  "nbformat_minor": 0
}
