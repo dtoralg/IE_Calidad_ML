{
  "cells": [
    {
      "cell_type": "markdown",
      "metadata": {
        "id": "view-in-github",
        "colab_type": "text"
      },
      "source": [
        "<a href=\"https://colab.research.google.com/github/dtoralg/IE_Calidad_ML/blob/main/Ejercicios/Modulo%203/Modulo_3_Ejercicio_5_Resuelto.ipynb\" target=\"_parent\"><img src=\"https://colab.research.google.com/assets/colab-badge.svg\" alt=\"Open In Colab\"/></a>"
      ]
    },
    {
      "cell_type": "markdown",
      "metadata": {
        "id": "9b1f2e77"
      },
      "source": [
        "# Ejercicio 5: Reducción de Dimensionalidad con PCA en Envases\n",
        "\n",
        "## Objetivo\n",
        "En este ejercicio aplicarás el Análisis de Componentes Principales (PCA) al dataset **control_calidad_envases.csv** para reducir la dimensionalidad de los datos a dos componentes. Esto te permitirá visualizar y comprender la estructura subyacente del conjunto de datos y evaluar qué tanta información se conserva tras la reducción.\n",
        "\n",
        "### Pasos a seguir:\n",
        "- Cargar el dataset de envases.\n",
        "- Seleccionar las variables numéricas relevantes (por ejemplo, `Calidad`, `Defectos`, `Consistencia` y `Durabilidad`).\n",
        "- Escalar las variables usando `StandardScaler` para que todas tengan la misma importancia.\n",
        "- Aplicar PCA para reducir la dimensionalidad a 2 componentes.\n",
        "- Visualizar los datos proyectados en un scatter plot.\n",
        "- Validar que la reducción de dimensionalidad se realizó correctamente.\n",
        "\n",
        "¡Manos a la obra!"
      ]
    },
    {
      "cell_type": "markdown",
      "metadata": {
        "id": "3a3d9a54"
      },
      "source": [
        "## 1. Importación de Librerías y Carga del Dataset\n",
        "\n",
        "Importa las librerías necesarias y carga el archivo **control_calidad_envases.csv**. Se asume que el archivo se encuentra en el mismo directorio que este notebook."
      ]
    },
    {
      "cell_type": "code",
      "execution_count": null,
      "metadata": {
        "id": "49bb2e45"
      },
      "outputs": [],
      "source": [
        "# Importar librerías necesarias\n",
        "import pandas as pd\n",
        "import matplotlib.pyplot as plt\n",
        "import seaborn as sns\n",
        "from sklearn.preprocessing import StandardScaler\n",
        "from sklearn.decomposition import PCA\n",
        "\n",
        "# Cargar el dataset de calidad de envases\n",
        "df_envases = pd.read_csv('control_calidad_envases.csv')\n",
        "\n",
        "# Mostrar las primeras filas para verificar la carga\n",
        "print(\"Primeras filas del dataset de envases:\")\n",
        "display(df_envases.head())\n",
        "\n",
        "# Información general del DataFrame\n",
        "print(\"Información del dataset de envases:\")\n",
        "display(df_envases.info())\n",
        "\n",
        "# Estadísticas descriptivas\n",
        "print(\"Estadísticas descriptivas del dataset de envases:\")\n",
        "display(df_envases.describe())"
      ]
    },
    {
      "cell_type": "markdown",
      "metadata": {
        "id": "0a567aa3"
      },
      "source": [
        "## 2. Selección y Escalado de Variables Numéricas\n",
        "\n",
        "Selecciona las variables numéricas relevantes para el análisis. En este ejercicio utilizaremos las columnas **Calidad**, **Defectos**, **Consistencia** y **Durabilidad**. Luego, aplicaremos escalado para homogenizar la importancia de cada variable."
      ]
    },
    {
      "cell_type": "code",
      "execution_count": null,
      "metadata": {
        "id": "a2e9d0e1"
      },
      "outputs": [],
      "source": [
        "# Seleccionar las variables numéricas\n",
        "numeric_features = ['Calidad', 'Defectos', 'Consistencia', 'Durabilidad']\n",
        "df_numeric = df_envases[numeric_features].copy()\n",
        "\n",
        "# Aplicar StandardScaler\n",
        "scaler = StandardScaler()\n",
        "df_scaled = pd.DataFrame(scaler.fit_transform(df_numeric), columns=numeric_features)\n",
        "\n",
        "print(\"Variables numéricas escaladas:\")\n",
        "display(df_scaled.head())"
      ]
    },
    {
      "cell_type": "markdown",
      "metadata": {
        "id": "68fa7a0d"
      },
      "source": [
        "## 3. Aplicación de PCA para Reducción de Dimensionalidad\n",
        "\n",
        "Ahora aplicarás PCA para reducir la dimensionalidad del conjunto de datos escalado a 2 componentes. Esto te ayudará a visualizar los datos en un espacio bidimensional y a entender cuánta variación se conserva."
      ]
    },
    {
      "cell_type": "code",
      "execution_count": null,
      "metadata": {
        "id": "bf6a6a2a"
      },
      "outputs": [],
      "source": [
        "# Aplicar PCA para reducir a 2 componentes\n",
        "pca = PCA(n_components=2)\n",
        "df_pca = pd.DataFrame(pca.fit_transform(df_scaled), columns=['PC1', 'PC2'])\n",
        "\n",
        "# Mostrar la varianza explicada por cada componente\n",
        "print(\"Varianza explicada por cada componente:\")\n",
        "print(pca.explained_variance_ratio_)\n",
        "\n",
        "# Visualizar los datos proyectados en 2D\n",
        "plt.figure(figsize=(8,6))\n",
        "sns.scatterplot(x='PC1', y='PC2', data=df_pca, alpha=0.8)\n",
        "plt.title('Visualización de los datos mediante PCA')\n",
        "plt.xlabel('Componente Principal 1')\n",
        "plt.ylabel('Componente Principal 2')\n",
        "plt.show()"
      ]
    },
    {
      "cell_type": "markdown",
      "metadata": {
        "id": "82e7e1f3"
      },
      "source": [
        "## 4. Sistema de Testeo Automático\n",
        "\n",
        "Este bloque verificará que:\n",
        "\n",
        "- El DataFrame original de envases no esté vacío.\n",
        "- Existan las columnas numéricas utilizadas en el análisis.\n",
        "- La lista de variables escaladas tenga la longitud correcta.\n",
        "- El DataFrame resultante del PCA tenga 2 columnas (PC1 y PC2)."
      ]
    },
    {
      "cell_type": "code",
      "execution_count": null,
      "metadata": {
        "id": "eabae637"
      },
      "outputs": [],
      "source": [
        "# Test 1: Verificar que el DataFrame original no está vacío\n",
        "assert df_envases.shape[0] > 0, \"Test fallido: El DataFrame original de envases está vacío.\"\n",
        "\n",
        "# Test 2: Verificar que existen las columnas numéricas\n",
        "for col in numeric_features:\n",
        "    assert col in df_envases.columns, f\"Test fallido: La columna {col} no se encontró en el DataFrame.\"\n",
        "\n",
        "# Test 3: Verificar que el DataFrame escalado tiene el mismo número de columnas que numeric_features\n",
        "assert df_scaled.shape[1] == len(numeric_features), \"Test fallido: El número de columnas escaladas es incorrecto.\"\n",
        "\n",
        "# Test 4: Verificar que el DataFrame PCA tiene 2 columnas\n",
        "assert df_pca.shape[1] == 2, \"Test fallido: El DataFrame del PCA no tiene 2 componentes.\"\n",
        "\n",
        "print(\"Todos los tests se han pasado correctamente.\")"
      ]
    },
    {
      "cell_type": "markdown",
      "metadata": {
        "id": "539ae9d0"
      },
      "source": [
        "## 5. Reflexión Final\n",
        "\n",
        "1. ¿Qué porcentaje de la varianza total capturan los dos primeros componentes?\n",
        "2. ¿Qué conclusiones puedes extraer sobre la estructura de los datos a partir de la visualización PCA?\n",
        "3. ¿Crees que la reducción de dimensionalidad puede ayudar a simplificar el análisis en este contexto? ¿Por qué?\n",
        "\n",
        "_Responde estas preguntas en una celda Markdown adicional o en un comentario._"
      ]
    }
  ],
  "metadata": {
    "kernelspec": {
      "display_name": "Python 3",
      "language": "python",
      "name": "python3"
    },
    "language_info": {
      "name": "python",
      "version": "3.x"
    },
    "colab": {
      "provenance": [],
      "include_colab_link": true
    }
  },
  "nbformat": 4,
  "nbformat_minor": 0
}