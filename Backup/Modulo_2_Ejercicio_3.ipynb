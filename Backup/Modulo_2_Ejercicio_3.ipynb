{
  "nbformat": 4,
  "nbformat_minor": 0,
  "metadata": {
    "colab": {
      "provenance": [],
      "authorship_tag": "ABX9TyOSjeTqNlKMbY2rSKjLC8Ce",
      "include_colab_link": true
    },
    "kernelspec": {
      "name": "python3",
      "display_name": "Python 3"
    },
    "language_info": {
      "name": "python"
    }
  },
  "cells": [
    {
      "cell_type": "markdown",
      "metadata": {
        "id": "view-in-github",
        "colab_type": "text"
      },
      "source": [
        "<a href=\"https://colab.research.google.com/github/dtoralg/IE_Calidad_ML/blob/main/Ejercicios/Modulo%202/Modulo_2_Ejercicio_3.ipynb\" target=\"_parent\"><img src=\"https://colab.research.google.com/assets/colab-badge.svg\" alt=\"Open In Colab\"/></a>"
      ]
    },
    {
      "cell_type": "markdown",
      "source": [
        "# Ejercicio 3: Integración y Consolidación de Datos\n",
        "\n",
        "## Objetivo\n",
        "En este ejercicio aprenderás a integrar dos conjuntos de datos:\n",
        "1. **Dataset Principal:**  \n",
        "   El dataset Iris, que contiene mediciones de sépalos y pétalos de tres especies de iris, obtenido desde scikit-learn.\n",
        "2. **Dataset Extra:**  \n",
        "   Un dataset que crearemos a partir del principal, en el que calcularemos nuevas características (por ejemplo, \"sepal_area\" y \"petal_area\").\n",
        "\n",
        "Utilizaremos la columna **sample_id** (que asignaremos a cada muestra) como clave para fusionar ambos DataFrames. La integración de estos datos nos permitirá enriquecer el análisis, combinando las medidas originales con las nuevas características derivadas.\n",
        "\n",
        "> **Pregunta de Reflexión:**  \n",
        "> ¿Cómo puede complementar un análisis el disponer de nuevas variables derivadas (por ejemplo, áreas) además de las medidas originales?\n",
        "\n",
        "¡Empecemos!\n"
      ],
      "metadata": {
        "id": "LeUEmU7z6Lpb"
      }
    },
    {
      "cell_type": "code",
      "source": [
        "# Paso 1: Importa las librerías necesarias y carga el dataset Iris.\n",
        "\n",
        "# TODO: Importa pandas y scikit-learn (en concreto el dataset Iris). También importa matplotlib si deseas visualizar.\n",
        "\n",
        "# Carga el dataset Iris utilizando load_iris con as_frame=True para obtener un DataFrame directamente.\n",
        "...\n",
        "\n",
        "# Extrae el DataFrame con las características y la columna target.\n",
        "df_iris = iris.frame\n",
        "\n",
        "# Para tener un identificador único, restablece el índice y nómbralo 'sample_id'\n",
        "df_iris.reset_index(inplace=True)\n",
        "df_iris.rename(...)\n",
        "\n",
        "# Visualiza las primeras filas para verificar la carga y transformación.\n",
        "print(\"Primeras filas del dataset Iris:\")\n",
        "..."
      ],
      "metadata": {
        "id": "NL_TJ8oA6Mdq"
      },
      "execution_count": null,
      "outputs": []
    },
    {
      "cell_type": "code",
      "source": [
        "# Paso 2: Crea un segundo DataFrame con información extra calculada a partir del dataset Iris.\n",
        "\n",
        "# TODO: Crea un DataFrame llamado df_extra que contenga:\n",
        "# - La columna 'sample_id' (la misma que en df_iris)\n",
        "# - Una nueva columna 'sepal_area' calculada como: sepal length (cm) * sepal width (cm)\n",
        "# - Una nueva columna 'petal_area' calculada como: petal length (cm) * petal width (cm)\n",
        "\n",
        "# Nota: Los nombres de las columnas en df_iris son:\n",
        "# 'sepal length (cm)', 'sepal width (cm)', 'petal length (cm)', 'petal width (cm)'\n",
        "...\n",
        "\n",
        "# Muestra las primeras filas de df_extra para comprobar la creación.\n",
        "print(\"Primeras filas del dataset extra:\")\n",
        "...\n"
      ],
      "metadata": {
        "id": "AQU1EHV16R36"
      },
      "execution_count": null,
      "outputs": []
    },
    {
      "cell_type": "code",
      "source": [
        "# Paso 3: Explora y compara la estructura de df_iris y df_extra\n",
        "\n",
        "# TODO: Imprime las columnas y tipos de datos de ambos DataFrames.\n",
        "...\n",
        "\n",
        "print(\"Columnas y tipos de datos en df_extra:\")\n",
        "...\n",
        "\n",
        "# Reflexiona: ¿Qué columnas tienen en común y cuál será la clave de fusión?\n"
      ],
      "metadata": {
        "id": "nZlgWc506S9_"
      },
      "execution_count": null,
      "outputs": []
    },
    {
      "cell_type": "code",
      "source": [
        "# Paso 4: Fusiona df_iris y df_extra usando la columna 'sample_id' como clave común.\n",
        "\n",
        "# TODO: Usa pd.merge() para fusionar ambos DataFrames en uno llamado df_integrado.\n",
        "# Se recomienda usar un merge de tipo 'inner' para conservar únicamente los registros que existen en ambos DataFrames.\n",
        "...\n",
        "\n",
        "# Muestra las primeras filas y un resumen para verificar la fusión.\n",
        "...\n",
        "\n",
        "print(\"Información del DataFrame integrado:\")\n",
        "..."
      ],
      "metadata": {
        "id": "UFhslUVE6UEU"
      },
      "execution_count": null,
      "outputs": []
    },
    {
      "cell_type": "code",
      "source": [
        "# Paso 5: Sistema de testeo para verificar la integración\n",
        "\n",
        "# Este bloque de código verificará lo siguiente:\n",
        "# 1. Que el número de registros en el DataFrame integrado sea el mismo que en el dataset Iris original.\n",
        "# 2. Que las nuevas columnas 'sepal_area' y 'petal_area' estén presentes en el DataFrame integrado.\n",
        "\n",
        "# Test 1: Verificar número de filas.\n",
        "expected_rows = df_iris.shape[0]\n",
        "actual_rows = df_integrado.shape[0]\n",
        "assert actual_rows == expected_rows, f\"Test fallido: Se esperaban {expected_rows} filas, pero se encontraron {actual_rows}.\"\n",
        "\n",
        "# Test 2: Verificar que las columnas extra están presentes.\n",
        "assert \"sepal_area\" in df_integrado.columns, \"Test fallido: La columna 'sepal_area' no se encontró.\"\n",
        "assert \"petal_area\" in df_integrado.columns, \"Test fallido: La columna 'petal_area' no se encontró.\"\n",
        "\n",
        "print(\"Todos los tests se han pasado correctamente. La integración se realizó como se esperaba.\")\n"
      ],
      "metadata": {
        "collapsed": true,
        "id": "Co9-NKFO6V7B"
      },
      "execution_count": null,
      "outputs": []
    }
  ]
}