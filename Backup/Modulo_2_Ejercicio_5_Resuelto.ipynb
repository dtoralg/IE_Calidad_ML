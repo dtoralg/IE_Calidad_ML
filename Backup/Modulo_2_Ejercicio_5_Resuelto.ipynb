{
  "nbformat": 4,
  "nbformat_minor": 0,
  "metadata": {
    "colab": {
      "provenance": [],
      "authorship_tag": "ABX9TyPZZCAW4aN2y7hmBTc4CPno",
      "include_colab_link": true
    },
    "kernelspec": {
      "name": "python3",
      "display_name": "Python 3"
    },
    "language_info": {
      "name": "python"
    }
  },
  "cells": [
    {
      "cell_type": "markdown",
      "metadata": {
        "id": "view-in-github",
        "colab_type": "text"
      },
      "source": [
        "<a href=\"https://colab.research.google.com/github/dtoralg/IE_Calidad_ML/blob/main/Ejercicios/Modulo%202/Modulo_2_Ejercicio_5_Resuelto.ipynb\" target=\"_parent\"><img src=\"https://colab.research.google.com/assets/colab-badge.svg\" alt=\"Open In Colab\"/></a>"
      ]
    },
    {
      "cell_type": "markdown",
      "source": [
        "# Ejercicio 5: Análisis Exploratorio y Visualización de Datos (EDA)\n",
        "\n",
        "## Objetivo\n",
        "En este ejercicio aprenderás a:\n",
        "- Calcular estadísticas descriptivas generales y por grupos.\n",
        "- Identificar patrones y tendencias en el dataset.\n",
        "- Generar visualizaciones que faciliten la interpretación de los datos, tales como histogramas, boxplots, scatter plots, pairplots y heatmaps.\n",
        "- Reflexionar sobre los insights obtenidos y cómo estos pueden orientar futuros análisis o modelos predictivos.\n",
        "\n",
        "Utilizaremos el dataset **Titanic** (ya limpio) disponible online. Este dataset contiene información de los pasajeros del Titanic, y es ideal para practicar técnicas de análisis exploratorio de datos.\n",
        "\n",
        "**URL del dataset Titanic:**  \n",
        "`https://raw.githubusercontent.com/datasciencedojo/datasets/master/titanic.csv`\n",
        "\n",
        "> **Pregunta de Reflexión:**  \n",
        "> ¿Qué patrones o tendencias iniciales crees que se pueden identificar en el dataset Titanic?  \n",
        "> ¿Cómo podrían variar estos patrones según las diferentes variables (por ejemplo, edad, tarifa, clase, etc.)?\n"
      ],
      "metadata": {
        "id": "mvW0tPop-sXT"
      }
    },
    {
      "cell_type": "code",
      "source": [
        "# Paso 1: Importa las librerías necesarias y carga el dataset Titanic.\n",
        "\n",
        "# TODO: Importa pandas, matplotlib y seaborn.\n",
        "import pandas as pd\n",
        "import matplotlib.pyplot as plt\n",
        "import seaborn as sns\n",
        "\n",
        "# Define la URL del dataset Titanic\n",
        "url_titanic = \"https://raw.githubusercontent.com/datasciencedojo/datasets/master/titanic.csv\"\n",
        "\n",
        "# TODO: Carga el dataset utilizando pd.read_csv() y almacénalo en un DataFrame llamado 'df_titanic'\n",
        "df_titanic = pd.read_csv(url_titanic)\n",
        "\n",
        "# Muestra las primeras filas para verificar la carga\n",
        "print(\"Primeras filas del dataset Titanic:\")\n",
        "display(df_titanic.head())\n",
        "\n",
        "# Muestra información general y estadísticas básicas\n",
        "print(\"Información general del dataset:\")\n",
        "display(df_titanic.info())\n",
        "print(\"Estadísticas descriptivas generales:\")\n",
        "display(df_titanic.describe())\n"
      ],
      "metadata": {
        "id": "Q2Q959R6-sSc"
      },
      "execution_count": null,
      "outputs": []
    },
    {
      "cell_type": "code",
      "source": [
        "# Paso 2: Calcula estadísticas descriptivas y realiza análisis por grupos.\n",
        "\n",
        "# TODO: Calcula y muestra las estadísticas descriptivas globales usando df_titanic.describe()\n",
        "print(\"Estadísticas descriptivas globales:\")\n",
        "display(df_titanic.describe())\n",
        "\n",
        "# TODO: Calcula estadísticas descriptivas agrupadas por la variable 'Survived'\n",
        "print(\"Estadísticas descriptivas por 'Survived':\")\n",
        "display(df_titanic.groupby('Survived').describe())\n",
        "\n",
        "# Pregunta de reflexión:\n",
        "# ¿Qué diferencias observas en las estadísticas descriptivas de los pasajeros que sobrevivieron vs. los que no?\n",
        "\n"
      ],
      "metadata": {
        "id": "ITuY3fPv-wBI"
      },
      "execution_count": null,
      "outputs": []
    },
    {
      "cell_type": "code",
      "source": [
        "# Paso 3: Genera diversas visualizaciones para explorar los datos.\n",
        "\n",
        "# Histograma: Visualiza la distribución de 'Age'\n",
        "plt.figure(figsize=(8, 4))\n",
        "sns.histplot(df_titanic['Age'], kde=True, bins=30)\n",
        "plt.title(\"Distribución de la Edad de los Pasajeros\")\n",
        "plt.xlabel(\"Edad\")\n",
        "plt.ylabel(\"Frecuencia\")\n",
        "plt.show()\n",
        "\n",
        "# Boxplot: Visualiza la distribución de 'Fare'\n",
        "plt.figure(figsize=(8, 4))\n",
        "sns.boxplot(x=df_titanic['Fare'])\n",
        "plt.title(\"Boxplot de la Tarifa (Fare)\")\n",
        "plt.xlabel(\"Tarifa\")\n",
        "plt.show()\n",
        "\n",
        "# Scatter Plot: Relación entre 'Age' y 'Fare'\n",
        "plt.figure(figsize=(8, 4))\n",
        "sns.scatterplot(x='Age', y='Fare', data=df_titanic, hue='Survived')\n",
        "plt.title(\"Relación entre Edad y Tarifa (Fare)\")\n",
        "plt.xlabel(\"Edad\")\n",
        "plt.ylabel(\"Tarifa\")\n",
        "plt.legend(title='Survived', loc='upper right')\n",
        "plt.show()\n",
        "\n",
        "# Pairplot: Visualiza la relación entre varias variables numéricas y la variable 'Survived'\n",
        "sns.pairplot(df_titanic[['Age', 'Fare', 'SibSp', 'Parch', 'Survived']], hue='Survived', diag_kind='kde')\n",
        "plt.suptitle(\"Pairplot de Variables Numéricas del Dataset Titanic\", y=1.02)\n",
        "plt.show()\n",
        "\n",
        "# Heatmap: Matriz de correlación de variables numéricas\n",
        "plt.figure(figsize=(10, 8))\n",
        "correlation_matrix = df_titanic.corr()\n",
        "sns.heatmap(correlation_matrix, annot=True, cmap=\"coolwarm\")\n",
        "plt.title(\"Matriz de Correlación del Dataset Titanic\")\n",
        "plt.show()\n",
        "\n"
      ],
      "metadata": {
        "id": "vwjEdi_Y-xPz"
      },
      "execution_count": null,
      "outputs": []
    },
    {
      "cell_type": "code",
      "source": [
        "# Paso 4: Sistema de testeo para validar el análisis exploratorio.\n",
        "\n",
        "# Test 1: Verificar que el DataFrame df_titanic tenga registros.\n",
        "assert df_titanic.shape[0] > 0, \"Test fallido: El DataFrame está vacío.\"\n",
        "\n",
        "# Test 2: Verificar que las columnas 'Age' y 'Fare' existan en el DataFrame.\n",
        "assert 'Age' in df_titanic.columns, \"Test fallido: La columna 'Age' no se encontró.\"\n",
        "assert 'Fare' in df_titanic.columns, \"Test fallido: La columna 'Fare' no se encontró.\"\n",
        "\n",
        "# Test 3: Verificar que la matriz de correlación tenga forma cuadrada para las variables numéricas.\n",
        "numeric_cols = df_titanic.select_dtypes(include='number').columns\n",
        "corr_matrix = df_titanic[numeric_cols].corr()\n",
        "assert corr_matrix.shape[0] == corr_matrix.shape[1], \"Test fallido: La matriz de correlación no es cuadrada.\"\n",
        "\n",
        "print(\"Todos los tests se han pasado correctamente. El análisis exploratorio se realizó como se esperaba.\")\n"
      ],
      "metadata": {
        "id": "cUiRyamB-yV6"
      },
      "execution_count": null,
      "outputs": []
    },
    {
      "cell_type": "markdown",
      "source": [
        "## Reflexión Final\n",
        "\n",
        "1. ¿Qué insights te aportaron las estadísticas descriptivas globales y por grupo (por ejemplo, sobre la edad y la tarifa) del dataset Titanic?\n",
        "2. ¿Qué patrones o tendencias observaste en las visualizaciones (histograma, boxplot, scatter plot, pairplot y heatmap)?\n",
        "3. ¿Cómo podrían estos insights influir en la formulación de hipótesis o en el diseño de un modelo predictivo?\n",
        "4. ¿Qué otras visualizaciones o análisis consideras que podrían complementar este estudio exploratorio?\n",
        "\n",
        "_Responde estas preguntas en una celda Markdown adicional o en un comentario._\n",
        "\n"
      ],
      "metadata": {
        "id": "-6MbAWME-1dn"
      }
    }
  ]
}