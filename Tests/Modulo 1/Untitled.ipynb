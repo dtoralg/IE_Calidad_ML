{
 "cells": [
  {
   "cell_type": "code",
   "execution_count": null,
   "id": "fb22ebc8-45e6-447d-b505-310e7bec0b0a",
   "metadata": {},
   "outputs": [],
   "source": [
    "import nbformat\n",
    "import papermill as pm\n",
    "\n",
    "def test_ejercicio():\n",
    "    notebook_filename = \"ejercicio.ipynb\"\n",
    "    output_filename = \"output.ipynb\"\n",
    "    \n",
    "    # Ejecuta el notebook y genera el output\n",
    "    pm.execute_notebook(notebook_filename, output_filename)\n",
    "    \n",
    "    # Abre el notebook de salida\n",
    "    with open(output_filename) as f:\n",
    "        nb = nbformat.read(f, as_version=4)\n",
    "    \n",
    "    # Busca en las celdas una salida esperada\n",
    "    found = False\n",
    "    for cell in nb.cells:\n",
    "        # Comprueba si la celda tiene salidas y si alguna contiene el texto esperado\n",
    "        for output in cell.get(\"outputs\", []):\n",
    "            if \"La clave común 'cliente_id' fue encontrada\" in output.get(\"text\", \"\"):\n",
    "                found = True\n",
    "                break\n",
    "        if found:\n",
    "            break\n",
    "\n",
    "    assert found, \"No se encontró la salida esperada sobre la clave común en el notebook.\"\n"
   ]
  }
 ],
 "metadata": {
  "kernelspec": {
   "display_name": "Python 3 (ipykernel)",
   "language": "python",
   "name": "python3"
  },
  "language_info": {
   "codemirror_mode": {
    "name": "ipython",
    "version": 3
   },
   "file_extension": ".py",
   "mimetype": "text/x-python",
   "name": "python",
   "nbconvert_exporter": "python",
   "pygments_lexer": "ipython3",
   "version": "3.8.2"
  }
 },
 "nbformat": 4,
 "nbformat_minor": 5
}
